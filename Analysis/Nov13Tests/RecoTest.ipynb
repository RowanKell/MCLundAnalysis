{
 "cells": [
  {
   "cell_type": "markdown",
   "id": "alien-circle",
   "metadata": {},
   "source": [
    "# Affinity Calculations using RDataFrame for CLAS12 Dihadron events"
   ]
  },
  {
   "cell_type": "markdown",
   "id": "laden-retirement",
   "metadata": {},
   "source": [
    "### Rowan Kelleher\n",
    "#### October 20th, 2022"
   ]
  },
  {
   "cell_type": "markdown",
   "id": "instant-founder",
   "metadata": {},
   "source": [
    "This notebook takes in TTrees and plots affinity values. TTrees come from LundAnalysis.C (in repo: https://github.com/RowanKell/MCLundAnalysis/blob/dev2/LundAnalysis.C)"
   ]
  },
  {
   "cell_type": "markdown",
   "id": "subsequent-soviet",
   "metadata": {},
   "source": [
    "Process:\n",
    "1. Wildcard (\\*) is used to take in many ROOT files into one RDataFrame for each bin variable for each pion\n",
    "1. The means at each bin are then calculated using the Filter() and Mean() methods\n",
    "1. These means are then fed through the Affinity TensorFlow model and affinity values are saved to numpy arrays\n",
    "1. From these arrays we then plot affinity vs x, z, pT depending on the binning variable\n",
    "\n",
    "In progress:\n",
    "1. The dihadron affinity can be calculated from the product of the two pions, but this hasn't been done yet as the single pion affinity is still being worked on"
   ]
  },
  {
   "cell_type": "code",
   "execution_count": 1,
   "id": "medieval-aircraft",
   "metadata": {},
   "outputs": [
    {
     "name": "stdout",
     "output_type": "stream",
     "text": [
      "Welcome to JupyROOT 6.22/06\n"
     ]
    },
    {
     "name": "stderr",
     "output_type": "stream",
     "text": [
      "Matplotlib created a temporary config/cache directory at /tmp/matplotlib-3ohufkkw because the default path (/home/jovyan/.cache/matplotlib) is not a writable directory; it is highly recommended to set the MPLCONFIGDIR environment variable to a writable directory, in particular to speed up the import of Matplotlib and to better support multiprocessing.\n"
     ]
    },
    {
     "name": "stdout",
     "output_type": "stream",
     "text": [
      "tf.__version__ 2.7.0\n"
     ]
    }
   ],
   "source": [
    "from ROOT import TFile,TTree,TCanvas,TH1F,gStyle,TLatex,gPad,TLegend,TLorentzVector,TH2F,TLine,TF1,TBox,RDataFrame,TPad,TF2\n",
    "import ROOT\n",
    "import numpy as np\n",
    "import awkward as awk\n",
    "import uproot\n",
    "import pandas as pd\n",
    "import matplotlib.pyplot as plot\n",
    "from pandas import read_excel \n",
    "from copy import deepcopy\n",
    "from ipywidgets import *\n",
    "import logging, os \n",
    "import time\n",
    "logging.disable(logging.WARNING) \n",
    "os.environ[\"TF_CPP_MIN_LOG_LEVEL\"] = \"3\"\n",
    "\n",
    "import tensorflow as tf\n",
    "print(\"tf.__version__\", tf.__version__)\n"
   ]
  },
  {
   "cell_type": "code",
   "execution_count": 60,
   "id": "early-recycling",
   "metadata": {},
   "outputs": [],
   "source": [
    "# d_plusq = RDataFrame(\"tree_MC_plus\", \"../../OutputFiles/Slurm/Oct_27/file_*.root\").Filter(\"q_TdivQ < 0.3\")\n",
    "# d_minusq = RDataFrame(\"tree_MC_minus\", \"../../OutputFiles/Slurm/Oct_27/file_*.root\").Filter(\"q_TdivQ < 0.3\")\n",
    "\n",
    "# d_plusR2 = RDataFrame(\"tree_MC_plus\", \"../../OutputFiles/Slurm/Oct_27/file_*.root\").Filter(\"R2max < 0.3\")\n",
    "# d_minusR2 = RDataFrame(\"tree_MC_minus\", \"../../OutputFiles/Slurm/Oct_27/file_*.root\").Filter(\"R2max < 0.3\")\n",
    "\n",
    "# d_plus = RDataFrame(\"tree_MC_plus\", \"../../OutputFiles/Slurm/Oct_27/file_*.root\")\n",
    "d_plus = RDataFrame(\"tree_postprocess\",\"/volatile/clas12/users/gmat/clas12analysis.sidis.data/rga/MC/rowan_pipluspiminus/run*.root\").Filter(\"run==-11\")\n",
    "\n",
    "# d_minus = RDataFrame(\"tree_MC_minus\", \"../../OutputFiles/Slurm/Oct_27/file_*.root\")"
   ]
  },
  {
   "cell_type": "code",
   "execution_count": 61,
   "id": "genetic-parcel",
   "metadata": {},
   "outputs": [
    {
     "name": "stdout",
     "output_type": "stream",
     "text": [
      "{ \"run\", \"x\", \"zh\", \"pt\", \"Q2\", \"Mx\" }\n"
     ]
    }
   ],
   "source": [
    "print(d_plus.GetColumnNames())"
   ]
  },
  {
   "cell_type": "code",
   "execution_count": 62,
   "id": "cutting-level",
   "metadata": {},
   "outputs": [],
   "source": [
    "#Bins (each has 8 including 0)\n",
    "Mhbins = np.linspace(0,1.3,8)\n",
    "pTbins = np.linspace(0.1,0.8,8)\n",
    "xbins = np.array([0,0.1,0.13,0.16,0.19,0.235,0.3,0.5])\n",
    "zbins = np.array([0,0.35,0.43,0.49,0.55,0.62,0.7,0.83])\n",
    "Q2bins = np.array([0,1.2,1.8,2.3,3.1,4.3,7,11.1])"
   ]
  },
  {
   "cell_type": "markdown",
   "id": "alternative-amino",
   "metadata": {},
   "source": [
    "Need variables: x, z_h, Q2, p_T, R0, R1, R2 - total of 7"
   ]
  },
  {
   "cell_type": "code",
   "execution_count": 63,
   "id": "gross-player",
   "metadata": {
    "scrolled": true
   },
   "outputs": [],
   "source": [
    "#Filtering data\n",
    "#We have a list of 7 arrays bc we need an array of x values, z values, p_t values, etc for every bin\n",
    "#First index will be the variable, second index is the i-th binning of that variable\n",
    "#e.g. - px[1][3] will access the z_h mean for the 3rd (4th) bin of the x binning of piplus\n",
    "# pxq = [np.zeros(7).tolist() for i in range(7)]\n",
    "# pzq = [np.zeros(7).tolist() for i in range(7)]\n",
    "# pMhq=[np.zeros(7).tolist() for i in range(7)]\n",
    "# ppTq=[np.zeros(7).tolist() for i in range(7)]\n",
    "# pxQ2q = [np.zeros(7).tolist() for i in range(7)]\n",
    "\n",
    "# pxR2 = [np.zeros(7).tolist() for i in range(7)]\n",
    "# pzR2 = [np.zeros(7).tolist() for i in range(7)]\n",
    "# pMhR2=[np.zeros(7).tolist() for i in range(7)]\n",
    "# ppTR2=[np.zeros(7).tolist() for i in range(7)]\n",
    "# pxQ2R2 = [np.zeros(7).tolist() for i in range(7)]\n",
    "\n",
    "px = [np.zeros(7).tolist() for i in range(7)]\n",
    "pz = [np.zeros(7).tolist() for i in range(7)]\n",
    "pMh=[np.zeros(7).tolist() for i in range(7)]\n",
    "ppT=[np.zeros(7).tolist() for i in range(7)]\n",
    "pxQ2 = [np.zeros(7).tolist() for i in range(7)]"
   ]
  },
  {
   "cell_type": "code",
   "execution_count": 64,
   "id": "swedish-operator",
   "metadata": {},
   "outputs": [],
   "source": [
    "#px=[list(np.zeros(7)) for i in range(7)]"
   ]
  },
  {
   "cell_type": "code",
   "execution_count": 65,
   "id": "prepared-walker",
   "metadata": {},
   "outputs": [],
   "source": [
    "varName = np.array([\"x\", \"zh\", \"Q2\", \"pt\", \"R0max\", \"R1max\", \"R2max\"])"
   ]
  },
  {
   "cell_type": "code",
   "execution_count": 66,
   "id": "certified-butter",
   "metadata": {},
   "outputs": [],
   "source": [
    "start_time = time.time()\n",
    "xformat = \"x <= {} && x > {}\"\n",
    "zformat = \"zh <= {} && zh > {}\"\n",
    "Mhformat = \"Mh <= {} && Mh > {}\"\n",
    "pTformat = \"pt <= {} && pt > {}\"\n",
    "\n",
    "#Piplus\n",
    "#x bins\n",
    "#i is the kinematic variable\n",
    "#j is the bin num\n",
    "for i in range(4):\n",
    "    for j in range(7):\n",
    "        #j + 1 as we only use 0 as a left bound, not a top bound - hence start with top bound at first index, not 0th\n",
    "#         pxq[j][i] = d_plusq.Filter(xformat.format(xbins[j + 1],xbins[j])).Mean(varName[i])\n",
    "#         pMhq[j][i] = d_plusq.Filter(Mhformat.format(Mhbins[j + 1],Mhbins[j])).Mean(varName[i])\n",
    "#         pzq[j][i] = d_plusq.Filter(zformat.format(zbins[j + 1],zbins[j])).Mean(varName[i])\n",
    "#         ppTq[j][i] = d_plusq.Filter(pTformat.format(pTbins[j + 1],pTbins[j])).Mean(varName[i])\n",
    "        \n",
    "#         pxR2[j][i] = d_plusR2.Filter(xformat.format(xbins[j + 1],xbins[j])).Mean(varName[i])\n",
    "#         pMhR2[j][i] = d_plusR2.Filter(Mhformat.format(Mhbins[j + 1],Mhbins[j])).Mean(varName[i])\n",
    "#         pzR2[j][i] = d_plusR2.Filter(zformat.format(zbins[j + 1],zbins[j])).Mean(varName[i])\n",
    "#         ppTR2[j][i] = d_plusR2.Filter(pTformat.format(pTbins[j + 1],pTbins[j])).Mean(varName[i])\n",
    "        \n",
    "        px[j][i] = d_plus.Filter(xformat.format(xbins[j + 1],xbins[j])).Mean(varName[i])\n",
    "#         pMh[j][i] = d_plus.Filter(Mhformat.format(Mhbins[j + 1],Mhbins[j])).Mean(varName[i])\n",
    "        pz[j][i] = d_plus.Filter(zformat.format(zbins[j + 1],zbins[j])).Mean(varName[i])\n",
    "        ppT[j][i] = d_plus.Filter(pTformat.format(pTbins[j + 1],pTbins[j])).Mean(varName[i])\n",
    "        \n",
    "        \n"
   ]
  },
  {
   "cell_type": "code",
   "execution_count": 67,
   "id": "forward-wildlife",
   "metadata": {},
   "outputs": [
    {
     "name": "stdout",
     "output_type": "stream",
     "text": [
      "[[<cppyy.gbl.ROOT.RDF.RResultPtr<double> object at 0x55e7250e83d0>, <cppyy.gbl.ROOT.RDF.RResultPtr<double> object at 0x55e7250a4070>, <cppyy.gbl.ROOT.RDF.RResultPtr<double> object at 0x55e72ef46d40>, <cppyy.gbl.ROOT.RDF.RResultPtr<double> object at 0x55e72eac5990>, 0.0, 0.0, 0.0], [<cppyy.gbl.ROOT.RDF.RResultPtr<double> object at 0x55e7297fdee0>, <cppyy.gbl.ROOT.RDF.RResultPtr<double> object at 0x55e72825b0b0>, <cppyy.gbl.ROOT.RDF.RResultPtr<double> object at 0x55e72ef4e900>, <cppyy.gbl.ROOT.RDF.RResultPtr<double> object at 0x55e72eeeaf60>, 0.0, 0.0, 0.0], [<cppyy.gbl.ROOT.RDF.RResultPtr<double> object at 0x55e72e761120>, <cppyy.gbl.ROOT.RDF.RResultPtr<double> object at 0x55e724f28e10>, <cppyy.gbl.ROOT.RDF.RResultPtr<double> object at 0x55e7252b3fe0>, <cppyy.gbl.ROOT.RDF.RResultPtr<double> object at 0x55e72ecf9ce0>, 0.0, 0.0, 0.0], [<cppyy.gbl.ROOT.RDF.RResultPtr<double> object at 0x55e728f77740>, <cppyy.gbl.ROOT.RDF.RResultPtr<double> object at 0x55e724f08620>, <cppyy.gbl.ROOT.RDF.RResultPtr<double> object at 0x55e72e8152f0>, <cppyy.gbl.ROOT.RDF.RResultPtr<double> object at 0x55e72e812ea0>, 0.0, 0.0, 0.0], [<cppyy.gbl.ROOT.RDF.RResultPtr<double> object at 0x55e72a08fc70>, <cppyy.gbl.ROOT.RDF.RResultPtr<double> object at 0x55e725102a80>, <cppyy.gbl.ROOT.RDF.RResultPtr<double> object at 0x55e72eca4f90>, <cppyy.gbl.ROOT.RDF.RResultPtr<double> object at 0x55e72edd9820>, 0.0, 0.0, 0.0], [<cppyy.gbl.ROOT.RDF.RResultPtr<double> object at 0x55e729d626c0>, <cppyy.gbl.ROOT.RDF.RResultPtr<double> object at 0x55e72e6f47c0>, <cppyy.gbl.ROOT.RDF.RResultPtr<double> object at 0x55e72e757b40>, <cppyy.gbl.ROOT.RDF.RResultPtr<double> object at 0x55e72ef3ea00>, 0.0, 0.0, 0.0], [<cppyy.gbl.ROOT.RDF.RResultPtr<double> object at 0x55e72eb49580>, <cppyy.gbl.ROOT.RDF.RResultPtr<double> object at 0x55e72edda2b0>, <cppyy.gbl.ROOT.RDF.RResultPtr<double> object at 0x55e72ee53190>, <cppyy.gbl.ROOT.RDF.RResultPtr<double> object at 0x55e72eced2f0>, 0.0, 0.0, 0.0]]\n"
     ]
    }
   ],
   "source": [
    "print(px)"
   ]
  },
  {
   "cell_type": "code",
   "execution_count": 68,
   "id": "regulation-liquid",
   "metadata": {},
   "outputs": [],
   "source": [
    "# c = TCanvas(\"c\",\"c\",500,500)\n",
    "# h7 = pxdata.Histo1D((\"h7\",\";R1 ;Counts\", 1000, -1, 5), \"R1max\")\n",
    "# h7.Draw(\"histo\")\n",
    "# c.Draw()\n",
    "# # varName[5]"
   ]
  },
  {
   "cell_type": "markdown",
   "id": "complex-watts",
   "metadata": {},
   "source": [
    "Now need to actually run the process by calling .GetValue() on one variable per RDataFrame (we have 2, one for each pion"
   ]
  },
  {
   "cell_type": "code",
   "execution_count": 69,
   "id": "superb-carolina",
   "metadata": {},
   "outputs": [
    {
     "name": "stdout",
     "output_type": "stream",
     "text": [
      "took: 5.774202108383179\n"
     ]
    }
   ],
   "source": [
    "#print(px)\n",
    "forstart = time.time()\n",
    "for i in range(4):\n",
    "    for j in range(7):\n",
    "        px[j][i]=px[j][i].GetValue()\n",
    "#         pMh[i][j]=pMh[i][j].GetValue()\n",
    "        pz[j][i] = pz[j][i].GetValue()\n",
    "        ppT[j][i] = ppT[j][i].GetValue()\n",
    "        \n",
    "#         pxq[i][j]=pxq[i][j].GetValue()\n",
    "#         pMhq[i][j]=pMhq[i][j].GetValue()\n",
    "#         pzq[i][j] = pzq[i][j].GetValue()\n",
    "#         ppTq[i][j] = ppTq[i][j].GetValue()\n",
    "        \n",
    "#         pxR2[i][j]=pxR2[i][j].GetValue()\n",
    "#         pMhR2[i][j]=pMhR2[i][j].GetValue()\n",
    "#         pzR2[i][j] = pzR2[i][j].GetValue()\n",
    "#         ppTR2[i][j] = ppTR2[i][j].GetValue()\n",
    "forend = time.time()\n",
    "print(\"took: \" + str(forend - forstart))"
   ]
  },
  {
   "cell_type": "code",
   "execution_count": 70,
   "id": "bored-routine",
   "metadata": {},
   "outputs": [
    {
     "name": "stdout",
     "output_type": "stream",
     "text": [
      "[[0.08835410781279461, -7.028425398469414e+286, 1.3487867203597903, 0.0544029422786479, 0.0, 0.0, 0.0], [0.11516773541454253, -7.016432405380637e+286, 1.6564092136908397, 0.055048853237054836, 0.0, 0.0, 0.0], [0.1443601200920486, -6.690328723656621e+286, 2.0169502553532057, 0.0546858158896511, 0.0, 0.0, 0.0], [0.17410648813329907, -6.638767067965838e+286, 2.4144619381658896, 0.0535572226856788, 0.0, 0.0, 0.0], [0.21031183500422765, -6.69103464910369e+286, 2.9297799410853895, 0.05441220000105894, 0.0, 0.0, 0.0], [0.2622448020549835, -6.799881948486883e+286, 3.6825978789200153, 0.05517021623966075, 0.0, 0.0, 0.0], [0.34712693000854383, -6.047111176773321e+286, 4.925822679091071, 0.05509585220383528, 0.0, 0.0, 0.0]]\n"
     ]
    }
   ],
   "source": [
    "print(px)"
   ]
  },
  {
   "cell_type": "code",
   "execution_count": 53,
   "id": "entertaining-france",
   "metadata": {},
   "outputs": [],
   "source": [
    "collinear_region_name = 'collinear'\n",
    "current_region_name = 'current'\n",
    "target_region_name = 'target'\n",
    "TMD_region_name = 'TMD'\n",
    "soft_region_name = 'soft'\n",
    "collinear_lable_name = 'collinearaff'\n",
    "target_lable_name = 'targetaff'\n",
    "current_lable_name = 'currentaff'\n",
    "TMD_lable_name = 'tmdaff'\n",
    "soft_lable_name = 'softaff'\n",
    "\n",
    "tmd_model_name = '../../../SIDIS-Affinity/models/final_%s' % TMD_region_name\n",
    "tmd_model = tf.keras.models.load_model(tmd_model_name)\n",
    "target_model_name = '../../../SIDIS-Affinity/models/final_%s' % target_region_name\n",
    "target_model = tf.keras.models.load_model(target_model_name)\n",
    "collinear_model_name = '../../../SIDIS-Affinity/models/final_%s' % collinear_region_name\n",
    "collinear_model = tf.keras.models.load_model(collinear_model_name)\n",
    "current_model_name = '../../../SIDIS-Affinity/models/final_%s' % current_region_name\n",
    "current_model = tf.keras.models.load_model(current_model_name)\n",
    "soft_model_name = '../../../SIDIS-Affinity/models/final_%s' % soft_region_name\n",
    "soft_model = tf.keras.models.load_model(soft_model_name)"
   ]
  },
  {
   "cell_type": "code",
   "execution_count": null,
   "id": "assumed-particle",
   "metadata": {},
   "outputs": [],
   "source": []
  },
  {
   "cell_type": "markdown",
   "id": "smaller-albuquerque",
   "metadata": {},
   "source": [
    "varName = np.array([\"x\", \"z\", \"Q2\", \"pT\", \"R0max\", \"R1max\", \"R2max\"])"
   ]
  },
  {
   "cell_type": "code",
   "execution_count": 54,
   "id": "adequate-camping",
   "metadata": {},
   "outputs": [],
   "source": [
    "#var order: \n",
    "#0: x\n",
    "#1: z_h\n",
    "#2: Q2\n",
    "#3: p_T\n",
    "#4: R0\n",
    "#5: R1\n",
    "#6: R2\n",
    "\n",
    "def calculator(array, region, binType, binnedVariable = 0):\n",
    "    if binType == \"x\":\n",
    "        z = array[1]\n",
    "        Q2 = array[2]\n",
    "        pT = array[3]\n",
    "        R0max = 0\n",
    "        R1max = 0\n",
    "        R2max = 0\n",
    "        x = binnedVariable\n",
    "    elif binType == \"z\":\n",
    "        x = array[0]\n",
    "        Q2 = array[2]\n",
    "        pT = array[3]\n",
    "        R0max = 0\n",
    "        R1max = 0\n",
    "        R2max = 0\n",
    "        z = binnedVariable\n",
    "    elif binType == \"pT\":\n",
    "        x = array[0]\n",
    "        z = array[1]\n",
    "        Q2 = array[2]\n",
    "        pT = binnedVariable\n",
    "        R0max = 0\n",
    "        R1max = 0\n",
    "        R2max = 0\n",
    "        \n",
    "#     elif binType == \"Mh\":\n",
    "#         x = array[0]\n",
    "#         z = array[1]\n",
    "#         Q2 = array[2]\n",
    "#         pT = array[3]\n",
    "#         R0max = array[4]\n",
    "#         R1max = array[5]\n",
    "#         R2max = array[6]\n",
    "        \n",
    "    test_features = pd.DataFrame({'pT':pT,'Q2':Q2,'x':x,'z':z,'R0max':R0max,'R1max':R1max,'R2max':R2max},index=[0])\n",
    "\n",
    "    if region == 'tmd':\n",
    "        prediction = tmd_model.predict(test_features).flatten()\n",
    "        \n",
    "    elif region == 'target':\n",
    "        prediction = target_model.predict(test_features).flatten()\n",
    "        \n",
    "    elif region == 'collinear':\n",
    "        prediction = collinear_model.predict(test_features).flatten()\n",
    "\n",
    "    elif region == 'soft':\n",
    "        prediction = soft_model.predict(test_features).flatten()\n",
    "\n",
    "    else:\n",
    "        prediction = current_model.predict(test_features).flatten()\n",
    "\n",
    "    return prediction[0] #returns affinity value"
   ]
  },
  {
   "cell_type": "code",
   "execution_count": 56,
   "id": "preceding-mainstream",
   "metadata": {},
   "outputs": [],
   "source": [
    "nocutscolxaffinityplus = np.zeros(7)\n",
    "nocutscolzaffinityplus = np.zeros(7)\n",
    "nocutscolpTaffinityplus = np.zeros(7)\n",
    "# nocutscolMhaffinityplus = np.zeros(7)\n",
    "nocutsTMDxaffinityplus = np.zeros(7)\n",
    "nocutsTMDzaffinityplus = np.zeros(7)\n",
    "nocutsTMDpTaffinityplus = np.zeros(7)\n",
    "# nocutsTMDMhaffinityplus = np.zeros(7)\n",
    "nocutsCurrentxaffinityplus = np.zeros(7)\n",
    "nocutsCurrentzaffinityplus = np.zeros(7)\n",
    "nocutsCurrentpTaffinityplus = np.zeros(7)\n",
    "# nocutsCurrentMhaffinityplus = np.zeros(7)\n",
    "\n",
    "region = \"collinear\"\n",
    "region2 = \"tmd\"\n",
    "region3 = \"current\"\n",
    "for i in range(7):\n",
    "    nocutscolzaffinityplus[i] = calculator(pz[i], region, \"z\", zbins[i+1])\n",
    "    nocutscolxaffinityplus[i] = calculator(px[i], region, \"x\", xbins[i+1])\n",
    "    nocutscolpTaffinityplus[i] = calculator(ppT[i], region, \"pT\", pTbins[i+1])\n",
    "#     nocutscolMhaffinityplus[i] = calculator(pMh[i], region, \"Mh\", Mhbins[i+1])\n",
    "    nocutsTMDzaffinityplus[i] = calculator(pz[i], region2, \"z\", zbins[i+1])\n",
    "    nocutsTMDxaffinityplus[i] = calculator(px[i], region2, \"x\", xbins[i+1])\n",
    "    nocutsTMDpTaffinityplus[i] = calculator(ppT[i], region2, \"pT\", pTbins[i+1])\n",
    "#     nocutsTMDMhaffinityplus[i] = calculator(pMh[i], region2, \"Mh\", Mhbins[i+1])\n",
    "    nocutsCurrentzaffinityplus[i] = calculator(pz[i], region3, \"z\", zbins[i+1])\n",
    "    nocutsCurrentxaffinityplus[i] = calculator(px[i], region3, \"x\", xbins[i+1])\n",
    "    nocutsCurrentpTaffinityplus[i] = calculator(ppT[i], region3, \"pT\", pTbins[i+1])\n",
    "#     nocutsCurrentMhaffinityplus[i] = calculator(pMh[i], region3, \"Mh\", Mhbins[i+1])\n",
    "    "
   ]
  },
  {
   "cell_type": "code",
   "execution_count": 57,
   "id": "rubber-mumbai",
   "metadata": {},
   "outputs": [],
   "source": [
    "Mhbinsno0 = np.linspace(0.3,1.3,7)\n",
    "pTbinsno0 = np.linspace(0.2,0.8,7)\n",
    "xbinsno0 = np.array([0.1,0.13,0.16,0.19,0.235,0.3,0.5])\n",
    "zbinsno0 = np.array([0.35,0.43,0.49,0.55,0.62,0.7,0.83])"
   ]
  },
  {
   "cell_type": "code",
   "execution_count": 72,
   "id": "consecutive-drunk",
   "metadata": {},
   "outputs": [
    {
     "data": {
      "text/plain": [
       "[Text(0, 0.5, 'Affinity')]"
      ]
     },
     "execution_count": 72,
     "metadata": {},
     "output_type": "execute_result"
    },
    {
     "data": {
      "image/png": "[encoded data removed]",
      "text/plain": [
       "<Figure size 1440x360 with 3 Axes>"
      ]
     },
     "metadata": {
      "needs_background": "light"
     },
     "output_type": "display_data"
    }
   ],
   "source": [
    "fig2, (ax12, ax22, ax32) = plot.subplots(1, 3, figsize = (20, 5))\n",
    "fig2.suptitle(\"Pi+ Affinity in the TMD region: Assorted Cuts\")\n",
    "# fig2.ylable(\"Affinity\")\n",
    "ax12.set(ylabel = \"Affinity\")\n",
    "ax12.scatter(pTbinsno0, nocutsTMDpTaffinityplus, c = 'r', marker = \"+\", label = \"no cuts\")\n",
    "# ax12.scatter(pTbinsno0, qTMDpTaffinityplus, c = 'b', marker = \"^\", label = \"qTdivQ < 0.3\")\n",
    "# ax12.scatter(pTbinsno0, R2TMDpTaffinityplus, c = 'g', marker = \"*\", label = \"R2 < 0.3\")\n",
    "fig2.legend(shadow = \"true\", title = \"Key\", fontsize = 12)\n",
    "ax12.axhline(y=0, color=\"gray\", lw = 1)\n",
    "ax12.set_title(\"pT binning\")\n",
    "ax12.set(xlabel = \"pT (GeV)\")\n",
    "ax22.scatter(xbinsno0, nocutsTMDxaffinityplus, c = 'r', marker = '+', label = \"no cuts\")\n",
    "# ax22.scatter(xbinsno0, qTMDxaffinityplus, c = 'b', marker = \"^\", label = \"qTdivQ < 0.3\")\n",
    "# ax22.scatter(xbinsno0, R2TMDxaffinityplus, c = 'g', marker = \"*\", label = \"R2 < 0.3\")\n",
    "ax22.axhline(y=0, color=\"gray\", lw = 1)\n",
    "ax22.set_title(\"x binning\")\n",
    "ax22.set(xlabel = \"x\")\n",
    "ax32.scatter(zbinsno0, nocutsTMDzaffinityplus, c = 'r', marker = '+', label = \"no cuts\")\n",
    "# ax32.scatter(zbinsno0, qTMDzaffinityplus, c = 'b', marker = \"^\", label = \"qTdivQ < 0.3\")\n",
    "# ax32.scatter(zbinsno0, R2TMDzaffinityplus, c = 'g', marker = \"*\", label = \"R2 < 0.3\")\n",
    "ax32.axhline(y=0, color=\"gray\", lw = 1)\n",
    "ax32.set_title(\"z_h binning\")\n",
    "ax32.set(xlabel = \"z_h\")\n",
    "ax32.set(ylabel = \"Affinity\")\n",
    "# plot.savefig(\"TMDallcuts.jpeg\")\n"
   ]
  },
  {
   "cell_type": "code",
   "execution_count": 32,
   "id": "czech-victoria",
   "metadata": {},
   "outputs": [
    {
     "data": {
      "image/png": "[encoded data removed]",
      "text/plain": [
       "<Figure size 648x648 with 4 Axes>"
      ]
     },
     "metadata": {
      "needs_background": "light"
     },
     "output_type": "display_data"
    }
   ],
   "source": [
    "fig2, ((ax12, ax22), (ax32, ax42)) = plot.subplots(2, 2, figsize = (9, 9))\n",
    "fig2.suptitle(\"Pi+ Affinity in the col region: Assorted Cuts\")\n",
    "# fig2.ylable(\"Affinity\")\n",
    "ax12.set(ylabel = \"Affinity\")\n",
    "ax12.scatter(pTbinsno0, nocutscolpTaffinityplus, c = 'r', marker = \"+\", label = \"no cuts\")\n",
    "ax12.scatter(pTbinsno0, qcolpTaffinityplus, c = 'b', marker = \"^\", label = \"qTdivQ < 0.3\")\n",
    "ax12.scatter(pTbinsno0, R2colpTaffinityplus, c = 'g', marker = \"*\", label = \"R2 < 0.3\")\n",
    "fig2.legend(shadow = \"true\", title = \"Key\", fontsize = 12)\n",
    "ax12.axhline(y=0, color=\"gray\", lw = 1)\n",
    "ax12.set_title(\"pT binning\")\n",
    "ax12.set(xlabel = \"pT (GeV)\")\n",
    "ax22.scatter(xbinsno0, nocutscolxaffinityplus, c = 'r', marker = '+', label = \"no cuts\")\n",
    "ax22.scatter(xbinsno0, qcolxaffinityplus, c = 'b', marker = \"^\", label = \"qTdivQ < 0.3\")\n",
    "ax22.scatter(xbinsno0, R2colxaffinityplus, c = 'g', marker = \"*\", label = \"R2 < 0.3\")\n",
    "ax22.axhline(y=0, color=\"gray\", lw = 1)\n",
    "ax22.set_title(\"x binning\")\n",
    "ax22.set(xlabel = \"x\")\n",
    "ax32.scatter(zbinsno0, nocutscolzaffinityplus, c = 'r', marker = '+', label = \"no cuts\")\n",
    "ax32.scatter(zbinsno0, qcolzaffinityplus, c = 'b', marker = \"^\", label = \"qTdivQ < 0.3\")\n",
    "ax32.scatter(zbinsno0, R2colzaffinityplus, c = 'g', marker = \"*\", label = \"R2 < 0.3\")\n",
    "ax32.axhline(y=0, color=\"gray\", lw = 1)\n",
    "ax32.set_title(\"z_h binning\")\n",
    "ax32.set(xlabel = \"z_h\")\n",
    "ax32.set(ylabel = \"Affinity\")\n",
    "ax42.scatter(Mhbinsno0, nocutscolMhaffinityplus, c = 'r', marker = \"+\", label = \"no cuts\")\n",
    "ax42.scatter(Mhbinsno0, qcolMhaffinityplus, c = 'b', marker = \"^\", label = \"qTdivQ < 0.3\")\n",
    "ax42.scatter(Mhbinsno0, R2colMhaffinityplus, c = 'g', marker = \"*\", label = \"R2 < 0.3\")\n",
    "ax42.axhline(y=0, color=\"gray\", lw = 1)\n",
    "ax42.set_title(\"Mh binning\")\n",
    "ax42.set(xlabel = \"Mh (GeV)\")\n",
    "plot.savefig(\"colallcuts.jpeg\")\n"
   ]
  },
  {
   "cell_type": "code",
   "execution_count": 33,
   "id": "acoustic-handle",
   "metadata": {},
   "outputs": [
    {
     "data": {
      "image/png": "[encoded data removed]",
      "text/plain": [
       "<Figure size 648x648 with 4 Axes>"
      ]
     },
     "metadata": {
      "needs_background": "light"
     },
     "output_type": "display_data"
    }
   ],
   "source": [
    "fig2, ((ax12, ax22), (ax32, ax42)) = plot.subplots(2, 2, figsize = (9, 9))\n",
    "fig2.suptitle(\"Pi+ Affinity in the Current region: Assorted Cuts\")\n",
    "# fig2.ylable(\"Affinity\")\n",
    "ax12.set(ylabel = \"Affinity\")\n",
    "ax12.scatter(pTbinsno0, nocutsCurrentpTaffinityplus, c = 'r', marker = \"+\", label = \"no cuts\")\n",
    "ax12.scatter(pTbinsno0, qCurrentpTaffinityplus, c = 'b', marker = \"^\", label = \"qTdivQ < 0.3\")\n",
    "ax12.scatter(pTbinsno0, R2CurrentpTaffinityplus, c = 'g', marker = \"*\", label = \"R2 < 0.3\")\n",
    "fig2.legend(shadow = \"true\", title = \"Key\", fontsize = 12)\n",
    "ax12.axhline(y=0, color=\"gray\", lw = 1)\n",
    "ax12.set_title(\"pT binning\")\n",
    "ax12.set(xlabel = \"pT (GeV)\")\n",
    "ax22.scatter(xbinsno0, nocutsCurrentxaffinityplus, c = 'r', marker = '+', label = \"no cuts\")\n",
    "ax22.scatter(xbinsno0, qCurrentxaffinityplus, c = 'b', marker = \"^\", label = \"qTdivQ < 0.3\")\n",
    "ax22.scatter(xbinsno0, R2Currentxaffinityplus, c = 'g', marker = \"*\", label = \"R2 < 0.3\")\n",
    "ax22.axhline(y=0, color=\"gray\", lw = 1)\n",
    "ax22.set_title(\"x binning\")\n",
    "ax22.set(xlabel = \"x\")\n",
    "ax32.scatter(zbinsno0, nocutsCurrentzaffinityplus, c = 'r', marker = '+', label = \"no cuts\")\n",
    "ax32.scatter(zbinsno0, qCurrentzaffinityplus, c = 'b', marker = \"^\", label = \"qTdivQ < 0.3\")\n",
    "ax32.scatter(zbinsno0, R2Currentzaffinityplus, c = 'g', marker = \"*\", label = \"R2 < 0.3\")\n",
    "ax32.axhline(y=0, color=\"gray\", lw = 1)\n",
    "ax32.set_title(\"z_h binning\")\n",
    "ax32.set(xlabel = \"z_h\")\n",
    "ax32.set(ylabel = \"Affinity\")\n",
    "ax42.scatter(Mhbinsno0, nocutsCurrentMhaffinityplus, c = 'r', marker = \"+\", label = \"no cuts\")\n",
    "ax42.scatter(Mhbinsno0, qCurrentMhaffinityplus, c = 'b', marker = \"^\", label = \"qTdivQ < 0.3\")\n",
    "ax42.scatter(Mhbinsno0, R2CurrentMhaffinityplus, c = 'g', marker = \"*\", label = \"R2 < 0.3\")\n",
    "ax42.axhline(y=0, color=\"gray\", lw = 1)\n",
    "ax42.set_title(\"Mh binning\")\n",
    "ax42.set(xlabel = \"Mh (GeV)\")\n",
    "plot.savefig(\"Currentallcuts.jpeg\")\n"
   ]
  },
  {
   "cell_type": "code",
   "execution_count": null,
   "id": "unlimited-austin",
   "metadata": {},
   "outputs": [],
   "source": []
  }
 ],
 "metadata": {
  "kernelspec": {
   "display_name": "Python 3",
   "language": "python",
   "name": "python3"
  },
  "language_info": {
   "codemirror_mode": {
    "name": "ipython",
    "version": 3
   },
   "file_extension": ".py",
   "mimetype": "text/x-python",
   "name": "python",
   "nbconvert_exporter": "python",
   "pygments_lexer": "ipython3",
   "version": "3.8.6"
  }
 },
 "nbformat": 4,
 "nbformat_minor": 5
}
