{
 "cells": [
  {
   "cell_type": "code",
   "execution_count": 30,
   "id": "passive-basket",
   "metadata": {},
   "outputs": [
    {
     "name": "stdout",
     "output_type": "stream",
     "text": [
      "tf.__version__ 2.7.0\n"
     ]
    }
   ],
   "source": [
    "from ROOT import TFile,TTree,TCanvas,TH1F,gStyle,TLatex,gPad,TLegend,TLorentzVector,TH2F,TLine,TF1,TBox,RDataFrame,TPad,TF2\n",
    "import ROOT\n",
    "import numpy as np\n",
    "import awkward as awk\n",
    "import uproot\n",
    "import pandas as pd\n",
    "import matplotlib.pyplot as plot\n",
    "from pandas import read_excel \n",
    "from copy import deepcopy\n",
    "from ipywidgets import *\n",
    "import logging, os \n",
    "logging.disable(logging.WARNING) \n",
    "os.environ[\"TF_CPP_MIN_LOG_LEVEL\"] = \"3\"\n",
    "\n",
    "import tensorflow as tf\n",
    "print(\"tf.__version__\", tf.__version__)\n"
   ]
  },
  {
   "cell_type": "markdown",
   "id": "documentary-transcription",
   "metadata": {},
   "source": [
    "Above are necessary imports\n",
    "Below we check to see if there is a file in the right place"
   ]
  },
  {
   "cell_type": "markdown",
   "id": "neutral-lesbian",
   "metadata": {},
   "source": [
    "Here we open the file in uproot and sort the trees into their respective objects"
   ]
  },
  {
   "cell_type": "code",
   "execution_count": 31,
   "id": "mexican-wagner",
   "metadata": {},
   "outputs": [],
   "source": [
    "up4_file = uproot.open(\"../OutputFiles/AffinityFiles/Files_9_5/Exactfile3.root\")\n",
    "#up4_file = uproot.open(\"../OutputFiles/Slurm/Sept_5/Sept5_run1_0.root\")\n",
    "up4_z = up4_file[\"tree_z_h_bins\"]\n",
    "up4_x = up4_file[\"tree_x_bins\"]\n",
    "up4_Mh = up4_file[\"tree_Mh_bins\"]"
   ]
  },
  {
   "cell_type": "markdown",
   "id": "processed-binary",
   "metadata": {},
   "source": [
    "Now we can fill the arrays"
   ]
  },
  {
   "cell_type": "code",
   "execution_count": 32,
   "id": "least-reader",
   "metadata": {},
   "outputs": [],
   "source": [
    "#0 is z, 1 is x, 2 is mh\n",
    "zarray = np.array([np.zeros(7)] * 6)\n",
    "xarray = np.array([np.zeros(7)] * 6)\n",
    "Mharray = np.array([np.zeros(7)] * 7)\n",
    "xkinematics = np.array([\"z_h\", \"Q2\", \"pT\", \"R0\", \"R1\", \"R2\"])\n",
    "zkinematics = np.array([\"x\", \"Q2\", \"pT\", \"R0\", \"R1\", \"R2\"])\n",
    "Mhkinematics = np.array([\"x\", \"z_h\", \"Q2\", \"pT\", \"R0\", \"R1\", \"R2\"])\n",
    "\n",
    "#These arrays each hold an array for each variable, meaning that the first bin of variables is in the first index of every kinematics array\n",
    "\n",
    "#z\n",
    "for i in range(zkinematics.size):\n",
    "    zarray[i] = up4_z[zkinematics[i]].array(library = \"np\")\n",
    "#x\n",
    "for i in range(xkinematics.size):\n",
    "    xarray[i] = up4_x[xkinematics[i]].array(library = \"np\")\n",
    "#Mh\n",
    "for i in range(Mhkinematics.size):\n",
    "    Mharray[i] = up4_Mh[Mhkinematics[i]].array(library = \"np\")"
   ]
  },
  {
   "cell_type": "code",
   "execution_count": 33,
   "id": "typical-banner",
   "metadata": {},
   "outputs": [
    {
     "name": "stdout",
     "output_type": "stream",
     "text": [
      "[[0.56724222 0.55862443 0.56817822 0.60564527 0.64761989 0.67456138\n",
      "  0.66837982]\n",
      " [1.42747972 1.6985099  1.97695185 2.24486901 2.40710145 2.75570986\n",
      "  3.57086249]\n",
      " [0.56137496 0.64186915 0.64599228 0.61977719 0.6705724  0.72095849\n",
      "  0.82347713]\n",
      " [0.45018402 0.43630262 0.38713243 0.35249054 0.29619987 0.266704\n",
      "  0.2017377 ]\n",
      " [0.20765401 0.33765777 0.33130866 0.5087022  0.61345784 0.71383017\n",
      "  1.26495256]\n",
      " [0.29961975 0.26728658 0.202245   0.22267747 0.161021   0.14032862\n",
      "  0.12661105]]\n"
     ]
    }
   ],
   "source": [
    "print(xarray)"
   ]
  },
  {
   "cell_type": "code",
   "execution_count": 34,
   "id": "pleasant-yesterday",
   "metadata": {},
   "outputs": [
    {
     "name": "stdout",
     "output_type": "stream",
     "text": [
      "[[0.25478684 0.23408845 0.20905347 0.20474671 0.21932356 0.23463632\n",
      "  0.23327994]\n",
      " [0.40276221 0.3648535  0.47503767 0.49172062 0.54004814 0.60080605\n",
      "  0.64324098]\n",
      " [1.71548818 2.82380206 2.38090516 2.29068314 2.49626054 2.4923074\n",
      "  2.56718114]\n",
      " [0.98397849 0.69100295 0.71514246 0.65818656 0.65069292 0.6819396\n",
      "  0.6927941 ]\n",
      " [0.59957682 0.23656577 0.44474712 0.3556025  0.32039317 0.33189515\n",
      "  0.29955438]\n",
      " [0.18725865 1.43457446 1.06933866 0.74478061 0.66850226 0.65607022\n",
      "  0.53965958]\n",
      " [0.32701326 0.12767875 0.25222828 0.18205415 0.17972252 0.19998109\n",
      "  0.1649233 ]]\n"
     ]
    }
   ],
   "source": [
    "print(Mharray)"
   ]
  },
  {
   "cell_type": "markdown",
   "id": "exclusive-tennessee",
   "metadata": {},
   "source": [
    "If the first array is all 0s, that means that z, or x is being input as 0"
   ]
  },
  {
   "cell_type": "code",
   "execution_count": 35,
   "id": "limiting-oakland",
   "metadata": {},
   "outputs": [],
   "source": [
    "# Need to transpose the array to get array of binned variables for each bin\n",
    "xarray = np.transpose(xarray)\n",
    "zarray = np.transpose(zarray)\n",
    "Mharray = np.transpose(Mharray)"
   ]
  },
  {
   "cell_type": "code",
   "execution_count": 50,
   "id": "impossible-diabetes",
   "metadata": {},
   "outputs": [
    {
     "name": "stdout",
     "output_type": "stream",
     "text": [
      "[[0.25478684 0.40276221 1.71548818 0.98397849 0.59957682 0.18725865\n",
      "  0.32701326]\n",
      " [0.23408845 0.3648535  2.82380206 0.69100295 0.23656577 1.43457446\n",
      "  0.12767875]\n",
      " [0.20905347 0.47503767 2.38090516 0.71514246 0.44474712 1.06933866\n",
      "  0.25222828]\n",
      " [0.20474671 0.49172062 2.29068314 0.65818656 0.3556025  0.74478061\n",
      "  0.18205415]\n",
      " [0.21932356 0.54004814 2.49626054 0.65069292 0.32039317 0.66850226\n",
      "  0.17972252]\n",
      " [0.23463632 0.60080605 2.4923074  0.6819396  0.33189515 0.65607022\n",
      "  0.19998109]\n",
      " [0.23327994 0.64324098 2.56718114 0.6927941  0.29955438 0.53965958\n",
      "  0.1649233 ]]\n"
     ]
    }
   ],
   "source": [
    "print(Mharray)"
   ]
  },
  {
   "cell_type": "markdown",
   "id": "serious-australian",
   "metadata": {},
   "source": [
    "Now to set up affinity calculation:"
   ]
  },
  {
   "cell_type": "code",
   "execution_count": 36,
   "id": "noble-launch",
   "metadata": {},
   "outputs": [],
   "source": [
    "collinear_region_name = 'collinear'\n",
    "current_region_name = 'current'\n",
    "target_region_name = 'target'\n",
    "TMD_region_name = 'TMD'\n",
    "soft_region_name = 'soft'\n",
    "collinear_lable_name = 'collinearaff'\n",
    "target_lable_name = 'targetaff'\n",
    "current_lable_name = 'currentaff'\n",
    "TMD_lable_name = 'tmdaff'\n",
    "soft_lable_name = 'softaff'\n",
    "\n",
    "fname = '../../SIDIS-Affinity/expdata/eic.xlsx'\n",
    "data=pd.read_excel(fname,index_col=0, engine='openpyxl')\n",
    "\n",
    "data.pT.max()\n",
    "data.keys()\n",
    "\n",
    "test_features = deepcopy(data)\n",
    "test_features = test_features.drop(columns=['W2', 'hadron', 'target'])"
   ]
  },
  {
   "cell_type": "code",
   "execution_count": 37,
   "id": "victorian-singles",
   "metadata": {},
   "outputs": [],
   "source": [
    "tmd_model_name = '../../SIDIS-Affinity/models/final_%s' % TMD_region_name\n",
    "tmd_model = tf.keras.models.load_model(tmd_model_name)\n",
    "target_model_name = '../../SIDIS-Affinity/models/final_%s' % target_region_name\n",
    "target_model = tf.keras.models.load_model(target_model_name)\n",
    "collinear_model_name = '../../SIDIS-Affinity/models/final_%s' % collinear_region_name\n",
    "collinear_model = tf.keras.models.load_model(collinear_model_name)\n",
    "current_model_name = '../../SIDIS-Affinity/models/final_%s' % current_region_name\n",
    "current_model = tf.keras.models.load_model(current_model_name)\n",
    "soft_model_name = '../../SIDIS-Affinity/models/final_%s' % soft_region_name\n",
    "soft_model = tf.keras.models.load_model(soft_model_name)\n",
    "\n",
    "Mhbins = np.linspace(0.3,1.3,7)\n",
    "xbins = np.array([0.1,0.13,0.16,0.19,0.235,0.3,0.5])\n",
    "zbins = np.array([0.35,0.43,0.49,0.55,0.62,0.7,0.83])"
   ]
  },
  {
   "cell_type": "code",
   "execution_count": 53,
   "id": "informational-burden",
   "metadata": {},
   "outputs": [],
   "source": [
    "def calculator(array, region, binType, binnedVariable):\n",
    "    if binType == \"x\":\n",
    "        z = array[0]\n",
    "        Q2 = array[1]\n",
    "        pT = array[2]\n",
    "        R0max = array[3]\n",
    "        R1max = array[4]\n",
    "        R2max = array[5]\n",
    "        x = binnedVariable\n",
    "    elif binType == \"z\":\n",
    "        x = array[0]\n",
    "        Q2 = array[1]\n",
    "        pT = array[2]\n",
    "        R0max = array[3]\n",
    "        R1max = array[4]\n",
    "        R2max = array[5]\n",
    "        z = binnedVariable\n",
    "    elif binType == \"Mh\":\n",
    "        x = array[0]\n",
    "        z = array[1]\n",
    "        Q2 = array[2]\n",
    "        pT = array[3]\n",
    "        R0max = array[4]\n",
    "        R1max = array[5]\n",
    "        R2max = array[6]\n",
    "        \n",
    "    test_features = pd.DataFrame({'pT':pT,'Q2':Q2,'x':x,'z':z,'R0max':R0max,'R1max':R1max,'R2max':R2max},index=[0])\n",
    "\n",
    "    if region == 'tmd':\n",
    "        prediction = tmd_model.predict(test_features).flatten()\n",
    "        \n",
    "    elif region == 'target':\n",
    "        prediction = target_model.predict(test_features).flatten()\n",
    "        \n",
    "    elif region == 'collinear':\n",
    "        prediction = collinear_model.predict(test_features).flatten()\n",
    "\n",
    "    elif region == 'soft':\n",
    "        prediction = soft_model.predict(test_features).flatten()\n",
    "\n",
    "    else:\n",
    "        prediction = current_model.predict(test_features).flatten()\n",
    "\n",
    "    return prediction[0] #returns affinity value"
   ]
  },
  {
   "cell_type": "code",
   "execution_count": 56,
   "id": "addressed-memory",
   "metadata": {},
   "outputs": [
    {
     "data": {
      "text/plain": [
       "array([[0.25478684, 0.40276221, 1.71548818, 0.98397849, 0.59957682,\n",
       "        0.18725865, 0.32701326],\n",
       "       [0.23408845, 0.3648535 , 2.82380206, 0.69100295, 0.23656577,\n",
       "        1.43457446, 0.12767875],\n",
       "       [0.20905347, 0.47503767, 2.38090516, 0.71514246, 0.44474712,\n",
       "        1.06933866, 0.25222828],\n",
       "       [0.20474671, 0.49172062, 2.29068314, 0.65818656, 0.3556025 ,\n",
       "        0.74478061, 0.18205415],\n",
       "       [0.21932356, 0.54004814, 2.49626054, 0.65069292, 0.32039317,\n",
       "        0.66850226, 0.17972252],\n",
       "       [0.23463632, 0.60080605, 2.4923074 , 0.6819396 , 0.33189515,\n",
       "        0.65607022, 0.19998109],\n",
       "       [0.23327994, 0.64324098, 2.56718114, 0.6927941 , 0.29955438,\n",
       "        0.53965958, 0.1649233 ]])"
      ]
     },
     "execution_count": 56,
     "metadata": {},
     "output_type": "execute_result"
    }
   ],
   "source": [
    "Mharray"
   ]
  },
  {
   "cell_type": "code",
   "execution_count": 54,
   "id": "billion-manufacturer",
   "metadata": {},
   "outputs": [],
   "source": [
    "xaffinity = np.zeros(7)\n",
    "zaffinity = np.zeros(7)\n",
    "Mhaffinity = np.zeros(7)\n",
    "for i in range(len(zarray[i])):\n",
    "    for j in range(len(zarray)):\n",
    "        zaffinity[i] = calculator(zarray[j], \"tmd\", \"z\", zbins[i])\n",
    "        xaffinity[i] = calculator(xarray[j], \"tmd\", \"x\", xbins[i])\n",
    "        Mhaffinity[i] = calculator(Mharray[j], \"tmd\", \"Mh\", Mhbins[i])"
   ]
  },
  {
   "cell_type": "code",
   "execution_count": 55,
   "id": "rural-explorer",
   "metadata": {},
   "outputs": [
    {
     "name": "stdout",
     "output_type": "stream",
     "text": [
      "[5.64737602e-05 3.55333090e-04 1.16291642e-03 2.81143188e-03\n",
      " 6.54846430e-03 1.52100921e-02 0.00000000e+00]\n",
      "[0.01192987 0.01192987 0.01192987 0.01192987 0.01192987 0.01192987\n",
      " 0.        ]\n",
      "[0.01622874 0.01575327 0.01442191 0.01089427 0.00968483 0.00753245\n",
      " 0.        ]\n"
     ]
    }
   ],
   "source": [
    "print(zaffinity)\n",
    "print(Mhaffinity)\n",
    "print(xaffinity)"
   ]
  },
  {
   "cell_type": "code",
   "execution_count": 49,
   "id": "sporting-canberra",
   "metadata": {},
   "outputs": [
    {
     "data": {
      "text/plain": [
       "<matplotlib.collections.PathCollection at 0x7f5e76c027f0>"
      ]
     },
     "execution_count": 49,
     "metadata": {},
     "output_type": "execute_result"
    },
    {
     "data": {
      "image/png": "[encoded data removed]",
      "text/plain": [
       "<Figure size 432x288 with 1 Axes>"
      ]
     },
     "metadata": {
      "needs_background": "light"
     },
     "output_type": "display_data"
    }
   ],
   "source": [
    "\n",
    "\n",
    "plot.title(\"Affinity Test\")\n",
    "plot.scatter(Mhbins, affinity)"
   ]
  },
  {
   "cell_type": "code",
   "execution_count": 30,
   "id": "pressed-metadata",
   "metadata": {},
   "outputs": [],
   "source": [
    "zarray = [[] * 6] * 6\n",
    "zarray[0] = up4_z[\"x\"].array(library=\"np\")\n",
    "zarray[1] = up4_z[\"Q2\"].array(library=\"np\")\n",
    "zarray[2] = up4_z[\"pT\"].array(library=\"np\")\n",
    "zarray[3] = up4_z[\"R0\"].array(library=\"np\")\n",
    "zarray[4] = up4_z[\"R1\"].array(library=\"np\")\n",
    "zarray[5] = up4_z[\"R2\"].array(library=\"np\")\n",
    "\n"
   ]
  },
  {
   "cell_type": "code",
   "execution_count": 31,
   "id": "acoustic-glory",
   "metadata": {},
   "outputs": [
    {
     "name": "stdout",
     "output_type": "stream",
     "text": [
      "[array([0., 0., 0., 0., 0., 0., 0.]), array([1.95887529, 1.99317774, 2.00376097, 2.02631579, 2.01606778,\n",
      "       2.0179929 , 2.05828488]), array([0.0369166 , 0.07863555, 0.08900961, 0.1369863 , 0.1580485 ,\n",
      "       0.23035986, 0.34578488]), array([0.0807192 , 0.07253142, 0.0635186 , 0.05587599, 0.03768624,\n",
      "       0.02863659, 0.02136628]), array([0.        , 0.00179533, 0.        , 0.01189618, 0.06894537,\n",
      "       0.15610745, 0.31424419]), array([0.02276205, 0.02190305, 0.02131216, 0.01766402, 0.01168566,\n",
      "       0.00658895, 0.00436047])]\n"
     ]
    }
   ],
   "source": [
    "print(zarray)"
   ]
  },
  {
   "cell_type": "code",
   "execution_count": null,
   "id": "computational-stocks",
   "metadata": {},
   "outputs": [],
   "source": [
    "xarray = up4_z[\"x\"].array(library=\"np\")\n",
    "Q2array = up4_z[\"Q2\"].array(library=\"np\")\n",
    "pTarray = up4_z[\"pT\"].array(library=\"np\")\n",
    "R0array = up4_z[\"R0\"].array(library=\"np\")\n",
    "R1array = up4_z[\"R1\"].array(library=\"np\")\n",
    "R2array = up4_z[\"R2\"].array(library=\"np\")\n",
    "print(xarray)"
   ]
  },
  {
   "cell_type": "markdown",
   "id": "bibliographic-attraction",
   "metadata": {},
   "source": [
    "Binning from Greg:"
   ]
  },
  {
   "cell_type": "code",
   "execution_count": 11,
   "id": "confused-acting",
   "metadata": {},
   "outputs": [
    {
     "name": "stdout",
     "output_type": "stream",
     "text": [
      "7\n",
      "7\n"
     ]
    }
   ],
   "source": [
    "Mhbins = np.linspace(0.3,1.3,7)\n",
    "xbins = np.array([0.1,0.13,0.16,0.19,0.235,0.3,0.5])\n",
    "zbins = np.array([0.35,0.43,0.49,0.55,0.62,0.7,0.83])\n",
    "print(len(xbins))\n",
    "print(len(zbins))"
   ]
  },
  {
   "cell_type": "code",
   "execution_count": 21,
   "id": "beginning-trick",
   "metadata": {},
   "outputs": [
    {
     "name": "stdout",
     "output_type": "stream",
     "text": [
      "[1. 7.]\n"
     ]
    }
   ],
   "source": [
    "xlist = np.array([[-999.], [-999.], [-999.], [-999.], [-999.], [-999.], [-999.]])\n",
    "xlist = np.append(xlist[1], 2)\n",
    "xlist = np.append(xlist[0], 1)\n",
    "xlist = np.append(xlist[1], 7)\n",
    "print(xlist)"
   ]
  },
  {
   "cell_type": "code",
   "execution_count": null,
   "id": "advance-paint",
   "metadata": {},
   "outputs": [],
   "source": [
    "xlist = np.array([[], [], [], [], [], [], []])\n",
    "for i in range(len(xarray)):\n",
    "    if xarray[i] <= xbins[1]:\n",
    "        xlist.append\n",
    "        "
   ]
  }
 ],
 "metadata": {
  "kernelspec": {
   "display_name": "Python 3",
   "language": "python",
   "name": "python3"
  },
  "language_info": {
   "codemirror_mode": {
    "name": "ipython",
    "version": 3
   },
   "file_extension": ".py",
   "mimetype": "text/x-python",
   "name": "python",
   "nbconvert_exporter": "python",
   "pygments_lexer": "ipython3",
   "version": "3.8.6"
  }
 },
 "nbformat": 4,
 "nbformat_minor": 5
}
