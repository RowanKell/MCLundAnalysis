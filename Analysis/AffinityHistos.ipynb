{
 "cells": [
  {
   "cell_type": "markdown",
   "id": "irish-wallet",
   "metadata": {},
   "source": [
    "# CLAS12 Affinity Calculations\n",
    "### Rowan Kelleher"
   ]
  },
  {
   "cell_type": "markdown",
   "id": "stopped-default",
   "metadata": {},
   "source": [
    "#### This Notebook was created for calculating affinity values from CLAS12 MC data, and then analyzing the results"
   ]
  },
  {
   "cell_type": "markdown",
   "id": "packed-resource",
   "metadata": {},
   "source": [
    "To use the notebook, first import all necessary imports below:"
   ]
  },
  {
   "cell_type": "code",
   "execution_count": 124,
   "id": "burning-campaign",
   "metadata": {},
   "outputs": [
    {
     "name": "stdout",
     "output_type": "stream",
     "text": [
      "tf.__version__ 2.7.0\n"
     ]
    }
   ],
   "source": [
    "from ROOT import TFile,TTree,TCanvas,TH1F,gStyle,TLatex,gPad,TLegend,TLorentzVector,TH2F,TLine,TF1,TBox,RDataFrame,TPad,TF2\n",
    "import ROOT\n",
    "import numpy as np\n",
    "import awkward as awk\n",
    "import uproot\n",
    "import pandas as pd\n",
    "import matplotlib.pyplot as plot\n",
    "from pandas import read_excel \n",
    "from copy import deepcopy\n",
    "from ipywidgets import *\n",
    "import logging, os \n",
    "logging.disable(logging.WARNING) \n",
    "os.environ[\"TF_CPP_MIN_LOG_LEVEL\"] = \"3\"\n",
    "\n",
    "import tensorflow as tf\n",
    "print(\"tf.__version__\", tf.__version__)\n"
   ]
  },
  {
   "cell_type": "markdown",
   "id": "dangerous-georgia",
   "metadata": {},
   "source": [
    "This notebook takes in root files and converts them to numpy arrays using uproot.\n",
    "On the next line, we pull each tree from the root file (one tree per kinematic variable we binned)"
   ]
  },
  {
   "cell_type": "markdown",
   "id": "frequent-inspector",
   "metadata": {},
   "source": [
    "Here we open the file in uproot and sort the trees into their respective objects"
   ]
  },
  {
   "cell_type": "code",
   "execution_count": 125,
   "id": "extra-elizabeth",
   "metadata": {},
   "outputs": [],
   "source": [
    "#up4_file = uproot.open(\"../OutputFiles/AffinityFiles/Files_9_12/file1.root\")\n",
    "#up4_file = uproot.open(\"../OutputFiles/Slurm/Sept_16_TMD/run1_0.root\")\n",
    "#up4_file = uproot.open(\"../OutputFiles/AffinityFiles/Files_9_16/file2.root\") #this is where the plots in my prez are from\n",
    "up4_file = uproot.open(\"../OutputFiles/Oct6Dev/oct6devregcutsonly1.root\")\n",
    "#up4_file = uproot.open(\"../OutputFiles/AffinityFiles/Files_9_16/file4.root\")\n",
    "#up4_file = uproot.open(\"../OutputFiles/Slurm/Oct_3/file_0.root\")\n",
    "up4_z = up4_file[\"tree_z_h_bins\"]\n",
    "up4_x = up4_file[\"tree_x_bins\"]\n",
    "up4_Mh = up4_file[\"tree_Mh_bins\"]"
   ]
  },
  {
   "cell_type": "markdown",
   "id": "modified-bandwidth",
   "metadata": {},
   "source": [
    "Now we must fill the arrays. We need to create two that have 6 arrays of length 7 inside them, as these are the arrays for the x and z binnings. This data doesn't include x or z as the center of the bin will be used as the x and z value. For the Mh binning, Mh isn't necessary for calculating Affinity so all the data is already in the array"
   ]
  },
  {
   "cell_type": "code",
   "execution_count": 126,
   "id": "electric-pantyhose",
   "metadata": {},
   "outputs": [],
   "source": [
    "#0 is z, 1 is x, 2 is mh\n",
    "zarray = np.array([np.zeros(7)] * 6)\n",
    "xarray = np.array([np.zeros(7)] * 6)\n",
    "Mharray = np.array([np.zeros(7)] * 7)\n",
    "xkinematics = np.array([\"z_h\", \"Q2\", \"pT\", \"R0\", \"R1\", \"R2\"])\n",
    "zkinematics = np.array([\"x\", \"Q2\", \"pT\", \"R0\", \"R1\", \"R2\"])\n",
    "Mhkinematics = np.array([\"x\", \"z_h\", \"Q2\", \"pT\", \"R0\", \"R1\", \"R2\"])\n",
    "\n",
    "#These arrays each hold an array for each variable, meaning that the first bin of variables is in the first index of every kinematics array\n",
    "\n",
    "#z\n",
    "for i in range(zkinematics.size):\n",
    "    zarray[i] = up4_z[zkinematics[i]].array(library = \"np\")\n",
    "#x\n",
    "for i in range(xkinematics.size):\n",
    "    xarray[i] = up4_x[xkinematics[i]].array(library = \"np\")\n",
    "#Mh\n",
    "for i in range(Mhkinematics.size):\n",
    "    Mharray[i] = up4_Mh[Mhkinematics[i]].array(library = \"np\")"
   ]
  },
  {
   "cell_type": "code",
   "execution_count": 127,
   "id": "mediterranean-rescue",
   "metadata": {},
   "outputs": [
    {
     "name": "stdout",
     "output_type": "stream",
     "text": [
      "[[       nan        nan        nan        nan        nan        nan\n",
      "         nan]\n",
      " [1.32426031 1.65834096 2.00775805 2.40144151 2.94673403 3.71234477\n",
      "  5.03735676]\n",
      " [0.51368046 0.50079387 0.47653068 0.47433704 0.46138825 0.45722109\n",
      "  0.4210518 ]\n",
      " [0.52536007 0.40427233 0.31890473 0.27128204 0.23293656 0.19945217\n",
      "  0.13938855]\n",
      " [0.52911801 0.71067875 0.94703695 1.13607798 1.46806785 1.97150784\n",
      "  2.93242609]\n",
      " [0.37254188 0.28640103 0.23037062 0.18780326 0.17334442 0.14483039\n",
      "  0.10668368]]\n"
     ]
    }
   ],
   "source": [
    "print(xarray)"
   ]
  },
  {
   "cell_type": "markdown",
   "id": "optimum-dover",
   "metadata": {},
   "source": [
    "Now we need to transpose the array. When we filled the arrays with uproot, we put each kinematic in its own array, with those array's indices marking the bin number. Now we want each bin number to have all the kinematics for that bin in one array so we can feed that array to the calculator:"
   ]
  },
  {
   "cell_type": "code",
   "execution_count": 128,
   "id": "increased-mainland",
   "metadata": {},
   "outputs": [],
   "source": [
    "xarray = np.transpose(xarray)\n",
    "zarray = np.transpose(zarray)\n",
    "Mharray = np.transpose(Mharray)"
   ]
  },
  {
   "cell_type": "markdown",
   "id": "hidden-tsunami",
   "metadata": {},
   "source": [
    "This code block uses tensor flow to set up models and predictions based on those models. The user does not need to edit this."
   ]
  },
  {
   "cell_type": "code",
   "execution_count": 129,
   "id": "hired-tucson",
   "metadata": {},
   "outputs": [],
   "source": [
    "collinear_region_name = 'collinear'\n",
    "current_region_name = 'current'\n",
    "target_region_name = 'target'\n",
    "TMD_region_name = 'TMD'\n",
    "soft_region_name = 'soft'\n",
    "collinear_lable_name = 'collinearaff'\n",
    "target_lable_name = 'targetaff'\n",
    "current_lable_name = 'currentaff'\n",
    "TMD_lable_name = 'tmdaff'\n",
    "soft_lable_name = 'softaff'\n",
    "\n",
    "tmd_model_name = '../../SIDIS-Affinity/models/final_%s' % TMD_region_name\n",
    "tmd_model = tf.keras.models.load_model(tmd_model_name)\n",
    "target_model_name = '../../SIDIS-Affinity/models/final_%s' % target_region_name\n",
    "target_model = tf.keras.models.load_model(target_model_name)\n",
    "collinear_model_name = '../../SIDIS-Affinity/models/final_%s' % collinear_region_name\n",
    "collinear_model = tf.keras.models.load_model(collinear_model_name)\n",
    "current_model_name = '../../SIDIS-Affinity/models/final_%s' % current_region_name\n",
    "current_model = tf.keras.models.load_model(current_model_name)\n",
    "soft_model_name = '../../SIDIS-Affinity/models/final_%s' % soft_region_name\n",
    "soft_model = tf.keras.models.load_model(soft_model_name)"
   ]
  },
  {
   "cell_type": "markdown",
   "id": "electrical-annex",
   "metadata": {},
   "source": [
    "Here we add our binning so that we can use these values in the affinity calculations"
   ]
  },
  {
   "cell_type": "code",
   "execution_count": 130,
   "id": "married-statement",
   "metadata": {},
   "outputs": [],
   "source": [
    "Mhbins = np.linspace(0.3,1.3,7)\n",
    "xbins = np.array([0.1,0.13,0.16,0.19,0.235,0.3,0.5])\n",
    "zbins = np.array([0.35,0.43,0.49,0.55,0.62,0.7,0.83])"
   ]
  },
  {
   "cell_type": "markdown",
   "id": "legitimate-punishment",
   "metadata": {},
   "source": [
    "Now we create the calculator. Here is how the function works:\n",
    "1. calculator() takes in an array with kinematics, the region (tmd for this study), the name of the variable that we binned, and then the actual value for the center of that bin\n",
    "1. Depening on the name of the binned variable, the function assigns all the necessary kinematics, and fills in the gaps (if applicable) with the center of the bin\n",
    "1. After the kinematics are input, a panda dataframe is created mapping the kinematics to its respective place\n",
    "1. The applicable prediction is then made based on the region (tmd, target, etc)\n",
    "1. The prediction, or affinity value, is returned\n",
    "Hence, to calculate affinity yourself, you just need to call the calculator with your array, region, bin name, and bin variable"
   ]
  },
  {
   "cell_type": "code",
   "execution_count": 131,
   "id": "wireless-blair",
   "metadata": {},
   "outputs": [],
   "source": [
    "def calculator(array, region, binType, binnedVariable = 0):\n",
    "    if binType == \"x\":\n",
    "        z = array[0]\n",
    "        Q2 = array[1]\n",
    "        pT = array[2]\n",
    "        R0max = array[3]\n",
    "        R1max = array[4]\n",
    "        R2max = array[5]\n",
    "        x = binnedVariable\n",
    "    elif binType == \"z\":\n",
    "        x = array[0]\n",
    "        Q2 = array[1]\n",
    "        pT = array[2]\n",
    "        R0max = array[3]\n",
    "        R1max = array[4]\n",
    "        R2max = array[5]\n",
    "        z = binnedVariable\n",
    "    elif binType == \"Mh\":\n",
    "        x = array[0]\n",
    "        z = array[1]\n",
    "        Q2 = array[2]\n",
    "        pT = array[3]\n",
    "        R0max = array[4]\n",
    "        R1max = array[5]\n",
    "        R2max = array[6]\n",
    "        \n",
    "    test_features = pd.DataFrame({'pT':pT,'Q2':Q2,'x':x,'z':z,'R0max':R0max,'R1max':R1max,'R2max':R2max},index=[0])\n",
    "\n",
    "    if region == 'tmd':\n",
    "        prediction = tmd_model.predict(test_features).flatten()\n",
    "        \n",
    "    elif region == 'target':\n",
    "        prediction = target_model.predict(test_features).flatten()\n",
    "        \n",
    "    elif region == 'collinear':\n",
    "        prediction = collinear_model.predict(test_features).flatten()\n",
    "\n",
    "    elif region == 'soft':\n",
    "        prediction = soft_model.predict(test_features).flatten()\n",
    "\n",
    "    else:\n",
    "        prediction = current_model.predict(test_features).flatten()\n",
    "\n",
    "    return prediction[0] #returns affinity value"
   ]
  },
  {
   "cell_type": "code",
   "execution_count": 132,
   "id": "developed-paint",
   "metadata": {},
   "outputs": [],
   "source": [
    "colxaffinity = np.zeros(7)\n",
    "colzaffinity = np.zeros(7)\n",
    "colMhaffinity = np.zeros(7)\n",
    "TMDxaffinity = np.zeros(7)\n",
    "TMDzaffinity = np.zeros(7)\n",
    "TMDMhaffinity = np.zeros(7)\n",
    "Currentxaffinity = np.zeros(7)\n",
    "Currentzaffinity = np.zeros(7)\n",
    "CurrentMhaffinity = np.zeros(7)\n",
    "region = \"collinear\"\n",
    "region2 = \"tmd\"\n",
    "region3 = \"current\"\n",
    "for i in range(7):\n",
    "    colzaffinity[i] = calculator(zarray[i], region, \"z\", zbins[i])\n",
    "    colxaffinity[i] = calculator(xarray[i], region, \"x\", xbins[i])\n",
    "    colMhaffinity[i] = calculator(Mharray[i], region, \"Mh\")\n",
    "    TMDzaffinity[i] = calculator(zarray[i], region2, \"z\", zbins[i])\n",
    "    TMDxaffinity[i] = calculator(xarray[i], region2, \"x\", xbins[i])\n",
    "    TMDMhaffinity[i] = calculator(Mharray[i], region2, \"Mh\")\n",
    "    Currentzaffinity[i] = calculator(zarray[i], region3, \"z\", zbins[i])\n",
    "    Currentxaffinity[i] = calculator(xarray[i], region3, \"x\", xbins[i])\n",
    "    CurrentMhaffinity[i] = calculator(Mharray[i], region3, \"Mh\")"
   ]
  },
  {
   "cell_type": "code",
   "execution_count": 133,
   "id": "buried-career",
   "metadata": {},
   "outputs": [],
   "source": [
    "#print(zaffinity)\n",
    "#print(Mhaffinity)\n",
    "#print(xaffinity)"
   ]
  },
  {
   "cell_type": "code",
   "execution_count": 134,
   "id": "prostate-tender",
   "metadata": {},
   "outputs": [
    {
     "data": {
      "text/plain": [
       "[Text(0.5, 0, 'z_h')]"
      ]
     },
     "execution_count": 134,
     "metadata": {},
     "output_type": "execute_result"
    },
    {
     "data": {
      "image/png": "[encoded data removed]",
      "text/plain": [
       "<Figure size 1440x360 with 3 Axes>"
      ]
     },
     "metadata": {
      "needs_background": "light"
     },
     "output_type": "display_data"
    }
   ],
   "source": [
    "fig, (ax1, ax2, ax3) = plot.subplots(1, 3, figsize = (20, 5))\n",
    "fig.suptitle(\"Pi+ Pi- Affinity in the Collinear region\")\n",
    "ax1.set(ylabel = \"Affinity\")\n",
    "ax1.scatter(Mhbins, colMhaffinity)\n",
    "ax1.axhline(y=0, color=\"gray\", lw = 1)\n",
    "ax1.set_title(\"Mh binning\")\n",
    "ax1.set(xlabel = \"Mh (GeV)\")\n",
    "ax2.scatter(xbins, colxaffinity)\n",
    "ax2.axhline(y=0, color=\"gray\", lw = 1)\n",
    "ax2.set_title(\"x binning\")\n",
    "ax2.set(xlabel = \"x\")\n",
    "ax3.scatter(zbins, colzaffinity)\n",
    "ax3.axhline(y=0, color=\"gray\", lw = 1)\n",
    "ax3.set_title(\"z_h binning\")\n",
    "ax3.set(xlabel = \"z_h\")\n"
   ]
  },
  {
   "cell_type": "code",
   "execution_count": 135,
   "id": "dutch-satisfaction",
   "metadata": {},
   "outputs": [
    {
     "data": {
      "text/plain": [
       "[Text(0.5, 0, 'z_h')]"
      ]
     },
     "execution_count": 135,
     "metadata": {},
     "output_type": "execute_result"
    },
    {
     "data": {
      "image/png": "[encoded data removed]",
      "text/plain": [
       "<Figure size 1440x360 with 3 Axes>"
      ]
     },
     "metadata": {
      "needs_background": "light"
     },
     "output_type": "display_data"
    }
   ],
   "source": [
    "fig2, (ax12, ax22, ax32) = plot.subplots(1, 3, figsize = (20, 5))\n",
    "fig2.suptitle(\"Pi+ Pi- Affinity in the TMD region\")\n",
    "ax12.set(ylabel = \"Affinity\")\n",
    "ax12.scatter(Mhbins, TMDMhaffinity)\n",
    "ax12.axhline(y=0, color=\"gray\", lw = 1)\n",
    "ax12.set_title(\"Mh binning\")\n",
    "ax12.set(xlabel = \"Mh (GeV)\")\n",
    "ax22.scatter(xbins, TMDxaffinity)\n",
    "ax22.axhline(y=0, color=\"gray\", lw = 1)\n",
    "ax22.set_title(\"x binning\")\n",
    "ax22.set(xlabel = \"x\")\n",
    "ax32.scatter(zbins, TMDzaffinity)\n",
    "ax32.axhline(y=0, color=\"gray\", lw = 1)\n",
    "ax32.set_title(\"z_h binning\")\n",
    "ax32.set(xlabel = \"z_h\")\n"
   ]
  },
  {
   "cell_type": "code",
   "execution_count": 136,
   "id": "different-founder",
   "metadata": {},
   "outputs": [
    {
     "data": {
      "text/plain": [
       "[Text(0.5, 0, 'z_h')]"
      ]
     },
     "execution_count": 136,
     "metadata": {},
     "output_type": "execute_result"
    },
    {
     "data": {
      "image/png": "[encoded data removed]",
      "text/plain": [
       "<Figure size 1440x360 with 3 Axes>"
      ]
     },
     "metadata": {
      "needs_background": "light"
     },
     "output_type": "display_data"
    }
   ],
   "source": [
    "fig3, (ax13, ax23, ax33) = plot.subplots(1, 3, figsize = (20, 5))\n",
    "fig3.suptitle(\"Pi+ Pi- Affinity in the Current region\")\n",
    "ax13.set(ylabel = \"Affinity\")\n",
    "ax13.scatter(Mhbins, CurrentMhaffinity)\n",
    "ax13.axhline(y=0, color=\"gray\", lw = 1)\n",
    "ax13.set_title(\"Mh binning\")\n",
    "ax13.set(xlabel = \"Mh (GeV)\")\n",
    "ax23.scatter(xbins, Currentxaffinity)\n",
    "ax23.axhline(y=0, color=\"gray\", lw = 1)\n",
    "ax23.set_title(\"x binning\")\n",
    "ax23.set(xlabel = \"x\")\n",
    "ax33.scatter(zbins, Currentzaffinity)\n",
    "ax33.axhline(y=0, color=\"gray\", lw = 1)\n",
    "ax33.set_title(\"z_h binning\")\n",
    "ax33.set(xlabel = \"z_h\")\n"
   ]
  },
  {
   "cell_type": "code",
   "execution_count": null,
   "id": "sought-confusion",
   "metadata": {},
   "outputs": [],
   "source": []
  },
  {
   "cell_type": "code",
   "execution_count": null,
   "id": "attended-agenda",
   "metadata": {},
   "outputs": [],
   "source": []
  }
 ],
 "metadata": {
  "kernelspec": {
   "display_name": "Python 3",
   "language": "python",
   "name": "python3"
  },
  "language_info": {
   "codemirror_mode": {
    "name": "ipython",
    "version": 3
   },
   "file_extension": ".py",
   "mimetype": "text/x-python",
   "name": "python",
   "nbconvert_exporter": "python",
   "pygments_lexer": "ipython3",
   "version": "3.8.6"
  }
 },
 "nbformat": 4,
 "nbformat_minor": 5
}
