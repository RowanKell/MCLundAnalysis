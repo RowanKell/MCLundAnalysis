{
 "cells": [
  {
   "cell_type": "markdown",
   "id": "focal-words",
   "metadata": {},
   "source": [
    "# CLAS12 Affinity Calculations\n",
    "### Rowan Kelleher"
   ]
  },
  {
   "cell_type": "markdown",
   "id": "introductory-proportion",
   "metadata": {},
   "source": [
    "#### This Notebook was created for calculating affinity values from CLAS12 MC data, and then analyzing the results"
   ]
  },
  {
   "cell_type": "markdown",
   "id": "elect-offer",
   "metadata": {},
   "source": [
    "To use the notebook, first import all necessary imports below:"
   ]
  },
  {
   "cell_type": "code",
   "execution_count": 1,
   "id": "impossible-arctic",
   "metadata": {},
   "outputs": [
    {
     "name": "stdout",
     "output_type": "stream",
     "text": [
      "Welcome to JupyROOT 6.22/06\n"
     ]
    },
    {
     "name": "stderr",
     "output_type": "stream",
     "text": [
      "Matplotlib created a temporary config/cache directory at /tmp/matplotlib-lbgydetc because the default path (/home/jovyan/.cache/matplotlib) is not a writable directory; it is highly recommended to set the MPLCONFIGDIR environment variable to a writable directory, in particular to speed up the import of Matplotlib and to better support multiprocessing.\n"
     ]
    },
    {
     "name": "stdout",
     "output_type": "stream",
     "text": [
      "tf.__version__ 2.7.0\n"
     ]
    }
   ],
   "source": [
    "from ROOT import TFile,TTree,TCanvas,TH1F,gStyle,TLatex,gPad,TLegend,TLorentzVector,TH2F,TLine,TF1,TBox,RDataFrame,TPad,TF2\n",
    "import ROOT\n",
    "import numpy as np\n",
    "import awkward as awk\n",
    "import uproot\n",
    "import pandas as pd\n",
    "import matplotlib.pyplot as plot\n",
    "from pandas import read_excel \n",
    "from copy import deepcopy\n",
    "from ipywidgets import *\n",
    "import logging, os \n",
    "logging.disable(logging.WARNING) \n",
    "os.environ[\"TF_CPP_MIN_LOG_LEVEL\"] = \"3\"\n",
    "\n",
    "import tensorflow as tf\n",
    "print(\"tf.__version__\", tf.__version__)\n"
   ]
  },
  {
   "cell_type": "markdown",
   "id": "technological-standard",
   "metadata": {},
   "source": [
    "This notebook takes in root files and converts them to numpy arrays using uproot.\n",
    "On the next line, we pull each tree from the root file (one tree per kinematic variable we binned)"
   ]
  },
  {
   "cell_type": "markdown",
   "id": "catholic-stamp",
   "metadata": {},
   "source": [
    "Here we open the file in uproot and sort the trees into their respective objects"
   ]
  },
  {
   "cell_type": "code",
   "execution_count": 86,
   "id": "persistent-donna",
   "metadata": {},
   "outputs": [],
   "source": [
    "#up4_file = uproot.open(\"../OutputFiles/AffinityFiles/Files_9_12/file1.root\")\n",
    "#up4_file = uproot.open(\"../OutputFiles/Slurm/Sept_16_TMD/run1_0.root\")\n",
    "up4_file = uproot.open(\"../OutputFiles/AffinityFiles/Files_10_17/noRcuts2.root\") #this is where the plots in my prez are from\n",
    "#up4_file = uproot.open(\"../OutputFiles/AffinityFiles/Files_9_16/file2.root\")\n",
    "#up4_file = uproot.open(\"../OutputFiles/AffinityFiles/Files_9_16/file4.root\")\n",
    "#up4_file = uproot.open(\"../OutputFiles/Slurm/Oct_3/file_0.root\")\n",
    "up4_z = up4_file[\"tree_z_h_bins\"]\n",
    "up4_x = up4_file[\"tree_x_bins\"]\n",
    "up4_Mh = up4_file[\"tree_Mh_bins\"]"
   ]
  },
  {
   "cell_type": "markdown",
   "id": "heard-burner",
   "metadata": {},
   "source": [
    "Now we must fill the arrays. We need to create two that have 6 arrays of length 7 inside them, as these are the arrays for the x and z binnings. This data doesn't include x or z as the center of the bin will be used as the x and z value. For the Mh binning, Mh isn't necessary for calculating Affinity so all the data is already in the array"
   ]
  },
  {
   "cell_type": "code",
   "execution_count": 87,
   "id": "false-mailing",
   "metadata": {},
   "outputs": [],
   "source": [
    "#0 is z, 1 is x, 2 is mh\n",
    "zarray = np.array([np.zeros(7)] * 6)\n",
    "xarray = np.array([np.zeros(7)] * 6)\n",
    "Mharray = np.array([np.zeros(7)] * 7)\n",
    "xkinematics = np.array([\"z_h\", \"Q2\", \"pT\", \"R0\", \"R1\", \"R2\"])\n",
    "zkinematics = np.array([\"x\", \"Q2\", \"pT\", \"R0\", \"R1\", \"R2\"])\n",
    "Mhkinematics = np.array([\"x\", \"z_h\", \"Q2\", \"pT\", \"R0\", \"R1\", \"R2\"])\n",
    "\n",
    "#These arrays each hold an array for each variable, meaning that the first bin of variables is in the first index of every kinematics array\n",
    "\n",
    "#z\n",
    "for i in range(zkinematics.size):\n",
    "    zarray[i] = up4_z[zkinematics[i]].array(library = \"np\")\n",
    "#x\n",
    "for i in range(xkinematics.size):\n",
    "    xarray[i] = up4_x[xkinematics[i]].array(library = \"np\")\n",
    "#Mh\n",
    "for i in range(Mhkinematics.size):\n",
    "    Mharray[i] = up4_Mh[Mhkinematics[i]].array(library = \"np\")"
   ]
  },
  {
   "cell_type": "code",
   "execution_count": 88,
   "id": "intermediate-wiring",
   "metadata": {},
   "outputs": [
    {
     "name": "stdout",
     "output_type": "stream",
     "text": [
      "[[       nan        nan        nan        nan        nan        nan\n",
      "         nan]\n",
      " [1.40820871 1.74263087 2.0169838  2.24527274 2.44206518 2.73299053\n",
      "  3.68262573]\n",
      " [0.5245378  0.51505962 0.50227061 0.4951666  0.47780581 0.45433984\n",
      "  0.43030398]\n",
      " [0.51927788 0.4176565  0.35402737 0.32561532 0.29409489 0.25475731\n",
      "  0.18509761]\n",
      " [0.2025551  0.29713233 0.3910652  0.47551346 0.58591905 0.73802336\n",
      "  1.12245123]\n",
      " [0.32970574 0.2554121  0.21412288 0.1884873  0.16064143 0.13866443\n",
      "  0.11227883]]\n"
     ]
    }
   ],
   "source": [
    "print(xarray)"
   ]
  },
  {
   "cell_type": "markdown",
   "id": "solid-niagara",
   "metadata": {},
   "source": [
    "Now we need to transpose the array. When we filled the arrays with uproot, we put each kinematic in its own array, with those array's indices marking the bin number. Now we want each bin number to have all the kinematics for that bin in one array so we can feed that array to the calculator:"
   ]
  },
  {
   "cell_type": "code",
   "execution_count": 89,
   "id": "joint-medium",
   "metadata": {},
   "outputs": [],
   "source": [
    "xarray = np.transpose(xarray)\n",
    "zarray = np.transpose(zarray)\n",
    "Mharray = np.transpose(Mharray)"
   ]
  },
  {
   "cell_type": "code",
   "execution_count": 98,
   "id": "forward-sauce",
   "metadata": {},
   "outputs": [
    {
     "name": "stdout",
     "output_type": "stream",
     "text": [
      "[[       nan 1.40820871 0.5245378  0.51927788 0.2025551  0.32970574]\n",
      " [       nan 1.74263087 0.51505962 0.4176565  0.29713233 0.2554121 ]\n",
      " [       nan 2.0169838  0.50227061 0.35402737 0.3910652  0.21412288]\n",
      " [       nan 2.24527274 0.4951666  0.32561532 0.47551346 0.1884873 ]\n",
      " [       nan 2.44206518 0.47780581 0.29409489 0.58591905 0.16064143]\n",
      " [       nan 2.73299053 0.45433984 0.25475731 0.73802336 0.13866443]\n",
      " [       nan 3.68262573 0.43030398 0.18509761 1.12245123 0.11227883]]\n"
     ]
    }
   ],
   "source": [
    "print(xarray)"
   ]
  },
  {
   "cell_type": "markdown",
   "id": "ancient-peoples",
   "metadata": {},
   "source": [
    "This code block uses tensor flow to set up models and predictions based on those models. The user does not need to edit this."
   ]
  },
  {
   "cell_type": "code",
   "execution_count": 90,
   "id": "about-dream",
   "metadata": {},
   "outputs": [],
   "source": [
    "collinear_region_name = 'collinear'\n",
    "current_region_name = 'current'\n",
    "target_region_name = 'target'\n",
    "TMD_region_name = 'TMD'\n",
    "soft_region_name = 'soft'\n",
    "collinear_lable_name = 'collinearaff'\n",
    "target_lable_name = 'targetaff'\n",
    "current_lable_name = 'currentaff'\n",
    "TMD_lable_name = 'tmdaff'\n",
    "soft_lable_name = 'softaff'\n",
    "\n",
    "tmd_model_name = '../../SIDIS-Affinity/models/final_%s' % TMD_region_name\n",
    "tmd_model = tf.keras.models.load_model(tmd_model_name)\n",
    "target_model_name = '../../SIDIS-Affinity/models/final_%s' % target_region_name\n",
    "target_model = tf.keras.models.load_model(target_model_name)\n",
    "collinear_model_name = '../../SIDIS-Affinity/models/final_%s' % collinear_region_name\n",
    "collinear_model = tf.keras.models.load_model(collinear_model_name)\n",
    "current_model_name = '../../SIDIS-Affinity/models/final_%s' % current_region_name\n",
    "current_model = tf.keras.models.load_model(current_model_name)\n",
    "soft_model_name = '../../SIDIS-Affinity/models/final_%s' % soft_region_name\n",
    "soft_model = tf.keras.models.load_model(soft_model_name)"
   ]
  },
  {
   "cell_type": "markdown",
   "id": "respective-notice",
   "metadata": {},
   "source": [
    "Here we add our binning so that we can use these values in the affinity calculations"
   ]
  },
  {
   "cell_type": "code",
   "execution_count": 91,
   "id": "bridal-composition",
   "metadata": {},
   "outputs": [],
   "source": [
    "Mhbins = np.linspace(0.3,1.3,7)\n",
    "xbins = np.array([0.1,0.13,0.16,0.19,0.235,0.3,0.5])\n",
    "zbins = np.array([0.35,0.43,0.49,0.55,0.62,0.7,0.83])"
   ]
  },
  {
   "cell_type": "markdown",
   "id": "selected-mount",
   "metadata": {},
   "source": [
    "Now we create the calculator. Here is how the function works:\n",
    "1. calculator() takes in an array with kinematics, the region (tmd for this study), the name of the variable that we binned, and then the actual value for the center of that bin\n",
    "1. Depening on the name of the binned variable, the function assigns all the necessary kinematics, and fills in the gaps (if applicable) with the center of the bin\n",
    "1. After the kinematics are input, a panda dataframe is created mapping the kinematics to its respective place\n",
    "1. The applicable prediction is then made based on the region (tmd, target, etc)\n",
    "1. The prediction, or affinity value, is returned\n",
    "Hence, to calculate affinity yourself, you just need to call the calculator with your array, region, bin name, and bin variable"
   ]
  },
  {
   "cell_type": "code",
   "execution_count": 92,
   "id": "manufactured-premium",
   "metadata": {},
   "outputs": [],
   "source": [
    "def calculator(array, region, binType, binnedVariable = 0):\n",
    "    if binType == \"x\":\n",
    "        z = array[0]\n",
    "        Q2 = array[1]\n",
    "        pT = array[2]\n",
    "        R0max = array[3]\n",
    "        R1max = array[4]\n",
    "        R2max = array[5]\n",
    "        x = binnedVariable\n",
    "    elif binType == \"z\":\n",
    "        x = array[0]\n",
    "        Q2 = array[1]\n",
    "        pT = array[2]\n",
    "        R0max = array[3]\n",
    "        R1max = array[4]\n",
    "        R2max = array[5]\n",
    "        z = binnedVariable\n",
    "    elif binType == \"Mh\":\n",
    "        x = array[0]\n",
    "        z = array[1]\n",
    "        Q2 = array[2]\n",
    "        pT = array[3]\n",
    "        R0max = array[4]\n",
    "        R1max = array[5]\n",
    "        R2max = array[6]\n",
    "        \n",
    "    test_features = pd.DataFrame({'pT':pT,'Q2':Q2,'x':x,'z':z,'R0max':R0max,'R1max':R1max,'R2max':R2max},index=[0])\n",
    "\n",
    "    if region == 'tmd':\n",
    "        prediction = tmd_model.predict(test_features).flatten()\n",
    "        \n",
    "    elif region == 'target':\n",
    "        prediction = target_model.predict(test_features).flatten()\n",
    "        \n",
    "    elif region == 'collinear':\n",
    "        prediction = collinear_model.predict(test_features).flatten()\n",
    "\n",
    "    elif region == 'soft':\n",
    "        prediction = soft_model.predict(test_features).flatten()\n",
    "\n",
    "    else:\n",
    "        prediction = current_model.predict(test_features).flatten()\n",
    "\n",
    "    return prediction[0] #returns affinity value"
   ]
  },
  {
   "cell_type": "code",
   "execution_count": 93,
   "id": "minimal-suspension",
   "metadata": {},
   "outputs": [],
   "source": [
    "colxaffinity = np.zeros(7)\n",
    "colzaffinity = np.zeros(7)\n",
    "colMhaffinity = np.zeros(7)\n",
    "TMDxaffinity = np.zeros(7)\n",
    "TMDzaffinity = np.zeros(7)\n",
    "TMDMhaffinity = np.zeros(7)\n",
    "Currentxaffinity = np.zeros(7)\n",
    "Currentzaffinity = np.zeros(7)\n",
    "CurrentMhaffinity = np.zeros(7)\n",
    "region = \"collinear\"\n",
    "region2 = \"tmd\"\n",
    "region3 = \"current\"\n",
    "for i in range(7):\n",
    "    colzaffinity[i] = calculator(zarray[i], region, \"z\", zbins[i])\n",
    "    colxaffinity[i] = calculator(xarray[i], region, \"x\", xbins[i])\n",
    "    colMhaffinity[i] = calculator(Mharray[i], region, \"Mh\")\n",
    "    TMDzaffinity[i] = calculator(zarray[i], region2, \"z\", zbins[i])\n",
    "    TMDxaffinity[i] = calculator(xarray[i], region2, \"x\", xbins[i])\n",
    "    TMDMhaffinity[i] = calculator(Mharray[i], region2, \"Mh\")\n",
    "    Currentzaffinity[i] = calculator(zarray[i], region3, \"z\", zbins[i])\n",
    "    Currentxaffinity[i] = calculator(xarray[i], region3, \"x\", xbins[i])\n",
    "    CurrentMhaffinity[i] = calculator(Mharray[i], region3, \"Mh\")"
   ]
  },
  {
   "cell_type": "code",
   "execution_count": 94,
   "id": "common-assumption",
   "metadata": {},
   "outputs": [],
   "source": [
    "#print(zaffinity)\n",
    "#print(Mhaffinity)\n",
    "#print(xaffinity)"
   ]
  },
  {
   "cell_type": "code",
   "execution_count": 95,
   "id": "automatic-musical",
   "metadata": {},
   "outputs": [
    {
     "data": {
      "text/plain": [
       "[Text(0.5, 0, 'z_h')]"
      ]
     },
     "execution_count": 95,
     "metadata": {},
     "output_type": "execute_result"
    },
    {
     "data": {
      "image/png": "[encoded data removed]",
      "text/plain": [
       "<Figure size 1440x360 with 3 Axes>"
      ]
     },
     "metadata": {
      "needs_background": "light"
     },
     "output_type": "display_data"
    }
   ],
   "source": [
    "fig, (ax1, ax2, ax3) = plot.subplots(1, 3, figsize = (20, 5))\n",
    "fig.suptitle(\"Pi+ Pi- Affinity in the Collinear region\")\n",
    "ax1.set(ylabel = \"Affinity\")\n",
    "ax1.scatter(Mhbins, colMhaffinity)\n",
    "ax1.axhline(y=0, color=\"gray\", lw = 1)\n",
    "ax1.set_title(\"Mh binning\")\n",
    "ax1.set(xlabel = \"Mh (GeV)\")\n",
    "ax2.scatter(xbins, colxaffinity)\n",
    "ax2.axhline(y=0, color=\"gray\", lw = 1)\n",
    "ax2.set_title(\"x binning\")\n",
    "ax2.set(xlabel = \"x\")\n",
    "ax3.scatter(zbins, colzaffinity)\n",
    "ax3.axhline(y=0, color=\"gray\", lw = 1)\n",
    "ax3.set_title(\"z_h binning\")\n",
    "ax3.set(xlabel = \"z_h\")\n"
   ]
  },
  {
   "cell_type": "code",
   "execution_count": 96,
   "id": "amended-sharp",
   "metadata": {},
   "outputs": [
    {
     "data": {
      "text/plain": [
       "[Text(0.5, 0, 'z_h')]"
      ]
     },
     "execution_count": 96,
     "metadata": {},
     "output_type": "execute_result"
    },
    {
     "data": {
      "image/png": "[encoded data removed]",
      "text/plain": [
       "<Figure size 1440x360 with 3 Axes>"
      ]
     },
     "metadata": {
      "needs_background": "light"
     },
     "output_type": "display_data"
    }
   ],
   "source": [
    "fig2, (ax12, ax22, ax32) = plot.subplots(1, 3, figsize = (20, 5))\n",
    "fig2.suptitle(\"Pi+ Pi- Affinity in the TMD region\")\n",
    "ax12.set(ylabel = \"Affinity\")\n",
    "ax12.scatter(Mhbins, TMDMhaffinity)\n",
    "ax12.axhline(y=0, color=\"gray\", lw = 1)\n",
    "ax12.set_title(\"Mh binning\")\n",
    "ax12.set(xlabel = \"Mh (GeV)\")\n",
    "ax22.scatter(xbins, TMDxaffinity)\n",
    "ax22.axhline(y=0, color=\"gray\", lw = 1)\n",
    "ax22.set_title(\"x binning\")\n",
    "ax22.set(xlabel = \"x\")\n",
    "ax32.scatter(zbins, TMDzaffinity)\n",
    "ax32.axhline(y=0, color=\"gray\", lw = 1)\n",
    "ax32.set_title(\"z_h binning\")\n",
    "ax32.set(xlabel = \"z_h\")\n"
   ]
  },
  {
   "cell_type": "code",
   "execution_count": 97,
   "id": "excessive-directory",
   "metadata": {},
   "outputs": [
    {
     "data": {
      "text/plain": [
       "[Text(0.5, 0, 'z_h')]"
      ]
     },
     "execution_count": 97,
     "metadata": {},
     "output_type": "execute_result"
    },
    {
     "data": {
      "image/png": "[encoded data removed]",
      "text/plain": [
       "<Figure size 1440x360 with 3 Axes>"
      ]
     },
     "metadata": {
      "needs_background": "light"
     },
     "output_type": "display_data"
    }
   ],
   "source": [
    "fig3, (ax13, ax23, ax33) = plot.subplots(1, 3, figsize = (20, 5))\n",
    "fig3.suptitle(\"Pi+ Pi- Affinity in the Current region\")\n",
    "ax13.set(ylabel = \"Affinity\")\n",
    "ax13.scatter(Mhbins, CurrentMhaffinity)\n",
    "ax13.axhline(y=0, color=\"gray\", lw = 1)\n",
    "ax13.set_title(\"Mh binning\")\n",
    "ax13.set(xlabel = \"Mh (GeV)\")\n",
    "ax23.scatter(xbins, Currentxaffinity)\n",
    "ax23.axhline(y=0, color=\"gray\", lw = 1)\n",
    "ax23.set_title(\"x binning\")\n",
    "ax23.set(xlabel = \"x\")\n",
    "ax33.scatter(zbins, Currentzaffinity)\n",
    "ax33.axhline(y=0, color=\"gray\", lw = 1)\n",
    "ax33.set_title(\"z_h binning\")\n",
    "ax33.set(xlabel = \"z_h\")\n"
   ]
  },
  {
   "cell_type": "code",
   "execution_count": null,
   "id": "miniature-following",
   "metadata": {},
   "outputs": [],
   "source": []
  },
  {
   "cell_type": "code",
   "execution_count": null,
   "id": "exterior-explanation",
   "metadata": {},
   "outputs": [],
   "source": []
  }
 ],
 "metadata": {
  "kernelspec": {
   "display_name": "Python 3",
   "language": "python",
   "name": "python3"
  },
  "language_info": {
   "codemirror_mode": {
    "name": "ipython",
    "version": 3
   },
   "file_extension": ".py",
   "mimetype": "text/x-python",
   "name": "python",
   "nbconvert_exporter": "python",
   "pygments_lexer": "ipython3",
   "version": "3.8.6"
  }
 },
 "nbformat": 4,
 "nbformat_minor": 5
}
