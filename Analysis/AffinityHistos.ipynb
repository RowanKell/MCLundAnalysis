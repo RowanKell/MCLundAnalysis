{
 "cells": [
  {
   "cell_type": "markdown",
   "id": "laden-vanilla",
   "metadata": {},
   "source": [
    "# CLAS12 Affinity Calculations\n",
    "### Rowan Kelleher"
   ]
  },
  {
   "cell_type": "markdown",
   "id": "motivated-trigger",
   "metadata": {},
   "source": [
    "#### This Notebook was created for calculating affinity values from CLAS12 MC data, and then analyzing the results"
   ]
  },
  {
   "cell_type": "markdown",
   "id": "deadly-thursday",
   "metadata": {},
   "source": [
    "To use the notebook, first import all necessary imports below:"
   ]
  },
  {
   "cell_type": "code",
   "execution_count": 104,
   "id": "scientific-temperature",
   "metadata": {},
   "outputs": [
    {
     "name": "stdout",
     "output_type": "stream",
     "text": [
      "tf.__version__ 2.7.0\n"
     ]
    }
   ],
   "source": [
    "from ROOT import TFile,TTree,TCanvas,TH1F,gStyle,TLatex,gPad,TLegend,TLorentzVector,TH2F,TLine,TF1,TBox,RDataFrame,TPad,TF2\n",
    "import ROOT\n",
    "import numpy as np\n",
    "import awkward as awk\n",
    "import uproot\n",
    "import pandas as pd\n",
    "import matplotlib.pyplot as plot\n",
    "from pandas import read_excel \n",
    "from copy import deepcopy\n",
    "from ipywidgets import *\n",
    "import logging, os \n",
    "logging.disable(logging.WARNING) \n",
    "os.environ[\"TF_CPP_MIN_LOG_LEVEL\"] = \"3\"\n",
    "\n",
    "import tensorflow as tf\n",
    "print(\"tf.__version__\", tf.__version__)\n"
   ]
  },
  {
   "cell_type": "markdown",
   "id": "cooperative-feelings",
   "metadata": {},
   "source": [
    "This notebook takes in root files and converts them to numpy arrays using uproot.\n",
    "On the next line, we pull each tree from the root file (one tree per kinematic variable we binned)"
   ]
  },
  {
   "cell_type": "markdown",
   "id": "broad-surrey",
   "metadata": {},
   "source": [
    "Here we open the file in uproot and sort the trees into their respective objects"
   ]
  },
  {
   "cell_type": "code",
   "execution_count": 105,
   "id": "linear-neighbor",
   "metadata": {},
   "outputs": [],
   "source": [
    "up4_file = uproot.open(\"../OutputFiles/AffinityFiles/Files_9_5/Exactfile4.root\")\n",
    "#up4_file = uproot.open(\"../OutputFiles/Slurm/Sept_5/Sept5_run1_0.root\")\n",
    "up4_z = up4_file[\"tree_z_h_bins\"]\n",
    "up4_x = up4_file[\"tree_x_bins\"]\n",
    "up4_Mh = up4_file[\"tree_Mh_bins\"]"
   ]
  },
  {
   "cell_type": "markdown",
   "id": "similar-shepherd",
   "metadata": {},
   "source": [
    "Now we must fill the arrays. We need to create two that have 6 arrays of length 7 inside them, as these are the arrays for the x and z binnings. This data doesn't include x or z as the center of the bin will be used as the x and z value. For the Mh binning, Mh isn't necessary for calculating Affinity so all the data is already in the array"
   ]
  },
  {
   "cell_type": "code",
   "execution_count": 106,
   "id": "close-device",
   "metadata": {},
   "outputs": [],
   "source": [
    "#0 is z, 1 is x, 2 is mh\n",
    "zarray = np.array([np.zeros(7)] * 6)\n",
    "xarray = np.array([np.zeros(7)] * 6)\n",
    "Mharray = np.array([np.zeros(7)] * 7)\n",
    "xkinematics = np.array([\"z_h\", \"Q2\", \"pT\", \"R0\", \"R1\", \"R2\"])\n",
    "zkinematics = np.array([\"x\", \"Q2\", \"pT\", \"R0\", \"R1\", \"R2\"])\n",
    "Mhkinematics = np.array([\"x\", \"z_h\", \"Q2\", \"pT\", \"R0\", \"R1\", \"R2\"])\n",
    "\n",
    "#These arrays each hold an array for each variable, meaning that the first bin of variables is in the first index of every kinematics array\n",
    "\n",
    "#z\n",
    "for i in range(zkinematics.size):\n",
    "    zarray[i] = up4_z[zkinematics[i]].array(library = \"np\")\n",
    "#x\n",
    "for i in range(xkinematics.size):\n",
    "    xarray[i] = up4_x[xkinematics[i]].array(library = \"np\")\n",
    "#Mh\n",
    "for i in range(Mhkinematics.size):\n",
    "    Mharray[i] = up4_Mh[Mhkinematics[i]].array(library = \"np\")"
   ]
  },
  {
   "cell_type": "markdown",
   "id": "searching-nursery",
   "metadata": {},
   "source": [
    "Now we need to transpose the array. When we filled the arrays with uproot, we put each kinematic in its own array, with those array's indices marking the bin number. Now we want each bin number to have all the kinematics for that bin in one array so we can feed that array to the calculator:"
   ]
  },
  {
   "cell_type": "code",
   "execution_count": 107,
   "id": "sixth-devon",
   "metadata": {},
   "outputs": [],
   "source": [
    "xarray = np.transpose(xarray)\n",
    "zarray = np.transpose(zarray)\n",
    "Mharray = np.transpose(Mharray)"
   ]
  },
  {
   "cell_type": "markdown",
   "id": "allied-marijuana",
   "metadata": {},
   "source": [
    "This code block uses tensor flow to set up models and predictions based on those models. The user does not need to edit this."
   ]
  },
  {
   "cell_type": "code",
   "execution_count": 108,
   "id": "underlying-survivor",
   "metadata": {},
   "outputs": [],
   "source": [
    "collinear_region_name = 'collinear'\n",
    "current_region_name = 'current'\n",
    "target_region_name = 'target'\n",
    "TMD_region_name = 'TMD'\n",
    "soft_region_name = 'soft'\n",
    "collinear_lable_name = 'collinearaff'\n",
    "target_lable_name = 'targetaff'\n",
    "current_lable_name = 'currentaff'\n",
    "TMD_lable_name = 'tmdaff'\n",
    "soft_lable_name = 'softaff'\n",
    "\n",
    "tmd_model_name = '../../SIDIS-Affinity/models/final_%s' % TMD_region_name\n",
    "tmd_model = tf.keras.models.load_model(tmd_model_name)\n",
    "target_model_name = '../../SIDIS-Affinity/models/final_%s' % target_region_name\n",
    "target_model = tf.keras.models.load_model(target_model_name)\n",
    "collinear_model_name = '../../SIDIS-Affinity/models/final_%s' % collinear_region_name\n",
    "collinear_model = tf.keras.models.load_model(collinear_model_name)\n",
    "current_model_name = '../../SIDIS-Affinity/models/final_%s' % current_region_name\n",
    "current_model = tf.keras.models.load_model(current_model_name)\n",
    "soft_model_name = '../../SIDIS-Affinity/models/final_%s' % soft_region_name\n",
    "soft_model = tf.keras.models.load_model(soft_model_name)"
   ]
  },
  {
   "cell_type": "markdown",
   "id": "robust-ministry",
   "metadata": {},
   "source": [
    "Here we add our binning so that we can use these values in the affinity calculations"
   ]
  },
  {
   "cell_type": "code",
   "execution_count": 109,
   "id": "legislative-russia",
   "metadata": {},
   "outputs": [],
   "source": [
    "Mhbins = np.linspace(0.3,1.3,7)\n",
    "xbins = np.array([0.1,0.13,0.16,0.19,0.235,0.3,0.5])\n",
    "zbins = np.array([0.35,0.43,0.49,0.55,0.62,0.7,0.83])"
   ]
  },
  {
   "cell_type": "markdown",
   "id": "buried-harvest",
   "metadata": {},
   "source": [
    "Now we create the calculator. Here is how the function works:\n",
    "1. calculator() takes in an array with kinematics, the region (tmd for this study), the name of the variable that we binned, and then the actual value for the center of that bin\n",
    "1. Depening on the name of the binned variable, the function assigns all the necessary kinematics, and fills in the gaps (if applicable) with the center of the bin\n",
    "1. After the kinematics are input, a panda dataframe is created mapping the kinematics to its respective place\n",
    "1. The applicable prediction is then made based on the region (tmd, target, etc)\n",
    "1. The prediction, or affinity value, is returned\n",
    "Hence, to calculate affinity yourself, you just need to call the calculator with your array, region, bin name, and bin variable"
   ]
  },
  {
   "cell_type": "code",
   "execution_count": 110,
   "id": "continued-laser",
   "metadata": {},
   "outputs": [],
   "source": [
    "def calculator(array, region, binType, binnedVariable = 0):\n",
    "    if binType == \"x\":\n",
    "        z = array[0]\n",
    "        Q2 = array[1]\n",
    "        pT = array[2]\n",
    "        R0max = array[3]\n",
    "        R1max = array[4]\n",
    "        R2max = array[5]\n",
    "        x = binnedVariable\n",
    "    elif binType == \"z\":\n",
    "        x = array[0]\n",
    "        Q2 = array[1]\n",
    "        pT = array[2]\n",
    "        R0max = array[3]\n",
    "        R1max = array[4]\n",
    "        R2max = array[5]\n",
    "        z = binnedVariable\n",
    "    elif binType == \"Mh\":\n",
    "        x = array[0]\n",
    "        z = array[1]\n",
    "        Q2 = array[2]\n",
    "        pT = array[3]\n",
    "        R0max = array[4]\n",
    "        R1max = array[5]\n",
    "        R2max = array[6]\n",
    "        \n",
    "    test_features = pd.DataFrame({'pT':pT,'Q2':Q2,'x':x,'z':z,'R0max':R0max,'R1max':R1max,'R2max':R2max},index=[0])\n",
    "\n",
    "    if region == 'tmd':\n",
    "        prediction = tmd_model.predict(test_features).flatten()\n",
    "        \n",
    "    elif region == 'target':\n",
    "        prediction = target_model.predict(test_features).flatten()\n",
    "        \n",
    "    elif region == 'collinear':\n",
    "        prediction = collinear_model.predict(test_features).flatten()\n",
    "\n",
    "    elif region == 'soft':\n",
    "        prediction = soft_model.predict(test_features).flatten()\n",
    "\n",
    "    else:\n",
    "        prediction = current_model.predict(test_features).flatten()\n",
    "\n",
    "    return prediction[0] #returns affinity value"
   ]
  },
  {
   "cell_type": "code",
   "execution_count": 111,
   "id": "finnish-accent",
   "metadata": {},
   "outputs": [],
   "source": [
    "xaffinity = np.zeros(7)\n",
    "zaffinity = np.zeros(7)\n",
    "Mhaffinity = np.zeros(7)\n",
    "for i in range(len(zarray[i])):\n",
    "    for j in range(len(zarray)):\n",
    "        zaffinity[i] = calculator(zarray[j], \"tmd\", \"z\", zbins[i])\n",
    "        xaffinity[i] = calculator(xarray[j], \"tmd\", \"x\", xbins[i])\n",
    "        Mhaffinity[i] = calculator(Mharray[j], \"tmd\", \"Mh\")"
   ]
  },
  {
   "cell_type": "code",
   "execution_count": 112,
   "id": "residential-performer",
   "metadata": {},
   "outputs": [
    {
     "name": "stdout",
     "output_type": "stream",
     "text": [
      "[0.00058305 0.00314668 0.0089123  0.01952663 0.03166106 0.04761568\n",
      " 0.        ]\n",
      "[0.06471437 0.06471437 0.06471437 0.06471437 0.06471437 0.06471437\n",
      " 0.        ]\n",
      "[0.0082041  0.01027125 0.01054215 0.01089618 0.01445931 0.014918\n",
      " 0.        ]\n"
     ]
    }
   ],
   "source": [
    "print(zaffinity)\n",
    "print(Mhaffinity)\n",
    "print(xaffinity)"
   ]
  },
  {
   "cell_type": "code",
   "execution_count": 136,
   "id": "armed-internship",
   "metadata": {},
   "outputs": [
    {
     "data": {
      "text/plain": [
       "[Text(0.5, 0, 'z_h')]"
      ]
     },
     "execution_count": 136,
     "metadata": {},
     "output_type": "execute_result"
    },
    {
     "data": {
      "image/png": "[encoded data removed]",
      "text/plain": [
       "<Figure size 1440x360 with 3 Axes>"
      ]
     },
     "metadata": {
      "needs_background": "light"
     },
     "output_type": "display_data"
    }
   ],
   "source": [
    "fig, (ax1, ax2, ax3) = plot.subplots(1, 3, figsize = (20, 5))\n",
    "fig.suptitle(\"Pi+ Pi- Affinity in the TMD region\")\n",
    "ax1.set(ylabel = \"Affinity\")\n",
    "ax1.scatter(Mhbins, Mhaffinity)\n",
    "ax1.axhline(y=0, color=\"gray\", lw = 1)\n",
    "ax1.set_title(\"Mh binning\")\n",
    "ax1.set(xlabel = \"Mh (GeV)\")\n",
    "ax2.scatter(xbins, xaffinity)\n",
    "ax2.axhline(y=0, color=\"gray\", lw = 1)\n",
    "ax2.set_title(\"x binning\")\n",
    "ax2.set(xlabel = \"x\")\n",
    "ax3.scatter(zbins, zaffinity)\n",
    "ax3.axhline(y=0, color=\"gray\", lw = 1)\n",
    "ax3.set_title(\"z_h binning\")\n",
    "ax3.set(xlabel = \"z_h\")\n"
   ]
  },
  {
   "cell_type": "code",
   "execution_count": null,
   "id": "wireless-nowhere",
   "metadata": {},
   "outputs": [],
   "source": []
  }
 ],
 "metadata": {
  "kernelspec": {
   "display_name": "Python 3",
   "language": "python",
   "name": "python3"
  },
  "language_info": {
   "codemirror_mode": {
    "name": "ipython",
    "version": 3
   },
   "file_extension": ".py",
   "mimetype": "text/x-python",
   "name": "python",
   "nbconvert_exporter": "python",
   "pygments_lexer": "ipython3",
   "version": "3.8.6"
  }
 },
 "nbformat": 4,
 "nbformat_minor": 5
}
