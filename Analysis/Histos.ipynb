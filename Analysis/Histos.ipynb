{
 "cells": [
  {
   "cell_type": "code",
   "execution_count": 1,
   "id": "caring-hunger",
   "metadata": {},
   "outputs": [
    {
     "name": "stdout",
     "output_type": "stream",
     "text": [
      "Welcome to JupyROOT 6.22/06\n"
     ]
    }
   ],
   "source": [
    "from ROOT import TFile,TTree,TCanvas,TH1F, gStyle, TLatex, gPad, TLegend, TLorentzVector, TH2F, TLine, TF1, TBox, RDataFrame, TPad, TF2, TStyle, THStack\n",
    "import ROOT\n",
    "import numpy as np\n",
    "import awkward as awk\n",
    "import uproot as up\n",
    "import pandas as pd\n",
    "import os"
   ]
  },
  {
   "cell_type": "markdown",
   "id": "checked-hampton",
   "metadata": {},
   "source": [
    "$k_i = k_f - q$"
   ]
  },
  {
   "cell_type": "code",
   "execution_count": 2,
   "id": "prescription-sitting",
   "metadata": {},
   "outputs": [],
   "source": [
    "MC = RDataFrame(\"tree_MC\", \"/w/hallb-scshelf2102/clas12/users/rojokell/MCLundAnalysis/OutputFiles/Slurm_Spring_24/July_08/Testing/file_*.root\")\n",
    "driver = RDataFrame(\"tree_driver\", \"/w/hallb-scshelf2102/clas12/users/rojokell/MCLundAnalysis/Analysis/BoxAffinity/root_files/July_8_100_driver_old_R2_three_files.root\")\n",
    "# driver = RDataFrame(\"tree_driver\", \"/w/hallb-scshelf2102/clas12/users/rojokell/MCLundAnalysis/Analysis/BoxAffinity/root_files/July_2_100_driver_new_R2.root\")"
   ]
  },
  {
   "cell_type": "code",
   "execution_count": 3,
   "id": "affecting-judgment",
   "metadata": {},
   "outputs": [
    {
     "ename": "FileNotFoundError",
     "evalue": "[Errno 2] No such file or directory: '/w/hallb-scshelf2102/clas12/users/rojokell/MCLundAnalysis/OutputFiles/Slurm_Spring_24/July_08/Testing/file_*.root'",
     "output_type": "error",
     "traceback": [
      "\u001b[0;31m---------------------------------------------------------------------------\u001b[0m",
      "\u001b[0;31mFileNotFoundError\u001b[0m                         Traceback (most recent call last)",
      "Cell \u001b[0;32mIn[3], line 3\u001b[0m\n\u001b[1;32m      1\u001b[0m tree_driver \u001b[38;5;241m=\u001b[39m up\u001b[38;5;241m.\u001b[39mopen(\u001b[38;5;124m\"\u001b[39m\u001b[38;5;124m/w/hallb-scshelf2102/clas12/users/rojokell/MCLundAnalysis/Analysis/BoxAffinity/root_files/July_8_100_driver_old_R2_three_files.root:tree_max\u001b[39m\u001b[38;5;124m\"\u001b[39m)\n\u001b[1;32m      2\u001b[0m \u001b[38;5;66;03m# tree_driver = up.open(\"/w/hallb-scshelf2102/clas12/users/rojokell/MCLundAnalysis/Analysis/BoxAffinity/root_files/July_2_100_driver_new_R2.root:tree_max\")\u001b[39;00m\n\u001b[0;32m----> 3\u001b[0m tree_MC \u001b[38;5;241m=\u001b[39m \u001b[43mup\u001b[49m\u001b[38;5;241;43m.\u001b[39;49m\u001b[43mopen\u001b[49m\u001b[43m(\u001b[49m\u001b[38;5;124;43m\"\u001b[39;49m\u001b[38;5;124;43m/w/hallb-scshelf2102/clas12/users/rojokell/MCLundAnalysis/OutputFiles/Slurm_Spring_24/July_08/Testing/file_*.root:tree_maxmin\u001b[39;49m\u001b[38;5;124;43m\"\u001b[39;49m\u001b[43m)\u001b[49m\n",
      "File \u001b[0;32m/opt/conda/lib/python3.8/site-packages/uproot/reading.py:141\u001b[0m, in \u001b[0;36mopen\u001b[0;34m(path, object_cache, array_cache, custom_classes, decompression_executor, interpretation_executor, **options)\u001b[0m\n\u001b[1;32m    132\u001b[0m \u001b[38;5;28;01mif\u001b[39;00m \u001b[38;5;129;01mnot\u001b[39;00m \u001b[38;5;28misinstance\u001b[39m(file_path, \u001b[38;5;28mstr\u001b[39m) \u001b[38;5;129;01mand\u001b[39;00m \u001b[38;5;129;01mnot\u001b[39;00m (\n\u001b[1;32m    133\u001b[0m     \u001b[38;5;28mhasattr\u001b[39m(file_path, \u001b[38;5;124m\"\u001b[39m\u001b[38;5;124mread\u001b[39m\u001b[38;5;124m\"\u001b[39m) \u001b[38;5;129;01mand\u001b[39;00m \u001b[38;5;28mhasattr\u001b[39m(file_path, \u001b[38;5;124m\"\u001b[39m\u001b[38;5;124mseek\u001b[39m\u001b[38;5;124m\"\u001b[39m)\n\u001b[1;32m    134\u001b[0m ):\n\u001b[1;32m    135\u001b[0m     \u001b[38;5;28;01mraise\u001b[39;00m \u001b[38;5;167;01mValueError\u001b[39;00m(\n\u001b[1;32m    136\u001b[0m         \u001b[38;5;124m\"\u001b[39m\u001b[38;5;124m'\u001b[39m\u001b[38;5;124mpath\u001b[39m\u001b[38;5;124m'\u001b[39m\u001b[38;5;124m must be a string, pathlib.Path, an object with \u001b[39m\u001b[38;5;124m'\u001b[39m\u001b[38;5;124mread\u001b[39m\u001b[38;5;124m'\u001b[39m\u001b[38;5;124m and \u001b[39m\u001b[38;5;124m\"\u001b[39m\n\u001b[1;32m    137\u001b[0m         \u001b[38;5;124m\"\u001b[39m\u001b[38;5;124m'\u001b[39m\u001b[38;5;124mseek\u001b[39m\u001b[38;5;124m'\u001b[39m\u001b[38;5;124m methods, or a length-1 dict of \u001b[39m\u001b[38;5;124m{\u001b[39m\u001b[38;5;124mfile_path: object_path}, \u001b[39m\u001b[38;5;124m\"\u001b[39m\n\u001b[1;32m    138\u001b[0m         \u001b[38;5;124mf\u001b[39m\u001b[38;5;124m\"\u001b[39m\u001b[38;5;124mnot \u001b[39m\u001b[38;5;132;01m{\u001b[39;00mpath\u001b[38;5;132;01m!r}\u001b[39;00m\u001b[38;5;124m\"\u001b[39m\n\u001b[1;32m    139\u001b[0m     )\n\u001b[0;32m--> 141\u001b[0m file \u001b[38;5;241m=\u001b[39m \u001b[43mReadOnlyFile\u001b[49m\u001b[43m(\u001b[49m\n\u001b[1;32m    142\u001b[0m \u001b[43m    \u001b[49m\u001b[43mfile_path\u001b[49m\u001b[43m,\u001b[49m\n\u001b[1;32m    143\u001b[0m \u001b[43m    \u001b[49m\u001b[43mobject_cache\u001b[49m\u001b[38;5;241;43m=\u001b[39;49m\u001b[43mobject_cache\u001b[49m\u001b[43m,\u001b[49m\n\u001b[1;32m    144\u001b[0m \u001b[43m    \u001b[49m\u001b[43marray_cache\u001b[49m\u001b[38;5;241;43m=\u001b[39;49m\u001b[43marray_cache\u001b[49m\u001b[43m,\u001b[49m\n\u001b[1;32m    145\u001b[0m \u001b[43m    \u001b[49m\u001b[43mcustom_classes\u001b[49m\u001b[38;5;241;43m=\u001b[39;49m\u001b[43mcustom_classes\u001b[49m\u001b[43m,\u001b[49m\n\u001b[1;32m    146\u001b[0m \u001b[43m    \u001b[49m\u001b[43mdecompression_executor\u001b[49m\u001b[38;5;241;43m=\u001b[39;49m\u001b[43mdecompression_executor\u001b[49m\u001b[43m,\u001b[49m\n\u001b[1;32m    147\u001b[0m \u001b[43m    \u001b[49m\u001b[43minterpretation_executor\u001b[49m\u001b[38;5;241;43m=\u001b[39;49m\u001b[43minterpretation_executor\u001b[49m\u001b[43m,\u001b[49m\n\u001b[1;32m    148\u001b[0m \u001b[43m    \u001b[49m\u001b[38;5;241;43m*\u001b[39;49m\u001b[38;5;241;43m*\u001b[39;49m\u001b[43moptions\u001b[49m\u001b[43m,\u001b[49m\n\u001b[1;32m    149\u001b[0m \u001b[43m\u001b[49m\u001b[43m)\u001b[49m\n\u001b[1;32m    151\u001b[0m \u001b[38;5;28;01mif\u001b[39;00m object_path \u001b[38;5;129;01mis\u001b[39;00m \u001b[38;5;28;01mNone\u001b[39;00m:\n\u001b[1;32m    152\u001b[0m     \u001b[38;5;28;01mreturn\u001b[39;00m file\u001b[38;5;241m.\u001b[39mroot_directory\n",
      "File \u001b[0;32m/opt/conda/lib/python3.8/site-packages/uproot/reading.py:559\u001b[0m, in \u001b[0;36mReadOnlyFile.__init__\u001b[0;34m(self, file_path, object_cache, array_cache, custom_classes, decompression_executor, interpretation_executor, **options)\u001b[0m\n\u001b[1;32m    554\u001b[0m \u001b[38;5;28mself\u001b[39m\u001b[38;5;241m.\u001b[39mhook_before_create_source()\n\u001b[1;32m    556\u001b[0m source_cls, file_path \u001b[38;5;241m=\u001b[39m uproot\u001b[38;5;241m.\u001b[39m_util\u001b[38;5;241m.\u001b[39mfile_path_to_source_class(\n\u001b[1;32m    557\u001b[0m     file_path, \u001b[38;5;28mself\u001b[39m\u001b[38;5;241m.\u001b[39m_options\n\u001b[1;32m    558\u001b[0m )\n\u001b[0;32m--> 559\u001b[0m \u001b[38;5;28mself\u001b[39m\u001b[38;5;241m.\u001b[39m_source \u001b[38;5;241m=\u001b[39m \u001b[43msource_cls\u001b[49m\u001b[43m(\u001b[49m\u001b[43mfile_path\u001b[49m\u001b[43m,\u001b[49m\u001b[43m \u001b[49m\u001b[38;5;241;43m*\u001b[39;49m\u001b[38;5;241;43m*\u001b[39;49m\u001b[38;5;28;43mself\u001b[39;49m\u001b[38;5;241;43m.\u001b[39;49m\u001b[43m_options\u001b[49m\u001b[43m)\u001b[49m\n\u001b[1;32m    561\u001b[0m \u001b[38;5;28mself\u001b[39m\u001b[38;5;241m.\u001b[39mhook_before_get_chunks()\n\u001b[1;32m    563\u001b[0m \u001b[38;5;28;01mif\u001b[39;00m \u001b[38;5;28mself\u001b[39m\u001b[38;5;241m.\u001b[39m_options[\u001b[38;5;124m\"\u001b[39m\u001b[38;5;124mbegin_chunk_size\u001b[39m\u001b[38;5;124m\"\u001b[39m] \u001b[38;5;241m<\u001b[39m _file_header_fields_big\u001b[38;5;241m.\u001b[39msize:\n",
      "File \u001b[0;32m/opt/conda/lib/python3.8/site-packages/uproot/source/fsspec.py:41\u001b[0m, in \u001b[0;36mFSSpecSource.__init__\u001b[0;34m(self, file_path, **options)\u001b[0m\n\u001b[1;32m     38\u001b[0m \u001b[38;5;28mself\u001b[39m\u001b[38;5;241m.\u001b[39m_file \u001b[38;5;241m=\u001b[39m \u001b[38;5;28;01mNone\u001b[39;00m\n\u001b[1;32m     39\u001b[0m \u001b[38;5;28mself\u001b[39m\u001b[38;5;241m.\u001b[39m_fh \u001b[38;5;241m=\u001b[39m \u001b[38;5;28;01mNone\u001b[39;00m\n\u001b[0;32m---> 41\u001b[0m \u001b[38;5;28;43mself\u001b[39;49m\u001b[38;5;241;43m.\u001b[39;49m\u001b[43m_open\u001b[49m\u001b[43m(\u001b[49m\u001b[43m)\u001b[49m\n\u001b[1;32m     43\u001b[0m \u001b[38;5;28mself\u001b[39m\u001b[38;5;241m.\u001b[39m\u001b[38;5;21m__enter__\u001b[39m()\n",
      "File \u001b[0;32m/opt/conda/lib/python3.8/site-packages/uproot/source/fsspec.py:55\u001b[0m, in \u001b[0;36mFSSpecSource._open\u001b[0;34m(self)\u001b[0m\n\u001b[1;32m     53\u001b[0m \u001b[38;5;28;01mdef\u001b[39;00m \u001b[38;5;21m_open\u001b[39m(\u001b[38;5;28mself\u001b[39m):\n\u001b[1;32m     54\u001b[0m     \u001b[38;5;28mself\u001b[39m\u001b[38;5;241m.\u001b[39m_executor \u001b[38;5;241m=\u001b[39m FSSpecLoopExecutor()\n\u001b[0;32m---> 55\u001b[0m     \u001b[38;5;28mself\u001b[39m\u001b[38;5;241m.\u001b[39m_file \u001b[38;5;241m=\u001b[39m \u001b[38;5;28;43mself\u001b[39;49m\u001b[38;5;241;43m.\u001b[39;49m\u001b[43m_fs\u001b[49m\u001b[38;5;241;43m.\u001b[39;49m\u001b[43mopen\u001b[49m\u001b[43m(\u001b[49m\u001b[38;5;28;43mself\u001b[39;49m\u001b[38;5;241;43m.\u001b[39;49m\u001b[43m_file_path\u001b[49m\u001b[43m)\u001b[49m\n",
      "File \u001b[0;32m/opt/conda/lib/python3.8/site-packages/fsspec/spec.py:930\u001b[0m, in \u001b[0;36mAbstractFileSystem.open\u001b[0;34m(self, path, mode, block_size, cache_options, **kwargs)\u001b[0m\n\u001b[1;32m    928\u001b[0m \u001b[38;5;28;01melse\u001b[39;00m:\n\u001b[1;32m    929\u001b[0m     ac \u001b[38;5;241m=\u001b[39m kwargs\u001b[38;5;241m.\u001b[39mpop(\u001b[38;5;124m\"\u001b[39m\u001b[38;5;124mautocommit\u001b[39m\u001b[38;5;124m\"\u001b[39m, \u001b[38;5;129;01mnot\u001b[39;00m \u001b[38;5;28mself\u001b[39m\u001b[38;5;241m.\u001b[39m_intrans)\n\u001b[0;32m--> 930\u001b[0m     f \u001b[38;5;241m=\u001b[39m \u001b[38;5;28;43mself\u001b[39;49m\u001b[38;5;241;43m.\u001b[39;49m\u001b[43m_open\u001b[49m\u001b[43m(\u001b[49m\n\u001b[1;32m    931\u001b[0m \u001b[43m        \u001b[49m\u001b[43mpath\u001b[49m\u001b[43m,\u001b[49m\n\u001b[1;32m    932\u001b[0m \u001b[43m        \u001b[49m\u001b[43mmode\u001b[49m\u001b[38;5;241;43m=\u001b[39;49m\u001b[43mmode\u001b[49m\u001b[43m,\u001b[49m\n\u001b[1;32m    933\u001b[0m \u001b[43m        \u001b[49m\u001b[43mblock_size\u001b[49m\u001b[38;5;241;43m=\u001b[39;49m\u001b[43mblock_size\u001b[49m\u001b[43m,\u001b[49m\n\u001b[1;32m    934\u001b[0m \u001b[43m        \u001b[49m\u001b[43mautocommit\u001b[49m\u001b[38;5;241;43m=\u001b[39;49m\u001b[43mac\u001b[49m\u001b[43m,\u001b[49m\n\u001b[1;32m    935\u001b[0m \u001b[43m        \u001b[49m\u001b[43mcache_options\u001b[49m\u001b[38;5;241;43m=\u001b[39;49m\u001b[43mcache_options\u001b[49m\u001b[43m,\u001b[49m\n\u001b[1;32m    936\u001b[0m \u001b[43m        \u001b[49m\u001b[38;5;241;43m*\u001b[39;49m\u001b[38;5;241;43m*\u001b[39;49m\u001b[43mkwargs\u001b[49m\n\u001b[1;32m    937\u001b[0m \u001b[43m    \u001b[49m\u001b[43m)\u001b[49m\n\u001b[1;32m    938\u001b[0m     \u001b[38;5;28;01mif\u001b[39;00m \u001b[38;5;129;01mnot\u001b[39;00m ac:\n\u001b[1;32m    939\u001b[0m         \u001b[38;5;28mself\u001b[39m\u001b[38;5;241m.\u001b[39mtransaction\u001b[38;5;241m.\u001b[39mfiles\u001b[38;5;241m.\u001b[39mappend(f)\n",
      "File \u001b[0;32m/opt/conda/lib/python3.8/site-packages/fsspec/implementations/local.py:117\u001b[0m, in \u001b[0;36mLocalFileSystem._open\u001b[0;34m(self, path, mode, block_size, **kwargs)\u001b[0m\n\u001b[1;32m    115\u001b[0m \u001b[38;5;28;01mif\u001b[39;00m \u001b[38;5;28mself\u001b[39m\u001b[38;5;241m.\u001b[39mauto_mkdir \u001b[38;5;129;01mand\u001b[39;00m \u001b[38;5;124m\"\u001b[39m\u001b[38;5;124mw\u001b[39m\u001b[38;5;124m\"\u001b[39m \u001b[38;5;129;01min\u001b[39;00m mode:\n\u001b[1;32m    116\u001b[0m     \u001b[38;5;28mself\u001b[39m\u001b[38;5;241m.\u001b[39mmakedirs(\u001b[38;5;28mself\u001b[39m\u001b[38;5;241m.\u001b[39m_parent(path), exist_ok\u001b[38;5;241m=\u001b[39m\u001b[38;5;28;01mTrue\u001b[39;00m)\n\u001b[0;32m--> 117\u001b[0m \u001b[38;5;28;01mreturn\u001b[39;00m \u001b[43mLocalFileOpener\u001b[49m\u001b[43m(\u001b[49m\u001b[43mpath\u001b[49m\u001b[43m,\u001b[49m\u001b[43m \u001b[49m\u001b[43mmode\u001b[49m\u001b[43m,\u001b[49m\u001b[43m \u001b[49m\u001b[43mfs\u001b[49m\u001b[38;5;241;43m=\u001b[39;49m\u001b[38;5;28;43mself\u001b[39;49m\u001b[43m,\u001b[49m\u001b[43m \u001b[49m\u001b[38;5;241;43m*\u001b[39;49m\u001b[38;5;241;43m*\u001b[39;49m\u001b[43mkwargs\u001b[49m\u001b[43m)\u001b[49m\n",
      "File \u001b[0;32m/opt/conda/lib/python3.8/site-packages/fsspec/implementations/local.py:199\u001b[0m, in \u001b[0;36mLocalFileOpener.__init__\u001b[0;34m(self, path, mode, autocommit, fs, **kwargs)\u001b[0m\n\u001b[1;32m    197\u001b[0m \u001b[38;5;28mself\u001b[39m\u001b[38;5;241m.\u001b[39mautocommit \u001b[38;5;241m=\u001b[39m autocommit\n\u001b[1;32m    198\u001b[0m \u001b[38;5;28mself\u001b[39m\u001b[38;5;241m.\u001b[39mblocksize \u001b[38;5;241m=\u001b[39m io\u001b[38;5;241m.\u001b[39mDEFAULT_BUFFER_SIZE\n\u001b[0;32m--> 199\u001b[0m \u001b[38;5;28;43mself\u001b[39;49m\u001b[38;5;241;43m.\u001b[39;49m\u001b[43m_open\u001b[49m\u001b[43m(\u001b[49m\u001b[43m)\u001b[49m\n",
      "File \u001b[0;32m/opt/conda/lib/python3.8/site-packages/fsspec/implementations/local.py:204\u001b[0m, in \u001b[0;36mLocalFileOpener._open\u001b[0;34m(self)\u001b[0m\n\u001b[1;32m    202\u001b[0m \u001b[38;5;28;01mif\u001b[39;00m \u001b[38;5;28mself\u001b[39m\u001b[38;5;241m.\u001b[39mf \u001b[38;5;129;01mis\u001b[39;00m \u001b[38;5;28;01mNone\u001b[39;00m \u001b[38;5;129;01mor\u001b[39;00m \u001b[38;5;28mself\u001b[39m\u001b[38;5;241m.\u001b[39mf\u001b[38;5;241m.\u001b[39mclosed:\n\u001b[1;32m    203\u001b[0m     \u001b[38;5;28;01mif\u001b[39;00m \u001b[38;5;28mself\u001b[39m\u001b[38;5;241m.\u001b[39mautocommit \u001b[38;5;129;01mor\u001b[39;00m \u001b[38;5;124m\"\u001b[39m\u001b[38;5;124mw\u001b[39m\u001b[38;5;124m\"\u001b[39m \u001b[38;5;129;01mnot\u001b[39;00m \u001b[38;5;129;01min\u001b[39;00m \u001b[38;5;28mself\u001b[39m\u001b[38;5;241m.\u001b[39mmode:\n\u001b[0;32m--> 204\u001b[0m         \u001b[38;5;28mself\u001b[39m\u001b[38;5;241m.\u001b[39mf \u001b[38;5;241m=\u001b[39m \u001b[38;5;28;43mopen\u001b[39;49m\u001b[43m(\u001b[49m\u001b[38;5;28;43mself\u001b[39;49m\u001b[38;5;241;43m.\u001b[39;49m\u001b[43mpath\u001b[49m\u001b[43m,\u001b[49m\u001b[43m \u001b[49m\u001b[43mmode\u001b[49m\u001b[38;5;241;43m=\u001b[39;49m\u001b[38;5;28;43mself\u001b[39;49m\u001b[38;5;241;43m.\u001b[39;49m\u001b[43mmode\u001b[49m\u001b[43m)\u001b[49m\n\u001b[1;32m    205\u001b[0m     \u001b[38;5;28;01melse\u001b[39;00m:\n\u001b[1;32m    206\u001b[0m         \u001b[38;5;66;03m# TODO: check if path is writable?\u001b[39;00m\n\u001b[1;32m    207\u001b[0m         i, name \u001b[38;5;241m=\u001b[39m tempfile\u001b[38;5;241m.\u001b[39mmkstemp()\n",
      "\u001b[0;31mFileNotFoundError\u001b[0m: [Errno 2] No such file or directory: '/w/hallb-scshelf2102/clas12/users/rojokell/MCLundAnalysis/OutputFiles/Slurm_Spring_24/July_08/Testing/file_*.root'"
     ]
    }
   ],
   "source": [
    "\n",
    "tree_driver = up.open(\"/w/hallb-scshelf2102/clas12/users/rojokell/MCLundAnalysis/Analysis/BoxAffinity/root_files/July_8_100_driver_old_R2_three_files.root:tree_max\")\n",
    "# tree_driver = up.open(\"/w/hallb-scshelf2102/clas12/users/rojokell/MCLundAnalysis/Analysis/BoxAffinity/root_files/July_2_100_driver_new_R2.root:tree_max\")\n",
    "tree_MC = up.open(\"/w/hallb-scshelf2102/clas12/users/rojokell/MCLundAnalysis/OutputFiles/Slurm_Spring_24/July_08/Testing/file_*.root:tree_maxmin\")"
   ]
  },
  {
   "cell_type": "code",
   "execution_count": 4,
   "id": "introductory-hearts",
   "metadata": {},
   "outputs": [],
   "source": [
    "MC_file_dir = \"/w/hallb-scshelf2102/clas12/users/rojokell/MCLundAnalysis/OutputFiles/Slurm_Spring_24/July_08/Testing/\"\n",
    "tree_MC_list = []\n",
    "for name in os.listdir(MC_file_dir):\n",
    "    tree_MC_list.append(up.open(MC_file_dir + name + \":tree_maxmin\"))\n",
    "tree_driver = up.open(\"/w/hallb-scshelf2102/clas12/users/rojokell/MCLundAnalysis/Analysis/BoxAffinity/root_files/July_8_100_driver_old_R2_three_files.root:tree_max\")"
   ]
  },
  {
   "cell_type": "code",
   "execution_count": 5,
   "id": "suburban-district",
   "metadata": {},
   "outputs": [],
   "source": [
    "for i in range(len(tree_MC_list)):\n",
    "    tree_MC = tree_MC_list[i]\n",
    "    if(i == 0):\n",
    "        MC_R0_hist_max = tree_MC[\"R0_max\"].array(library='np')[0]\n",
    "        MC_R1_hist_max = tree_MC[\"R1_max\"].array(library='np')[0]\n",
    "        MC_R2_hist_max = tree_MC[\"R2_max\"].array(library='np')[0]\n",
    "\n",
    "        MC_R0_hist_min = tree_MC[\"R0_min\"].array(library='np')[0]\n",
    "        MC_R1_hist_min = tree_MC[\"R1_min\"].array(library='np')[0]\n",
    "        MC_R2_hist_min = tree_MC[\"R2_min\"].array(library='np')[0]\n",
    "    else:\n",
    "        MC_R0_hist_max = max(MC_R0_hist_max,tree_MC[\"R0_max\"].array(library='np')[0])\n",
    "        MC_R1_hist_max = max(MC_R1_hist_max,tree_MC[\"R1_max\"].array(library='np')[0])\n",
    "        MC_R2_hist_max = max(MC_R2_hist_max,tree_MC[\"R2_max\"].array(library='np')[0])\n",
    "\n",
    "        MC_R0_hist_min = min(MC_R0_hist_min,tree_MC[\"R0_min\"].array(library='np')[0])\n",
    "        MC_R1_hist_min = min(MC_R1_hist_min,tree_MC[\"R1_min\"].array(library='np')[0])\n",
    "        MC_R2_hist_min = min(MC_R2_hist_min,tree_MC[\"R2_min\"].array(library='np')[0])\n",
    "driver_R0_hist_max = tree_driver[\"R0_hist_max\"].array(library='np')[0]\n",
    "driver_R1_hist_max = tree_driver[\"R1_hist_max\"].array(library='np')[0]\n",
    "driver_R2_hist_max = tree_driver[\"R2_hist_max\"].array(library='np')[0]\n",
    "\n",
    "driver_R0_hist_min = tree_driver[\"R0_hist_min\"].array(library='np')[0]\n",
    "driver_R1_hist_min = tree_driver[\"R1_hist_min\"].array(library='np')[0]\n",
    "driver_R2_hist_min = tree_driver[\"R2_hist_min\"].array(library='np')[0]\n",
    "\n"
   ]
  },
  {
   "cell_type": "code",
   "execution_count": 6,
   "id": "signal-business",
   "metadata": {},
   "outputs": [],
   "source": [
    "nBins_MC = 1000\n",
    "nBins_MC_R1 = 10000000\n",
    "# Calculate common bin width\n",
    "binWidth_R0 = MC_R0_hist_max / nBins_MC\n",
    "binWidth_R1 = MC_R1_hist_max / nBins_MC_R1\n",
    "binWidth_R2 = MC_R2_hist_max / nBins_MC\n",
    "\n",
    "nBins_driver_R0 = int(driver_R0_hist_max // binWidth_R0)\n",
    "nBins_driver_R1 = int(driver_R1_hist_max // binWidth_R1)\n",
    "nBins_driver_R2 = int(driver_R2_hist_max // binWidth_R2)"
   ]
  },
  {
   "cell_type": "code",
   "execution_count": 7,
   "id": "square-premises",
   "metadata": {},
   "outputs": [
    {
     "data": {
      "text/plain": [
       "-182019.23195209034"
      ]
     },
     "execution_count": 7,
     "metadata": {},
     "output_type": "execute_result"
    }
   ],
   "source": [
    "MC_R1_hist_min"
   ]
  },
  {
   "cell_type": "code",
   "execution_count": 35,
   "id": "correct-confirmation",
   "metadata": {},
   "outputs": [
    {
     "data": {
      "image/png": "[encoded data removed]",
      "text/plain": [
       "<IPython.core.display.Image object>"
      ]
     },
     "metadata": {},
     "output_type": "display_data"
    }
   ],
   "source": [
    "# Define histograms with common bin width\n",
    "d = driver.Histo1D((\"d\", \"R0 histo ;R0 ;Counts\", nBins_driver_R0, 0, driver_R0_hist_max), \"R0.R0_t\")\n",
    "d1 = driver.Histo1D((\"d1\",\"R1 histo ;R1 ;Counts\",nBins_driver_R1,0,driver_R1_hist_max),\"R1.R1_t\")\n",
    "d2 = driver.Histo1D((\"d2\",\"old R2 histo ;R2 ;Counts\",nBins_driver_R2,0,driver_R2_hist_max),\"R2.R2_t\")\n",
    "\n",
    "\n",
    "calc = MC.Histo1D((\"calc\", \"R0 histo ;R0 ;Counts\", nBins_MC, 0, MC_R0_hist_max), \"R0\")\n",
    "calc1 = MC.Histo1D((\"calc1\",\"R1 histo ;R1 ;Counts\",nBins_MC_R1,0,MC_R1_hist_max),\"R1\")\n",
    "calc2 = MC.Histo1D((\"calc2\",\"old R2 histo;R2 ;Counts\",nBins_MC,0,MC_R2_hist_max),\"R2\")\n",
    "\n",
    "calc_dum = TH1F(\"\",\"\",1,0,1);\n",
    "calc_dum.SetLineColor(2);\n",
    "d_dum = TH1F(\"\",\"\",1,0,1);\n",
    "d_dum.SetLineColor(4);\n",
    "calc.SetLineColor(2)\n",
    "d.SetLineColor(4)\n",
    "calc1.SetLineColor(2)\n",
    "d1.SetLineColor(4)\n",
    "calc2.SetLineColor(2)\n",
    "d2.SetLineColor(4)\n",
    "\n",
    "legend = ROOT.TLegend (0.7 ,0.6 ,0.85 ,0.75)\n",
    "legend.AddEntry(calc_dum, \"MC\" ,\"l\")\n",
    "legend.AddEntry(d_dum, \"Generated\",\"l\" )\n",
    "legend.SetLineWidth(0)\n",
    "\n",
    "calc.GetXaxis().SetRangeUser(0,1.4)\n",
    "calc1.GetXaxis().SetRangeUser(0,3)\n",
    "calc2.GetXaxis().SetRangeUser(0,1.4)\n",
    "d1.GetXaxis().SetRangeUser(0,3)\n",
    "\n",
    "c = TCanvas(\"c\",\"c\")\n",
    "c.Divide(2,2)\n",
    "c.cd(1)\n",
    "calc.Draw(\"histo\")\n",
    "d.Draw(\"same\")\n",
    "legend.Draw(\"same\")\n",
    "c.cd(2)\n",
    "\n",
    "calc1.Draw(\"histo\")\n",
    "d1.Draw(\"same\")\n",
    "\n",
    "legend.Draw(\"same\")\n",
    "c.cd(3)\n",
    "calc2.Draw(\"histo\")\n",
    "d2.Draw(\"same\")\n",
    "legend.Draw(\"same\")\n",
    "c.Draw()\n",
    "c.Print(\"./Histos/Ratios-oldR2.pdf\")"
   ]
  },
  {
   "cell_type": "code",
   "execution_count": 36,
   "id": "hungarian-jamaica",
   "metadata": {},
   "outputs": [
    {
     "data": {
      "image/png": "[encoded data removed]",
      "text/plain": [
       "<IPython.core.display.Image object>"
      ]
     },
     "metadata": {},
     "output_type": "display_data"
    }
   ],
   "source": [
    "d = RDataFrame(\"tree_test\", \"/w/hallb-scshelf2102/clas12/users/rojokell/MCLundAnalysis/OutputFiles/Files_Spring_24/July_2/file_0.root\")\n",
    "#Histogams for plotting R1 values\n",
    "h = d.Histo1D((\"h\",\"M_ki ;M_ki (GeV) ;Counts\",500,-0.1,2),\"M_ki\")\n",
    "h1 = d.Histo1D((\"h1\",\"M_ki ;M_kf (GeV) ;Counts\",50,-1,2),\"M_kf\")\n",
    "h2 = d.Histo1D((\"h2\",\"delta k_T;delta_k_T ;Counts\",500,-1,2),\"delta_k_T\")\n",
    "r = d.Histo1D((\"r\",\";r_M_ki (GeV) ;Counts\",500,-0.1,2),\"r_M_ki\")\n",
    "r1 = d.Histo1D((\"r1\",\";r_M_kf (GeV) ;Counts\",50,-1,2),\"r_M_kf\")\n",
    "r2 = d.Histo1D((\"r2\",\";r_delta_k_T ;Counts\",500,-1,2),\"r_delta_k_T\")\n",
    "# h3 = d.Histo1D((\"h3\",\";ki_y ;Counts\",1000,-5,5),\"ki_y\")\n",
    "# h4 = d.Histo1D((\"h4\",\";ki_z ;Counts\",1000,-5,5),\"ki_z\")\n",
    "# h5 = d.Histo1D((\"h5\",\";kf_x ;Counts\",1000,-5,5),\"kf_x\")\n",
    "# h6 = d.Histo1D((\"h6\",\";kf_y ;Counts\",1000,-5,5),\"kf_y\")\n",
    "# h7 = d.Histo1D((\"h7\",\";kf_z ;Counts\",1000,-5,5),\"kf_z\")\n",
    "\n",
    "h_dum = TH1F(\"\",\"\",1,0,1);\n",
    "h_dum.SetLineColor(2);\n",
    "r_dum = TH1F(\"\",\"\",1,0,1);\n",
    "r_dum.SetLineColor(4);\n",
    "\n",
    "h.SetLineColor(2)\n",
    "r.SetLineColor(4)\n",
    "h1.SetLineColor(2)\n",
    "r1.SetLineColor(4)\n",
    "h2.SetLineColor(2)\n",
    "r2.SetLineColor(4)\n",
    "\n",
    "legend = ROOT.TLegend (0.7 ,0.6 ,0.85 ,0.75)\n",
    "legend.AddEntry(h_dum, \"MC\" ,\"l\")\n",
    "legend.AddEntry(r_dum, \"Generated\",\"l\" )\n",
    "legend.SetLineWidth(0)\n",
    "c = TCanvas(\"c\",\"c\")\n",
    "c.Divide(2,2)\n",
    "c.cd(1)\n",
    "h.Draw(\"histo\")\n",
    "r.Draw(\"same\")\n",
    "legend.Draw(\"same\")\n",
    "c.cd(2)\n",
    "h1.Draw(\"histo\")\n",
    "r1.Draw(\"same\")\n",
    "legend.Draw(\"same\")\n",
    "c.cd(3)\n",
    "h2.Draw(\"histo\")\n",
    "r2.Draw(\"same\")\n",
    "legend.Draw(\"same\")\n",
    "# c.cd(4)\n",
    "# h5.Draw(\"histo\")\n",
    "# c.cd(5)\n",
    "# h3.Draw(\"histo\")\n",
    "# c.cd(6)\n",
    "# h6.Draw(\"histo\")\n",
    "# c.cd(7)\n",
    "# h4.Draw(\"histo\")\n",
    "# c.cd(8)\n",
    "# h7.Draw(\"histo\")\n",
    "c.Draw()\n",
    "c.Print(\"./Histos/partons_July_2.pdf\")"
   ]
  },
  {
   "cell_type": "code",
   "execution_count": null,
   "id": "spiritual-millennium",
   "metadata": {},
   "outputs": [],
   "source": [
    "'''\n",
    "h1 = d.Histo1D((\"h1\",\";R1breit ;Counts\", 1000, -5, 5), \"R1breit\")\n",
    "h2 = d.Histo1D((\"h2\",\";R1lab ;Counts\", 1000, -5, 5), \"R1lab\")\n",
    "h3 = d.Histo1D((\"h3\",\";R1num gN ;Counts\", 1000, -5, 5), \"R1num\")\n",
    "h6 = d.Histo1D((\"h4\",\";R1denom gN ;Counts\", 1000, -5, 5), \"R1denom\")\n",
    "h5 = d.Histo1D((\"h5\",\";R1num lab ;Counts\", 1000, -5, 5), \"R1num_lab\")\n",
    "# h6 = d.Histo1D((\"h6\",\";Mx ;Counts\", 1000, 0, 3), \"Mx\")\n",
    "h8 = d.Histo1D((\"h6\",\";R1denom lab ;Counts\", 1000, -5, 5), \"R1denom_lab\")\n",
    "h4 = d.Histo1D((\"h7\",\";R1num Breit;Counts\", 1000, -5, 5), \"R1num_Breit\")\n",
    "h7 = d.Histo1D((\"h8\",\";R1denom Breit;Counts\", 1000, -5, 5),\"R1denom_Breit\")\n",
    "'''"
   ]
  },
  {
   "cell_type": "code",
   "execution_count": 13,
   "id": "ranking-procurement",
   "metadata": {},
   "outputs": [
    {
     "name": "stdout",
     "output_type": "stream",
     "text": [
      "0.6946000000000012\n"
     ]
    }
   ],
   "source": [
    "e_i_energy = 10.6\n",
    "p_i_energy = 0.9383\n",
    "q_energy = 7.3918\n",
    "e_f_energy = 3.2082\n",
    "k_f_energy = 6.1048\n",
    "diquark_energy = 1.1031\n",
    "initial = e_i_energy + p_i_energy\n",
    "final = e_f_energy + k_f_energy + diquark_energy + 1.8168\n",
    "print(final - initial)"
   ]
  },
  {
   "cell_type": "markdown",
   "id": "natural-anderson",
   "metadata": {},
   "source": [
    "## Particular bins"
   ]
  },
  {
   "cell_type": "markdown",
   "id": "green-above",
   "metadata": {},
   "source": [
    "### Bin 0: high TMD aff\n",
    "### Bin 1: low TMD aff"
   ]
  },
  {
   "cell_type": "code",
   "execution_count": 3,
   "id": "lesbian-deviation",
   "metadata": {},
   "outputs": [],
   "source": [
    "histo_name = [\"high TMD aff bin\", \"low TMD aff bin\"]\n",
    "\n",
    "x_bins = [0.1, 0.06]\n",
    "Q2_bins = [3.5, 1.77]\n",
    "z_bins = [0.725, 0.75]\n",
    "pT_bins = [0.0225, 1.01]\n",
    "expected_TMD_aff = [0.5525, 0.005]\n",
    "\n",
    "x_tol = 0.1\n",
    "z_tol = 0.1\n",
    "pT_tol = 0.1\n",
    "Q2_tol = 1\n",
    "driver_format = \"x.x_t <= {} && x.x_t > {} && z.z_t <= {} && z.z_t > {} && pT.pT_t <= {} && pT.pT_t > {} && Q2.Q2_t <= {} && Q2.Q2_t > {}\"\n",
    "MC_format = \"x <= {} && x > {} && z <= {} && z > {} && pT <= {} && pT > {} && Q2 <= {} && Q2 > {}\""
   ]
  },
  {
   "cell_type": "code",
   "execution_count": 4,
   "id": "regular-travel",
   "metadata": {},
   "outputs": [
    {
     "ename": "NameError",
     "evalue": "name 'nBins_driver_R0' is not defined",
     "output_type": "error",
     "traceback": [
      "\u001b[0;31m---------------------------------------------------------------------------\u001b[0m",
      "\u001b[0;31mNameError\u001b[0m                                 Traceback (most recent call last)",
      "Cell \u001b[0;32mIn[4], line 1\u001b[0m\n\u001b[0;32m----> 1\u001b[0m nBins_driver_R0_binned \u001b[38;5;241m=\u001b[39m \u001b[38;5;28mint\u001b[39m(np\u001b[38;5;241m.\u001b[39mfloor(\u001b[43mnBins_driver_R0\u001b[49m \u001b[38;5;241m/\u001b[39m \u001b[38;5;241m10\u001b[39m)) \n\u001b[1;32m      2\u001b[0m nBins_driver_R1_binned \u001b[38;5;241m=\u001b[39m \u001b[38;5;28mint\u001b[39m(np\u001b[38;5;241m.\u001b[39mfloor(nBins_driver_R1 \u001b[38;5;241m/\u001b[39m \u001b[38;5;241m10\u001b[39m)) \n\u001b[1;32m      3\u001b[0m nBins_driver_R2_binned \u001b[38;5;241m=\u001b[39m \u001b[38;5;28mint\u001b[39m(np\u001b[38;5;241m.\u001b[39mfloor(nBins_driver_R2 \u001b[38;5;241m/\u001b[39m \u001b[38;5;241m10\u001b[39m)) \n",
      "\u001b[0;31mNameError\u001b[0m: name 'nBins_driver_R0' is not defined"
     ]
    }
   ],
   "source": [
    "nBins_driver_R0_binned = int(np.floor(nBins_driver_R0 / 10)) \n",
    "nBins_driver_R1_binned = int(np.floor(nBins_driver_R1 / 10)) \n",
    "nBins_driver_R2_binned = int(np.floor(nBins_driver_R2 / 10)) \n",
    "\n",
    "nBins_MC_binned = int(np.floor(nBins_MC / 10)) \n",
    "nBins_MC_R1_binned = int(np.floor(nBins_MC_R1 / 10)) "
   ]
  },
  {
   "cell_type": "code",
   "execution_count": 47,
   "id": "polar-irrigation",
   "metadata": {},
   "outputs": [
    {
     "data": {
      "image/png": "[encoded data removed]",
      "text/plain": [
       "<IPython.core.display.Image object>"
      ]
     },
     "metadata": {},
     "output_type": "display_data"
    }
   ],
   "source": [
    "driver_frames = []\n",
    "MC_frames = []\n",
    "for i in range(2):\n",
    "    driver_binned = driver.Filter(driver_format.format((x_bins[i] + x_tol),(x_bins[i] - x_tol),(z_bins[i] + z_tol),(z_bins[i] - z_tol),(pT_bins[i] + pT_tol),(pT_bins[i] - pT_tol),(Q2_bins[i] + Q2_tol),(Q2_bins[i] - Q2_tol)))\n",
    "    MC_binned = MC.Filter(MC_format.format((x_bins[i] + x_tol),(x_bins[i] - x_tol),(z_bins[i] + z_tol),(z_bins[i] - z_tol),(pT_bins[i] + pT_tol),(pT_bins[i] - pT_tol),(Q2_bins[i] + Q2_tol),(Q2_bins[i] - Q2_tol)))\n",
    "\n",
    "    # Define histograms with common bin width\n",
    "    d = driver_binned.Histo1D((\"d\", f\"R0 {histo_name[i]} ;R0 ;Counts\", nBins_driver_R0_binned, 0, driver_R0_hist_max), \"R0.R0_t\")\n",
    "    d1 = driver_binned.Histo1D((\"d1\",f\"R1 {histo_name[i]} ;R1 ;Counts\",nBins_driver_R1_binned,0,driver_R1_hist_max),\"R1.R1_t\")\n",
    "    d2 = driver_binned.Histo1D((\"d2\",f\"old R2 {histo_name[i]} ;R2 ;Counts\",nBins_driver_R2_binned,0,driver_R2_hist_max),\"R2.R2_t\")\n",
    "\n",
    "\n",
    "    calc = MC_binned.Histo1D((\"calc\", f\"R0 {histo_name[i]} ;R0 ;Counts\", nBins_MC_binned, 0, MC_R0_hist_max), \"R0\")\n",
    "    calc1 = MC_binned.Histo1D((\"calc1\",f\"R1 {histo_name[i]} ;R1 ;Counts\",nBins_MC_R1_binned,0,MC_R1_hist_max),\"R1\")\n",
    "    calc2 = MC_binned.Histo1D((\"calc2\",f\"old R2 {histo_name[i]};R2 ;Counts\",nBins_MC_binned,0,MC_R2_hist_max),\"R2\")\n",
    "\n",
    "    calc_dum = TH1F(\"\",\"\",1,0,1);\n",
    "    calc_dum.SetLineColor(2);\n",
    "    d_dum = TH1F(\"\",\"\",1,0,1);\n",
    "    d_dum.SetLineColor(4);\n",
    "    calc.SetLineColor(2)\n",
    "    d.SetLineColor(4)\n",
    "    calc1.SetLineColor(2)\n",
    "    d1.SetLineColor(4)\n",
    "    calc2.SetLineColor(2)\n",
    "    d2.SetLineColor(4)\n",
    "\n",
    "    legend = ROOT.TLegend (0.7 ,0.6 ,0.85 ,0.75)\n",
    "    legend.AddEntry(calc_dum, \"MC\" ,\"l\")\n",
    "    legend.AddEntry(d_dum, \"Generated\",\"l\" )\n",
    "    legend.SetLineWidth(0)\n",
    "\n",
    "    calc.GetXaxis().SetRangeUser(0,1.4)\n",
    "    calc1.GetXaxis().SetRangeUser(0,3)\n",
    "    calc2.GetXaxis().SetRangeUser(0,1.4)\n",
    "    d1.GetXaxis().SetRangeUser(0,3)\n",
    "\n",
    "    c = TCanvas(\"c\",\"c\")\n",
    "    c.Divide(2,2)\n",
    "    c.cd(1)\n",
    "    calc.Draw(\"histo\")\n",
    "    d.Draw(\"same\")\n",
    "    legend.Draw(\"same\")\n",
    "    c.cd(2)\n",
    "\n",
    "    calc1.Draw(\"histo\")\n",
    "    d1.Draw(\"same\")\n",
    "\n",
    "    legend.Draw(\"same\")\n",
    "    c.cd(3)\n",
    "    calc2.Draw(\"histo\")\n",
    "    d2.Draw(\"same\")\n",
    "    legend.Draw(\"same\")\n",
    "    c.Draw()\n",
    "    c.Print(f\"./Histos/Ratios/oldR2_bin{i}.pdf\")"
   ]
  },
  {
   "cell_type": "markdown",
   "id": "stock-stake",
   "metadata": {},
   "source": [
    "total events: 923733"
   ]
  },
  {
   "cell_type": "code",
   "execution_count": 55,
   "id": "residential-desktop",
   "metadata": {},
   "outputs": [],
   "source": [
    "MC = RDataFrame(\"tree_MC\", \"/w/hallb-scshelf2102/clas12/users/rojokell/MCLundAnalysis/OutputFiles/Slurm_Spring_24/July_07/Testing_less_data/*.root\")"
   ]
  },
  {
   "cell_type": "code",
   "execution_count": 56,
   "id": "southeast-latex",
   "metadata": {},
   "outputs": [
    {
     "data": {
      "text/plain": [
       "<cppyy.gbl.std.vector<string> object at 0x5576842a1210>"
      ]
     },
     "execution_count": 56,
     "metadata": {},
     "output_type": "execute_result"
    },
    {
     "name": "stderr",
     "output_type": "stream",
     "text": [
      "Error in <TList::Clear>: A list is accessing an object (0x55768a749130) already deleted (list name = TList)\n",
      "Error in <TList::Clear>: A list is accessing an object (0x55768b5bbde0) already deleted (list name = TList)\n",
      "Error in <TList::Clear>: A list is accessing an object (0x557686a7b330) already deleted (list name = TList)\n",
      "Error in <TList::Clear>: A list is accessing an object (0x5576842aff40) already deleted (list name = TList)\n",
      "Error in <TList::Clear>: A list is accessing an object (0x557689f04480) already deleted (list name = TList)\n",
      "Error in <TList::Clear>: A list is accessing an object (0x5576841ee1c0) already deleted (list name = TList)\n",
      "Error in <TList::Clear>: A list is accessing an object (0x557688b2ef00) already deleted (list name = TList)\n",
      "Error in <TList::Clear>: A list is accessing an object (0x5576864b7f00) already deleted (list name = TList)\n",
      "Error in <TList::Clear>: A list is accessing an object (0x55768659de90) already deleted (list name = TList)\n",
      "Error in <TList::Clear>: A list is accessing an object (0x557686a65d50) already deleted (list name = TList)\n",
      "Error in <TList::Clear>: A list is accessing an object (0x5576869c5860) already deleted (list name = TList)\n",
      "Error in <TList::Clear>: A list is accessing an object (0x557688d06c80) already deleted (list name = TList)\n",
      "Error in <TList::Clear>: A list is accessing an object (0x55768ac872d0) already deleted (list name = TList)\n",
      "Error in <TList::Clear>: A list is accessing an object (0x5576842ba680) already deleted (list name = TList)\n",
      "Error in <TList::Clear>: A list is accessing an object (0x55768a4179f0) already deleted (list name = TList)\n",
      "Error in <TList::Clear>: A list is accessing an object (0x5576865c8e90) already deleted (list name = TList)\n",
      "Error in <TList::Clear>: A list is accessing an object (0x55768aca1420) already deleted (list name = TList)\n",
      "Error in <TList::Clear>: A list is accessing an object (0x55768ac70520) already deleted (list name = TList)\n",
      "Error in <TList::Clear>: A list is accessing an object (0x5576842adf80) already deleted (list name = TList)\n",
      "Error in <TList::Clear>: A list is accessing an object (0x557689699bf0) already deleted (list name = TList)\n",
      "Error in <TList::Clear>: A list is accessing an object (0x5576869d6110) already deleted (list name = TList)\n",
      "Error in <TList::Clear>: A list is accessing an object (0x557686a27870) already deleted (list name = TList)\n",
      "Error in <TList::Clear>: A list is accessing an object (0x5576896939f0) already deleted (list name = TList)\n",
      "Error in <TList::Clear>: A list is accessing an object (0x557688cc2de0) already deleted (list name = TList)\n",
      "Error in <TList::Clear>: A list is accessing an object (0x557686a832d0) already deleted (list name = TList)\n",
      "Error in <TList::Clear>: A list is accessing an object (0x557679b1f390) already deleted (list name = TList)\n",
      "Error in <TList::Clear>: A list is accessing an object (0x5576865c6710) already deleted (list name = TList)\n",
      "Error in <TList::Clear>: A list is accessing an object (0x557686552be0) already deleted (list name = TList)\n",
      "Error in <TList::Clear>: A list is accessing an object (0x5576841e5ce0) already deleted (list name = TList)\n",
      "Error in <TList::Clear>: A list is accessing an object (0x55768659c9f0) already deleted (list name = TList)\n"
     ]
    }
   ],
   "source": [
    "MC.GetColumnNames()"
   ]
  },
  {
   "cell_type": "code",
   "execution_count": null,
   "id": "sporting-minutes",
   "metadata": {},
   "outputs": [],
   "source": []
  }
 ],
 "metadata": {
  "kernelspec": {
   "display_name": "Python 3 (ipykernel)",
   "language": "python",
   "name": "python3"
  },
  "language_info": {
   "codemirror_mode": {
    "name": "ipython",
    "version": 3
   },
   "file_extension": ".py",
   "mimetype": "text/x-python",
   "name": "python",
   "nbconvert_exporter": "python",
   "pygments_lexer": "ipython3",
   "version": "3.11.9"
  }
 },
 "nbformat": 4,
 "nbformat_minor": 5
}
