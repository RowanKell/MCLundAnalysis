{
 "cells": [
  {
   "cell_type": "code",
   "execution_count": 4,
   "id": "pending-constant",
   "metadata": {},
   "outputs": [
    {
     "name": "stdout",
     "output_type": "stream",
     "text": [
      "Welcome to JupyROOT 6.22/06\n"
     ]
    }
   ],
   "source": [
    "from ROOT import TFile,TTree,TCanvas,TH1F, gStyle, TLatex, gPad, TLegend, TLorentzVector, TH2F, TLine, TF1, TBox, RDataFrame, TPad, TF2, TStyle\n",
    "import ROOT\n",
    "import numpy as np\n",
    "import awkward as awk\n",
    "import uproot\n",
    "import pandas as pd\n"
   ]
  },
  {
   "cell_type": "code",
   "execution_count": 5,
   "id": "better-emission",
   "metadata": {},
   "outputs": [
    {
     "name": "stdout",
     "output_type": "stream",
     "text": [
      "/w/hallb-scshelf2102/clas12/users/rojokell/MCLundAnalysis\n"
     ]
    }
   ],
   "source": [
    "!pwd"
   ]
  },
  {
   "cell_type": "code",
   "execution_count": 6,
   "id": "working-muscle",
   "metadata": {},
   "outputs": [],
   "source": [
    "gStyle.SetOptStat(0)\n",
    "gStyle.SetHistLineWidth(2)\n",
    "gStyle.SetTitleXSize(0.045)\n",
    "gStyle.SetTitleYSize(0.035)\n",
    "gStyle.SetTitleYOffset(1.55)\n",
    "gStyle.SetPalette(55)\n",
    "gStyle.SetNumberContours(50)\n",
    "\n",
    "latex=TLatex()\n",
    "latex.SetTextSize(0.03)\n",
    "\n",
    "biglatex=TLatex()\n",
    "biglatex.SetTextSize(0.045)\n",
    "\n",
    "smalllatex=TLatex()\n",
    "smalllatex.SetTextSize(0.022)"
   ]
  },
  {
   "cell_type": "code",
   "execution_count": 7,
   "id": "requested-philip",
   "metadata": {},
   "outputs": [],
   "source": [
    "d = RDataFrame(\"tree_MC\",\"~/workdir/MCLundAnalysis/OutputFiles/Lund_7_29/file1.root\")"
   ]
  },
  {
   "cell_type": "code",
   "execution_count": 10,
   "id": "heated-stevens",
   "metadata": {},
   "outputs": [],
   "source": [
    "h = d.Histo1D((\"h\",\";qcount ;Counts\",100,-10,10),\"pzdiff\")"
   ]
  },
  {
   "cell_type": "code",
   "execution_count": 11,
   "id": "nutritional-dubai",
   "metadata": {},
   "outputs": [
    {
     "data": {
      "image/png": "[encoded data removed]",
      "text/plain": [
       "<IPython.core.display.Image object>"
      ]
     },
     "metadata": {},
     "output_type": "display_data"
    }
   ],
   "source": [
    "c = TCanvas(\"c\",\"c\",900,700)\n",
    "h.Draw(\"histo\")\n",
    "c.Draw()"
   ]
  },
  {
   "cell_type": "code",
   "execution_count": 7,
   "id": "blind-bruce",
   "metadata": {},
   "outputs": [
    {
     "name": "stdout",
     "output_type": "stream",
     "text": [
      "'JLab CheatSheet - Copy.md'   OLDLundhistos.ipynb   testfile.root    test.xlsx\n",
      " LundAnalysis.C\t\t      random.ipynb\t    testfiles\n",
      " Lundhistos.ipynb\t      README.md\t\t    TestFunction.C\n"
     ]
    }
   ],
   "source": [
    "!ls "
   ]
  },
  {
   "cell_type": "code",
   "execution_count": 8,
   "id": "nominated-sociology",
   "metadata": {},
   "outputs": [],
   "source": [
    "#Converting root to excel\n",
    "up4_file = uproot.open(\"testfiles/testfile.root\")\n",
    "up4_MC = up4_file[\"tree_MC\"]\n",
    "xarray = up4_MC[\"x\"].array(library=\"np\")\n",
    "zarray = up4_MC[\"z_h\"].array(library=\"np\")\n",
    "ptarray = up4_MC[\"pt\"].array(library=\"np\")\n",
    "Q2array = up4_MC[\"Q2\"].array(library=\"np\")\n",
    "filepath = 'test.xlsx'\n",
    "\n",
    "array = np.stack((xarray,zarray,ptarray,Q2array),axis = 1)\n",
    "df = pd.DataFrame (array)\n",
    "\n",
    "df.to_excel(filepath, index=False)"
   ]
  },
  {
   "cell_type": "code",
   "execution_count": 15,
   "id": "coral-huntington",
   "metadata": {},
   "outputs": [
    {
     "name": "stdout",
     "output_type": "stream",
     "text": [
      "name                 | typename                 | interpretation                \n",
      "---------------------+--------------------------+-------------------------------\n",
      "z_h                  | double                   | AsDtype('>f8')\n",
      "x                    | double                   | AsDtype('>f8')\n",
      "pt                   | double                   | AsDtype('>f8')\n",
      "Q2                   | double                   | AsDtype('>f8')\n",
      "Ph                   | double                   | AsDtype('>f8')\n",
      "P                    | double                   | AsDtype('>f8')\n",
      "Mdihadron            | double                   | AsDtype('>f8')\n",
      "MC92index            | double                   | AsDtype('>f8')\n",
      "R0                   | double                   | AsDtype('>f8')\n",
      "R1                   | double                   | AsDtype('>f8')\n",
      "R2                   | double                   | AsDtype('>f8')\n",
      "kim                  | double                   | AsDtype('>f8')\n",
      "kie                  | double                   | AsDtype('>f8')\n",
      "kip                  | TLorentzVector           | AsStridedObjects(Model_TLor...\n",
      "kfm                  | double                   | AsDtype('>f8')\n",
      "kfe                  | double                   | AsDtype('>f8')\n",
      "kfp                  | TLorentzVector           | AsStridedObjects(Model_TLor...\n",
      "qcount               | int32_t                  | AsDtype('>i4')\n",
      "qparentcount         | double                   | AsDtype('>f8')\n",
      "MC92parent           | double                   | AsDtype('>f8')\n",
      "vquarkindex          | std::vector<float>       | AsJagged(AsDtype('>f4'), he...\n"
     ]
    }
   ],
   "source": [
    "up4_MC.show()"
   ]
  },
  {
   "cell_type": "code",
   "execution_count": null,
   "id": "digital-transmission",
   "metadata": {},
   "outputs": [],
   "source": []
  }
 ],
 "metadata": {
  "kernelspec": {
   "display_name": "Python 3",
   "language": "python",
   "name": "python3"
  },
  "language_info": {
   "codemirror_mode": {
    "name": "ipython",
    "version": 3
   },
   "file_extension": ".py",
   "mimetype": "text/x-python",
   "name": "python",
   "nbconvert_exporter": "python",
   "pygments_lexer": "ipython3",
   "version": "3.8.6"
  }
 },
 "nbformat": 4,
 "nbformat_minor": 5
}
