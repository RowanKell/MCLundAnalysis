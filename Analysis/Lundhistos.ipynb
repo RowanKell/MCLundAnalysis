{
 "cells": [
  {
   "cell_type": "code",
   "execution_count": 2,
   "id": "mounted-montgomery",
   "metadata": {},
   "outputs": [
    {
     "name": "stdout",
     "output_type": "stream",
     "text": [
      "Welcome to JupyROOT 6.22/06\n"
     ]
    }
   ],
   "source": [
    "from ROOT import TFile,TTree,TCanvas,TH1F, gStyle, TLatex, gPad, TLegend, TLorentzVector, TH2F, TLine, TF1, TBox, RDataFrame, TPad, TF2, TStyle\n",
    "import ROOT\n",
    "import numpy as np\n",
    "import awkward as awk\n",
    "import uproot\n",
    "import pandas as pd\n"
   ]
  },
  {
   "cell_type": "code",
   "execution_count": 3,
   "id": "postal-heather",
   "metadata": {},
   "outputs": [
    {
     "name": "stdout",
     "output_type": "stream",
     "text": [
      "/w/hallb-scshelf2102/clas12/users/rojokell/MCLundAnalysis/Analysis\n"
     ]
    }
   ],
   "source": [
    "!pwd"
   ]
  },
  {
   "cell_type": "code",
   "execution_count": 4,
   "id": "duplicate-beijing",
   "metadata": {},
   "outputs": [],
   "source": [
    "gStyle.SetOptStat(0)\n",
    "gStyle.SetHistLineWidth(2)\n",
    "gStyle.SetTitleXSize(0.045)\n",
    "gStyle.SetTitleYSize(0.035)\n",
    "gStyle.SetTitleYOffset(1.55)\n",
    "gStyle.SetPalette(55)\n",
    "gStyle.SetNumberContours(50)\n",
    "\n",
    "latex=TLatex()\n",
    "latex.SetTextSize(0.03)\n",
    "\n",
    "biglatex=TLatex()\n",
    "biglatex.SetTextSize(0.045)\n",
    "\n",
    "smalllatex=TLatex()\n",
    "smalllatex.SetTextSize(0.022)"
   ]
  },
  {
   "cell_type": "code",
   "execution_count": 56,
   "id": "black-fraud",
   "metadata": {},
   "outputs": [],
   "source": [
    "d = RDataFrame(\"tree_MC\",\"~/workdir/MCLundAnalysis/OutputFiles/Lund_8_19/file1.root\")"
   ]
  },
  {
   "cell_type": "code",
   "execution_count": 61,
   "id": "whole-correction",
   "metadata": {},
   "outputs": [],
   "source": [
    "h = d.Histo1D((\"h\",\";kix ;Counts\",100,-1,1),\"PFkix\")"
   ]
  },
  {
   "cell_type": "code",
   "execution_count": 62,
   "id": "front-portfolio",
   "metadata": {},
   "outputs": [
    {
     "data": {
      "image/png": "[encoded data removed]",
      "text/plain": [
       "<IPython.core.display.Image object>"
      ]
     },
     "metadata": {},
     "output_type": "display_data"
    }
   ],
   "source": [
    "c = TCanvas(\"c\",\"c\",900,700)\n",
    "#h.Fit(\"gaus\")\n",
    "h.Draw(\"histo\")\n",
    "c.Draw()"
   ]
  },
  {
   "cell_type": "code",
   "execution_count": 30,
   "id": "threaded-glenn",
   "metadata": {},
   "outputs": [],
   "source": [
    "a = 3.26912 * 10 ** 2\n",
    "b = 2.61037 * 10 ** (-3)\n",
    "c = 3.66979 * 10 ** (-1)\n",
    "e = 2.718281828459045"
   ]
  },
  {
   "cell_type": "code",
   "execution_count": 31,
   "id": "finite-monitor",
   "metadata": {},
   "outputs": [],
   "source": [
    "def func(x):\n",
    "    y = a * (e ** (-((x - b)**2)/(2 * c ** 2)))\n",
    "    return y"
   ]
  },
  {
   "cell_type": "code",
   "execution_count": 32,
   "id": "floating-portfolio",
   "metadata": {},
   "outputs": [],
   "source": [
    "calcarry = np.linspace(-1.4, 1.5, 10729)"
   ]
  },
  {
   "cell_type": "code",
   "execution_count": 33,
   "id": "palestinian-brake",
   "metadata": {},
   "outputs": [],
   "source": [
    "yarray = np.zeros(len(calcarry))\n",
    "for i in range(len(calcarry)):\n",
    "    yarray[i] = func(calcarry[i])"
   ]
  },
  {
   "cell_type": "code",
   "execution_count": 52,
   "id": "criminal-assessment",
   "metadata": {},
   "outputs": [
    {
     "name": "stdout",
     "output_type": "stream",
     "text": [
      "10729\n"
     ]
    }
   ],
   "source": [
    "chiarray = np.zeros(len(yarray))\n",
    "print(len(chiarray))"
   ]
  },
  {
   "cell_type": "code",
   "execution_count": 49,
   "id": "suburban-carol",
   "metadata": {},
   "outputs": [],
   "source": [
    "def chi2(data, _yarray):\n",
    "    for i in range(len(data)):\n",
    "        chiarray[i] = ((data[i] - _yarray[i]) ** 2) / (4)\n",
    "    return chiarray"
   ]
  },
  {
   "cell_type": "code",
   "execution_count": 57,
   "id": "unable-headquarters",
   "metadata": {},
   "outputs": [],
   "source": [
    "for i in range(len(chiarray)):\n",
    "        chiarray[i] = ((npyarray[i] - yarray[i]) ** 2) / (4)"
   ]
  },
  {
   "cell_type": "code",
   "execution_count": 37,
   "id": "focal-affair",
   "metadata": {},
   "outputs": [],
   "source": [
    "npy = d.AsNumpy()"
   ]
  },
  {
   "cell_type": "code",
   "execution_count": 38,
   "id": "coordinate-spread",
   "metadata": {},
   "outputs": [],
   "source": [
    "npyarray = npy[\"PFkix\"]"
   ]
  },
  {
   "cell_type": "code",
   "execution_count": 42,
   "id": "improved-wagner",
   "metadata": {},
   "outputs": [
    {
     "name": "stdout",
     "output_type": "stream",
     "text": [
      "10729\n"
     ]
    }
   ],
   "source": [
    "print(len(npyarray))"
   ]
  },
  {
   "cell_type": "code",
   "execution_count": 43,
   "id": "parental-energy",
   "metadata": {},
   "outputs": [
    {
     "name": "stdout",
     "output_type": "stream",
     "text": [
      "10729\n"
     ]
    }
   ],
   "source": [
    "print(len(yarray))"
   ]
  },
  {
   "cell_type": "code",
   "execution_count": 50,
   "id": "sitting-reflection",
   "metadata": {},
   "outputs": [
    {
     "ename": "TypeError",
     "evalue": "'NoneType' object does not support item assignment",
     "output_type": "error",
     "traceback": [
      "\u001b[0;31m---------------------------------------------------------------------------\u001b[0m",
      "\u001b[0;31mTypeError\u001b[0m                                 Traceback (most recent call last)",
      "\u001b[0;32m<ipython-input-50-cc6108681914>\u001b[0m in \u001b[0;36m<module>\u001b[0;34m\u001b[0m\n\u001b[0;32m----> 1\u001b[0;31m \u001b[0mchiarray\u001b[0m \u001b[0;34m=\u001b[0m \u001b[0mchi2\u001b[0m\u001b[0;34m(\u001b[0m\u001b[0mnpyarray\u001b[0m\u001b[0;34m,\u001b[0m \u001b[0myarray\u001b[0m\u001b[0;34m)\u001b[0m\u001b[0;34m\u001b[0m\u001b[0;34m\u001b[0m\u001b[0m\n\u001b[0m",
      "\u001b[0;32m<ipython-input-49-18e5693df127>\u001b[0m in \u001b[0;36mchi2\u001b[0;34m(data, _yarray)\u001b[0m\n\u001b[1;32m      1\u001b[0m \u001b[0;32mdef\u001b[0m \u001b[0mchi2\u001b[0m\u001b[0;34m(\u001b[0m\u001b[0mdata\u001b[0m\u001b[0;34m,\u001b[0m \u001b[0m_yarray\u001b[0m\u001b[0;34m)\u001b[0m\u001b[0;34m:\u001b[0m\u001b[0;34m\u001b[0m\u001b[0;34m\u001b[0m\u001b[0m\n\u001b[1;32m      2\u001b[0m     \u001b[0;32mfor\u001b[0m \u001b[0mi\u001b[0m \u001b[0;32min\u001b[0m \u001b[0mrange\u001b[0m\u001b[0;34m(\u001b[0m\u001b[0mlen\u001b[0m\u001b[0;34m(\u001b[0m\u001b[0mdata\u001b[0m\u001b[0;34m)\u001b[0m\u001b[0;34m)\u001b[0m\u001b[0;34m:\u001b[0m\u001b[0;34m\u001b[0m\u001b[0;34m\u001b[0m\u001b[0m\n\u001b[0;32m----> 3\u001b[0;31m         \u001b[0mchiarray\u001b[0m\u001b[0;34m[\u001b[0m\u001b[0mi\u001b[0m\u001b[0;34m]\u001b[0m \u001b[0;34m=\u001b[0m \u001b[0;34m(\u001b[0m\u001b[0;34m(\u001b[0m\u001b[0mdata\u001b[0m\u001b[0;34m[\u001b[0m\u001b[0mi\u001b[0m\u001b[0;34m]\u001b[0m \u001b[0;34m-\u001b[0m \u001b[0m_yarray\u001b[0m\u001b[0;34m[\u001b[0m\u001b[0mi\u001b[0m\u001b[0;34m]\u001b[0m\u001b[0;34m)\u001b[0m \u001b[0;34m**\u001b[0m \u001b[0;36m2\u001b[0m\u001b[0;34m)\u001b[0m \u001b[0;34m/\u001b[0m \u001b[0;34m(\u001b[0m\u001b[0m_yarray\u001b[0m\u001b[0;34m[\u001b[0m\u001b[0mi\u001b[0m\u001b[0;34m]\u001b[0m\u001b[0;34m)\u001b[0m\u001b[0;34m\u001b[0m\u001b[0;34m\u001b[0m\u001b[0m\n\u001b[0m\u001b[1;32m      4\u001b[0m     \u001b[0;32mreturn\u001b[0m \u001b[0mchiarray\u001b[0m\u001b[0;34m\u001b[0m\u001b[0;34m\u001b[0m\u001b[0m\n",
      "\u001b[0;31mTypeError\u001b[0m: 'NoneType' object does not support item assignment"
     ]
    }
   ],
   "source": [
    "chiarray = chi2(npyarray, yarray)"
   ]
  },
  {
   "cell_type": "code",
   "execution_count": 48,
   "id": "sophisticated-eclipse",
   "metadata": {},
   "outputs": [
    {
     "name": "stdout",
     "output_type": "stream",
     "text": [
      "None\n"
     ]
    }
   ],
   "source": [
    "print(chiarray)"
   ]
  },
  {
   "cell_type": "code",
   "execution_count": 58,
   "id": "dense-while",
   "metadata": {},
   "outputs": [],
   "source": [
    "chi2val = np.sum(chiarray)"
   ]
  },
  {
   "cell_type": "code",
   "execution_count": 59,
   "id": "reduced-advertising",
   "metadata": {},
   "outputs": [
    {
     "name": "stdout",
     "output_type": "stream",
     "text": [
      "64286321.2195673\n"
     ]
    }
   ],
   "source": [
    "print(chi2val)"
   ]
  },
  {
   "cell_type": "code",
   "execution_count": 8,
   "id": "concerned-understanding",
   "metadata": {},
   "outputs": [],
   "source": [
    "#Converting root to excel\n",
    "up4_file = uproot.open(\"testfiles/testfile.root\")\n",
    "up4_MC = up4_file[\"tree_MC\"]\n",
    "xarray = up4_MC[\"x\"].array(library=\"np\")\n",
    "zarray = up4_MC[\"z_h\"].array(library=\"np\")\n",
    "ptarray = up4_MC[\"pt\"].array(library=\"np\")\n",
    "Q2array = up4_MC[\"Q2\"].array(library=\"np\")\n",
    "filepath = 'test.xlsx'\n",
    "\n",
    "array = np.stack((xarray,zarray,ptarray,Q2array),axis = 1)\n",
    "df = pd.DataFrame (array)\n",
    "\n",
    "df.to_excel(filepath, index=False)"
   ]
  },
  {
   "cell_type": "code",
   "execution_count": 15,
   "id": "governing-webcam",
   "metadata": {},
   "outputs": [
    {
     "name": "stdout",
     "output_type": "stream",
     "text": [
      "name                 | typename                 | interpretation                \n",
      "---------------------+--------------------------+-------------------------------\n",
      "z_h                  | double                   | AsDtype('>f8')\n",
      "x                    | double                   | AsDtype('>f8')\n",
      "pt                   | double                   | AsDtype('>f8')\n",
      "Q2                   | double                   | AsDtype('>f8')\n",
      "Ph                   | double                   | AsDtype('>f8')\n",
      "P                    | double                   | AsDtype('>f8')\n",
      "Mdihadron            | double                   | AsDtype('>f8')\n",
      "MC92index            | double                   | AsDtype('>f8')\n",
      "R0                   | double                   | AsDtype('>f8')\n",
      "R1                   | double                   | AsDtype('>f8')\n",
      "R2                   | double                   | AsDtype('>f8')\n",
      "kim                  | double                   | AsDtype('>f8')\n",
      "kie                  | double                   | AsDtype('>f8')\n",
      "kip                  | TLorentzVector           | AsStridedObjects(Model_TLor...\n",
      "kfm                  | double                   | AsDtype('>f8')\n",
      "kfe                  | double                   | AsDtype('>f8')\n",
      "kfp                  | TLorentzVector           | AsStridedObjects(Model_TLor...\n",
      "qcount               | int32_t                  | AsDtype('>i4')\n",
      "qparentcount         | double                   | AsDtype('>f8')\n",
      "MC92parent           | double                   | AsDtype('>f8')\n",
      "vquarkindex          | std::vector<float>       | AsJagged(AsDtype('>f4'), he...\n"
     ]
    }
   ],
   "source": [
    "up4_MC.show()"
   ]
  },
  {
   "cell_type": "code",
   "execution_count": 28,
   "id": "downtown-vehicle",
   "metadata": {},
   "outputs": [],
   "source": [
    "import numpy as np\n",
    "x = np.array([0,0,1,2,2,3,4,5,5,6,6,6,6,6,6,7,7,7,8,8])"
   ]
  },
  {
   "cell_type": "code",
   "execution_count": null,
   "id": "combined-aruba",
   "metadata": {},
   "outputs": [],
   "source": [
    "TH1F *h1 = new TH1F(\"h1\",\"h1 title\", 10,0,10);"
   ]
  }
 ],
 "metadata": {
  "kernelspec": {
   "display_name": "Python 3",
   "language": "python",
   "name": "python3"
  },
  "language_info": {
   "codemirror_mode": {
    "name": "ipython",
    "version": 3
   },
   "file_extension": ".py",
   "mimetype": "text/x-python",
   "name": "python",
   "nbconvert_exporter": "python",
   "pygments_lexer": "ipython3",
   "version": "3.8.6"
  }
 },
 "nbformat": 4,
 "nbformat_minor": 5
}
