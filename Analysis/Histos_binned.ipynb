{
 "cells": [
  {
   "cell_type": "code",
   "execution_count": 2,
   "id": "compatible-offering",
   "metadata": {},
   "outputs": [],
   "source": [
    "from ROOT import TFile,TTree,TCanvas,TH1F, gStyle, TLatex, gPad, TLegend, TLorentzVector, TH2F, TLine, TF1, TBox, RDataFrame, TPad, TF2, TStyle, THStack\n",
    "import ROOT\n",
    "import numpy as np\n",
    "import awkward as awk\n",
    "import uproot as up\n",
    "import pandas as pd\n",
    "import os"
   ]
  },
  {
   "cell_type": "markdown",
   "id": "material-discrimination",
   "metadata": {},
   "source": [
    "$k_i = k_f - q$"
   ]
  },
  {
   "cell_type": "code",
   "execution_count": 3,
   "id": "responsible-cartoon",
   "metadata": {},
   "outputs": [],
   "source": [
    "# file_dir = \"/w/hallb-scshelf2102/clas12/users/rojokell/MCLundAnalysis/OutputFiles/Slurm_Spring_24/July_09/Run_1_single_pion/\"\n",
    "file_dir = \"/w/hallb-scshelf2102/clas12/users/rojokell/MCLundAnalysis/OutputFiles/Files_Spring_24/July_15/\"\n",
    "num_files = len([name for name in os.listdir(file_dir) if not os.path.isdir(name)])\n",
    "file_names = [(file_dir + name) for name in os.listdir(file_dir) if not os.path.isdir(name)]\n",
    "# file_names = file_names[:6]"
   ]
  },
  {
   "cell_type": "code",
   "execution_count": 4,
   "id": "brief-devon",
   "metadata": {},
   "outputs": [],
   "source": [
    "MC_low = RDataFrame(\"tree_low\", file_names)\n",
    "# MC_high = RDataFrame(\"tree_high\", \"/w/hallb-scshelf2102/clas12/users/rojokell/MCLundAnalysis/OutputFiles/Slurm_Spring_24/July_09/Run_1_single_pion/*.root\")\n",
    "MC_high = RDataFrame(\"tree_high\", \"/w/hallb-scshelf2102/clas12/users/rojokell/MCLundAnalysis/OutputFiles/Files_Spring_24/July_15/*.root\")\n",
    "driver_high = RDataFrame(\"tree_driver\", \"/w/hallb-scshelf2102/clas12/users/rojokell/MCLundAnalysis/Analysis/BoxAffinity/root_files/July_9_new_R2_driver_all_files_high.root\")\n",
    "driver_low = RDataFrame(\"tree_driver\", \"/w/hallb-scshelf2102/clas12/users/rojokell/MCLundAnalysis/Analysis/BoxAffinity/root_files/July_9_new_R2_driver_6_files_low.root\")"
   ]
  },
  {
   "cell_type": "code",
   "execution_count": 5,
   "id": "duplicate-repeat",
   "metadata": {},
   "outputs": [],
   "source": [
    "MC_file_dir = \"/w/hallb-scshelf2102/clas12/users/rojokell/MCLundAnalysis/OutputFiles/Slurm_Spring_24/July_09/Run_1_single_pion/\"\n",
    "tree_MC_list = []\n",
    "for name in os.listdir(MC_file_dir):\n",
    "    tree_MC_list.append(up.open(MC_file_dir + name + \":tree_maxmin\"))\n",
    "tree_driver = up.open(\"/w/hallb-scshelf2102/clas12/users/rojokell/MCLundAnalysis/Analysis/BoxAffinity/root_files/July_9_new_R2_driver_all_files_high.root:tree_max\")"
   ]
  },
  {
   "cell_type": "code",
   "execution_count": 6,
   "id": "approved-batch",
   "metadata": {},
   "outputs": [],
   "source": [
    "for i in range(len(tree_MC_list)):\n",
    "    tree_MC = tree_MC_list[i]\n",
    "    if(i == 0):\n",
    "        MC_R0_hist_max = tree_MC[\"R0_max\"].array(library='np')[0]\n",
    "        MC_R1_hist_max = tree_MC[\"R1_max\"].array(library='np')[0]\n",
    "        MC_R2_hist_max = tree_MC[\"R2_max\"].array(library='np')[0]\n",
    "\n",
    "        MC_R0_hist_min = tree_MC[\"R0_min\"].array(library='np')[0]\n",
    "        MC_R1_hist_min = tree_MC[\"R1_min\"].array(library='np')[0]\n",
    "        MC_R2_hist_min = tree_MC[\"R2_min\"].array(library='np')[0]\n",
    "    else:\n",
    "        MC_R0_hist_max = max(MC_R0_hist_max,tree_MC[\"R0_max\"].array(library='np')[0])\n",
    "        MC_R1_hist_max = max(MC_R1_hist_max,tree_MC[\"R1_max\"].array(library='np')[0])\n",
    "        MC_R2_hist_max = max(MC_R2_hist_max,tree_MC[\"R2_max\"].array(library='np')[0])\n",
    "\n",
    "        MC_R0_hist_min = min(MC_R0_hist_min,tree_MC[\"R0_min\"].array(library='np')[0])\n",
    "        MC_R1_hist_min = min(MC_R1_hist_min,tree_MC[\"R1_min\"].array(library='np')[0])\n",
    "        MC_R2_hist_min = min(MC_R2_hist_min,tree_MC[\"R2_min\"].array(library='np')[0])\n",
    "driver_R0_hist_max = tree_driver[\"R0_hist_max\"].array(library='np')[0]\n",
    "driver_R1_hist_max = tree_driver[\"R1_hist_max\"].array(library='np')[0]\n",
    "driver_R2_hist_max = tree_driver[\"R2_hist_max\"].array(library='np')[0]\n",
    "\n",
    "driver_R0_hist_min = tree_driver[\"R0_hist_min\"].array(library='np')[0]\n",
    "driver_R1_hist_min = tree_driver[\"R1_hist_min\"].array(library='np')[0]\n",
    "driver_R2_hist_min = tree_driver[\"R2_hist_min\"].array(library='np')[0]\n",
    "\n"
   ]
  },
  {
   "cell_type": "code",
   "execution_count": 7,
   "id": "exterior-termination",
   "metadata": {},
   "outputs": [],
   "source": [
    "nBins_MC = 1000\n",
    "nBins_MC_R1 = 10000000\n",
    "# Calculate common bin width\n",
    "binWidth_R0 = MC_R0_hist_max / nBins_MC\n",
    "binWidth_R1 = MC_R1_hist_max / nBins_MC_R1\n",
    "binWidth_R2 = MC_R2_hist_max / nBins_MC\n",
    "\n",
    "nBins_driver_R0 = int(driver_R0_hist_max // binWidth_R0)\n",
    "nBins_driver_R1 = int(driver_R1_hist_max // binWidth_R1)\n",
    "nBins_driver_R2 = int(driver_R2_hist_max // binWidth_R2)"
   ]
  },
  {
   "cell_type": "markdown",
   "id": "deadly-newfoundland",
   "metadata": {},
   "source": [
    "## Particular bins"
   ]
  },
  {
   "cell_type": "markdown",
   "id": "interim-breath",
   "metadata": {},
   "source": [
    "### Bin 0: high TMD aff\n",
    "### Bin 1: low TMD aff"
   ]
  },
  {
   "cell_type": "code",
   "execution_count": 8,
   "id": "located-authorization",
   "metadata": {},
   "outputs": [],
   "source": [
    "histo_name = [\"high TMD aff bin\", \"low TMD aff bin\"]\n",
    "\n",
    "#histo limits\n",
    "R0_lim = [1,1.8]\n",
    "R1_lim = [1.5,3.5]\n",
    "R2_lim = [1,3]\n",
    "\n",
    "x_bins = [0.1, 0.06]\n",
    "Q2_bins = [3.5, 1.77]\n",
    "z_bins = [0.725, 0.75]\n",
    "pT_bins = [0.0225, 1.01]\n",
    "expected_TMD_aff = [0.5525, 0.005]\n",
    "\n",
    "# x_tol = [0.03, 0.01]\n",
    "# z_tol = [0.1, 0.1]\n",
    "# pT_tol = [0.01, 0.1]\n",
    "# Q2_tol = [0.5, 0.4]\n",
    "\n",
    "x_tol = [1, 1]\n",
    "z_tol = [1, 1]\n",
    "pT_tol = [1, 1]\n",
    "Q2_tol = [1, 1]\n",
    "driver_format = \"x.x_t <= {} && x.x_t > {} && z.z_t <= {} && z.z_t > {} && pT.pT_t <= {} && pT.pT_t > {} && Q2.Q2_t <= {} && Q2.Q2_t > {}\"\n",
    "MC_format = \"x <= {} && x > {} && z <= {} && z > {} && pT <= {} && pT > {} && Q2 <= {} && Q2 > {}\""
   ]
  },
  {
   "cell_type": "code",
   "execution_count": 9,
   "id": "valid-occasions",
   "metadata": {},
   "outputs": [],
   "source": [
    "nBins_driver_R0_binned = int(np.floor(nBins_driver_R0 / 10)) \n",
    "nBins_driver_R1_binned = int(np.floor(nBins_driver_R1 / 10)) \n",
    "nBins_driver_R2_binned = int(np.floor(nBins_driver_R2 / 10)) \n",
    "\n",
    "nBins_MC_binned = int(np.floor(nBins_MC / 10)) \n",
    "nBins_MC_R1_binned = int(np.floor(nBins_MC_R1 / 10)) "
   ]
  },
  {
   "cell_type": "code",
   "execution_count": null,
   "id": "positive-scheduling",
   "metadata": {},
   "outputs": [],
   "source": [
    "driver_frames = []\n",
    "MC_frames = []\n",
    "for i in range(2):\n",
    "    if(i == 0):\n",
    "        MC_use = MC_high\n",
    "        driver_use = driver_high\n",
    "    else:\n",
    "        MC_use = MC_low\n",
    "        driver_use = driver_low\n",
    "    driver_binned = driver_use.Filter(\"R0.R0_t > 0 && R0.R0_t < 5\").Filter(\"R1.R1_t > 0 && R1.R1_t < 5\").Filter(\"R2.R2_t > 0 && R2.R2_t < 5\")\n",
    "    MC_binned = MC_use.Filter(\"R0 > 0 && R0 < 5\").Filter(\"R1 > 0 && R1 < 5\").Filter(\"R2_adjust > 0 && R2_adjust < 5\")\n",
    "#     driver_binned = driver_binned.Filter(driver_format.format((x_bins[i] + x_tol[i]),(x_bins[i] - x_tol[i]),(z_bins[i] + z_tol[i]),(z_bins[i] - z_tol[i]),(pT_bins[i] + pT_tol[i]),(pT_bins[i] - pT_tol[i]),(Q2_bins[i] + Q2_tol[i]),(Q2_bins[i] - Q2_tol[i])))\n",
    "#     MC_binned = MC_binned.Filter(MC_format.format((x_bins[i] + x_tol[i]),(x_bins[i] - x_tol[i]),(z_bins[i] + z_tol[i]),(z_bins[i] - z_tol[i]),(pT_bins[i] + pT_tol[i]),(pT_bins[i] - pT_tol[i]),(Q2_bins[i] + Q2_tol[i]),(Q2_bins[i] - Q2_tol[i])))\n",
    "    driver_count = driver_use.Count().GetValue()\n",
    "    MC_count = MC_use.Count().GetValue()\n",
    "    \n",
    "    n_bins_driver = 100\n",
    "    bin_weight_driver = driver_count / n_bins_driver\n",
    "    n_bins_MC = int(round(MC_count / bin_weight_driver))\n",
    "    print(f\"num bins MC: {n_bins_MC}\")\n",
    "    \n",
    "    # Define histograms with common bin width\n",
    "    d = driver_binned.Histo1D((\"d\", f\"R0 {histo_name[i]} ;R0 ;Counts\", n_bins_driver, 0, R0_lim[i]), \"R0.R0_t\")\n",
    "    d1 = driver_binned.Histo1D((\"d1\",f\"R1 {histo_name[i]} ;R1 ;Counts\",n_bins_driver,0,R1_lim[i]),\"R1.R1_t\")\n",
    "    d2 = driver_binned.Histo1D((\"d2\",f\"new R2 {histo_name[i]} ;R2 ;Counts\",n_bins_driver,0,R2_lim[i]),\"R2.R2_t\")\n",
    "\n",
    "\n",
    "    calc = MC_binned.Histo1D((\"calc\", f\"R0 {histo_name[i]} ;R0 ;Counts\", n_bins_MC, 0, R0_lim[i]), \"R0\")\n",
    "    calc1 = MC_binned.Histo1D((\"calc1\",f\"R1 {histo_name[i]} ;R1 ;Counts\",n_bins_MC,0,R1_lim[i]),\"R1\")\n",
    "    calc2 = MC_binned.Histo1D((\"calc2\",f\"new R2 {histo_name[i]};R2_adjust ;Counts\",n_bins_MC,0,R2_lim[i]),\"R2_adjust\")\n",
    "\n",
    "    calc_dum = TH1F(\"\",\"\",1,0,1);\n",
    "    calc_dum.SetLineColor(2);\n",
    "    d_dum = TH1F(\"\",\"\",1,0,1);\n",
    "    d_dum.SetLineColor(4);\n",
    "    calc.SetLineColor(2)\n",
    "    d.SetLineColor(4)\n",
    "    calc1.SetLineColor(2)\n",
    "    d1.SetLineColor(4)\n",
    "    calc2.SetLineColor(2)\n",
    "    d2.SetLineColor(4)\n",
    "\n",
    "    legend = ROOT.TLegend (0.7 ,0.6 ,0.85 ,0.75)\n",
    "    legend.AddEntry(calc_dum, \"MC\" ,\"l\")\n",
    "    legend.AddEntry(d_dum, \"Generated\",\"l\" )\n",
    "    legend.SetLineWidth(0)\n",
    "\n",
    "#     calc.GetXaxis().SetRangeUser(0,1.4)\n",
    "#     calc1.GetXaxis().SetRangeUser(0,3)\n",
    "#     calc2.GetXaxis().SetRangeUser(0,1.4)\n",
    "#     d1.GetXaxis().SetRangeUser(0,3)\n",
    "#     calc.GetYaxis().SetRangeUser(0,100000)\n",
    "#     calc1.GetYaxis().SetRangeUser(0,100000)\n",
    "#     calc2.GetYaxis().SetRangeUser(0,100000)\n",
    "\n",
    "    if(i == 0):\n",
    "        c = TCanvas(\"c\",\"c\")\n",
    "        c.Divide(2,2)\n",
    "        c.cd(1)\n",
    "        calc.Draw(\"histo\")\n",
    "        d.Draw(\"same\")\n",
    "        legend.Draw(\"same\")\n",
    "        c.cd(2)\n",
    "\n",
    "        calc1.Draw(\"histo\")\n",
    "        d1.Draw(\"same\")\n",
    "\n",
    "        legend.Draw(\"same\")\n",
    "        c.cd(3)\n",
    "        d2.Draw(\"histo\")\n",
    "        calc2.Draw(\"same\")\n",
    "        legend.Draw(\"same\")\n",
    "    else:\n",
    "        c = TCanvas(\"c\",\"c\")\n",
    "        c.Divide(2,2)\n",
    "        c.cd(1)\n",
    "        d.Draw(\"histo\")\n",
    "        calc.Draw(\"same\")\n",
    "        legend.Draw(\"same\")\n",
    "        c.cd(2)\n",
    "\n",
    "        d1.Draw(\"histo\")\n",
    "        calc1.Draw(\"same\")\n",
    "\n",
    "        legend.Draw(\"same\")\n",
    "        c.cd(3)\n",
    "        d2.Draw(\"histo\")\n",
    "        calc2.Draw(\"same\")\n",
    "        legend.Draw(\"same\")\n",
    "    c.Draw()\n",
    "#     c.Print(f\"./Histos/Ratios/newR2_bin{i}_no_kin_cut.pdf\")"
   ]
  },
  {
   "cell_type": "markdown",
   "id": "noted-alberta",
   "metadata": {},
   "source": [
    "total events: 923733"
   ]
  },
  {
   "cell_type": "code",
   "execution_count": null,
   "id": "engaged-pocket",
   "metadata": {},
   "outputs": [],
   "source": [
    "dir(tabs)"
   ]
  },
  {
   "cell_type": "code",
   "execution_count": 18,
   "id": "adverse-newcastle",
   "metadata": {},
   "outputs": [
    {
     "name": "stderr",
     "output_type": "stream",
     "text": [
      "Error in <THashList::Delete>: A list is accessing an object (0x5607a79003f0) already deleted (list name = THashList)\n"
     ]
    },
    {
     "data": {
      "image/png": "[encoded data removed]",
      "text/plain": [
       "<IPython.core.display.Image object>"
      ]
     },
     "metadata": {},
     "output_type": "display_data"
    }
   ],
   "source": [
    "c = TCanvas(\"c\",\"c\", 1200, 400)\n",
    "c.Divide(3,1)\n",
    "MC = RDataFrame(\"tree_low\", \"/w/hallb-scshelf2102/clas12/users/rojokell/MCLundAnalysis/OutputFiles/Files_Spring_24/July_15/low_high.root\")\n",
    "R0 = MC.Histo1D((\"d\", \"R0  ;R0 ;Counts\", 100, 0, 1.5), \"R0\")\n",
    "R1 = MC.Histo1D((\"d\", \"R1  ;R1 ;Counts\", 100, 0, 1.5), \"R1\")\n",
    "R2 = MC.Histo1D((\"d\", \"R2  ;R2 ;Counts\", 100, 0, 1.5), \"R2\")\n",
    "c.cd(1)\n",
    "R0.Draw()\n",
    "c.cd(2)\n",
    "R1.Draw()\n",
    "c.cd(3)\n",
    "R2.Draw()\n",
    "c.Draw()\n"
   ]
  },
  {
   "cell_type": "code",
   "execution_count": 20,
   "id": "prescription-representative",
   "metadata": {},
   "outputs": [
    {
     "name": "stderr",
     "output_type": "stream",
     "text": [
      "Error in <THashList::Delete>: A list is accessing an object (0x5607a567dc10) already deleted (list name = THashList)\n"
     ]
    },
    {
     "data": {
      "image/png": "[encoded data removed]",
      "text/plain": [
       "<IPython.core.display.Image object>"
      ]
     },
     "metadata": {},
     "output_type": "display_data"
    }
   ],
   "source": [
    "c = TCanvas(\"c\",\"c\", 1200, 400)\n",
    "c.Divide(3,1)\n",
    "MC = RDataFrame(\"tree_high\", \"/w/hallb-scshelf2102/clas12/users/rojokell/MCLundAnalysis/OutputFiles/Files_Spring_24/July_15/low_high_run_2.root\")\n",
    "R0 = MC.Histo1D((\"d\", \"R0  ;R0 ;Counts\", 100, 0, 1.5), \"R0\")\n",
    "R1 = MC.Histo1D((\"d\", \"R1  ;R1 ;Counts\", 100, 0, 1.5), \"R1\")\n",
    "R2 = MC.Histo1D((\"d\", \"R2  ;R2 ;Counts\", 100, 0, 1.5), \"R2\")\n",
    "c.cd(1)\n",
    "R0.Draw()\n",
    "c.cd(2)\n",
    "R1.Draw()\n",
    "c.cd(3)\n",
    "R2.Draw()\n",
    "c.Draw()\n"
   ]
  },
  {
   "cell_type": "code",
   "execution_count": null,
   "id": "tender-imperial",
   "metadata": {},
   "outputs": [],
   "source": []
  }
 ],
 "metadata": {
  "kernelspec": {
   "display_name": "Python 3 (ipykernel)",
   "language": "python",
   "name": "python3"
  },
  "language_info": {
   "codemirror_mode": {
    "name": "ipython",
    "version": 3
   },
   "file_extension": ".py",
   "mimetype": "text/x-python",
   "name": "python",
   "nbconvert_exporter": "python",
   "pygments_lexer": "ipython3",
   "version": "3.8.6"
  }
 },
 "nbformat": 4,
 "nbformat_minor": 5
}
