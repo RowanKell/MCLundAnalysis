{
 "cells": [
  {
   "cell_type": "code",
   "execution_count": 6,
   "id": "right-louisiana",
   "metadata": {},
   "outputs": [],
   "source": [
    "from ROOT import TFile,TTree,TCanvas,TH1F, gStyle, TLatex, gPad, TLegend, TLorentzVector, TH2F, TLine, TF1, TBox, RDataFrame, TPad, TF2, TStyle, THStack\n",
    "import ROOT\n",
    "import numpy as np\n",
    "import awkward as awk\n",
    "import uproot as up\n",
    "import pandas as pd\n",
    "import os"
   ]
  },
  {
   "cell_type": "markdown",
   "id": "thermal-belarus",
   "metadata": {},
   "source": [
    "$k_i = k_f - q$"
   ]
  },
  {
   "cell_type": "code",
   "execution_count": 7,
   "id": "complex-tribune",
   "metadata": {},
   "outputs": [],
   "source": [
    "MC = RDataFrame(\"tree_MC\", \"/w/hallb-scshelf2102/clas12/users/rojokell/MCLundAnalysis/OutputFiles/Slurm_Spring_24/July_08/Testing/file_*.root\")\n",
    "driver = RDataFrame(\"tree_driver\", \"/w/hallb-scshelf2102/clas12/users/rojokell/MCLundAnalysis/Analysis/BoxAffinity/root_files/July_8_100_driver_old_R2_three_files.root\")"
   ]
  },
  {
   "cell_type": "code",
   "execution_count": 9,
   "id": "immune-hughes",
   "metadata": {},
   "outputs": [],
   "source": [
    "MC_file_dir = \"/w/hallb-scshelf2102/clas12/users/rojokell/MCLundAnalysis/OutputFiles/Slurm_Spring_24/July_08/Testing/\"\n",
    "tree_MC_list = []\n",
    "for name in os.listdir(MC_file_dir):\n",
    "    tree_MC_list.append(up.open(MC_file_dir + name + \":tree_maxmin\"))\n",
    "tree_driver = up.open(\"/w/hallb-scshelf2102/clas12/users/rojokell/MCLundAnalysis/Analysis/BoxAffinity/root_files/July_8_100_driver_old_R2_three_files.root:tree_max\")"
   ]
  },
  {
   "cell_type": "code",
   "execution_count": 10,
   "id": "freelance-hormone",
   "metadata": {},
   "outputs": [],
   "source": [
    "for i in range(len(tree_MC_list)):\n",
    "    tree_MC = tree_MC_list[i]\n",
    "    if(i == 0):\n",
    "        MC_R0_hist_max = tree_MC[\"R0_max\"].array(library='np')[0]\n",
    "        MC_R1_hist_max = tree_MC[\"R1_max\"].array(library='np')[0]\n",
    "        MC_R2_hist_max = tree_MC[\"R2_max\"].array(library='np')[0]\n",
    "\n",
    "        MC_R0_hist_min = tree_MC[\"R0_min\"].array(library='np')[0]\n",
    "        MC_R1_hist_min = tree_MC[\"R1_min\"].array(library='np')[0]\n",
    "        MC_R2_hist_min = tree_MC[\"R2_min\"].array(library='np')[0]\n",
    "    else:\n",
    "        MC_R0_hist_max = max(MC_R0_hist_max,tree_MC[\"R0_max\"].array(library='np')[0])\n",
    "        MC_R1_hist_max = max(MC_R1_hist_max,tree_MC[\"R1_max\"].array(library='np')[0])\n",
    "        MC_R2_hist_max = max(MC_R2_hist_max,tree_MC[\"R2_max\"].array(library='np')[0])\n",
    "\n",
    "        MC_R0_hist_min = min(MC_R0_hist_min,tree_MC[\"R0_min\"].array(library='np')[0])\n",
    "        MC_R1_hist_min = min(MC_R1_hist_min,tree_MC[\"R1_min\"].array(library='np')[0])\n",
    "        MC_R2_hist_min = min(MC_R2_hist_min,tree_MC[\"R2_min\"].array(library='np')[0])\n",
    "driver_R0_hist_max = tree_driver[\"R0_hist_max\"].array(library='np')[0]\n",
    "driver_R1_hist_max = tree_driver[\"R1_hist_max\"].array(library='np')[0]\n",
    "driver_R2_hist_max = tree_driver[\"R2_hist_max\"].array(library='np')[0]\n",
    "\n",
    "driver_R0_hist_min = tree_driver[\"R0_hist_min\"].array(library='np')[0]\n",
    "driver_R1_hist_min = tree_driver[\"R1_hist_min\"].array(library='np')[0]\n",
    "driver_R2_hist_min = tree_driver[\"R2_hist_min\"].array(library='np')[0]\n",
    "\n"
   ]
  },
  {
   "cell_type": "code",
   "execution_count": 11,
   "id": "selective-championship",
   "metadata": {},
   "outputs": [],
   "source": [
    "nBins_MC = 1000\n",
    "nBins_MC_R1 = 10000000\n",
    "# Calculate common bin width\n",
    "binWidth_R0 = MC_R0_hist_max / nBins_MC\n",
    "binWidth_R1 = MC_R1_hist_max / nBins_MC_R1\n",
    "binWidth_R2 = MC_R2_hist_max / nBins_MC\n",
    "\n",
    "nBins_driver_R0 = int(driver_R0_hist_max // binWidth_R0)\n",
    "nBins_driver_R1 = int(driver_R1_hist_max // binWidth_R1)\n",
    "nBins_driver_R2 = int(driver_R2_hist_max // binWidth_R2)"
   ]
  },
  {
   "cell_type": "code",
   "execution_count": 12,
   "id": "related-fusion",
   "metadata": {},
   "outputs": [
    {
     "data": {
      "text/plain": [
       "-182019.23195209034"
      ]
     },
     "execution_count": 12,
     "metadata": {},
     "output_type": "execute_result"
    }
   ],
   "source": [
    "MC_R1_hist_min"
   ]
  },
  {
   "cell_type": "markdown",
   "id": "grateful-signal",
   "metadata": {},
   "source": [
    "## Particular bins"
   ]
  },
  {
   "cell_type": "markdown",
   "id": "noticed-jaguar",
   "metadata": {},
   "source": [
    "### Bin 0: high TMD aff\n",
    "### Bin 1: low TMD aff"
   ]
  },
  {
   "cell_type": "code",
   "execution_count": 13,
   "id": "effective-compensation",
   "metadata": {},
   "outputs": [],
   "source": [
    "histo_name = [\"high TMD aff bin\", \"low TMD aff bin\"]\n",
    "\n",
    "x_bins = [0.1, 0.06]\n",
    "Q2_bins = [3.5, 1.77]\n",
    "z_bins = [0.725, 0.75]\n",
    "pT_bins = [0.0225, 1.01]\n",
    "expected_TMD_aff = [0.5525, 0.005]\n",
    "\n",
    "x_tol = 0.1\n",
    "z_tol = 0.1\n",
    "pT_tol = 0.1\n",
    "Q2_tol = 1\n",
    "driver_format = \"x.x_t <= {} && x.x_t > {} && z.z_t <= {} && z.z_t > {} && pT.pT_t <= {} && pT.pT_t > {} && Q2.Q2_t <= {} && Q2.Q2_t > {}\"\n",
    "MC_format = \"x <= {} && x > {} && z <= {} && z > {} && pT <= {} && pT > {} && Q2 <= {} && Q2 > {}\""
   ]
  },
  {
   "cell_type": "code",
   "execution_count": 14,
   "id": "solid-expert",
   "metadata": {},
   "outputs": [],
   "source": [
    "nBins_driver_R0_binned = int(np.floor(nBins_driver_R0 / 10)) \n",
    "nBins_driver_R1_binned = int(np.floor(nBins_driver_R1 / 10)) \n",
    "nBins_driver_R2_binned = int(np.floor(nBins_driver_R2 / 10)) \n",
    "\n",
    "nBins_MC_binned = int(np.floor(nBins_MC / 10)) \n",
    "nBins_MC_R1_binned = int(np.floor(nBins_MC_R1 / 10)) "
   ]
  },
  {
   "cell_type": "code",
   "execution_count": 17,
   "id": "conventional-evanescence",
   "metadata": {},
   "outputs": [
    {
     "name": "stderr",
     "output_type": "stream",
     "text": [
      "Error in <THashList::Delete>: A list is accessing an object (0x55bf9a090010) already deleted (list name = THashList)\n",
      "Error in <THashList::Delete>: A list is accessing an object (0x55bfa3320130) already deleted (list name = THashList)\n",
      "Error in <THashList::Delete>: A list is accessing an object (0x55bfa316ab10) already deleted (list name = THashList)\n",
      "Error in <THashList::Delete>: A list is accessing an object (0x55bfa2b15960) already deleted (list name = THashList)\n",
      "Error in <THashList::Delete>: A list is accessing an object (0x55bfa2b93180) already deleted (list name = THashList)\n",
      "Error in <THashList::Delete>: A list is accessing an object (0x55bfb12a7550) already deleted (list name = THashList)\n"
     ]
    },
    {
     "data": {
      "image/png": "[encoded data removed]",
      "text/plain": [
       "<IPython.core.display.Image object>"
      ]
     },
     "metadata": {},
     "output_type": "display_data"
    }
   ],
   "source": [
    "driver_frames = []\n",
    "MC_frames = []\n",
    "for i in range(2):\n",
    "    driver_binned = driver.Filter(driver_format.format((x_bins[i] + x_tol),(x_bins[i] - x_tol),(z_bins[i] + z_tol),(z_bins[i] - z_tol),(pT_bins[i] + pT_tol),(pT_bins[i] - pT_tol),(Q2_bins[i] + Q2_tol),(Q2_bins[i] - Q2_tol)))\n",
    "    MC_binned = MC.Filter(MC_format.format((x_bins[i] + x_tol),(x_bins[i] - x_tol),(z_bins[i] + z_tol),(z_bins[i] - z_tol),(pT_bins[i] + pT_tol),(pT_bins[i] - pT_tol),(Q2_bins[i] + Q2_tol),(Q2_bins[i] - Q2_tol)))\n",
    "\n",
    "    # Define histograms with common bin width\n",
    "    d = driver_binned.Histo1D((\"d\", f\"R0 {histo_name[i]} ;R0 ;Counts\", nBins_driver_R0_binned, 0, driver_R0_hist_max), \"R0.R0_t\")\n",
    "    d1 = driver_binned.Histo1D((\"d1\",f\"R1 {histo_name[i]} ;R1 ;Counts\",nBins_driver_R1_binned,0,driver_R1_hist_max),\"R1.R1_t\")\n",
    "    d2 = driver_binned.Histo1D((\"d2\",f\"old R2 {histo_name[i]} ;R2 ;Counts\",nBins_driver_R2_binned,0,driver_R2_hist_max),\"R2.R2_t\")\n",
    "\n",
    "\n",
    "    calc = MC_binned.Histo1D((\"calc\", f\"R0 {histo_name[i]} ;R0 ;Counts\", nBins_MC_binned, 0, MC_R0_hist_max), \"R0\")\n",
    "    calc1 = MC_binned.Histo1D((\"calc1\",f\"R1 {histo_name[i]} ;R1 ;Counts\",nBins_MC_R1_binned,0,MC_R1_hist_max),\"R1\")\n",
    "    calc2 = MC_binned.Histo1D((\"calc2\",f\"old R2 {histo_name[i]};R2 ;Counts\",nBins_MC_binned,0,MC_R2_hist_max),\"R2\")\n",
    "\n",
    "    calc_dum = TH1F(\"\",\"\",1,0,1);\n",
    "    calc_dum.SetLineColor(2);\n",
    "    d_dum = TH1F(\"\",\"\",1,0,1);\n",
    "    d_dum.SetLineColor(4);\n",
    "    calc.SetLineColor(2)\n",
    "    d.SetLineColor(4)\n",
    "    calc1.SetLineColor(2)\n",
    "    d1.SetLineColor(4)\n",
    "    calc2.SetLineColor(2)\n",
    "    d2.SetLineColor(4)\n",
    "\n",
    "    legend = ROOT.TLegend (0.7 ,0.6 ,0.85 ,0.75)\n",
    "    legend.AddEntry(calc_dum, \"MC\" ,\"l\")\n",
    "    legend.AddEntry(d_dum, \"Generated\",\"l\" )\n",
    "    legend.SetLineWidth(0)\n",
    "\n",
    "    calc.GetXaxis().SetRangeUser(0,1.4)\n",
    "    calc1.GetXaxis().SetRangeUser(0,3)\n",
    "    calc2.GetXaxis().SetRangeUser(0,1.4)\n",
    "    d1.GetXaxis().SetRangeUser(0,3)\n",
    "\n",
    "    c = TCanvas(\"c\",\"c\")\n",
    "    c.Divide(2,2)\n",
    "    c.cd(1)\n",
    "    d.Draw(\"histo\")\n",
    "    calc.Draw(\"same\")\n",
    "    legend.Draw(\"same\")\n",
    "    c.cd(2)\n",
    "\n",
    "    calc1.Draw(\"histo\")\n",
    "    d1.Draw(\"same\")\n",
    "\n",
    "    legend.Draw(\"same\")\n",
    "    c.cd(3)\n",
    "    calc2.Draw(\"histo\")\n",
    "    d2.Draw(\"same\")\n",
    "    legend.Draw(\"same\")\n",
    "    c.Draw()\n",
    "    c.Print(f\"./Histos/Ratios/oldR2_three_files_bin{i}.pdf\")"
   ]
  },
  {
   "cell_type": "markdown",
   "id": "periodic-chancellor",
   "metadata": {},
   "source": [
    "total events: 923733"
   ]
  },
  {
   "cell_type": "code",
   "execution_count": null,
   "id": "written-finding",
   "metadata": {},
   "outputs": [],
   "source": []
  }
 ],
 "metadata": {
  "kernelspec": {
   "display_name": "Python 3 (ipykernel)",
   "language": "python",
   "name": "python3"
  },
  "language_info": {
   "codemirror_mode": {
    "name": "ipython",
    "version": 3
   },
   "file_extension": ".py",
   "mimetype": "text/x-python",
   "name": "python",
   "nbconvert_exporter": "python",
   "pygments_lexer": "ipython3",
   "version": "3.8.6"
  }
 },
 "nbformat": 4,
 "nbformat_minor": 5
}
