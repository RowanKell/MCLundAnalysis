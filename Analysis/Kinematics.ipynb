{
 "cells": [
  {
   "cell_type": "code",
   "execution_count": 1,
   "id": "radical-dispute",
   "metadata": {},
   "outputs": [
    {
     "name": "stdout",
     "output_type": "stream",
     "text": [
      "Welcome to JupyROOT 6.22/06\n"
     ]
    }
   ],
   "source": [
    "from ROOT import TFile,TTree,TCanvas,TH1F, gStyle, TLatex, gPad, TLegend, TLorentzVector, TH2F, TLine, TF1, TBox, RDataFrame, TPad, TF2, TStyle, THStack\n",
    "import ROOT\n",
    "import numpy as np\n",
    "import awkward as awk\n",
    "import uproot as up\n",
    "import pandas as pd"
   ]
  },
  {
   "cell_type": "markdown",
   "id": "transparent-negotiation",
   "metadata": {},
   "source": [
    "$k_i = k_f - q$"
   ]
  },
  {
   "cell_type": "code",
   "execution_count": 3,
   "id": "double-lebanon",
   "metadata": {},
   "outputs": [],
   "source": [
    "MC = RDataFrame(\"tree_MC\", \"/w/hallb-scshelf2102/clas12/users/rojokell/MCLundAnalysis/OutputFiles/Files_Spring_24/July_12/test_one_bin.root\")"
   ]
  },
  {
   "cell_type": "code",
   "execution_count": 3,
   "id": "progressive-yeast",
   "metadata": {},
   "outputs": [],
   "source": [
    "# MC = RDataFrame(\"tree_high\", \"/w/hallb-scshelf2102/clas12/users/rojokell/MCLundAnalysis/OutputFiles/Slurm_Spring_24/July_09/Run_1_single_pion/file_*.root\")\n"
   ]
  },
  {
   "cell_type": "code",
   "execution_count": null,
   "id": "adaptive-prague",
   "metadata": {},
   "outputs": [],
   "source": [
    "#Histogams for plotting R1 values\n",
    "h = MC.Histo1D((\"h\",\"qT_calc ;qT = pT/z ;Counts\",500,-0.1,5),\"qT_calc\")\n",
    "h1 = MC.Histo1D((\"h1\",\"qT_hadron ;qT in hadron frame ;Counts\",500,-1,5),\"qT_hadron_mag\")\n",
    "h2 = MC.Histo1D((\"h1\",\"qT_diff ;diff between 2 qTs ;Counts\",500,-1,5),\"qT_diff\")\n",
    "h3 = MC.Histo1D((\"h1\",\"qT from zN ;qT ;Counts\",500,-1,5),\"qTQ_calc\")\n",
    "# h3 = d.Histo1D((\"h3\",\";ki_y ;Counts\",1000,-5,5),\"ki_y\")\n",
    "# h4 = d.Histo1D((\"h4\",\";ki_z ;Counts\",1000,-5,5),\"ki_z\")\n",
    "# h5 = d.Histo1D((\"h5\",\";kf_x ;Counts\",1000,-5,5),\"kf_x\")\n",
    "# h6 = d.Histo1D((\"h6\",\";kf_y ;Counts\",1000,-5,5),\"kf_y\")\n",
    "# h7 = d.Histo1D((\"h7\",\";kf_z ;Counts\",1000,-5,5),\"kf_z\")\n",
    "\n",
    "h_dum = TH1F(\"\",\"\",1,0,1);\n",
    "h_dum.SetLineColor(2);\n",
    "r_dum = TH1F(\"\",\"\",1,0,1);\n",
    "r_dum.SetLineColor(4);\n",
    "\n",
    "h.SetLineColor(2)\n",
    "h1.SetLineColor(4)\n",
    "h2.SetLineColor(6)\n",
    "h3.SetLineColor(8)\n",
    "\n",
    "legend = ROOT.TLegend (0.7 ,0.6 ,0.85 ,0.75)\n",
    "legend.AddEntry(h_dum, \"qT = pT/z\" ,\"l\")\n",
    "legend.AddEntry(r_dum, \"qT hadron\",\"l\" )\n",
    "legend.SetLineWidth(0)\n",
    "c = TCanvas(\"c\",\"c\", 1200,600)\n",
    "c.Divide(2,1)\n",
    "c.cd(1)\n",
    "h1.Draw(\"histo\")\n",
    "h.Draw(\"same\")\n",
    "h3.Draw(\"same\")\n",
    "legend.Draw(\"same\")\n",
    "c.cd(2)\n",
    "h3.Draw(\"histo\")\n",
    "legend.Draw(\"same\")\n",
    "c.Draw()\n",
    "# c.Print(\"./Histos/qT_histos.pdf\")"
   ]
  },
  {
   "cell_type": "code",
   "execution_count": 6,
   "id": "liberal-paintball",
   "metadata": {},
   "outputs": [
    {
     "data": {
      "image/png": "[encoded data removed]",
      "text/plain": [
       "<IPython.core.display.Image object>"
      ]
     },
     "metadata": {},
     "output_type": "display_data"
    }
   ],
   "source": [
    "#Histogams for plotting R1 values\n",
    "h = MC.Histo1D((\"h\",\"x ;x ;Counts\",500,0,1),\"x\")\n",
    "h1 = MC.Histo1D((\"h1\",\"z ;z ;Counts\",500,0,1),\"z\")\n",
    "h2 = MC.Histo1D((\"h2\",\"pT ;pT ;Counts\",500,0,1),\"pT\")\n",
    "h3 = MC.Histo1D((\"h3\",\"Q2 ;Q2 ;Counts\",500,0,10),\"Q2\")\n",
    "# h4 = MC.Histo1D((\"h4\",\"qT ;qT ;Counts\",500,-5,5),\"qT_calc\")\n",
    "# h5 = d.Histo1D((\"h5\",\";kf_x ;Counts\",1000,-5,5),\"kf_x\")\n",
    "# h6 = d.Histo1D((\"h6\",\";kf_y ;Counts\",1000,-5,5),\"kf_y\")\n",
    "# h7 = d.Histo1D((\"h7\",\";kf_z ;Counts\",1000,-5,5),\"kf_z\")\n",
    "\n",
    "h_dum = TH1F(\"\",\"\",1,0,1);\n",
    "h_dum.SetLineColor(2);\n",
    "r_dum = TH1F(\"\",\"\",1,0,1);\n",
    "r_dum.SetLineColor(4);\n",
    "\n",
    "h.SetLineColor(2)\n",
    "h1.SetLineColor(4)\n",
    "h2.SetLineColor(6)\n",
    "\n",
    "# legend = ROOT.TLegend (0.7 ,0.6 ,0.85 ,0.75)\n",
    "# legend.AddEntry(h_dum, \"qT = pT/z\" ,\"l\")\n",
    "# legend.AddEntry(r_dum, \"qT hadron\",\"l\" )\n",
    "# legend.SetLineWidth(0)\n",
    "c = TCanvas(\"c\",\"c\", 800,800)\n",
    "c.Divide(2,2)\n",
    "c.cd(1)\n",
    "h.Draw(\"histo\")\n",
    "# legend.Draw(\"same\")\n",
    "c.cd(2)\n",
    "h1.Draw(\"histo\")\n",
    "# legend.Draw(\"same\")\n",
    "c.cd(3)\n",
    "h2.Draw(\"histo\")\n",
    "c.cd(4)\n",
    "h3.Draw(\"histo\")\n",
    "# c.cd(5)\n",
    "# h4.Draw(\"histo\")\n",
    "c.Draw()\n",
    "# c.Print(\"./Histos/high_kinematics_july_10_qT.pdf\")"
   ]
  },
  {
   "cell_type": "code",
   "execution_count": null,
   "id": "sophisticated-count",
   "metadata": {},
   "outputs": [],
   "source": [
    "'''\n",
    "h1 = d.Histo1D((\"h1\",\";R1breit ;Counts\", 1000, -5, 5), \"R1breit\")\n",
    "h2 = d.Histo1D((\"h2\",\";R1lab ;Counts\", 1000, -5, 5), \"R1lab\")\n",
    "h3 = d.Histo1D((\"h3\",\";R1num gN ;Counts\", 1000, -5, 5), \"R1num\")\n",
    "h6 = d.Histo1D((\"h4\",\";R1denom gN ;Counts\", 1000, -5, 5), \"R1denom\")\n",
    "h5 = d.Histo1D((\"h5\",\";R1num lab ;Counts\", 1000, -5, 5), \"R1num_lab\")\n",
    "# h6 = d.Histo1D((\"h6\",\";Mx ;Counts\", 1000, 0, 3), \"Mx\")\n",
    "h8 = d.Histo1D((\"h6\",\";R1denom lab ;Counts\", 1000, -5, 5), \"R1denom_lab\")\n",
    "h4 = d.Histo1D((\"h7\",\";R1num Breit;Counts\", 1000, -5, 5), \"R1num_Breit\")\n",
    "h7 = d.Histo1D((\"h8\",\";R1denom Breit;Counts\", 1000, -5, 5),\"R1denom_Breit\")\n",
    "'''"
   ]
  },
  {
   "cell_type": "code",
   "execution_count": 13,
   "id": "neutral-destination",
   "metadata": {},
   "outputs": [
    {
     "name": "stdout",
     "output_type": "stream",
     "text": [
      "0.6946000000000012\n"
     ]
    }
   ],
   "source": [
    "e_i_energy = 10.6\n",
    "p_i_energy = 0.9383\n",
    "q_energy = 7.3918\n",
    "e_f_energy = 3.2082\n",
    "k_f_energy = 6.1048\n",
    "diquark_energy = 1.1031\n",
    "initial = e_i_energy + p_i_energy\n",
    "final = e_f_energy + k_f_energy + diquark_energy + 1.8168\n",
    "print(final - initial)"
   ]
  },
  {
   "cell_type": "code",
   "execution_count": 3,
   "id": "raising-grade",
   "metadata": {},
   "outputs": [],
   "source": [
    "tree = up.open(\"/w/hallb-scshelf2102/clas12/users/rojokell/MCLundAnalysis/OutputFiles/Files_Spring_24/July_11/test_new_qT.root:tree_MC\")"
   ]
  },
  {
   "cell_type": "code",
   "execution_count": 5,
   "id": "informal-mayor",
   "metadata": {},
   "outputs": [],
   "source": [
    "qT_zn = tree[\"q_T_zn\"].array(library=\"np\")"
   ]
  },
  {
   "cell_type": "code",
   "execution_count": null,
   "id": "fresh-procurement",
   "metadata": {},
   "outputs": [],
   "source": []
  }
 ],
 "metadata": {
  "kernelspec": {
   "display_name": "Python 3 (ipykernel)",
   "language": "python",
   "name": "python3"
  },
  "language_info": {
   "codemirror_mode": {
    "name": "ipython",
    "version": 3
   },
   "file_extension": ".py",
   "mimetype": "text/x-python",
   "name": "python",
   "nbconvert_exporter": "python",
   "pygments_lexer": "ipython3",
   "version": "3.8.6"
  }
 },
 "nbformat": 4,
 "nbformat_minor": 5
}
