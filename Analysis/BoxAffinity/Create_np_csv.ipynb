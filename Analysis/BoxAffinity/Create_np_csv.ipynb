{
 "cells": [
  {
   "cell_type": "markdown",
   "id": "compliant-natural",
   "metadata": {},
   "source": [
    "# Notebook for creating csv with np data"
   ]
  },
  {
   "cell_type": "code",
   "execution_count": 23,
   "id": "temporal-married",
   "metadata": {},
   "outputs": [],
   "source": [
    "import pandas as pd\n",
    "import uproot as up\n",
    "import os"
   ]
  },
  {
   "cell_type": "code",
   "execution_count": 24,
   "id": "undefined-strength",
   "metadata": {},
   "outputs": [],
   "source": [
    "kinematic_list_short = [\"M_ki\",\"M_kf\",\"delta_k_T\",\"ki_T\"]\n",
    "file_dir = \"../../OutputFiles/Slurm_Spring_24/July_17/Run_2_single_pion/\"\n",
    "num_files = len([name for name in os.listdir(file_dir) if not os.path.isdir(name)])\n",
    "file_names = [name for name in os.listdir(file_dir) if not os.path.isdir(name)]\n",
    "# num_files = 3\n",
    "# file_names = [\"file_0.root\",\"file_1.root\",\"file_2.root\"]\n"
   ]
  },
  {
   "cell_type": "code",
   "execution_count": 21,
   "id": "instrumental-advertiser",
   "metadata": {},
   "outputs": [],
   "source": [
    "driver_subset = [\"file_147.root\",\"file_35.root\",\"file_187.root\",\"file_57.root\",\"file_125.root\",\"file_66.root\",\"file_114.root\"]"
   ]
  },
  {
   "cell_type": "code",
   "execution_count": 22,
   "id": "fleet-bubble",
   "metadata": {},
   "outputs": [],
   "source": [
    "ext_list = [\":tree_low\",\":tree_high\"]\n",
    "high_low = [\"low\",\"high\"]\n",
    "for high_low_idx in range(2):\n",
    "    tree_ext = ext_list[high_low_idx]\n",
    "    if(high_low_idx == 0):\n",
    "#         print(num_files)\n",
    "        for i in range(len(driver_subset)):\n",
    "            if(i == 0):\n",
    "                np = up.open(file_dir + driver_subset[i] + tree_ext).arrays(kinematic_list_short,library=\"pd\")\n",
    "            else:\n",
    "                np = pd.concat([np,up.open(file_dir + driver_subset[i] + tree_ext).arrays(kinematic_list_short,library=\"pd\")],ignore_index = True)\n",
    "    else:\n",
    "        for i in range(num_files):\n",
    "            if(i == 0):\n",
    "                np = up.open(file_dir + file_names[i] + tree_ext).arrays(kinematic_list_short,library=\"pd\")\n",
    "            else:\n",
    "                 np = pd.concat([np,up.open(file_dir + file_names[i] + tree_ext).arrays(kinematic_list_short,library=\"pd\")],ignore_index = True)\n",
    "        \n",
    "    np.to_excel(\"xlsx/np/July_17_\" + high_low[high_low_idx] + \".xlsx\")"
   ]
  },
  {
   "cell_type": "code",
   "execution_count": null,
   "id": "italian-reynolds",
   "metadata": {},
   "outputs": [],
   "source": []
  }
 ],
 "metadata": {
  "kernelspec": {
   "display_name": "Python 3 (ipykernel)",
   "language": "python",
   "name": "python3"
  },
  "language_info": {
   "codemirror_mode": {
    "name": "ipython",
    "version": 3
   },
   "file_extension": ".py",
   "mimetype": "text/x-python",
   "name": "python",
   "nbconvert_exporter": "python",
   "pygments_lexer": "ipython3",
   "version": "3.8.6"
  }
 },
 "nbformat": 4,
 "nbformat_minor": 5
}
