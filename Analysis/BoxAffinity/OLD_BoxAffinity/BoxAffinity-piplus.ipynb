{
 "cells": [
  {
   "cell_type": "code",
   "execution_count": 1,
   "id": "figured-poland",
   "metadata": {},
   "outputs": [
    {
     "name": "stdout",
     "output_type": "stream",
     "text": [
      "Welcome to JupyROOT 6.22/06\n"
     ]
    }
   ],
   "source": [
    "from ROOT import TFile,TTree,TCanvas,TH1F,gStyle,TLatex,gPad,TLegend,TLorentzVector,TH2F,TLine,TF1,TBox,RDataFrame,TPad,TF2\n",
    "import ROOT\n",
    "import numpy as np\n",
    "import awkward as awk\n",
    "import uproot\n",
    "import pandas as pd\n",
    "import matplotlib.pyplot as plot\n",
    "from pandas import read_excel \n",
    "from copy import deepcopy\n",
    "from ipywidgets import *\n",
    "import logging, os \n",
    "import time\n",
    "logging.disable(logging.WARNING) \n",
    "os.environ[\"TF_CPP_MIN_LOG_LEVEL\"] = \"3\"\n",
    "\n",
    "import tensorflow as tf\n",
    "# print(\"tf.__version__\", tf.__version__)\n"
   ]
  },
  {
   "cell_type": "code",
   "execution_count": 3,
   "id": "annoying-retention",
   "metadata": {},
   "outputs": [
    {
     "name": "stdout",
     "output_type": "stream",
     "text": [
      "{ \"z\", \"z_N\", \"x\", \"pT\", \"Q2\", \"Q2calc\", \"R0\", \"R1\", \"R2\", \"Mh\", \"q_TdivQ\", \"xF\", \"qTQ_lab\", \"qTQfrac\", \"qTQ_hadron\" }\n"
     ]
    }
   ],
   "source": [
    "# d_plus = RDataFrame(\"tree_MC_plus\", \"../../OutputFiles/Slurm/Oct_27/file_*.root\")\n",
    "# d_minus = RDataFrame(\"tree_MC_minus\", \"../../OutputFiles/Slurm/Oct_27/file_*.root\")\n",
    "# d_plus = RDataFrame(\"tree_MC\", \"../../OutputFiles/Slurm/March_2/run_1/file_*.root\")\n",
    "d_plus = RDataFrame(\"tree_MC\",\"../../OutputFiles/TestFiles/Jan_30/file1.root\")\n",
    "print(d_plus.GetColumnNames())"
   ]
  },
  {
   "cell_type": "code",
   "execution_count": 41,
   "id": "established-assets",
   "metadata": {},
   "outputs": [],
   "source": [
    "# upr = uproot.open(\"../../OutputFiles/Slurm/Oct_27/file_1.root:tree_MC_plus\")\n",
    "# arr = upr.arrays([\"z\", \"x\", \"pT\", \"Q2\", \"R0max\",\"R1max\", \"R2max\", \"Mh\", \"q_TdivQ\"],library=\"pd\")"
   ]
  },
  {
   "cell_type": "code",
   "execution_count": 4,
   "id": "short-quick",
   "metadata": {},
   "outputs": [],
   "source": [
    "#Bins (each has 8 including 0)\n",
    "Mhbins = np.linspace(0,1.3,8)\n",
    "pTbins = np.linspace(0.1,0.8,8)\n",
    "xbins = np.array([0,0.1,0.13,0.16,0.19,0.235,0.3,0.5])\n",
    "zbins = np.array([0,0.35,0.43,0.49,0.55,0.62,0.7,0.83])\n",
    "Q2bins = np.array([0,1.2,1.8,2.3,3.1,4.3,7,11.1])\n",
    "qTbins = np.linspace(0,0.7,8)"
   ]
  },
  {
   "cell_type": "code",
   "execution_count": 5,
   "id": "understanding-palestinian",
   "metadata": {},
   "outputs": [],
   "source": [
    "varName = np.array([\"x\", \"z\", \"Q2\", \"pT\", \"R0max\", \"R1max\", \"R2max\"])"
   ]
  },
  {
   "cell_type": "code",
   "execution_count": 6,
   "id": "charitable-ribbon",
   "metadata": {},
   "outputs": [],
   "source": [
    "px = [0 for i in range(7)]\n",
    "pz = [0 for i in range(7)]\n",
    "pMh=[0 for i in range(7)]\n",
    "ppT=[0 for i in range(7)]\n",
    "pxQ2 = [0 for i in range(7)]\n",
    "pq = [0 for i in range(7)]\n",
    "\n",
    "pxcut = [0 for i in range(7)]\n",
    "pzcut = [0 for i in range(7)]\n",
    "pMhcut=[0 for i in range(7)]\n",
    "ppTcut=[0 for i in range(7)]\n",
    "pqcut=[0 for i in range(7)]\n",
    "\n"
   ]
  },
  {
   "cell_type": "code",
   "execution_count": null,
   "id": "christian-clark",
   "metadata": {},
   "outputs": [],
   "source": []
  },
  {
   "cell_type": "code",
   "execution_count": 7,
   "id": "superior-deployment",
   "metadata": {},
   "outputs": [],
   "source": [
    "# start_time = time.time()\n",
    "xformat = \"x <= {} && x > {}\"\n",
    "zformat = \"z <= {} && z > {}\"\n",
    "Mhformat = \"Mh <= {} && Mh > {}\"\n",
    "pTformat = \"pT <= {} && pT > {}\"\n",
    "R0format = \"R0 <= {} && R0 > {}\"\n",
    "R1format = \"R1 <= {} && R1 > {}\"\n",
    "R2format = \"R2 <= {} && R2 > {}\"\n",
    "qdivformat = \"q_TdivQ <= {} && q_TdivQ > {}\""
   ]
  },
  {
   "cell_type": "code",
   "execution_count": 8,
   "id": "hybrid-commander",
   "metadata": {},
   "outputs": [
    {
     "ename": "runtime_error",
     "evalue": "Template method resolution failed:\n  ROOT::RDF::RInterface<ROOT::Detail::RDF::RJittedFilter,void> ROOT::RDF::RInterface<ROOT::Detail::RDF::RJittedFilter,void>::Filter(experimental::basic_string_view<char,char_traits<char> > expression, experimental::basic_string_view<char,char_traits<char> > name = \"\") =>\n    runtime_error: \nRDataFrame: An error occurred during just-in-time compilation. The lines above might indicate the cause of the crash\n All RDF objects that have not run an event loop yet should be considered in an invalid state.\n\n  ROOT::RDF::RInterface<ROOT::Detail::RDF::RJittedFilter,void> ROOT::RDF::RInterface<ROOT::Detail::RDF::RJittedFilter,void>::Filter(experimental::basic_string_view<char,char_traits<char> > expression, experimental::basic_string_view<char,char_traits<char> > name = \"\") =>\n    runtime_error: \nRDataFrame: An error occurred during just-in-time compilation. The lines above might indicate the cause of the crash\n All RDF objects that have not run an event loop yet should be considered in an invalid state.\n",
     "output_type": "error",
     "traceback": [
      "\u001b[0;31m---------------------------------------------------------------------------\u001b[0m",
      "\u001b[0;31mruntime_error\u001b[0m                             Traceback (most recent call last)",
      "\u001b[0;32m<ipython-input-8-4a286409047f>\u001b[0m in \u001b[0;36m<module>\u001b[0;34m\u001b[0m\n\u001b[1;32m      4\u001b[0m \u001b[0;31m#j is the bin num\u001b[0m\u001b[0;34m\u001b[0m\u001b[0;34m\u001b[0m\u001b[0;34m\u001b[0m\u001b[0m\n\u001b[1;32m      5\u001b[0m \u001b[0;32mfor\u001b[0m \u001b[0mi\u001b[0m \u001b[0;32min\u001b[0m \u001b[0mrange\u001b[0m\u001b[0;34m(\u001b[0m\u001b[0;36m7\u001b[0m\u001b[0;34m)\u001b[0m\u001b[0;34m:\u001b[0m\u001b[0;34m\u001b[0m\u001b[0;34m\u001b[0m\u001b[0m\n\u001b[0;32m----> 6\u001b[0;31m     \u001b[0mpxcut\u001b[0m\u001b[0;34m[\u001b[0m\u001b[0mi\u001b[0m\u001b[0;34m]\u001b[0m \u001b[0;34m=\u001b[0m \u001b[0md_plus\u001b[0m\u001b[0;34m.\u001b[0m\u001b[0mFilter\u001b[0m\u001b[0;34m(\u001b[0m\u001b[0mxformat\u001b[0m\u001b[0;34m.\u001b[0m\u001b[0mformat\u001b[0m\u001b[0;34m(\u001b[0m\u001b[0mxbins\u001b[0m\u001b[0;34m[\u001b[0m\u001b[0mi\u001b[0m \u001b[0;34m+\u001b[0m \u001b[0;36m1\u001b[0m\u001b[0;34m]\u001b[0m\u001b[0;34m,\u001b[0m\u001b[0mxbins\u001b[0m\u001b[0;34m[\u001b[0m\u001b[0mi\u001b[0m\u001b[0;34m]\u001b[0m\u001b[0;34m)\u001b[0m\u001b[0;34m)\u001b[0m\u001b[0;34m.\u001b[0m\u001b[0mFilter\u001b[0m\u001b[0;34m(\u001b[0m\u001b[0;34m\"R0max < 0.3\"\u001b[0m\u001b[0;34m)\u001b[0m\u001b[0;34m.\u001b[0m\u001b[0mFilter\u001b[0m\u001b[0;34m(\u001b[0m\u001b[0;34m\"R2max < 0.3\"\u001b[0m\u001b[0;34m)\u001b[0m\u001b[0;34m.\u001b[0m\u001b[0mFilter\u001b[0m\u001b[0;34m(\u001b[0m\u001b[0;34m\"R1max < 0.3\"\u001b[0m\u001b[0;34m)\u001b[0m\u001b[0;34m.\u001b[0m\u001b[0mCount\u001b[0m\u001b[0;34m(\u001b[0m\u001b[0;34m)\u001b[0m\u001b[0;34m\u001b[0m\u001b[0;34m\u001b[0m\u001b[0m\n\u001b[0m\u001b[1;32m      7\u001b[0m     \u001b[0mpx\u001b[0m\u001b[0;34m[\u001b[0m\u001b[0mi\u001b[0m\u001b[0;34m]\u001b[0m \u001b[0;34m=\u001b[0m \u001b[0md_plus\u001b[0m\u001b[0;34m.\u001b[0m\u001b[0mFilter\u001b[0m\u001b[0;34m(\u001b[0m\u001b[0mxformat\u001b[0m\u001b[0;34m.\u001b[0m\u001b[0mformat\u001b[0m\u001b[0;34m(\u001b[0m\u001b[0mxbins\u001b[0m\u001b[0;34m[\u001b[0m\u001b[0mi\u001b[0m \u001b[0;34m+\u001b[0m \u001b[0;36m1\u001b[0m\u001b[0;34m]\u001b[0m\u001b[0;34m,\u001b[0m\u001b[0mxbins\u001b[0m\u001b[0;34m[\u001b[0m\u001b[0mi\u001b[0m\u001b[0;34m]\u001b[0m\u001b[0;34m)\u001b[0m\u001b[0;34m)\u001b[0m\u001b[0;34m.\u001b[0m\u001b[0mCount\u001b[0m\u001b[0;34m(\u001b[0m\u001b[0;34m)\u001b[0m\u001b[0;34m\u001b[0m\u001b[0;34m\u001b[0m\u001b[0m\n\u001b[1;32m      8\u001b[0m     \u001b[0mpMhcut\u001b[0m\u001b[0;34m[\u001b[0m\u001b[0mi\u001b[0m\u001b[0;34m]\u001b[0m \u001b[0;34m=\u001b[0m \u001b[0md_plus\u001b[0m\u001b[0;34m.\u001b[0m\u001b[0mFilter\u001b[0m\u001b[0;34m(\u001b[0m\u001b[0mMhformat\u001b[0m\u001b[0;34m.\u001b[0m\u001b[0mformat\u001b[0m\u001b[0;34m(\u001b[0m\u001b[0mMhbins\u001b[0m\u001b[0;34m[\u001b[0m\u001b[0mi\u001b[0m \u001b[0;34m+\u001b[0m \u001b[0;36m1\u001b[0m\u001b[0;34m]\u001b[0m\u001b[0;34m,\u001b[0m\u001b[0mMhbins\u001b[0m\u001b[0;34m[\u001b[0m\u001b[0mi\u001b[0m\u001b[0;34m]\u001b[0m\u001b[0;34m)\u001b[0m\u001b[0;34m)\u001b[0m\u001b[0;34m.\u001b[0m\u001b[0mFilter\u001b[0m\u001b[0;34m(\u001b[0m\u001b[0;34m\"R0max < 0.3\"\u001b[0m\u001b[0;34m)\u001b[0m\u001b[0;34m.\u001b[0m\u001b[0mFilter\u001b[0m\u001b[0;34m(\u001b[0m\u001b[0;34m\"R2max < 0.3\"\u001b[0m\u001b[0;34m)\u001b[0m\u001b[0;34m.\u001b[0m\u001b[0mFilter\u001b[0m\u001b[0;34m(\u001b[0m\u001b[0;34m\"R1max < 0.3\"\u001b[0m\u001b[0;34m)\u001b[0m\u001b[0;34m.\u001b[0m\u001b[0mCount\u001b[0m\u001b[0;34m(\u001b[0m\u001b[0;34m)\u001b[0m\u001b[0;34m\u001b[0m\u001b[0;34m\u001b[0m\u001b[0m\n",
      "\u001b[0;31mruntime_error\u001b[0m: Template method resolution failed:\n  ROOT::RDF::RInterface<ROOT::Detail::RDF::RJittedFilter,void> ROOT::RDF::RInterface<ROOT::Detail::RDF::RJittedFilter,void>::Filter(experimental::basic_string_view<char,char_traits<char> > expression, experimental::basic_string_view<char,char_traits<char> > name = \"\") =>\n    runtime_error: \nRDataFrame: An error occurred during just-in-time compilation. The lines above might indicate the cause of the crash\n All RDF objects that have not run an event loop yet should be considered in an invalid state.\n\n  ROOT::RDF::RInterface<ROOT::Detail::RDF::RJittedFilter,void> ROOT::RDF::RInterface<ROOT::Detail::RDF::RJittedFilter,void>::Filter(experimental::basic_string_view<char,char_traits<char> > expression, experimental::basic_string_view<char,char_traits<char> > name = \"\") =>\n    runtime_error: \nRDataFrame: An error occurred during just-in-time compilation. The lines above might indicate the cause of the crash\n All RDF objects that have not run an event loop yet should be considered in an invalid state.\n"
     ]
    },
    {
     "name": "stderr",
     "output_type": "stream",
     "text": [
      "input_line_97:2:28: error: use of undeclared identifier 'R0max'\n",
      "auto lambda1 = [](){return R0max < 0.3\n",
      "                           ^\n",
      "input_line_98:2:28: error: use of undeclared identifier 'R0max'\n",
      "auto lambda1 = [](){return R0max < 0.3\n",
      "                           ^\n"
     ]
    }
   ],
   "source": [
    "#Piplus\n",
    "#x bins\n",
    "#i is the kinematic variable\n",
    "#j is the bin num\n",
    "for i in range(7):\n",
    "    pxcut[i] = d_plus.Filter(xformat.format(xbins[i + 1],xbins[i])).Filter(\"R0 < 0.3\").Filter(\"R2 < 0.3\").Filter(\"R1 < 0.3\").Count()\n",
    "    px[i] = d_plus.Filter(xformat.format(xbins[i + 1],xbins[i])).Count()\n",
    "    pMhcut[i] = d_plus.Filter(Mhformat.format(Mhbins[i + 1],Mhbins[i])).Filter(\"R0 < 0.3\").Filter(\"R2 < 0.3\").Filter(\"R1 < 0.3\").Count()\n",
    "    pMh[i] = d_plus.Filter(Mhformat.format(Mhbins[i + 1],Mhbins[i])).Count()\n",
    "    pzcut[i] = d_plus.Filter(zformat.format(zbins[i + 1],zbins[i])).Filter(\"R0 < 0.3\").Filter(\"R2 < 0.3\").Filter(\"R1 < 0.3\").Count() \n",
    "    pz[i] = d_plus.Filter(zformat.format(zbins[i + 1],zbins[i])).Count()\n",
    "    ppTcut[i] = d_plus.Filter(pTformat.format(pTbins[i + 1],pTbins[i])).Filter(\"R0 < 0.3\").Filter(\"R2 < 0.3\").Filter(\"R1 < 0.3\").Count()\n",
    "    ppT[i] = d_plus.Filter(pTformat.format(pTbins[i + 1],pTbins[i])).Count()\n",
    "    pqcut[i] = d_plus.Filter(qdivformat.format(qTbins[i + 1],qTbins[i])).Filter(\"R0 < 0.3\").Filter(\"R2 < 0.3\").Filter(\"R1 < 0.3\").Count()\n",
    "    pq[i] = d_plus.Filter(qdivformat.format(qTbins[i + 1],qTbins[i])).Count()\n",
    "        "
   ]
  },
  {
   "cell_type": "code",
   "execution_count": 47,
   "id": "stock-congo",
   "metadata": {},
   "outputs": [],
   "source": [
    "# R0format = \"R0max <= {} && R0max > {}\"\n",
    "# R1format = \"R1max <= {} && R1max > {}\"\n",
    "# R2format = \"R2max <= {} && R2max > {}\"\n",
    "# #.Filter(R0format.format(R0max, R0min)).Filter(R2format.format(R1max, R1min)).Filter(R2format.format(R2max, R2min))\n",
    "# for i in range(7):\n",
    "#     pxcut[i] = d_plus.Filter(xformat.format(xbins[i + 1],xbins[i])).Filter(\"R0max < 300 && R0max > 100\").Filter(\"R2max < 300 && R2max >100\").Filter(\"R1max < 300 && R1max >100\").Count()\n",
    "#     px[i] = d_plus.Filter(xformat.format(xbins[i + 1],xbins[i])).Count()\n",
    "#     pMhcut[i] = d_plus.Filter(Mhformat.format(Mhbins[i + 1],Mhbins[i])).Filter(\"R0max < 300 && R0max >100\").Filter(\"R2max < 300 && R2max >100\").Filter(\"R1max < 300 && R1max >100\").Count()\n",
    "#     pMh[i] = d_plus.Filter(Mhformat.format(Mhbins[i + 1],Mhbins[i])).Count()\n",
    "#     pzcut[i] = d_plus.Filter(zformat.format(zbins[i + 1],zbins[i])).Filter(\"R0max < 300 && R0max >100\").Filter(\"R2max < 300 && R2max >100\").Filter(\"R1max < 300 && R1max >100\").Count() \n",
    "#     pz[i] = d_plus.Filter(zformat.format(zbins[i + 1],zbins[i])).Count()\n",
    "#     ppTcut[i] = d_plus.Filter(pTformat.format(pTbins[i + 1],pTbins[i])).Filter(\"R0max < 300 && R0max >100\").Filter(\"R2max < 300 && R2max >100\").Filter(\"R1max < 300 && R1max >100\").Count()\n",
    "#     ppT[i] = d_plus.Filter(pTformat.format(pTbins[i + 1],pTbins[i])).Count()\n",
    "#     pqcut[i] = d_plus.Filter(qdivformat.format(qTbins[i + 1],qTbins[i])).Filter(\"R0max < 300 && R0max >100\").Filter(\"R2max < 300 && R2max >100\").Filter(\"R1max < 300 && R1max >100\").Count()\n",
    "#     pq[i] = d_plus.Filter(qdivformat.format(qTbins[i + 1],qTbins[i])).Count()"
   ]
  },
  {
   "cell_type": "code",
   "execution_count": 48,
   "id": "voluntary-cotton",
   "metadata": {},
   "outputs": [],
   "source": [
    "# R0format = \"R0max <= {} && R0max > {}\"\n",
    "# R1format = \"R1max <= {} && R1max > {}\"\n",
    "# R2format = \"R2max <= {} && R2max > {}\"\n",
    "# #.Filter(R0format.format(R0max, R0min)).Filter(R2format.format(R1max, R1min)).Filter(R2format.format(R2max, R2min))\n",
    "# for i in range(7):\n",
    "#     pxcut[i] = d_plus.Filter(xformat.format(xbins[i + 1],xbins[i])).Filter(\"R0max < 0.9 && R0max > 0.3\").Filter(\"R2max < 0.9 && R2max >0.3\").Filter(\"R1max < 0.9 && R1max >0.3\").Count()\n",
    "#     px[i] = d_plus.Filter(xformat.format(xbins[i + 1],xbins[i])).Count()\n",
    "#     pMhcut[i] = d_plus.Filter(Mhformat.format(Mhbins[i + 1],Mhbins[i])).Filter(\"R0max < 0.9 && R0max >0.3\").Filter(\"R2max < 0.9 && R2max >0.3\").Filter(\"R1max < 0.9 && R1max >0.3\").Count()\n",
    "#     pMh[i] = d_plus.Filter(Mhformat.format(Mhbins[i + 1],Mhbins[i])).Count()\n",
    "#     pzcut[i] = d_plus.Filter(zformat.format(zbins[i + 1],zbins[i])).Filter(\"R0max < 0.9 && R0max >0.3\").Filter(\"R2max < 0.9 && R2max >0.3\").Filter(\"R1max < 0.9 && R1max >0.3\").Count() \n",
    "#     pz[i] = d_plus.Filter(zformat.format(zbins[i + 1],zbins[i])).Count()\n",
    "#     ppTcut[i] = d_plus.Filter(pTformat.format(pTbins[i + 1],pTbins[i])).Filter(\"R0max < 0.9 && R0max >0.3\").Filter(\"R2max < 0.9 && R2max >0.3\").Filter(\"R1max < 0.9 && R1max >0.3\").Count()\n",
    "#     ppT[i] = d_plus.Filter(pTformat.format(pTbins[i + 1],pTbins[i])).Count()\n",
    "#     pqcut[i] = d_plus.Filter(qdivformat.format(qTbins[i + 1],qTbins[i])).Filter(\"R0max < 0.9 && R0max >0.3\").Filter(\"R2max < 0.9 && R2max >0.3\").Filter(\"R1max < 0.9 && R1max >0.3\").Count()\n",
    "#     pq[i] = d_plus.Filter(qdivformat.format(qTbins[i + 1],qTbins[i])).Count()"
   ]
  },
  {
   "cell_type": "code",
   "execution_count": 49,
   "id": "mounted-great",
   "metadata": {},
   "outputs": [],
   "source": [
    "# R0format = \"R0max <= {} && R0max > {}\"\n",
    "# R1format = \"R1max <= {} && R1max > {}\"\n",
    "# R2format = \"R2max <= {} && R2max > {}\"\n",
    "# R0max = 0.3\n",
    "# R1max = 0.3\n",
    "# R2max = 0.3\n",
    "# R0min = 0.9\n",
    "# R1min = 0.9\n",
    "# R2min = 0.9\n",
    "# for i in range(7):\n",
    "#     pxcut[i] = d_plus.Filter(xformat.format(xbins[i + 1],xbins[i])).Filter(R0format.format(R0min, R0max)).Filter(R2format.format(R1min, R1max)).Filter(R2format.format(R2min, R2max)).Count()\n",
    "#     px[i] = d_plus.Filter(xformat.format(xbins[i + 1],xbins[i])).Count()\n",
    "#     pMhcut[i] = d_plus.Filter(Mhformat.format(Mhbins[i + 1],Mhbins[i])).Filter(R0format.format(R0min, R0max)).Filter(R2format.format(R1min, R1max)).Filter(R2format.format(R2min, R2max)).Count()\n",
    "#     pMh[i] = d_plus.Filter(Mhformat.format(Mhbins[i + 1],Mhbins[i])).Count()\n",
    "#     pzcut[i] = d_plus.Filter(zformat.format(zbins[i + 1],zbins[i])).Filter(R0format.format(R0min, R0max)).Filter(R2format.format(R1min, R1max)).Filter(R2format.format(R2min, R2max)).Count()\n",
    "#     pz[i] = d_plus.Filter(zformat.format(zbins[i + 1],zbins[i])).Count()\n",
    "#     ppTcut[i] = d_plus.Filter(pTformat.format(pTbins[i + 1],pTbins[i])).Filter(R0format.format(R0min, R0max)).Filter(R2format.format(R1min, R1max)).Filter(R2format.format(R2min, R2max)).Count()\n",
    "#     ppT[i] = d_plus.Filter(pTformat.format(pTbins[i + 1],pTbins[i])).Count()\n",
    "#     pqcut[i] = d_plus.Filter(qdivformat.format(qTbins[i + 1],qTbins[i])).Filter(R0format.format(R0min, R0max)).Filter(R2format.format(R1min, R1max)).Filter(R2format.format(R2min, R2max)).Count()\n",
    "#     pq[i] = d_plus.Filter(qdivformat.format(qTbins[i + 1],qTbins[i])).Count()"
   ]
  },
  {
   "cell_type": "code",
   "execution_count": 50,
   "id": "preliminary-weight",
   "metadata": {},
   "outputs": [],
   "source": [
    "# start_time = time.time()\n",
    "# xformat = \"x <= {} && x > {}\"\n",
    "# zformat = \"z <= {} && z > {}\"\n",
    "# Mhformat = \"Mh <= {} && Mh > {}\"\n",
    "# pTformat = \"pT <= {} && pT > {}\"\n",
    "# R0format = \"R0max <= {}\"\n",
    "# R1format = \"R1max <= {}\"\n",
    "# R2format = \"R2max <= {}\"\n",
    "# # RALLcut = 1\n",
    "# RALLcut = 0.3\n",
    "# R0cut = RALLcut\n",
    "# R1cut = RALLcut\n",
    "# R2cut = RALLcut\n",
    "\n",
    "# #Piplus\n",
    "# #x bins\n",
    "# #i is the kinematic variable\n",
    "# #j is the bin num\n",
    "# for i in range(7):\n",
    "#     pxcut[i] = d_plus.Filter(xformat.format(xbins[i + 1],xbins[i])).Filter(R0format.format(R0cut)).Filter(R1format.format(R1cut)).Filter(R2format.format(R2cut)).Count()\n",
    "#     px[i] = d_plus.Filter(xformat.format(xbins[i + 1],xbins[i])).Count()\n",
    "#     pMhcut[i] = d_plus.Filter(Mhformat.format(Mhbins[i + 1],Mhbins[i])).Filter(R0format.format(R0cut)).Filter(R1format.format(R1cut)).Filter(R2format.format(R2cut)).Count()\n",
    "#     pMh[i] = d_plus.Filter(Mhformat.format(Mhbins[i + 1],Mhbins[i])).Count()\n",
    "#     pzcut[i] = d_plus.Filter(zformat.format(zbins[i + 1],zbins[i])).Filter(R0format.format(R0cut)).Filter(R1format.format(R1cut)).Filter(R2format.format(R2cut)).Count() \n",
    "#     pz[i] = d_plus.Filter(zformat.format(zbins[i + 1],zbins[i])).Count()\n",
    "#     ppTcut[i] = d_plus.Filter(pTformat.format(pTbins[i + 1],pTbins[i])).Filter(R0format.format(R0cut)).Filter(R1format.format(R1cut)).Filter(R2format.format(R2cut)).Count()\n",
    "#     ppT[i] = d_plus.Filter(pTformat.format(pTbins[i + 1],pTbins[i])).Count()\n",
    "#     pqcut[i] = d_plus.Filter(qdivformat.format(qTbins[i + 1],qTbins[i])).Filter(R0format.format(R0cut)).Filter(R2format.format(R1cut)).Filter(R2format.format(R2cut)).Count()\n",
    "#     pq[i] = d_plus.Filter(qdivformat.format(qTbins[i + 1],qTbins[i])).Count()\n"
   ]
  },
  {
   "cell_type": "code",
   "execution_count": 51,
   "id": "organic-banking",
   "metadata": {},
   "outputs": [
    {
     "name": "stderr",
     "output_type": "stream",
     "text": [
      "Error in <TChain::LoadTree>: Cannot find tree with name tree_MC in file ../../OutputFiles/Slurm/March_2/run_1/file_77.root\n"
     ]
    }
   ],
   "source": [
    "for i in range(7):\n",
    "    pxcut[i] = pxcut[i].GetValue()\n",
    "    px[i] = px[i].GetValue()\n",
    "    pMhcut[i] = pMhcut[i].GetValue()\n",
    "    pMh[i] = pMh[i].GetValue()\n",
    "    pzcut[i] = pzcut[i].GetValue()\n",
    "    pz[i] = pz[i].GetValue()\n",
    "    ppTcut[i] = ppTcut[i].GetValue()\n",
    "    ppT[i] = ppT[i].GetValue()\n",
    "    pqcut[i] = pqcut[i].GetValue()\n",
    "    pq[i] = pq[i].GetValue()"
   ]
  },
  {
   "cell_type": "code",
   "execution_count": 52,
   "id": "modern-stress",
   "metadata": {},
   "outputs": [],
   "source": [
    "pxval = [0 for i in range(7)]\n",
    "pzval = [0 for i in range(7)]\n",
    "pMhval=[0 for i in range(7)]\n",
    "ppTval=[0 for i in range(7)]\n",
    "pqval = [0 for i in range(7)]\n",
    "Mhbinsno0 = np.linspace(0.3,1.3,7)\n",
    "pTbinsno0 = np.linspace(0.2,0.8,7)\n",
    "xbinsno0 = np.array([0.1,0.13,0.16,0.19,0.235,0.3,0.5])\n",
    "zbinsno0 = np.array([0.35,0.43,0.49,0.55,0.62,0.7,0.83])\n",
    "qTbinsno0 = np.linspace(0.1,0.7,7)\n"
   ]
  },
  {
   "cell_type": "code",
   "execution_count": 53,
   "id": "respected-loading",
   "metadata": {},
   "outputs": [],
   "source": [
    "for i in range(7):\n",
    "    if(px[i] == 0):\n",
    "        pxval[i] = 0\n",
    "    else: pxval[i] = pxcut[i] / px[i]\n",
    "    if(pz[i] == 0):\n",
    "        pzval[i] = 0\n",
    "    else: pzval[i] = pzcut[i] / pz[i]\n",
    "    if(ppT[i] == 0):\n",
    "        ppTval[i] = 0\n",
    "    else: ppTval[i] = ppTcut[i] / ppT[i]\n",
    "    if(pMh[i] == 0):\n",
    "        pMhval[i] = 0\n",
    "    else: pMhval[i] = pMhcut[i] / pMh[i]\n",
    "    if(pq[i] == 0):\n",
    "        pqval[i] = 0\n",
    "    else: pqval[i] = pqcut[i] / pq[i]\n",
    "    \n",
    "    \n",
    "    \n",
    "    "
   ]
  },
  {
   "cell_type": "code",
   "execution_count": 54,
   "id": "polyphonic-spending",
   "metadata": {},
   "outputs": [
    {
     "data": {
      "text/plain": [
       "[Text(0.5, 0, 'qTdivQ')]"
      ]
     },
     "execution_count": 54,
     "metadata": {},
     "output_type": "execute_result"
    },
    {
     "data": {
      "image/png": "[encoded data removed]",
      "text/plain": [
       "<Figure size 864x648 with 4 Axes>"
      ]
     },
     "metadata": {
      "needs_background": "light"
     },
     "output_type": "display_data"
    }
   ],
   "source": [
    "fig2, ((ax12, ax22), (ax32, ax42)) = plot.subplots(2, 2, figsize = (12, 9))\n",
    "fig2.suptitle(\"Pi+ Affinity in the TMD region: Rimax = 0.3\")\n",
    "# fig2.ylable(\"Affinity\")\n",
    "ax12.set(ylabel = \"Affinity\")\n",
    "ax12.scatter(pTbinsno0, ppTval, c = 'r', marker = \"+\")\n",
    "# fig2.legend(shadow = \"true\", title = \"Key\", fontsize = 12)\n",
    "ax12.axhline(y=0, color=\"gray\", lw = 1)\n",
    "ax12.set_title(\"pT binning\")\n",
    "ax12.set(xlabel = \"pT (GeV)\")\n",
    "ax22.scatter(xbinsno0, pxval, c = 'r', marker = '+')\n",
    "ax22.axhline(y=0, color=\"gray\", lw = 1)\n",
    "ax22.set_title(\"x binning\")\n",
    "ax22.set(xlabel = \"x\")\n",
    "ax32.scatter(zbinsno0, pzval, c = 'r', marker = '+')\n",
    "ax32.axhline(y=0, color=\"gray\", lw = 1)\n",
    "ax32.set_title(\"z_h binning\")\n",
    "ax32.set(xlabel = \"z_h\")\n",
    "ax32.set(ylabel = \"Affinity\")\n",
    "# ax42.scatter(Mhbinsno0, pMhval, c = 'r', marker = \"+\")\n",
    "# ax42.axhline(y=0, color=\"gray\", lw = 1)\n",
    "# ax42.set_title(\"Mh binning\")\n",
    "# ax42.set(xlabel = \"Mh (GeV)\")\n",
    "ax42.scatter(qTbinsno0, pqval, c = 'r', marker = \"+\")\n",
    "ax42.axhline(y=0, color=\"gray\", lw = 1)\n",
    "ax42.set_title(\"qTdivQ binning\")\n",
    "ax42.set(xlabel = \"qTdivQ\")\n",
    "# plot.savefig(\"Plots/TMD03max.jpeg\")\n"
   ]
  },
  {
   "cell_type": "code",
   "execution_count": null,
   "id": "structured-leader",
   "metadata": {},
   "outputs": [],
   "source": []
  },
  {
   "cell_type": "code",
   "execution_count": null,
   "id": "cellular-hepatitis",
   "metadata": {},
   "outputs": [],
   "source": []
  }
 ],
 "metadata": {
  "kernelspec": {
   "display_name": "Python 3",
   "language": "python",
   "name": "python3"
  },
  "language_info": {
   "codemirror_mode": {
    "name": "ipython",
    "version": 3
   },
   "file_extension": ".py",
   "mimetype": "text/x-python",
   "name": "python",
   "nbconvert_exporter": "python",
   "pygments_lexer": "ipython3",
   "version": "3.8.6"
  }
 },
 "nbformat": 4,
 "nbformat_minor": 5
}
