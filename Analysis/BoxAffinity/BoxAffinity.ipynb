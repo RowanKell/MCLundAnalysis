{
 "cells": [
  {
   "cell_type": "code",
   "execution_count": 1,
   "id": "closed-retro",
   "metadata": {},
   "outputs": [
    {
     "name": "stdout",
     "output_type": "stream",
     "text": [
      "Welcome to JupyROOT 6.22/06\n"
     ]
    }
   ],
   "source": [
    "from ROOT import TFile,TTree,TCanvas,TH1F,gStyle,TLatex,gPad,TLegend,TLorentzVector,TH2F,TLine,TF1,TBox,RDataFrame,TPad,TF2\n",
    "import ROOT\n",
    "import numpy as np\n",
    "import awkward as awk\n",
    "import uproot\n",
    "import pandas as pd\n",
    "import matplotlib.pyplot as plot\n",
    "from pandas import read_excel \n",
    "from copy import deepcopy\n",
    "from ipywidgets import *\n",
    "import logging, os \n",
    "import time\n",
    "logging.disable(logging.WARNING) \n",
    "os.environ[\"TF_CPP_MIN_LOG_LEVEL\"] = \"3\"\n",
    "\n",
    "import tensorflow as tf\n",
    "# print(\"tf.__version__\", tf.__version__)\n"
   ]
  },
  {
   "cell_type": "code",
   "execution_count": 23,
   "id": "broke-royal",
   "metadata": {},
   "outputs": [
    {
     "name": "stdout",
     "output_type": "stream",
     "text": [
      "{ \"z\", \"z_N\", \"x\", \"pT\", \"Q2\", \"Q2calc\", \"R0\", \"R1\", \"R2\", \"Mh\", \"q_TdivQ\", \"xF\", \"qTQ_lab\", \"qTQfrac\", \"qTQ_hadron\" }\n"
     ]
    }
   ],
   "source": [
    "# d_plus = RDataFrame(\"tree_MC_plus\", \"../../OutputFiles/Slurm/Oct_27/file_*.root\")\n",
    "# d_minus = RDataFrame(\"tree_MC_minus\", \"../../OutputFiles/Slurm/Oct_27/file_*.root\")\n",
    "# d_plus = RDataFrame(\"tree_MC\", \"../../OutputFiles/Slurm/March_2/run_1/file_*.root\")\n",
    "\n",
    "\n",
    "d = RDataFrame(\"tree_MC\",\"../../OutputFiles/TestFiles/Jan_30/file1.root\")\n",
    "d = RDataFrame(\"tree_MC\",\"../../OutputFiles/Slurm/Jan_30/Run_1/file_*.root\")\n",
    "\n",
    "print(d.GetColumnNames())"
   ]
  },
  {
   "cell_type": "code",
   "execution_count": 24,
   "id": "handed-nothing",
   "metadata": {},
   "outputs": [],
   "source": [
    "# upr = uproot.open(\"../../OutputFiles/Slurm/Oct_27/file_1.root:tree_MC_plus\")\n",
    "# arr = upr.arrays([\"z\", \"x\", \"pT\", \"Q2\", \"R0max\",\"R1max\", \"R2max\", \"Mh\", \"q_TdivQ\"],library=\"pd\")"
   ]
  },
  {
   "cell_type": "code",
   "execution_count": 25,
   "id": "twenty-tyler",
   "metadata": {},
   "outputs": [],
   "source": [
    "#Bins (each has 8 including 0)\n",
    "Mhbins = np.linspace(0,1.3,8)\n",
    "pTbins = np.linspace(0.1,0.8,8)\n",
    "xbins = np.array([0,0.1,0.13,0.16,0.19,0.235,0.3,0.5])\n",
    "zbins = np.array([0,0.35,0.43,0.49,0.55,0.62,0.7,0.83])\n",
    "Q2bins = np.array([0,1.2,1.8,2.3,3.1,4.3,7,11.1])\n",
    "qTbins = np.linspace(0,0.7,8)"
   ]
  },
  {
   "cell_type": "code",
   "execution_count": 26,
   "id": "composed-salmon",
   "metadata": {},
   "outputs": [],
   "source": [
    "varName = np.array([\"x\", \"z\", \"Q2\", \"pT\", \"R0\", \"R1\", \"R2\"])"
   ]
  },
  {
   "cell_type": "code",
   "execution_count": 27,
   "id": "egyptian-engagement",
   "metadata": {},
   "outputs": [],
   "source": [
    "x = [0 for i in range(7)]\n",
    "z = [0 for i in range(7)]\n",
    "Mh=[0 for i in range(7)]\n",
    "pT=[0 for i in range(7)]\n",
    "xQ2 = [0 for i in range(7)]\n",
    "q = [0 for i in range(7)]\n",
    "\n",
    "xcut = [0 for i in range(7)]\n",
    "zcut = [0 for i in range(7)]\n",
    "Mhcut=[0 for i in range(7)]\n",
    "pTcut=[0 for i in range(7)]\n",
    "qcut=[0 for i in range(7)]\n",
    "\n"
   ]
  },
  {
   "cell_type": "code",
   "execution_count": null,
   "id": "increased-prague",
   "metadata": {},
   "outputs": [],
   "source": []
  },
  {
   "cell_type": "code",
   "execution_count": 28,
   "id": "failing-carroll",
   "metadata": {},
   "outputs": [],
   "source": [
    "# start_time = time.time()\n",
    "xformat = \"x <= {} && x > {}\"\n",
    "zformat = \"z <= {} && z > {}\"\n",
    "Mhformat = \"Mh <= {} && Mh > {}\"\n",
    "pTformat = \"pT <= {} && pT > {}\"\n",
    "R0format = \"R0 <= {} && R0 > {}\"\n",
    "R1format = \"R1 <= {} && R1 > {}\"\n",
    "R2format = \"R2 <= {} && R2 > {}\"\n",
    "qdivformat = \"q_TdivQ <= {} && q_TdivQ > {}\""
   ]
  },
  {
   "cell_type": "code",
   "execution_count": 29,
   "id": "eastern-classification",
   "metadata": {},
   "outputs": [],
   "source": [
    "# All filters for all binnings\n",
    "#i is the kinematic variable\n",
    "#j is the bin num\n",
    "for i in range(7):\n",
    "    xcut[i] = d.Filter(xformat.format(xbins[i + 1],xbins[i])).Filter(\"R0 < 0.3\").Filter(\"R2 < 0.3\").Filter(\"R1 < 0.3\").Count()\n",
    "    x[i] = d.Filter(xformat.format(xbins[i + 1],xbins[i])).Count()\n",
    "    Mhcut[i] = d.Filter(Mhformat.format(Mhbins[i + 1],Mhbins[i])).Filter(\"R0 < 0.3\").Filter(\"R2 < 0.3\").Filter(\"R1 < 0.3\").Count()\n",
    "    Mh[i] = d.Filter(Mhformat.format(Mhbins[i + 1],Mhbins[i])).Count()\n",
    "    zcut[i] = d.Filter(zformat.format(zbins[i + 1],zbins[i])).Filter(\"R0 < 0.3\").Filter(\"R2 < 0.3\").Filter(\"R1 < 0.3\").Count() \n",
    "    z[i] = d.Filter(zformat.format(zbins[i + 1],zbins[i])).Count()\n",
    "    pTcut[i] = d.Filter(pTformat.format(pTbins[i + 1],pTbins[i])).Filter(\"R0 < 0.3\").Filter(\"R2 < 0.3\").Filter(\"R1 < 0.3\").Count()\n",
    "    pT[i] = d.Filter(pTformat.format(pTbins[i + 1],pTbins[i])).Count()\n",
    "    qcut[i] = d.Filter(qdivformat.format(qTbins[i + 1],qTbins[i])).Filter(\"R0 < 0.3\").Filter(\"R2 < 0.3\").Filter(\"R1 < 0.3\").Count()\n",
    "    q[i] = d.Filter(qdivformat.format(qTbins[i + 1],qTbins[i])).Count()\n",
    "        "
   ]
  },
  {
   "cell_type": "code",
   "execution_count": 30,
   "id": "specialized-harmony",
   "metadata": {},
   "outputs": [],
   "source": [
    "for i in range(7):\n",
    "    xcut[i] = xcut[i].GetValue()\n",
    "    x[i] = x[i].GetValue()\n",
    "    Mhcut[i] = Mhcut[i].GetValue()\n",
    "    Mh[i] = Mh[i].GetValue()\n",
    "    zcut[i] = zcut[i].GetValue()\n",
    "    z[i] = z[i].GetValue()\n",
    "    pTcut[i] = pTcut[i].GetValue()\n",
    "    pT[i] = pT[i].GetValue()\n",
    "    qcut[i] = qcut[i].GetValue()\n",
    "    q[i] = q[i].GetValue()"
   ]
  },
  {
   "cell_type": "code",
   "execution_count": 31,
   "id": "annoying-springer",
   "metadata": {},
   "outputs": [],
   "source": [
    "xval = [0 for i in range(7)]\n",
    "zval = [0 for i in range(7)]\n",
    "Mhval=[0 for i in range(7)]\n",
    "pTval=[0 for i in range(7)]\n",
    "qval = [0 for i in range(7)]\n",
    "Mhbinsno0 = np.linspace(0.3,1.3,7)\n",
    "pTbinsno0 = np.linspace(0.2,0.8,7)\n",
    "xbinsno0 = np.array([0.1,0.13,0.16,0.19,0.235,0.3,0.5])\n",
    "zbinsno0 = np.array([0.35,0.43,0.49,0.55,0.62,0.7,0.83])\n",
    "qTbinsno0 = np.linspace(0.1,0.7,7)\n"
   ]
  },
  {
   "cell_type": "code",
   "execution_count": 32,
   "id": "square-hamilton",
   "metadata": {},
   "outputs": [],
   "source": [
    "for i in range(7):\n",
    "    if(x[i] == 0):\n",
    "        xval[i] = 0\n",
    "    else: xval[i] = xcut[i] / x[i]\n",
    "    if(z[i] == 0):\n",
    "        zval[i] = 0\n",
    "    else: zval[i] = zcut[i] / z[i]\n",
    "    if(pT[i] == 0):\n",
    "        pTval[i] = 0\n",
    "    else: pTval[i] = pTcut[i] / pT[i]\n",
    "    if(Mh[i] == 0):\n",
    "        Mhval[i] = 0\n",
    "    else: Mhval[i] = Mhcut[i] / Mh[i]\n",
    "    if(q[i] == 0):\n",
    "        qval[i] = 0\n",
    "    else: qval[i] = qcut[i] / q[i]\n",
    "    \n",
    "    \n",
    "    \n",
    "    "
   ]
  },
  {
   "cell_type": "code",
   "execution_count": 34,
   "id": "dated-stranger",
   "metadata": {},
   "outputs": [
    {
     "data": {
      "text/plain": [
       "[Text(0.5, 0, 'qTdivQ')]"
      ]
     },
     "execution_count": 34,
     "metadata": {},
     "output_type": "execute_result"
    },
    {
     "data": {
      "image/png": "[encoded data removed]",
      "text/plain": [
       "<Figure size 864x648 with 4 Axes>"
      ]
     },
     "metadata": {
      "needs_background": "light"
     },
     "output_type": "display_data"
    }
   ],
   "source": [
    "fig2, ((ax11, ax21), (ax12, ax22)) = plot.subplots(2, 2, figsize = (12, 9))\n",
    "fig2.suptitle(\"Dihadron Affinity in the TMD region: Rimax = 0.3\")\n",
    "ax11.set(ylabel = \"Affinity\")\n",
    "ax11.scatter(pTbinsno0, pTval, c = 'r', marker = \"+\")\n",
    "ax11.axhline(y=0, color=\"gray\", lw = 1)\n",
    "ax11.set_title(\"pT binning\")\n",
    "ax11.set(xlabel = \"pT (GeV)\")\n",
    "ax21.scatter(xbinsno0, xval, c = 'r', marker = '+')\n",
    "ax21.axhline(y=0, color=\"gray\", lw = 1)\n",
    "ax21.set_title(\"x binning\")\n",
    "ax21.set(xlabel = \"x\")\n",
    "ax12.scatter(zbinsno0, zval, c = 'r', marker = '+')\n",
    "ax12.axhline(y=0, color=\"gray\", lw = 1)\n",
    "ax12.set_title(\"z_h binning\")\n",
    "ax12.set(xlabel = \"z_h\")\n",
    "ax12.set(ylabel = \"Affinity\")\n",
    "ax22.scatter(qTbinsno0, qval, c = 'r', marker = \"+\")\n",
    "ax22.axhline(y=0, color=\"gray\", lw = 1)\n",
    "ax22.set_title(\"qTdivQ binning\")\n",
    "ax22.set(xlabel = \"qTdivQ\")\n",
    "# plot.savefig(\"Plots/TMD03max.jpeg\")\n"
   ]
  },
  {
   "cell_type": "code",
   "execution_count": null,
   "id": "advised-directive",
   "metadata": {},
   "outputs": [],
   "source": []
  },
  {
   "cell_type": "code",
   "execution_count": null,
   "id": "material-transmission",
   "metadata": {},
   "outputs": [],
   "source": []
  }
 ],
 "metadata": {
  "kernelspec": {
   "display_name": "Python 3 (ipykernel)",
   "language": "python",
   "name": "python3"
  },
  "language_info": {
   "codemirror_mode": {
    "name": "ipython",
    "version": 3
   },
   "file_extension": ".py",
   "mimetype": "text/x-python",
   "name": "python",
   "nbconvert_exporter": "python",
   "pygments_lexer": "ipython3",
   "version": "3.8.6"
  }
 },
 "nbformat": 4,
 "nbformat_minor": 5
}
