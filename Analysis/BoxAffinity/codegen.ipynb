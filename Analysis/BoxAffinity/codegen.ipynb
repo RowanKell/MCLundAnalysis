{
 "cells": [
  {
   "cell_type": "markdown",
   "id": "comparative-fundamental",
   "metadata": {},
   "source": [
    "# Ratios code generator"
   ]
  },
  {
   "cell_type": "code",
   "execution_count": 1,
   "id": "ethical-catalyst",
   "metadata": {},
   "outputs": [],
   "source": [
    "import sys,os\n",
    "import subprocess\n",
    "import numpy as np\n",
    "from numpy import abs\n",
    "import pylab as py\n",
    "import matplotlib.cm as cm\n",
    "import sympy as sp\n",
    "from sympy.printing.mathml import print_mathml,mathml\n",
    "from sympy.parsing.sympy_parser import parse_expr\n",
    "from sympy.tensor.array import MutableDenseNDimArray as Array\n",
    "import copy\n",
    "from sympy.utilities.lambdify import lambdastr"
   ]
  },
  {
   "cell_type": "markdown",
   "id": "academic-manner",
   "metadata": {},
   "source": [
    "### utilities"
   ]
  },
  {
   "cell_type": "code",
   "execution_count": 2,
   "id": "charged-parking",
   "metadata": {},
   "outputs": [],
   "source": [
    "from IPython.display import display, Math, Latex\n",
    "import sympy as sp\n",
    "\n",
    "def lpprint(expression): \n",
    "    return display(Math(sp.latex(expression)))\n"
   ]
  },
  {
   "cell_type": "markdown",
   "id": "characteristic-conviction",
   "metadata": {},
   "source": [
    "### vector class to handle 4-vectors"
   ]
  },
  {
   "cell_type": "code",
   "execution_count": 3,
   "id": "naughty-utilization",
   "metadata": {},
   "outputs": [],
   "source": [
    "class Vec: \n",
    "\n",
    "    def __init__(self,symbol,rep='LC',mod=[1,1,1,1],theta=None):\n",
    "        if theta==None: theta=sp.symbols(r'\\theta_{%s}'%symbol)\n",
    "        if rep=='LC': self.vec=self.LC(symbol,mod=mod,theta=theta)\n",
    "        if rep=='MC': self.vec=self.MC(symbol,mod=mod,theta=theta)\n",
    "        self.rep=rep\n",
    "\n",
    "    def __add__(self,other):\n",
    "        dum=Vec('dum',self.rep)\n",
    "        dum.vec=[self.vec[i]+other.vec[i] for i in range(len(other.vec))]\n",
    "        return dum\n",
    "\n",
    "    def __sub__(self,other):\n",
    "        #print self.vec\n",
    "        #print other.vec\n",
    "        dum=Vec('dum',self.rep)\n",
    "        dum.vec=[self.vec[i]-other.vec[i] for i in range(len(other.vec))]\n",
    "        return dum\n",
    "\n",
    "    def __eq__(self,other):\n",
    "        dum=Vec('dum',self.rep)\n",
    "        dum.vec=[self.vec[i] for i in range(len(other.vec))]\n",
    "        return dum\n",
    " \n",
    "    def __mul__(self,other):\n",
    "        if isinstance(other, Vec): \n",
    "            return self.dot(other.vec,self.vec)\n",
    "        else:\n",
    "            dum=Vec('dum',self.rep)\n",
    "            dum.vec=[other*self.vec[i] for i in range(len(self.vec))]\n",
    "            return dum\n",
    "        \n",
    "    def __rmul__(self,other):\n",
    "        if isinstance(other, Vec): \n",
    "            return self.dot(other.vec,self.vec)\n",
    "        else:\n",
    "            dum=Vec('dum',self.rep)\n",
    "            dum.vec=[other*self.vec[i] for i in range(len(self.vec))]\n",
    "            return dum\n",
    "        \n",
    "    def LC(self,symbol,mod=[1,1,1,1],theta=None):\n",
    "        p=sp.S('%s_p'%symbol)\n",
    "        m=sp.S('%s_m'%symbol)\n",
    "        t=sp.symbols('%s_t'%symbol,positive = True, real = True)\n",
    "        if theta==None: theta=sp.S('theta_%s'%symbol)\n",
    "        vec=[p,m,t*sp.cos(theta),t*sp.sin(theta)]\n",
    "        self.p=p\n",
    "        self.m=m\n",
    "        self.t=t\n",
    "        return [vec[i]*mod[i] for i in range(4)]\n",
    "    \n",
    "    def MC(self,symbol,mod=[1,1,1,1],theta=None):\n",
    "        E=sp.symbols('%s_E'%symbol,positive = True, real = True)\n",
    "        z=sp.symbols('%s_z'%symbol,real = True)\n",
    "        t=sp.symbols('%s_t'%symbol,positive = True, real = True)\n",
    "        if theta==None: theta=sp.S('theta_%s'%symbol)\n",
    "        vec=[E,t*sp.cos(theta),t*sp.sin(theta),z]\n",
    "        self.E=E\n",
    "        self.z=z\n",
    "        self.t=t\n",
    "        self.theta=theta\n",
    "        return [vec[i]*mod[i] for i in range(4)]\n",
    "\n",
    "    def dot(self,A,B):\n",
    "        if self.rep=='LC':\n",
    "            return A[0]*B[1]+A[1]*B[0]-A[2]*B[2]-A[3]*B[3]\n",
    "        elif self.rep=='MC':\n",
    "            return A[0]*B[0]-A[1]*B[1]-A[2]*B[2]-A[3]*B[3]\n",
    "        \n",
    "    def set_plus(self,plus):\n",
    "        self.vec[0]=plus\n",
    "        \n",
    "    def set_minus(self,minus):\n",
    "        self.vec[1]=minus\n",
    "        \n",
    "    def set_perp(self,perp):\n",
    "        self.vec[2:]=perp\n",
    "        \n",
    "    def set_E(self,E):\n",
    "        self.vec[0]=E\n",
    "        \n",
    "    def set_x(self,x):\n",
    "        self.vec[1]=x\n",
    "        \n",
    "    def set_y(self,y):\n",
    "        self.vec[2]=y\n",
    "        \n",
    "    def set_z(self,z):\n",
    "        self.vec[3]=z\n",
    "\n",
    "    def get_E(self):\n",
    "        return self.vec[0]\n",
    "        \n",
    "    def get_x(self):\n",
    "        return self.vec[1]\n",
    "        \n",
    "    def get_y(self):\n",
    "        return self.vec[2]\n",
    "        \n",
    "    def get_z(self):\n",
    "        return self.vec[3]\n",
    "    \n",
    "    def change_plus(self,M):\n",
    "        if  self.rep=='LC':\n",
    "            perp2=(self.vec[2]**2+self.vec[3]**2)#.simplify()\n",
    "            self.vec[0]=(perp2+M**2)/2/self.vec[1]\n",
    "        \n",
    "    def change_minus(self,M):\n",
    "        if  self.rep=='LC':\n",
    "            perp2=(self.vec[2]**2+self.vec[3]**2)#.simplify()\n",
    "            self.vec[1]=(perp2+M**2)/2/self.vec[0]\n",
    "\n",
    "    def LC2MC(self):\n",
    "        if  self.rep=='LC':\n",
    "            vec0=((self.vec[0]+self.vec[1])/sp.sqrt(2))#.simplify()\n",
    "            vec3=((self.vec[0]-self.vec[1])/sp.sqrt(2))#.simplify()\n",
    "            self.vec=[vec0,self.vec[2],self.vec[3],vec3]\n",
    "            self.rep='MC'\n",
    "\n",
    "    def MC2LC(self):\n",
    "        if  self.rep=='MC':\n",
    "            vec_p=((self.vec[0]+self.vec[3])/sp.sqrt(2))#.simplify()\n",
    "            vec_m=((self.vec[0]-self.vec[3])/sp.sqrt(2))#.simplify()\n",
    "            self.vec=[vec_p,vec_m,self.vec[1],self.vec[2]]\n",
    "            self.rep='LC'\n",
    "\n",
    "    def norm(self):\n",
    "        return sp.sqrt(sum([self.vec[i]**2 for i in range(1,4)]))#.simplify()\n",
    "        \n",
    "    def uvec(self):\n",
    "        dum=Vec('dum','MC')\n",
    "        dum.set_E(sp.S(0))\n",
    "        norm=self.norm()\n",
    "        dum.vec[1:]=[self.vec[i]/norm for i in range(1,len(self.vec))]\n",
    "        return dum\n",
    "    \n",
    "    def get_mass(self):\n",
    "        if self.rep=='MC':\n",
    "            return sp.sqrt(self.vec[0]**2-self.norm()**2)\n",
    "        elif self.rep=='LC':\n",
    "            return sp.sqrt(2*self.vec[0]*self.vec[1]-self.vec[2]**2-self.vec[3]**2)\n",
    "\n",
    "    def get_sqmass(self):\n",
    "        if self.rep=='MC':\n",
    "            return self.vec[0]**2-self.norm()**2\n",
    "        elif self.rep=='LC':\n",
    "            return 2*self.vec[0]*self.vec[1]-self.vec[2]**2-self.vec[3]**2\n",
    "\n",
    "    @staticmethod\n",
    "    def dot3(A,B):\n",
    "        return sum([A.vec[i]*B.vec[i] for i in range(1,4)])\n",
    "    \n",
    "    @staticmethod\n",
    "    def cross(A,B):\n",
    "        dum=Vec('dum','MC')\n",
    "        dum.set_E(sp.S(0))\n",
    "        x= A.vec[2]*B.vec[3]-A.vec[3]*B.vec[2]\n",
    "        y=-A.vec[1]*B.vec[3]+A.vec[3]*B.vec[1]\n",
    "        z= A.vec[1]*B.vec[2]-A.vec[2]*B.vec[1]\n",
    "        dum.vec[1:]=[x,y,z]\n",
    "        return dum\n",
    "    \n",
    "    def simplify_vec(self):\n",
    "        for i in range(4):\n",
    "            self.vec[i]=self.vec[i].simplify()\n",
    "\n",
    "    def subs_vec(self,A,B):\n",
    "        for i in range(4):\n",
    "            self.vec[i]=self.vec[i].subs(A,B)\n",
    "    \n",
    "    def rotate(self,K,cos,sin):\n",
    "        #--rootate around K \n",
    "        dum=Vec('dum','MC')\n",
    "        UK=K.uvec()\n",
    "        dum.vec[1:]=(self*cos+self.cross(UK,self)*sin+UK*(self.dot3(UK,self)*(1-cos))).vec[1:]\n",
    "        dum.vec[0]=self.vec[0]\n",
    "        return dum\n",
    "        \n",
    "    def get_cos(self,K):\n",
    "        #--get cos along K\n",
    "        UK=K.uvec()\n",
    "        UV=self.uvec()\n",
    "        return self.dot3(UV,UK)\n",
    "    \n",
    "    def get_sin(self,K):\n",
    "        #--get sin along K\n",
    "        UK=K.uvec()\n",
    "        UV=self.uvec()\n",
    "        return self.cross(UV,UK).norm()\n",
    "        \n",
    "    @staticmethod\n",
    "    def get_boost_CS(A,bA):\n",
    "        #--get cosh and sinsh for A -> boosted A (bA)\n",
    "        #--A and bA are 2D vectors 0: energy, 1: momentum along boost dir\n",
    "        cosh=(bA[1]*A[1]-bA[0]*A[0])/(A[1]**2-A[0]**2)\n",
    "        if A[1]==0: sinh=(bA[1]-cosh*A[1])/A[0]\n",
    "        else:       sinh=(bA[0]-cosh*A[0])/A[1]\n",
    "        return cosh,sinh\n",
    "        \n",
    "    def boost(self,V,C=None,S=None):\n",
    "        \n",
    "        if C==None and S==None:\n",
    "            #--boost to rest frame of V\n",
    "            E=V.vec[0]\n",
    "            P=V.norm()\n",
    "            M=V.get_mass()\n",
    "            C,S=self.get_boost_CS([E,P],[M,0])\n",
    "            \n",
    "        UV=V.uvec()\n",
    "        par=self.dot3(self,UV)*UV\n",
    "        per=self-par\n",
    "        E=self.vec[0]\n",
    "        npar=self.dot3(self,UV)#par.norm()\n",
    "        #npar=par.norm()\n",
    "        bE  =(C*E + S*npar)#.simplify()\n",
    "        bpar=(S*E + C*npar)#.simplify()\n",
    "        new=per+bpar*UV\n",
    "        new.vec[0]=bE\n",
    "        return new\n"
   ]
  },
  {
   "cell_type": "code",
   "execution_count": 4,
   "id": "delayed-transmission",
   "metadata": {},
   "outputs": [
    {
     "data": {
      "text/latex": [
       "$\\displaystyle \\left[\\begin{matrix}A_{p}\\\\A_{m}\\\\A_{t} \\cos{\\left(\\theta_{A} \\right)}\\\\A_{t} \\sin{\\left(\\theta_{A} \\right)}\\end{matrix}\\right]$"
      ],
      "text/plain": [
       "Matrix([\n",
       "[                A_p],\n",
       "[                A_m],\n",
       "[A_t*cos(\\theta_{A})],\n",
       "[A_t*sin(\\theta_{A})]])"
      ]
     },
     "execution_count": 4,
     "metadata": {},
     "output_type": "execute_result"
    }
   ],
   "source": [
    "A=Vec('A','LC')\n",
    "sp.Matrix(A.vec)"
   ]
  },
  {
   "cell_type": "markdown",
   "id": "sexual-xerox",
   "metadata": {},
   "source": [
    "### built relevant sympy symbols"
   ]
  },
  {
   "cell_type": "code",
   "execution_count": 5,
   "id": "written-contract",
   "metadata": {},
   "outputs": [],
   "source": [
    "xb=sp.symbols('x_bj',positive = True, real = True)\n",
    "xN=sp.symbols('x_N',positive = True, real = True)\n",
    "zh=sp.symbols('z_h',positive = True, real = True)\n",
    "zN=sp.symbols('z_N',positive = True, real = True)\n",
    "xh=sp.symbols('x_h',positive = True, real = True)\n",
    "\n",
    "Q=sp.symbols('Q',positive = True, real = True)\n",
    "M=sp.symbols('M',positive = True, real = True)\n",
    "Mh=sp.symbols('M_h',positive = True, real = True)\n",
    "Mki=sp.symbols('M_ki',positive = True, real = True)\n",
    "\n",
    "#Mki2=sp.symbols('M_ki2',positive = True, real = True)\n",
    "\n",
    "Mkf=sp.symbols('M_kf',positive = True, real = True)\n",
    "\n",
    "#Mkf2=sp.symbols('M_kf2',positive = True, real = True)\n",
    "\n",
    "\n",
    "Mx=sp.symbols('M_x',positive = True, real = True)\n",
    "\n",
    "MhT=sp.symbols('M_hT',positive = True, real = True)\n",
    "qt=sp.S('q_t')\n",
    "eps=sp.S('epsilon')\n",
    "\n",
    "xi=sp.symbols('xi',positive = True, real = True)\n",
    "zeta=sp.symbols('zeta',positive = True, real = True)\n",
    "hxN=sp.symbols('\\hat{x}_N',positive = True, real = True)\n",
    "hzN=sp.symbols('\\hat{z}_N',positive = True, real = True)\n"
   ]
  },
  {
   "cell_type": "markdown",
   "id": "bizarre-julian",
   "metadata": {},
   "source": [
    "### construct relevant 4-vectors"
   ]
  },
  {
   "cell_type": "code",
   "execution_count": 6,
   "id": "promising-freeware",
   "metadata": {},
   "outputs": [],
   "source": [
    "ki=Vec('k_i','LC')\n",
    "kf=Vec('k_f','LC')\n",
    "kx=Vec('k_x','LC')\n",
    "\n",
    "q=Vec('q','LC',mod=[1,1,0,0])\n",
    "P=Vec('P','LC',mod=[1,1,0,0])\n",
    "H=Vec('H','LC')\n",
    "T=Vec('T',mod=[0,0,1,1],theta=sp.symbols(r'\\theta_H'))\n",
    "dk=Vec('delta_k',mod=[0,0,1,1])\n",
    "\n",
    "q.set_plus(-Q/sp.sqrt(2))\n",
    "q.set_minus(Q/sp.sqrt(2))\n",
    "P.set_plus(Q/xN/sp.sqrt(2))\n",
    "P.set_minus(xN*M**2/sp.sqrt(2)/Q)\n",
    "H.set_minus(zN*q.vec[1])\n",
    "H.set_perp((-zN*T).vec[2:])\n",
    "H.change_plus(Mh)\n",
    "\n",
    "ki.set_plus((xN/hxN)*P.vec[0])\n",
    "kf.set_minus(H.vec[1]/(zN/hzN))\n",
    "kf.set_perp((-hzN*T+dk).vec[2:])\n",
    "\n",
    "ki.change_minus(Mki)\n",
    "kf.change_plus(Mkf)\n"
   ]
  },
  {
   "cell_type": "code",
   "execution_count": 7,
   "id": "first-prime",
   "metadata": {},
   "outputs": [
    {
     "data": {
      "text/latex": [
       "$\\displaystyle \\left[\\begin{matrix}0\\\\0\\\\T_{t} \\cos{\\left(\\theta_{H} \\right)}\\\\T_{t} \\sin{\\left(\\theta_{H} \\right)}\\end{matrix}\\right]$"
      ],
      "text/plain": [
       "Matrix([\n",
       "[                0],\n",
       "[                0],\n",
       "[T_t*cos(\\theta_H)],\n",
       "[T_t*sin(\\theta_H)]])"
      ]
     },
     "execution_count": 7,
     "metadata": {},
     "output_type": "execute_result"
    }
   ],
   "source": [
    "sp.Matrix(T.vec)"
   ]
  },
  {
   "cell_type": "code",
   "execution_count": 8,
   "id": "abandoned-cover",
   "metadata": {},
   "outputs": [
    {
     "data": {
      "text/latex": [
       "$\\displaystyle \\left[\\begin{matrix}\\frac{\\sqrt{2} \\left(\\frac{M_{h}^{2}}{2} + \\frac{T_{t}^{2} z_{N}^{2} \\sin^{2}{\\left(\\theta_{H} \\right)}}{2} + \\frac{T_{t}^{2} z_{N}^{2} \\cos^{2}{\\left(\\theta_{H} \\right)}}{2}\\right)}{Q z_{N}}\\\\\\frac{\\sqrt{2} Q z_{N}}{2}\\\\- T_{t} z_{N} \\cos{\\left(\\theta_{H} \\right)}\\\\- T_{t} z_{N} \\sin{\\left(\\theta_{H} \\right)}\\end{matrix}\\right]$"
      ],
      "text/plain": [
       "Matrix([\n",
       "[sqrt(2)*(M_h**2/2 + T_t**2*z_N**2*sin(\\theta_H)**2/2 + T_t**2*z_N**2*cos(\\theta_H)**2/2)/(Q*z_N)],\n",
       "[                                                                                 sqrt(2)*Q*z_N/2],\n",
       "[                                                                          -T_t*z_N*cos(\\theta_H)],\n",
       "[                                                                          -T_t*z_N*sin(\\theta_H)]])"
      ]
     },
     "execution_count": 8,
     "metadata": {},
     "output_type": "execute_result"
    }
   ],
   "source": [
    "sp.Matrix(H.vec)"
   ]
  },
  {
   "cell_type": "markdown",
   "id": "overhead-flesh",
   "metadata": {},
   "source": [
    "### build $x_N$ and $z_N$ "
   ]
  },
  {
   "cell_type": "code",
   "execution_count": 9,
   "id": "earned-johnston",
   "metadata": {},
   "outputs": [],
   "source": [
    "zN2zh=sp.solve(zh-2*xb*(P*H)/Q**2,zN)\n",
    "zN2zhA=zN2zh[1].simplify()\n",
    "zN2zhB=zN2zh[0].simplify()\n",
    "\n",
    "xN2xb=sp.solve(xb-Q**2/(2*P*q),xN)[0]\n",
    "xN2xb=xN2xb*(Q+sp.sqrt(Q**2+4*M**2*xb**2))\n",
    "xN2xb=xN2xb.expand()\n",
    "xN2xb/=(Q+sp.sqrt(Q**2+4*M**2*xb**2))\n"
   ]
  },
  {
   "cell_type": "code",
   "execution_count": 10,
   "id": "photographic-hypothesis",
   "metadata": {},
   "outputs": [
    {
     "data": {
      "text/latex": [
       "$\\displaystyle \\frac{x_{N} \\left(Q^{4} z_{h} + \\sqrt{- 4 M^{4} M_{h}^{2} T_{t}^{2} x_{N}^{2} x_{bj}^{2} - 4 M^{2} M_{h}^{2} Q^{4} x_{bj}^{2} + Q^{8} z_{h}^{2}}\\right)}{2 x_{bj} \\left(M^{2} T_{t}^{2} x_{N}^{2} + Q^{4}\\right)}$"
      ],
      "text/plain": [
       "x_N*(Q**4*z_h + sqrt(-4*M**4*M_h**2*T_t**2*x_N**2*x_bj**2 - 4*M**2*M_h**2*Q**4*x_bj**2 + Q**8*z_h**2))/(2*x_bj*(M**2*T_t**2*x_N**2 + Q**4))"
      ]
     },
     "execution_count": 10,
     "metadata": {},
     "output_type": "execute_result"
    }
   ],
   "source": [
    "zN2zhA"
   ]
  },
  {
   "cell_type": "code",
   "execution_count": 11,
   "id": "digital-convergence",
   "metadata": {},
   "outputs": [
    {
     "data": {
      "text/latex": [
       "$\\displaystyle \\frac{x_{N} \\left(Q^{4} z_{h} - \\sqrt{- 4 M^{4} M_{h}^{2} T_{t}^{2} x_{N}^{2} x_{bj}^{2} - 4 M^{2} M_{h}^{2} Q^{4} x_{bj}^{2} + Q^{8} z_{h}^{2}}\\right)}{2 x_{bj} \\left(M^{2} T_{t}^{2} x_{N}^{2} + Q^{4}\\right)}$"
      ],
      "text/plain": [
       "x_N*(Q**4*z_h - sqrt(-4*M**4*M_h**2*T_t**2*x_N**2*x_bj**2 - 4*M**2*M_h**2*Q**4*x_bj**2 + Q**8*z_h**2))/(2*x_bj*(M**2*T_t**2*x_N**2 + Q**4))"
      ]
     },
     "execution_count": 11,
     "metadata": {},
     "output_type": "execute_result"
    }
   ],
   "source": [
    "zN2zhB"
   ]
  },
  {
   "cell_type": "code",
   "execution_count": 12,
   "id": "czech-pantyhose",
   "metadata": {},
   "outputs": [
    {
     "data": {
      "text/latex": [
       "$\\displaystyle \\frac{2 Q x_{bj}}{Q + \\sqrt{4 M^{2} x_{bj}^{2} + Q^{2}}}$"
      ],
      "text/plain": [
       "2*Q*x_bj/(Q + sqrt(4*M**2*x_bj**2 + Q**2))"
      ]
     },
     "execution_count": 12,
     "metadata": {},
     "output_type": "execute_result"
    }
   ],
   "source": [
    "xN2xb"
   ]
  },
  {
   "cell_type": "markdown",
   "id": "verified-charter",
   "metadata": {},
   "source": [
    "### build $k_X$ and $k$"
   ]
  },
  {
   "cell_type": "code",
   "execution_count": 13,
   "id": "worth-concentrate",
   "metadata": {},
   "outputs": [
    {
     "data": {
      "text/latex": [
       "$\\displaystyle \\left[\\begin{matrix}\\frac{\\sqrt{2} \\left(- Q^{2} \\hat{x}_N \\hat{z}_N + Q^{2} \\hat{z}_N - \\hat{x}_N \\left(M_{kf}^{2} + T_{t}^{2} \\hat{z}_N^{2} - 2 T_{t} \\hat{z}_N \\delta_{k t} \\cos{\\left(\\theta_{H} - \\theta_{delta_k} \\right)} + \\delta_{k t}^{2}\\right)\\right)}{2 Q \\hat{x}_N \\hat{z}_N}\\\\\\frac{\\sqrt{2} \\left(Q^{2} \\left(1 - \\hat{z}_N\\right) + \\hat{x}_N \\left(M_{ki}^{2} + k_{i t}^{2}\\right)\\right)}{2 Q}\\\\T_{t} \\hat{z}_N \\cos{\\left(\\theta_{H} \\right)} - \\delta_{k t} \\cos{\\left(\\theta_{delta_k} \\right)} + k_{i t} \\cos{\\left(\\theta_{k_i} \\right)}\\\\T_{t} \\hat{z}_N \\sin{\\left(\\theta_{H} \\right)} - \\delta_{k t} \\sin{\\left(\\theta_{delta_k} \\right)} + k_{i t} \\sin{\\left(\\theta_{k_i} \\right)}\\end{matrix}\\right]$"
      ],
      "text/plain": [
       "Matrix([\n",
       "[sqrt(2)*(-Q**2*\\hat{x}_N*\\hat{z}_N + Q**2*\\hat{z}_N - \\hat{x}_N*(M_kf**2 + T_t**2*\\hat{z}_N**2 - 2*T_t*\\hat{z}_N*delta_k_t*cos(\\theta_H - \\theta_{delta_k}) + delta_k_t**2))/(2*Q*\\hat{x}_N*\\hat{z}_N)],\n",
       "[                                                                                                                                 sqrt(2)*(Q**2*(1 - \\hat{z}_N) + \\hat{x}_N*(M_ki**2 + k_i_t**2))/(2*Q)],\n",
       "[                                                                                                               T_t*\\hat{z}_N*cos(\\theta_H) - delta_k_t*cos(\\theta_{delta_k}) + k_i_t*cos(\\theta_{k_i})],\n",
       "[                                                                                                               T_t*\\hat{z}_N*sin(\\theta_H) - delta_k_t*sin(\\theta_{delta_k}) + k_i_t*sin(\\theta_{k_i})]])"
      ]
     },
     "execution_count": 13,
     "metadata": {},
     "output_type": "execute_result"
    }
   ],
   "source": [
    "kx=(ki+q-kf)\n",
    "kx.simplify_vec()\n",
    "sp.Matrix(kx.vec)"
   ]
  },
  {
   "cell_type": "code",
   "execution_count": 14,
   "id": "superb-excitement",
   "metadata": {},
   "outputs": [
    {
     "data": {
      "text/latex": [
       "$\\displaystyle - \\left(T_{t} \\hat{z}_N \\sin{\\left(\\theta_{H} \\right)} - \\delta_{k t} \\sin{\\left(\\theta_{delta_k} \\right)} + k_{i t} \\sin{\\left(\\theta_{k_i} \\right)}\\right)^{2} - \\left(T_{t} \\hat{z}_N \\cos{\\left(\\theta_{H} \\right)} - \\delta_{k t} \\cos{\\left(\\theta_{delta_k} \\right)} + k_{i t} \\cos{\\left(\\theta_{k_i} \\right)}\\right)^{2} + \\frac{\\left(Q^{2} \\left(1 - \\hat{z}_N\\right) + \\hat{x}_N \\left(M_{ki}^{2} + k_{i t}^{2}\\right)\\right) \\left(- Q^{2} \\hat{x}_N \\hat{z}_N + Q^{2} \\hat{z}_N - \\hat{x}_N \\left(M_{kf}^{2} + T_{t}^{2} \\hat{z}_N^{2} - 2 T_{t} \\hat{z}_N \\delta_{k t} \\cos{\\left(\\theta_{H} - \\theta_{delta_k} \\right)} + \\delta_{k t}^{2}\\right)\\right)}{Q^{2} \\hat{x}_N \\hat{z}_N}$"
      ],
      "text/plain": [
       "-(T_t*\\hat{z}_N*sin(\\theta_H) - delta_k_t*sin(\\theta_{delta_k}) + k_i_t*sin(\\theta_{k_i}))**2 - (T_t*\\hat{z}_N*cos(\\theta_H) - delta_k_t*cos(\\theta_{delta_k}) + k_i_t*cos(\\theta_{k_i}))**2 + (Q**2*(1 - \\hat{z}_N) + \\hat{x}_N*(M_ki**2 + k_i_t**2))*(-Q**2*\\hat{x}_N*\\hat{z}_N + Q**2*\\hat{z}_N - \\hat{x}_N*(M_kf**2 + T_t**2*\\hat{z}_N**2 - 2*T_t*\\hat{z}_N*delta_k_t*cos(\\theta_H - \\theta_{delta_k}) + delta_k_t**2))/(Q**2*\\hat{x}_N*\\hat{z}_N)"
      ]
     },
     "execution_count": 14,
     "metadata": {},
     "output_type": "execute_result"
    }
   ],
   "source": [
    "Mx2_val=kx.get_sqmass()\n",
    "Mx2_val"
   ]
  },
  {
   "cell_type": "code",
   "execution_count": 15,
   "id": "continuous-slope",
   "metadata": {},
   "outputs": [
    {
     "data": {
      "text/latex": [
       "$\\displaystyle \\left[\\begin{matrix}\\frac{\\sqrt{2} Q}{2} + \\frac{\\sqrt{2} \\left(\\frac{M_{kf}^{2}}{2} + \\frac{\\left(- T_{t} \\hat{z}_N \\sin{\\left(\\theta_{H} \\right)} + \\delta_{k t} \\sin{\\left(\\theta_{delta_k} \\right)}\\right)^{2}}{2} + \\frac{\\left(- T_{t} \\hat{z}_N \\cos{\\left(\\theta_{H} \\right)} + \\delta_{k t} \\cos{\\left(\\theta_{delta_k} \\right)}\\right)^{2}}{2}\\right)}{Q \\hat{z}_N}\\\\\\frac{\\sqrt{2} Q \\hat{z}_N}{2} - \\frac{\\sqrt{2} Q}{2}\\\\- T_{t} \\hat{z}_N \\cos{\\left(\\theta_{H} \\right)} + \\delta_{k t} \\cos{\\left(\\theta_{delta_k} \\right)}\\\\- T_{t} \\hat{z}_N \\sin{\\left(\\theta_{H} \\right)} + \\delta_{k t} \\sin{\\left(\\theta_{delta_k} \\right)}\\end{matrix}\\right]$"
      ],
      "text/plain": [
       "Matrix([\n",
       "[sqrt(2)*Q/2 + sqrt(2)*(M_kf**2/2 + (-T_t*\\hat{z}_N*sin(\\theta_H) + delta_k_t*sin(\\theta_{delta_k}))**2/2 + (-T_t*\\hat{z}_N*cos(\\theta_H) + delta_k_t*cos(\\theta_{delta_k}))**2/2)/(Q*\\hat{z}_N)],\n",
       "[                                                                                                                                                            sqrt(2)*Q*\\hat{z}_N/2 - sqrt(2)*Q/2],\n",
       "[                                                                                                                                 -T_t*\\hat{z}_N*cos(\\theta_H) + delta_k_t*cos(\\theta_{delta_k})],\n",
       "[                                                                                                                                 -T_t*\\hat{z}_N*sin(\\theta_H) + delta_k_t*sin(\\theta_{delta_k})]])"
      ]
     },
     "execution_count": 15,
     "metadata": {},
     "output_type": "execute_result"
    }
   ],
   "source": [
    "k=kf-q\n",
    "sp.Matrix(k.vec)"
   ]
  },
  {
   "cell_type": "markdown",
   "id": "33b6c5e9-6077-4df0-8b4c-9ff9974ab76a",
   "metadata": {},
   "source": [
    "### Print kf, ki"
   ]
  },
  {
   "cell_type": "code",
   "execution_count": 16,
   "id": "ef59cde6-3c07-4bf8-846a-292b3f352867",
   "metadata": {},
   "outputs": [
    {
     "data": {
      "text/latex": [
       "$\\displaystyle \\left[\\begin{matrix}\\frac{\\sqrt{2} \\left(\\frac{M_{kf}^{2}}{2} + \\frac{\\left(- T_{t} \\hat{z}_N \\sin{\\left(\\theta_{H} \\right)} + \\delta_{k t} \\sin{\\left(\\theta_{delta_k} \\right)}\\right)^{2}}{2} + \\frac{\\left(- T_{t} \\hat{z}_N \\cos{\\left(\\theta_{H} \\right)} + \\delta_{k t} \\cos{\\left(\\theta_{delta_k} \\right)}\\right)^{2}}{2}\\right)}{Q \\hat{z}_N}\\\\\\frac{\\sqrt{2} Q \\hat{z}_N}{2}\\\\- T_{t} \\hat{z}_N \\cos{\\left(\\theta_{H} \\right)} + \\delta_{k t} \\cos{\\left(\\theta_{delta_k} \\right)}\\\\- T_{t} \\hat{z}_N \\sin{\\left(\\theta_{H} \\right)} + \\delta_{k t} \\sin{\\left(\\theta_{delta_k} \\right)}\\end{matrix}\\right]$"
      ],
      "text/plain": [
       "Matrix([\n",
       "[sqrt(2)*(M_kf**2/2 + (-T_t*\\hat{z}_N*sin(\\theta_H) + delta_k_t*sin(\\theta_{delta_k}))**2/2 + (-T_t*\\hat{z}_N*cos(\\theta_H) + delta_k_t*cos(\\theta_{delta_k}))**2/2)/(Q*\\hat{z}_N)],\n",
       "[                                                                                                                                                            sqrt(2)*Q*\\hat{z}_N/2],\n",
       "[                                                                                                                   -T_t*\\hat{z}_N*cos(\\theta_H) + delta_k_t*cos(\\theta_{delta_k})],\n",
       "[                                                                                                                   -T_t*\\hat{z}_N*sin(\\theta_H) + delta_k_t*sin(\\theta_{delta_k})]])"
      ]
     },
     "execution_count": 16,
     "metadata": {},
     "output_type": "execute_result"
    }
   ],
   "source": [
    "sp.Matrix(kf.vec)"
   ]
  },
  {
   "cell_type": "code",
   "execution_count": 17,
   "id": "f711e940-b749-4d2f-a05f-c6ee913a152e",
   "metadata": {},
   "outputs": [
    {
     "data": {
      "text/latex": [
       "$\\displaystyle \\left[\\begin{matrix}\\frac{\\sqrt{2} Q}{2 \\hat{x}_N}\\\\\\frac{\\sqrt{2} \\hat{x}_N \\left(\\frac{M_{ki}^{2}}{2} + \\frac{k_{i t}^{2} \\sin^{2}{\\left(\\theta_{k_i} \\right)}}{2} + \\frac{k_{i t}^{2} \\cos^{2}{\\left(\\theta_{k_i} \\right)}}{2}\\right)}{Q}\\\\k_{i t} \\cos{\\left(\\theta_{k_i} \\right)}\\\\k_{i t} \\sin{\\left(\\theta_{k_i} \\right)}\\end{matrix}\\right]$"
      ],
      "text/plain": [
       "Matrix([\n",
       "[                                                                            sqrt(2)*Q/(2*\\hat{x}_N)],\n",
       "[sqrt(2)*\\hat{x}_N*(M_ki**2/2 + k_i_t**2*sin(\\theta_{k_i})**2/2 + k_i_t**2*cos(\\theta_{k_i})**2/2)/Q],\n",
       "[                                                                            k_i_t*cos(\\theta_{k_i})],\n",
       "[                                                                            k_i_t*sin(\\theta_{k_i})]])"
      ]
     },
     "execution_count": 17,
     "metadata": {},
     "output_type": "execute_result"
    }
   ],
   "source": [
    "sp.Matrix(ki.vec)\n"
   ]
  },
  {
   "cell_type": "markdown",
   "id": "fifth-lover",
   "metadata": {},
   "source": [
    "### build R01 Eq.(4.14) https://inspirehep.net/literature/1732230"
   ]
  },
  {
   "cell_type": "code",
   "execution_count": 16,
   "id": "empty-ballot",
   "metadata": {},
   "outputs": [
    {
     "data": {
      "text/latex": [
       "$\\displaystyle \\frac{M_{ki}^{2}}{Q^{2}}$"
      ],
      "text/plain": [
       "M_ki**2/Q**2"
      ]
     },
     "execution_count": 16,
     "metadata": {},
     "output_type": "execute_result"
    }
   ],
   "source": [
    "R01=sp.Abs((ki.get_sqmass())/(Q**2))\n",
    "R01=R01.simplify()\n",
    "R01"
   ]
  },
  {
   "cell_type": "markdown",
   "id": "forbidden-idaho",
   "metadata": {},
   "source": [
    "### build R02 Eq.(4.14) https://inspirehep.net/literature/1732230"
   ]
  },
  {
   "cell_type": "code",
   "execution_count": 17,
   "id": "extreme-onion",
   "metadata": {},
   "outputs": [
    {
     "data": {
      "text/latex": [
       "$\\displaystyle \\frac{M_{kf}^{2}}{Q^{2}}$"
      ],
      "text/plain": [
       "M_kf**2/Q**2"
      ]
     },
     "execution_count": 17,
     "metadata": {},
     "output_type": "execute_result"
    }
   ],
   "source": [
    "R02=sp.Abs((kf.get_sqmass())/(Q**2))\n",
    "R02=R02.simplify()\n",
    "R02   "
   ]
  },
  {
   "cell_type": "markdown",
   "id": "representative-concord",
   "metadata": {},
   "source": [
    "### build R03 Eq.(4.14) https://inspirehep.net/literature/1732230"
   ]
  },
  {
   "cell_type": "code",
   "execution_count": 18,
   "id": "metric-company",
   "metadata": {},
   "outputs": [
    {
     "data": {
      "text/latex": [
       "$\\displaystyle \\frac{\\delta_{k t}^{2}}{Q^{2}}$"
      ],
      "text/plain": [
       "delta_k_t**2/Q**2"
      ]
     },
     "execution_count": 18,
     "metadata": {},
     "output_type": "execute_result"
    }
   ],
   "source": [
    "R03=(dk.t**2)/(Q**2) \n",
    "R03=R03.simplify()\n",
    "R03"
   ]
  },
  {
   "cell_type": "markdown",
   "id": "union-estimate",
   "metadata": {},
   "source": [
    "### build R41 Eq.(100)"
   ]
  },
  {
   "cell_type": "code",
   "execution_count": 19,
   "id": "leading-lighting",
   "metadata": {},
   "outputs": [
    {
     "data": {
      "text/latex": [
       "$\\displaystyle \\frac{M_{ki}^{2} \\hat{z}_N}{\\left|{- M_{kf}^{2} \\hat{z}_N + M_{kf}^{2} - Q^{2} \\hat{z}_N^{2} + Q^{2} \\hat{z}_N + T_{t}^{2} \\hat{z}_N^{2} - 2 T_{t} \\hat{z}_N \\delta_{k t} \\cos{\\left(\\theta_{H} - \\theta_{delta_k} \\right)} + \\delta_{k t}^{2}}\\right|}$"
      ],
      "text/plain": [
       "M_ki**2*\\hat{z}_N/Abs(-M_kf**2*\\hat{z}_N + M_kf**2 - Q**2*\\hat{z}_N**2 + Q**2*\\hat{z}_N + T_t**2*\\hat{z}_N**2 - 2*T_t*\\hat{z}_N*delta_k_t*cos(\\theta_H - \\theta_{delta_k}) + delta_k_t**2)"
      ]
     },
     "execution_count": 19,
     "metadata": {},
     "output_type": "execute_result"
    }
   ],
   "source": [
    "R41=sp.Abs((ki*ki)/(k.get_sqmass()))\n",
    "R41=R41.simplify()\n",
    "R41"
   ]
  },
  {
   "cell_type": "markdown",
   "id": "relative-watershed",
   "metadata": {},
   "source": [
    "### build R42 Eq.(100)"
   ]
  },
  {
   "cell_type": "code",
   "execution_count": 20,
   "id": "streaming-bleeding",
   "metadata": {},
   "outputs": [
    {
     "data": {
      "text/latex": [
       "$\\displaystyle \\frac{M_{kf}^{2} \\hat{z}_N}{\\left|{- M_{kf}^{2} \\hat{z}_N + M_{kf}^{2} - Q^{2} \\hat{z}_N^{2} + Q^{2} \\hat{z}_N + T_{t}^{2} \\hat{z}_N^{2} - 2 T_{t} \\hat{z}_N \\delta_{k t} \\cos{\\left(\\theta_{H} - \\theta_{delta_k} \\right)} + \\delta_{k t}^{2}}\\right|}$"
      ],
      "text/plain": [
       "M_kf**2*\\hat{z}_N/Abs(-M_kf**2*\\hat{z}_N + M_kf**2 - Q**2*\\hat{z}_N**2 + Q**2*\\hat{z}_N + T_t**2*\\hat{z}_N**2 - 2*T_t*\\hat{z}_N*delta_k_t*cos(\\theta_H - \\theta_{delta_k}) + delta_k_t**2)"
      ]
     },
     "execution_count": 20,
     "metadata": {},
     "output_type": "execute_result"
    }
   ],
   "source": [
    "R42=sp.Abs((kf*kf)/(k.get_sqmass()))\n",
    "R42=R42.simplify()\n",
    "R42"
   ]
  },
  {
   "cell_type": "markdown",
   "id": "genuine-investor",
   "metadata": {},
   "source": [
    "### build R43 Eq.(100)"
   ]
  },
  {
   "cell_type": "code",
   "execution_count": 21,
   "id": "technical-sharing",
   "metadata": {},
   "outputs": [
    {
     "data": {
      "text/latex": [
       "$\\displaystyle \\frac{\\hat{z}_N \\delta_{k t}^{2}}{\\left|{- M_{kf}^{2} \\hat{z}_N + M_{kf}^{2} - Q^{2} \\hat{z}_N^{2} + Q^{2} \\hat{z}_N + T_{t}^{2} \\hat{z}_N^{2} - 2 T_{t} \\hat{z}_N \\delta_{k t} \\cos{\\left(\\theta_{H} - \\theta_{delta_k} \\right)} + \\delta_{k t}^{2}}\\right|}$"
      ],
      "text/plain": [
       "\\hat{z}_N*delta_k_t**2/Abs(-M_kf**2*\\hat{z}_N + M_kf**2 - Q**2*\\hat{z}_N**2 + Q**2*\\hat{z}_N + T_t**2*\\hat{z}_N**2 - 2*T_t*\\hat{z}_N*delta_k_t*cos(\\theta_H - \\theta_{delta_k}) + delta_k_t**2)"
      ]
     },
     "execution_count": 21,
     "metadata": {},
     "output_type": "execute_result"
    }
   ],
   "source": [
    "R43=sp.Abs((dk.t**2)/(k.get_sqmass()))\n",
    "R43=R43.simplify()\n",
    "R43"
   ]
  },
  {
   "cell_type": "markdown",
   "id": "complimentary-tractor",
   "metadata": {},
   "source": [
    "### build R1"
   ]
  },
  {
   "cell_type": "code",
   "execution_count": 22,
   "id": "chemical-monitor",
   "metadata": {},
   "outputs": [
    {
     "data": {
      "text/latex": [
       "$\\displaystyle \\frac{Q^{2} \\hat{x}_N \\left(M_{h}^{2} \\hat{z}_N^{2} + M_{kf}^{2} z_{N}^{2} + \\delta_{k t}^{2} z_{N}^{2}\\right)}{\\hat{z}_N \\left(Q^{4} z_{N}^{2} + 2 Q^{2} T_{t} \\hat{x}_N k_{i t} z_{N}^{2} \\cos{\\left(\\theta_{H} - \\theta_{k_i} \\right)} + \\hat{x}_N^{2} \\left(M_{h}^{2} + T_{t}^{2} z_{N}^{2}\\right) \\left(M_{ki}^{2} + k_{i t}^{2}\\right)\\right)}$"
      ],
      "text/plain": [
       "Q**2*\\hat{x}_N*(M_h**2*\\hat{z}_N**2 + M_kf**2*z_N**2 + delta_k_t**2*z_N**2)/(\\hat{z}_N*(Q**4*z_N**2 + 2*Q**2*T_t*\\hat{x}_N*k_i_t*z_N**2*cos(\\theta_H - \\theta_{k_i}) + \\hat{x}_N**2*(M_h**2 + T_t**2*z_N**2)*(M_ki**2 + k_i_t**2)))"
      ]
     },
     "execution_count": 22,
     "metadata": {},
     "output_type": "execute_result"
    }
   ],
   "source": [
    "R1=(H*kf)/(H*ki)\n",
    "R1=R1.simplify()\n",
    "R1"
   ]
  },
  {
   "cell_type": "markdown",
   "id": "according-atlas",
   "metadata": {},
   "source": [
    "### build R2"
   ]
  },
  {
   "cell_type": "code",
   "execution_count": 23,
   "id": "italic-graduate",
   "metadata": {},
   "outputs": [
    {
     "data": {
      "text/latex": [
       "$\\displaystyle \\frac{\\left|{M_{kf}^{2} - \\hat{z}_N \\left(M_{kf}^{2} + Q^{2} \\hat{z}_N - Q^{2} - T_{t}^{2} \\hat{z}_N + 2 T_{t} \\delta_{k t} \\cos{\\left(\\theta_{H} - \\theta_{delta_k} \\right)}\\right) + \\delta_{k t}^{2}}\\right|}{Q^{2} \\hat{z}_N}$"
      ],
      "text/plain": [
       "Abs(M_kf**2 - \\hat{z}_N*(M_kf**2 + Q**2*\\hat{z}_N - Q**2 - T_t**2*\\hat{z}_N + 2*T_t*delta_k_t*cos(\\theta_H - \\theta_{delta_k})) + delta_k_t**2)/(Q**2*\\hat{z}_N)"
      ]
     },
     "execution_count": 23,
     "metadata": {},
     "output_type": "execute_result"
    }
   ],
   "source": [
    "R2=sp.Abs(k.get_sqmass()/Q**2)\n",
    "R2=R2.simplify()\n",
    "R2"
   ]
  },
  {
   "cell_type": "markdown",
   "id": "popular-engineer",
   "metadata": {},
   "source": [
    "### build R3"
   ]
  },
  {
   "cell_type": "code",
   "execution_count": 24,
   "id": "religious-commons",
   "metadata": {},
   "outputs": [
    {
     "data": {
      "text/latex": [
       "$\\displaystyle \\frac{\\left|{Q^{2} \\hat{x}_N \\hat{z}_N \\left(T_{t}^{2} \\hat{z}_N^{2} - 2 T_{t} \\hat{z}_N \\delta_{k t} \\cos{\\left(\\theta_{H} - \\theta_{delta_k} \\right)} + 2 T_{t} \\hat{z}_N k_{i t} \\cos{\\left(\\theta_{H} - \\theta_{k_i} \\right)} + \\delta_{k t}^{2} - 2 \\delta_{k t} k_{i t} \\cos{\\left(\\theta_{delta_k} - \\theta_{k_i} \\right)} + k_{i t}^{2}\\right) + \\left(- Q^{2} \\left(\\hat{z}_N - 1\\right) + \\hat{x}_N \\left(M_{ki}^{2} + k_{i t}^{2}\\right)\\right) \\left(Q^{2} \\hat{x}_N \\hat{z}_N - Q^{2} \\hat{z}_N + \\hat{x}_N \\left(M_{kf}^{2} + T_{t}^{2} \\hat{z}_N^{2} - 2 T_{t} \\hat{z}_N \\delta_{k t} \\cos{\\left(\\theta_{H} - \\theta_{delta_k} \\right)} + \\delta_{k t}^{2}\\right)\\right)}\\right|}{Q^{4} \\hat{x}_N \\hat{z}_N}$"
      ],
      "text/plain": [
       "Abs(Q**2*\\hat{x}_N*\\hat{z}_N*(T_t**2*\\hat{z}_N**2 - 2*T_t*\\hat{z}_N*delta_k_t*cos(\\theta_H - \\theta_{delta_k}) + 2*T_t*\\hat{z}_N*k_i_t*cos(\\theta_H - \\theta_{k_i}) + delta_k_t**2 - 2*delta_k_t*k_i_t*cos(\\theta_{delta_k} - \\theta_{k_i}) + k_i_t**2) + (-Q**2*(\\hat{z}_N - 1) + \\hat{x}_N*(M_ki**2 + k_i_t**2))*(Q**2*\\hat{x}_N*\\hat{z}_N - Q**2*\\hat{z}_N + \\hat{x}_N*(M_kf**2 + T_t**2*\\hat{z}_N**2 - 2*T_t*\\hat{z}_N*delta_k_t*cos(\\theta_H - \\theta_{delta_k}) + delta_k_t**2)))/(Q**4*\\hat{x}_N*\\hat{z}_N)"
      ]
     },
     "execution_count": 24,
     "metadata": {},
     "output_type": "execute_result"
    }
   ],
   "source": [
    "R3=sp.Abs(kx.get_sqmass()/Q**2)\n",
    "R3=R3.simplify()\n",
    "R3"
   ]
  },
  {
   "cell_type": "markdown",
   "id": "dominant-clinic",
   "metadata": {},
   "source": [
    "### build R1p"
   ]
  },
  {
   "cell_type": "code",
   "execution_count": 25,
   "id": "bored-parker",
   "metadata": {},
   "outputs": [
    {
     "data": {
      "text/latex": [
       "$\\displaystyle \\frac{M^{2} x_{N}^{2} \\left(M_{h}^{2} + T_{t}^{2} z_{N}^{2}\\right) + Q^{4} z_{N}^{2}}{2 Q^{4} x_{N} z_{N}}$"
      ],
      "text/plain": [
       "(M**2*x_N**2*(M_h**2 + T_t**2*z_N**2) + Q**4*z_N**2)/(2*Q**4*x_N*z_N)"
      ]
     },
     "execution_count": 25,
     "metadata": {},
     "output_type": "execute_result"
    }
   ],
   "source": [
    "R1p=H*P/Q**2\n",
    "R1p=R1p.simplify()\n",
    "R1p"
   ]
  },
  {
   "cell_type": "markdown",
   "id": "hired-dairy",
   "metadata": {},
   "source": [
    "### build proton rapidity"
   ]
  },
  {
   "cell_type": "code",
   "execution_count": 26,
   "id": "allied-training",
   "metadata": {},
   "outputs": [
    {
     "data": {
      "text/latex": [
       "$\\displaystyle \\frac{\\log{\\left(\\frac{Q^{2}}{M^{2} x_{N}^{2}} \\right)}}{2}$"
      ],
      "text/plain": [
       "log(Q**2/(M**2*x_N**2))/2"
      ]
     },
     "execution_count": 26,
     "metadata": {},
     "output_type": "execute_result"
    }
   ],
   "source": [
    "yp=1/sp.S(2)*sp.log(sp.Abs(P.vec[0]/P.vec[1])).simplify()\n",
    "yp"
   ]
  },
  {
   "cell_type": "markdown",
   "id": "moral-basket",
   "metadata": {},
   "source": [
    "### build hadron rapidity"
   ]
  },
  {
   "cell_type": "code",
   "execution_count": 27,
   "id": "considerable-burning",
   "metadata": {},
   "outputs": [
    {
     "data": {
      "text/latex": [
       "$\\displaystyle - \\log{\\left(Q \\right)} - \\log{\\left(z_{N} \\right)} + \\frac{\\log{\\left(M_{h}^{2} + T_{t}^{2} z_{N}^{2} \\right)}}{2}$"
      ],
      "text/plain": [
       "-log(Q) - log(z_N) + log(M_h**2 + T_t**2*z_N**2)/2"
      ]
     },
     "execution_count": 27,
     "metadata": {},
     "output_type": "execute_result"
    }
   ],
   "source": [
    "yh=1/sp.S(2)*sp.log(sp.Abs(H.vec[0]/H.vec[1])).simplify()\n",
    "yh"
   ]
  },
  {
   "cell_type": "markdown",
   "id": "tutorial-slovenia",
   "metadata": {},
   "source": [
    "### build incomming parton rapidity"
   ]
  },
  {
   "cell_type": "code",
   "execution_count": 28,
   "id": "unable-mills",
   "metadata": {},
   "outputs": [
    {
     "data": {
      "text/latex": [
       "$\\displaystyle \\log{\\left(\\frac{Q}{\\hat{x}_N \\sqrt{M_{ki}^{2} + k_{i t}^{2}}} \\right)}$"
      ],
      "text/plain": [
       "log(Q/(\\hat{x}_N*sqrt(M_ki**2 + k_i_t**2)))"
      ]
     },
     "execution_count": 28,
     "metadata": {},
     "output_type": "execute_result"
    }
   ],
   "source": [
    "yi=(1/sp.S(2)*sp.log(sp.Abs(ki.vec[0]/ki.vec[1]))).simplify()\n",
    "yi"
   ]
  },
  {
   "cell_type": "markdown",
   "id": "decreased-original",
   "metadata": {},
   "source": [
    "### build outgoing parton rapidity"
   ]
  },
  {
   "cell_type": "code",
   "execution_count": 29,
   "id": "acting-marker",
   "metadata": {},
   "outputs": [
    {
     "data": {
      "text/latex": [
       "$\\displaystyle - \\log{\\left(Q \\right)} - \\log{\\left(\\hat{z}_N \\right)} + \\frac{\\log{\\left(\\left|{M_{kf}^{2} + T_{t}^{2} \\hat{z}_N^{2} - 2 T_{t} \\hat{z}_N \\delta_{k t} \\cos{\\left(\\theta_{H} - \\theta_{delta_k} \\right)} + \\delta_{k t}^{2}}\\right| \\right)}}{2}$"
      ],
      "text/plain": [
       "-log(Q) - log(\\hat{z}_N) + log(Abs(M_kf**2 + T_t**2*\\hat{z}_N**2 - 2*T_t*\\hat{z}_N*delta_k_t*cos(\\theta_H - \\theta_{delta_k}) + delta_k_t**2))/2"
      ]
     },
     "execution_count": 29,
     "metadata": {},
     "output_type": "execute_result"
    }
   ],
   "source": [
    "yf=(1/sp.S(2)*sp.log(sp.Abs(kf.vec[0]/kf.vec[1]))).simplify()\n",
    "yf"
   ]
  },
  {
   "cell_type": "markdown",
   "id": "surprising-headline",
   "metadata": {},
   "source": [
    "### get Htmax"
   ]
  },
  {
   "cell_type": "code",
   "execution_count": 30,
   "id": "figured-disney",
   "metadata": {},
   "outputs": [
    {
     "data": {
      "text/latex": [
       "$\\displaystyle \\left[\\begin{matrix}- \\frac{\\sqrt{2} Q}{2} + \\frac{\\sqrt{2} Q}{2 x_{N}} - \\frac{\\sqrt{2} \\left(\\frac{M_{h}^{2}}{2} + \\frac{T_{t}^{2} z_{N}^{2} \\sin^{2}{\\left(\\theta_{H} \\right)}}{2} + \\frac{T_{t}^{2} z_{N}^{2} \\cos^{2}{\\left(\\theta_{H} \\right)}}{2}\\right)}{Q z_{N}}\\\\\\frac{\\sqrt{2} M^{2} x_{N}}{2 Q} - \\frac{\\sqrt{2} Q z_{N}}{2} + \\frac{\\sqrt{2} Q}{2}\\\\T_{t} z_{N} \\cos{\\left(\\theta_{H} \\right)}\\\\T_{t} z_{N} \\sin{\\left(\\theta_{H} \\right)}\\end{matrix}\\right]$"
      ],
      "text/plain": [
       "Matrix([\n",
       "[-sqrt(2)*Q/2 + sqrt(2)*Q/(2*x_N) - sqrt(2)*(M_h**2/2 + T_t**2*z_N**2*sin(\\theta_H)**2/2 + T_t**2*z_N**2*cos(\\theta_H)**2/2)/(Q*z_N)],\n",
       "[                                                                             sqrt(2)*M**2*x_N/(2*Q) - sqrt(2)*Q*z_N/2 + sqrt(2)*Q/2],\n",
       "[                                                                                                              T_t*z_N*cos(\\theta_H)],\n",
       "[                                                                                                              T_t*z_N*sin(\\theta_H)]])"
      ]
     },
     "execution_count": 30,
     "metadata": {},
     "output_type": "execute_result"
    }
   ],
   "source": [
    "Wsidis=P+q-H\n",
    "sp.Matrix(Wsidis.vec)"
   ]
  },
  {
   "cell_type": "code",
   "execution_count": 31,
   "id": "excited-shelter",
   "metadata": {},
   "outputs": [
    {
     "data": {
      "text/latex": [
       "$\\displaystyle \\frac{- M^{2} M_{h}^{2} x_{N}^{2} - M^{2} Q^{2} x_{N}^{2} z_{N} + M_{h}^{2} Q^{2} x_{N} z_{N} - M_{h}^{2} Q^{2} x_{N} + Q^{4} x_{N} z_{N}^{2} - Q^{4} x_{N} z_{N} - Q^{4} z_{N}^{2} + Q^{4} z_{N}}{x_{N} \\left(M^{2} x_{N} + Q^{2}\\right)}$"
      ],
      "text/plain": [
       "(-M**2*M_h**2*x_N**2 - M**2*Q**2*x_N**2*z_N + M_h**2*Q**2*x_N*z_N - M_h**2*Q**2*x_N + Q**4*x_N*z_N**2 - Q**4*x_N*z_N - Q**4*z_N**2 + Q**4*z_N)/(x_N*(M**2*x_N + Q**2))"
      ]
     },
     "execution_count": 31,
     "metadata": {},
     "output_type": "execute_result"
    }
   ],
   "source": [
    "sqHtmax=sp.solve(Wsidis*Wsidis-M**2,T.t**2)[0]*zN**2\n",
    "sqHtmax"
   ]
  },
  {
   "cell_type": "code",
   "execution_count": 32,
   "id": "clear-thesaurus",
   "metadata": {},
   "outputs": [
    {
     "data": {
      "text/latex": [
       "$\\displaystyle \\frac{Q^{2} z_{N} \\left(x_{N} - 1\\right) \\left(z_{N} - 1\\right)}{x_{N}}$"
      ],
      "text/plain": [
       "Q**2*z_N*(x_N - 1)*(z_N - 1)/x_N"
      ]
     },
     "execution_count": 32,
     "metadata": {},
     "output_type": "execute_result"
    }
   ],
   "source": [
    "sp.factor(sqHtmax.replace(M,0).replace(Mh,0))"
   ]
  },
  {
   "cell_type": "markdown",
   "id": "vocational-glasgow",
   "metadata": {},
   "source": [
    "### get rapidity lims"
   ]
  },
  {
   "cell_type": "code",
   "execution_count": 33,
   "id": "dental-abuse",
   "metadata": {},
   "outputs": [
    {
     "data": {
      "text/latex": [
       "$\\displaystyle \\left[\\begin{matrix}\\frac{\\sqrt{2} \\left(\\frac{M_{h}^{2}}{2} + \\frac{T_{t}^{2} z_{N}^{2} \\sin^{2}{\\left(\\theta_{H} \\right)}}{2} + \\frac{T_{t}^{2} z_{N}^{2} \\cos^{2}{\\left(\\theta_{H} \\right)}}{2}\\right)}{Q z_{N}}\\\\\\frac{\\sqrt{2} Q z_{N}}{2}\\\\- T_{t} z_{N} \\cos{\\left(\\theta_{H} \\right)}\\\\- T_{t} z_{N} \\sin{\\left(\\theta_{H} \\right)}\\end{matrix}\\right]$"
      ],
      "text/plain": [
       "Matrix([\n",
       "[sqrt(2)*(M_h**2/2 + T_t**2*z_N**2*sin(\\theta_H)**2/2 + T_t**2*z_N**2*cos(\\theta_H)**2/2)/(Q*z_N)],\n",
       "[                                                                                 sqrt(2)*Q*z_N/2],\n",
       "[                                                                          -T_t*z_N*cos(\\theta_H)],\n",
       "[                                                                          -T_t*z_N*sin(\\theta_H)]])"
      ]
     },
     "execution_count": 33,
     "metadata": {},
     "output_type": "execute_result"
    }
   ],
   "source": [
    "sp.Matrix(H.vec)"
   ]
  },
  {
   "cell_type": "code",
   "execution_count": 34,
   "id": "academic-pencil",
   "metadata": {},
   "outputs": [
    {
     "data": {
      "text/latex": [
       "$\\displaystyle \\frac{\\log{\\left(\\frac{M_{h}^{2} + T_{t}^{2} z_{N}^{2}}{Q^{2} z_{N}^{2}} \\right)}}{2}$"
      ],
      "text/plain": [
       "log((M_h**2 + T_t**2*z_N**2)/(Q**2*z_N**2))/2"
      ]
     },
     "execution_count": 34,
     "metadata": {},
     "output_type": "execute_result"
    }
   ],
   "source": [
    "expr=(H.vec[0]/H.vec[1]).simplify()\n",
    "rap=(sp.log(expr)/2)#.subs(T.t,H.t/zN)\n",
    "rap"
   ]
  },
  {
   "cell_type": "markdown",
   "id": "adverse-converter",
   "metadata": {},
   "source": [
    "## from breit frame to hadron frame via   B->R->B \n",
    "\n",
    "### Setup momenta in LC coordenates"
   ]
  },
  {
   "cell_type": "code",
   "execution_count": 35,
   "id": "portuguese-slovenia",
   "metadata": {},
   "outputs": [],
   "source": [
    "H=Vec('H')\n",
    "q=Vec('q',mod=[1,1,0,0])\n",
    "P=Vec('P',mod=[1,1,0,0])\n",
    "T=Vec('T',mod=[0,0,1,1])\n",
    "\n",
    "q.set_plus(-Q/sp.sqrt(2))\n",
    "q.set_minus(Q/sp.sqrt(2))\n",
    "P.set_plus(Q/xN/sp.sqrt(2))\n",
    "P.set_minus(xN*M**2/sp.sqrt(2)/Q)\n",
    "H.set_minus(zN*q.vec[1])\n",
    "H.set_perp((-zN*T).vec[2:])\n",
    "H.change_plus(Mh)"
   ]
  },
  {
   "cell_type": "code",
   "execution_count": 36,
   "id": "separate-lemon",
   "metadata": {},
   "outputs": [
    {
     "data": {
      "text/latex": [
       "$\\displaystyle \\left[\\begin{matrix}\\frac{\\sqrt{2} Q}{2 x_{N}}\\\\\\frac{\\sqrt{2} M^{2} x_{N}}{2 Q}\\\\0\\\\0\\end{matrix}\\right]$"
      ],
      "text/plain": [
       "Matrix([\n",
       "[     sqrt(2)*Q/(2*x_N)],\n",
       "[sqrt(2)*M**2*x_N/(2*Q)],\n",
       "[                     0],\n",
       "[                     0]])"
      ]
     },
     "execution_count": 36,
     "metadata": {},
     "output_type": "execute_result"
    }
   ],
   "source": [
    "sp.Matrix(P.vec)"
   ]
  },
  {
   "cell_type": "code",
   "execution_count": 37,
   "id": "assumed-joshua",
   "metadata": {},
   "outputs": [
    {
     "data": {
      "text/latex": [
       "$\\displaystyle \\left[\\begin{matrix}- \\frac{\\sqrt{2} Q}{2}\\\\\\frac{\\sqrt{2} Q}{2}\\\\0\\\\0\\end{matrix}\\right]$"
      ],
      "text/plain": [
       "Matrix([\n",
       "[-sqrt(2)*Q/2],\n",
       "[ sqrt(2)*Q/2],\n",
       "[           0],\n",
       "[           0]])"
      ]
     },
     "execution_count": 37,
     "metadata": {},
     "output_type": "execute_result"
    }
   ],
   "source": [
    "sp.Matrix(q.vec)"
   ]
  },
  {
   "cell_type": "code",
   "execution_count": 38,
   "id": "lasting-devices",
   "metadata": {},
   "outputs": [
    {
     "data": {
      "text/latex": [
       "$\\displaystyle \\left[\\begin{matrix}\\frac{\\sqrt{2} \\left(M_{h}^{2} + T_{t}^{2} z_{N}^{2}\\right)}{2 Q z_{N}}\\\\\\frac{\\sqrt{2} Q z_{N}}{2}\\\\- T_{t} z_{N} \\cos{\\left(\\theta_{T} \\right)}\\\\- T_{t} z_{N} \\sin{\\left(\\theta_{T} \\right)}\\end{matrix}\\right]$"
      ],
      "text/plain": [
       "Matrix([\n",
       "[sqrt(2)*(M_h**2 + T_t**2*z_N**2)/(2*Q*z_N)],\n",
       "[                           sqrt(2)*Q*z_N/2],\n",
       "[                  -T_t*z_N*cos(\\theta_{T})],\n",
       "[                  -T_t*z_N*sin(\\theta_{T})]])"
      ]
     },
     "execution_count": 38,
     "metadata": {},
     "output_type": "execute_result"
    }
   ],
   "source": [
    "H.vec[0]=H.vec[0].simplify()\n",
    "sp.Matrix(H.vec)"
   ]
  },
  {
   "cell_type": "markdown",
   "id": "processed-unknown",
   "metadata": {},
   "source": [
    "### Change momenta to minkowski coordinates"
   ]
  },
  {
   "cell_type": "code",
   "execution_count": 39,
   "id": "reverse-impression",
   "metadata": {},
   "outputs": [],
   "source": [
    "H.LC2MC()\n",
    "q.LC2MC()\n",
    "P.LC2MC()\n",
    "\n",
    "H.simplify_vec()\n",
    "q.simplify_vec()\n",
    "P.simplify_vec()"
   ]
  },
  {
   "cell_type": "code",
   "execution_count": 40,
   "id": "alpine-growing",
   "metadata": {},
   "outputs": [
    {
     "data": {
      "text/latex": [
       "$\\displaystyle \\left[\\begin{matrix}\\frac{M^{2} x_{N}}{2 Q} + \\frac{Q}{2 x_{N}}\\\\0\\\\0\\\\- \\frac{M^{2} x_{N}}{2 Q} + \\frac{Q}{2 x_{N}}\\end{matrix}\\right]$"
      ],
      "text/plain": [
       "Matrix([\n",
       "[ M**2*x_N/(2*Q) + Q/(2*x_N)],\n",
       "[                          0],\n",
       "[                          0],\n",
       "[-M**2*x_N/(2*Q) + Q/(2*x_N)]])"
      ]
     },
     "execution_count": 40,
     "metadata": {},
     "output_type": "execute_result"
    }
   ],
   "source": [
    "sp.Matrix(P.vec)"
   ]
  },
  {
   "cell_type": "code",
   "execution_count": 41,
   "id": "floppy-particle",
   "metadata": {},
   "outputs": [
    {
     "data": {
      "text/latex": [
       "$\\displaystyle \\left[\\begin{matrix}0\\\\0\\\\0\\\\- Q\\end{matrix}\\right]$"
      ],
      "text/plain": [
       "Matrix([\n",
       "[ 0],\n",
       "[ 0],\n",
       "[ 0],\n",
       "[-Q]])"
      ]
     },
     "execution_count": 41,
     "metadata": {},
     "output_type": "execute_result"
    }
   ],
   "source": [
    "sp.Matrix(q.vec)"
   ]
  },
  {
   "cell_type": "code",
   "execution_count": 42,
   "id": "accurate-silly",
   "metadata": {},
   "outputs": [
    {
     "data": {
      "text/latex": [
       "$\\displaystyle \\left[\\begin{matrix}\\frac{M_{h}^{2} + Q^{2} z_{N}^{2} + T_{t}^{2} z_{N}^{2}}{2 Q z_{N}}\\\\- T_{t} z_{N} \\cos{\\left(\\theta_{T} \\right)}\\\\- T_{t} z_{N} \\sin{\\left(\\theta_{T} \\right)}\\\\\\frac{M_{h}^{2} - Q^{2} z_{N}^{2} + T_{t}^{2} z_{N}^{2}}{2 Q z_{N}}\\end{matrix}\\right]$"
      ],
      "text/plain": [
       "Matrix([\n",
       "[(M_h**2 + Q**2*z_N**2 + T_t**2*z_N**2)/(2*Q*z_N)],\n",
       "[                        -T_t*z_N*cos(\\theta_{T})],\n",
       "[                        -T_t*z_N*sin(\\theta_{T})],\n",
       "[(M_h**2 - Q**2*z_N**2 + T_t**2*z_N**2)/(2*Q*z_N)]])"
      ]
     },
     "execution_count": 42,
     "metadata": {},
     "output_type": "execute_result"
    }
   ],
   "source": [
    "sp.Matrix(H.vec)"
   ]
  },
  {
   "cell_type": "markdown",
   "id": "premier-category",
   "metadata": {},
   "source": [
    "### boost along $P$"
   ]
  },
  {
   "cell_type": "code",
   "execution_count": 43,
   "id": "assigned-antique",
   "metadata": {},
   "outputs": [],
   "source": [
    "bP=P.boost(P)\n",
    "bH=H.boost(P)\n",
    "bq=q.boost(P)\n",
    "\n",
    "bP.simplify_vec()\n",
    "bH.simplify_vec()\n",
    "bq.simplify_vec()"
   ]
  },
  {
   "cell_type": "code",
   "execution_count": 44,
   "id": "quarterly-helen",
   "metadata": {},
   "outputs": [
    {
     "data": {
      "text/latex": [
       "$\\displaystyle \\left[\\begin{matrix}M\\\\0\\\\0\\\\0\\end{matrix}\\right]$"
      ],
      "text/plain": [
       "Matrix([\n",
       "[M],\n",
       "[0],\n",
       "[0],\n",
       "[0]])"
      ]
     },
     "execution_count": 44,
     "metadata": {},
     "output_type": "execute_result"
    }
   ],
   "source": [
    "sp.Matrix(bP.vec)"
   ]
  },
  {
   "cell_type": "code",
   "execution_count": 45,
   "id": "sapphire-breast",
   "metadata": {},
   "outputs": [
    {
     "data": {
      "text/latex": [
       "$\\displaystyle \\left[\\begin{matrix}- \\frac{M x_{N}}{2} + \\frac{Q^{2}}{2 M x_{N}}\\\\0\\\\0\\\\- \\frac{M x_{N}}{2} - \\frac{Q^{2}}{2 M x_{N}}\\end{matrix}\\right]$"
      ],
      "text/plain": [
       "Matrix([\n",
       "[-M*x_N/2 + Q**2/(2*M*x_N)],\n",
       "[                        0],\n",
       "[                        0],\n",
       "[-M*x_N/2 - Q**2/(2*M*x_N)]])"
      ]
     },
     "execution_count": 45,
     "metadata": {},
     "output_type": "execute_result"
    }
   ],
   "source": [
    "sp.Matrix(bq.vec)"
   ]
  },
  {
   "cell_type": "code",
   "execution_count": 46,
   "id": "martial-omega",
   "metadata": {},
   "outputs": [
    {
     "data": {
      "text/latex": [
       "$\\displaystyle \\left[\\begin{matrix}\\frac{M M_{h}^{2} x_{N}}{2 Q^{2} z_{N}} + \\frac{M T_{t}^{2} x_{N} z_{N}}{2 Q^{2}} + \\frac{Q^{2} z_{N}}{2 M x_{N}}\\\\- T_{t} z_{N} \\cos{\\left(\\theta_{T} \\right)}\\\\- T_{t} z_{N} \\sin{\\left(\\theta_{T} \\right)}\\\\\\frac{M M_{h}^{2} x_{N}}{2 Q^{2} z_{N}} + \\frac{M T_{t}^{2} x_{N} z_{N}}{2 Q^{2}} - \\frac{Q^{2} z_{N}}{2 M x_{N}}\\end{matrix}\\right]$"
      ],
      "text/plain": [
       "Matrix([\n",
       "[M*M_h**2*x_N/(2*Q**2*z_N) + M*T_t**2*x_N*z_N/(2*Q**2) + Q**2*z_N/(2*M*x_N)],\n",
       "[                                                  -T_t*z_N*cos(\\theta_{T})],\n",
       "[                                                  -T_t*z_N*sin(\\theta_{T})],\n",
       "[M*M_h**2*x_N/(2*Q**2*z_N) + M*T_t**2*x_N*z_N/(2*Q**2) - Q**2*z_N/(2*M*x_N)]])"
      ]
     },
     "execution_count": 46,
     "metadata": {},
     "output_type": "execute_result"
    }
   ],
   "source": [
    "sp.Matrix(bH.vec)"
   ]
  },
  {
   "cell_type": "markdown",
   "id": "constitutional-circuit",
   "metadata": {},
   "source": [
    "### rotation"
   ]
  },
  {
   "cell_type": "code",
   "execution_count": 47,
   "id": "executive-superior",
   "metadata": {},
   "outputs": [
    {
     "data": {
      "text/latex": [
       "$\\displaystyle \\left[\\begin{matrix}0\\\\T_{t} z_{N} \\sin{\\left(\\theta_{T} \\right)}\\\\- T_{t} z_{N} \\cos{\\left(\\theta_{T} \\right)}\\\\0\\end{matrix}\\right]$"
      ],
      "text/plain": [
       "Matrix([\n",
       "[                       0],\n",
       "[ T_t*z_N*sin(\\theta_{T})],\n",
       "[-T_t*z_N*cos(\\theta_{T})],\n",
       "[                       0]])"
      ]
     },
     "execution_count": 47,
     "metadata": {},
     "output_type": "execute_result"
    }
   ],
   "source": [
    "Z=Vec('Z','MC',[0,0,0,1])\n",
    "Z.set_z(-1)\n",
    "cos=bH.get_cos(Z).simplify()\n",
    "sin=bH.get_sin(Z).simplify()\n",
    "N=Vec.cross(bH,Z)\n",
    "sp.Matrix(N.vec)"
   ]
  },
  {
   "cell_type": "code",
   "execution_count": 48,
   "id": "demanding-affair",
   "metadata": {},
   "outputs": [],
   "source": [
    "rbP=bP.rotate(N,cos,sin)\n",
    "rbH=bH.rotate(N,cos,sin)\n",
    "rbq=bq.rotate(N,cos,sin)\n",
    "\n",
    "rbP.simplify_vec()\n",
    "rbH.simplify_vec()\n",
    "rbq.simplify_vec()"
   ]
  },
  {
   "cell_type": "code",
   "execution_count": 49,
   "id": "engaged-fighter",
   "metadata": {},
   "outputs": [
    {
     "data": {
      "text/latex": [
       "$\\displaystyle \\left[\\begin{matrix}M\\\\0\\\\0\\\\0\\end{matrix}\\right]$"
      ],
      "text/plain": [
       "Matrix([\n",
       "[M],\n",
       "[0],\n",
       "[0],\n",
       "[0]])"
      ]
     },
     "execution_count": 49,
     "metadata": {},
     "output_type": "execute_result"
    }
   ],
   "source": [
    "sp.Matrix(rbP.vec)"
   ]
  },
  {
   "cell_type": "code",
   "execution_count": 50,
   "id": "raised-stupid",
   "metadata": {},
   "outputs": [
    {
     "data": {
      "text/latex": [
       "$\\displaystyle \\left[\\begin{matrix}- \\frac{M x_{N}}{2} + \\frac{Q^{2}}{2 M x_{N}}\\\\\\frac{Q^{2} T_{t} z_{N}^{2} \\left(M^{2} x_{N}^{2} + Q^{2}\\right) \\cos{\\left(\\theta_{T} \\right)}}{\\sqrt{4 M^{2} Q^{4} T_{t}^{2} x_{N}^{2} z_{N}^{4} + \\left(M^{2} M_{h}^{2} x_{N}^{2} + M^{2} T_{t}^{2} x_{N}^{2} z_{N}^{2} - Q^{4} z_{N}^{2}\\right)^{2}}}\\\\\\frac{Q^{2} T_{t} z_{N}^{2} \\left(M^{2} x_{N}^{2} + Q^{2}\\right) \\sin{\\left(\\theta_{T} \\right)}}{\\sqrt{4 M^{2} Q^{4} T_{t}^{2} x_{N}^{2} z_{N}^{4} + \\left(M^{2} M_{h}^{2} x_{N}^{2} + M^{2} T_{t}^{2} x_{N}^{2} z_{N}^{2} - Q^{4} z_{N}^{2}\\right)^{2}}}\\\\\\frac{\\left(M^{2} x_{N}^{2} + Q^{2}\\right) \\left(M^{2} M_{h}^{2} x_{N}^{2} + M^{2} T_{t}^{2} x_{N}^{2} z_{N}^{2} - Q^{4} z_{N}^{2}\\right)}{2 M x_{N} \\sqrt{4 M^{2} Q^{4} T_{t}^{2} x_{N}^{2} z_{N}^{4} + \\left(M^{2} M_{h}^{2} x_{N}^{2} + M^{2} T_{t}^{2} x_{N}^{2} z_{N}^{2} - Q^{4} z_{N}^{2}\\right)^{2}}}\\end{matrix}\\right]$"
      ],
      "text/plain": [
       "Matrix([\n",
       "[                                                                                                                                                                               -M*x_N/2 + Q**2/(2*M*x_N)],\n",
       "[                                         Q**2*T_t*z_N**2*(M**2*x_N**2 + Q**2)*cos(\\theta_{T})/sqrt(4*M**2*Q**4*T_t**2*x_N**2*z_N**4 + (M**2*M_h**2*x_N**2 + M**2*T_t**2*x_N**2*z_N**2 - Q**4*z_N**2)**2)],\n",
       "[                                         Q**2*T_t*z_N**2*(M**2*x_N**2 + Q**2)*sin(\\theta_{T})/sqrt(4*M**2*Q**4*T_t**2*x_N**2*z_N**4 + (M**2*M_h**2*x_N**2 + M**2*T_t**2*x_N**2*z_N**2 - Q**4*z_N**2)**2)],\n",
       "[(M**2*x_N**2 + Q**2)*(M**2*M_h**2*x_N**2 + M**2*T_t**2*x_N**2*z_N**2 - Q**4*z_N**2)/(2*M*x_N*sqrt(4*M**2*Q**4*T_t**2*x_N**2*z_N**4 + (M**2*M_h**2*x_N**2 + M**2*T_t**2*x_N**2*z_N**2 - Q**4*z_N**2)**2))]])"
      ]
     },
     "execution_count": 50,
     "metadata": {},
     "output_type": "execute_result"
    }
   ],
   "source": [
    "sp.Matrix(rbq.vec)"
   ]
  },
  {
   "cell_type": "code",
   "execution_count": 51,
   "id": "african-victorian",
   "metadata": {},
   "outputs": [
    {
     "data": {
      "text/latex": [
       "$\\displaystyle \\left[\\begin{matrix}\\frac{M M_{h}^{2} x_{N}}{2 Q^{2} z_{N}} + \\frac{M T_{t}^{2} x_{N} z_{N}}{2 Q^{2}} + \\frac{Q^{2} z_{N}}{2 M x_{N}}\\\\0\\\\0\\\\- \\frac{\\sqrt{4 M^{2} Q^{4} T_{t}^{2} x_{N}^{2} z_{N}^{4} + \\left(M^{2} M_{h}^{2} x_{N}^{2} + M^{2} T_{t}^{2} x_{N}^{2} z_{N}^{2} - Q^{4} z_{N}^{2}\\right)^{2}}}{2 M Q^{2} x_{N} z_{N}}\\end{matrix}\\right]$"
      ],
      "text/plain": [
       "Matrix([\n",
       "[                                                    M*M_h**2*x_N/(2*Q**2*z_N) + M*T_t**2*x_N*z_N/(2*Q**2) + Q**2*z_N/(2*M*x_N)],\n",
       "[                                                                                                                             0],\n",
       "[                                                                                                                             0],\n",
       "[-sqrt(4*M**2*Q**4*T_t**2*x_N**2*z_N**4 + (M**2*M_h**2*x_N**2 + M**2*T_t**2*x_N**2*z_N**2 - Q**4*z_N**2)**2)/(2*M*Q**2*x_N*z_N)]])"
      ]
     },
     "execution_count": 51,
     "metadata": {},
     "output_type": "execute_result"
    }
   ],
   "source": [
    "sp.Matrix(rbH.vec)"
   ]
  },
  {
   "cell_type": "markdown",
   "id": "blessed-password",
   "metadata": {},
   "source": [
    "### boost"
   ]
  },
  {
   "cell_type": "code",
   "execution_count": 52,
   "id": "tough-stereo",
   "metadata": {},
   "outputs": [],
   "source": [
    "cosh,sinh=Vec.get_boost_CS([rbP.get_E(),rbP.get_z()],[P.get_E(),P.get_z()])"
   ]
  },
  {
   "cell_type": "code",
   "execution_count": 53,
   "id": "aerial-compromise",
   "metadata": {},
   "outputs": [
    {
     "data": {
      "text/latex": [
       "$\\displaystyle \\left[\\begin{matrix}0\\\\0\\\\0\\\\1\\end{matrix}\\right]$"
      ],
      "text/plain": [
       "Matrix([\n",
       "[0],\n",
       "[0],\n",
       "[0],\n",
       "[1]])"
      ]
     },
     "execution_count": 53,
     "metadata": {},
     "output_type": "execute_result"
    }
   ],
   "source": [
    "Z=Vec('Z','MC',[0,0,0,1])\n",
    "Z.set_z(1)\n",
    "sp.Matrix(Z.vec)"
   ]
  },
  {
   "cell_type": "code",
   "execution_count": 54,
   "id": "north-president",
   "metadata": {},
   "outputs": [],
   "source": [
    "brbP=rbP.boost(Z,cosh,sinh)\n",
    "brbq=rbq.boost(Z,cosh,sinh)\n",
    "brbH=rbH.boost(Z,cosh,sinh)\n",
    "\n",
    "brbP.simplify_vec()\n",
    "brbH.simplify_vec()\n",
    "brbq.simplify_vec()\n"
   ]
  },
  {
   "cell_type": "code",
   "execution_count": 55,
   "id": "nominated-johns",
   "metadata": {},
   "outputs": [
    {
     "data": {
      "text/latex": [
       "$\\displaystyle \\left[\\begin{matrix}\\frac{M^{2} x_{N}}{2 Q} + \\frac{Q}{2 x_{N}}\\\\0\\\\0\\\\- \\frac{M^{2} x_{N}}{2 Q} + \\frac{Q}{2 x_{N}}\\end{matrix}\\right]$"
      ],
      "text/plain": [
       "Matrix([\n",
       "[ M**2*x_N/(2*Q) + Q/(2*x_N)],\n",
       "[                          0],\n",
       "[                          0],\n",
       "[-M**2*x_N/(2*Q) + Q/(2*x_N)]])"
      ]
     },
     "execution_count": 55,
     "metadata": {},
     "output_type": "execute_result"
    }
   ],
   "source": [
    "sp.Matrix(brbP.vec)"
   ]
  },
  {
   "cell_type": "code",
   "execution_count": 56,
   "id": "white-eclipse",
   "metadata": {},
   "outputs": [
    {
     "data": {
      "text/latex": [
       "$\\displaystyle \\left[\\begin{matrix}\\frac{\\left(M^{2} x_{N}^{2} - Q^{2}\\right) \\left(M^{2} x_{N}^{2} + Q^{2}\\right) \\left(- M^{2} M_{h}^{2} x_{N}^{2} - M^{2} T_{t}^{2} x_{N}^{2} z_{N}^{2} + Q^{4} z_{N}^{2} - \\sqrt{4 M^{2} Q^{4} T_{t}^{2} x_{N}^{2} z_{N}^{4} + \\left(M^{2} M_{h}^{2} x_{N}^{2} + M^{2} T_{t}^{2} x_{N}^{2} z_{N}^{2} - Q^{4} z_{N}^{2}\\right)^{2}}\\right)}{4 M^{2} Q x_{N}^{2} \\sqrt{4 M^{2} Q^{4} T_{t}^{2} x_{N}^{2} z_{N}^{4} + \\left(M^{2} M_{h}^{2} x_{N}^{2} + M^{2} T_{t}^{2} x_{N}^{2} z_{N}^{2} - Q^{4} z_{N}^{2}\\right)^{2}}}\\\\\\frac{Q^{2} T_{t} z_{N}^{2} \\left(M^{2} x_{N}^{2} + Q^{2}\\right) \\cos{\\left(\\theta_{T} \\right)}}{\\sqrt{4 M^{2} Q^{4} T_{t}^{2} x_{N}^{2} z_{N}^{4} + \\left(M^{2} M_{h}^{2} x_{N}^{2} + M^{2} T_{t}^{2} x_{N}^{2} z_{N}^{2} - Q^{4} z_{N}^{2}\\right)^{2}}}\\\\\\frac{Q^{2} T_{t} z_{N}^{2} \\left(M^{2} x_{N}^{2} + Q^{2}\\right) \\sin{\\left(\\theta_{T} \\right)}}{\\sqrt{4 M^{2} Q^{4} T_{t}^{2} x_{N}^{2} z_{N}^{4} + \\left(M^{2} M_{h}^{2} x_{N}^{2} + M^{2} T_{t}^{2} x_{N}^{2} z_{N}^{2} - Q^{4} z_{N}^{2}\\right)^{2}}}\\\\\\frac{\\left(M^{2} x_{N}^{2} - Q^{2}\\right)^{2} \\sqrt{4 M^{2} Q^{4} T_{t}^{2} x_{N}^{2} z_{N}^{4} + \\left(M^{2} M_{h}^{2} x_{N}^{2} + M^{2} T_{t}^{2} x_{N}^{2} z_{N}^{2} - Q^{4} z_{N}^{2}\\right)^{2}} + \\left(M^{2} x_{N}^{2} + Q^{2}\\right)^{2} \\left(M^{2} M_{h}^{2} x_{N}^{2} + M^{2} T_{t}^{2} x_{N}^{2} z_{N}^{2} - Q^{4} z_{N}^{2}\\right)}{4 M^{2} Q x_{N}^{2} \\sqrt{4 M^{2} Q^{4} T_{t}^{2} x_{N}^{2} z_{N}^{4} + \\left(M^{2} M_{h}^{2} x_{N}^{2} + M^{2} T_{t}^{2} x_{N}^{2} z_{N}^{2} - Q^{4} z_{N}^{2}\\right)^{2}}}\\end{matrix}\\right]$"
      ],
      "text/plain": [
       "Matrix([\n",
       "[       (M**2*x_N**2 - Q**2)*(M**2*x_N**2 + Q**2)*(-M**2*M_h**2*x_N**2 - M**2*T_t**2*x_N**2*z_N**2 + Q**4*z_N**2 - sqrt(4*M**2*Q**4*T_t**2*x_N**2*z_N**4 + (M**2*M_h**2*x_N**2 + M**2*T_t**2*x_N**2*z_N**2 - Q**4*z_N**2)**2))/(4*M**2*Q*x_N**2*sqrt(4*M**2*Q**4*T_t**2*x_N**2*z_N**4 + (M**2*M_h**2*x_N**2 + M**2*T_t**2*x_N**2*z_N**2 - Q**4*z_N**2)**2))],\n",
       "[                                                                                                                                                                                           Q**2*T_t*z_N**2*(M**2*x_N**2 + Q**2)*cos(\\theta_{T})/sqrt(4*M**2*Q**4*T_t**2*x_N**2*z_N**4 + (M**2*M_h**2*x_N**2 + M**2*T_t**2*x_N**2*z_N**2 - Q**4*z_N**2)**2)],\n",
       "[                                                                                                                                                                                           Q**2*T_t*z_N**2*(M**2*x_N**2 + Q**2)*sin(\\theta_{T})/sqrt(4*M**2*Q**4*T_t**2*x_N**2*z_N**4 + (M**2*M_h**2*x_N**2 + M**2*T_t**2*x_N**2*z_N**2 - Q**4*z_N**2)**2)],\n",
       "[((M**2*x_N**2 - Q**2)**2*sqrt(4*M**2*Q**4*T_t**2*x_N**2*z_N**4 + (M**2*M_h**2*x_N**2 + M**2*T_t**2*x_N**2*z_N**2 - Q**4*z_N**2)**2) + (M**2*x_N**2 + Q**2)**2*(M**2*M_h**2*x_N**2 + M**2*T_t**2*x_N**2*z_N**2 - Q**4*z_N**2))/(4*M**2*Q*x_N**2*sqrt(4*M**2*Q**4*T_t**2*x_N**2*z_N**4 + (M**2*M_h**2*x_N**2 + M**2*T_t**2*x_N**2*z_N**2 - Q**4*z_N**2)**2))]])"
      ]
     },
     "execution_count": 56,
     "metadata": {},
     "output_type": "execute_result"
    }
   ],
   "source": [
    "sp.Matrix(brbq.vec)"
   ]
  },
  {
   "cell_type": "code",
   "execution_count": 57,
   "id": "stainless-pricing",
   "metadata": {},
   "outputs": [
    {
     "data": {
      "text/latex": [
       "$\\displaystyle \\left[\\begin{matrix}\\frac{\\left(M^{2} x_{N}^{2} - Q^{2}\\right) \\sqrt{4 M^{2} Q^{4} T_{t}^{2} x_{N}^{2} z_{N}^{4} + \\left(M^{2} M_{h}^{2} x_{N}^{2} + M^{2} T_{t}^{2} x_{N}^{2} z_{N}^{2} - Q^{4} z_{N}^{2}\\right)^{2}} + \\left(M^{2} x_{N}^{2} + Q^{2}\\right) \\left(M^{2} M_{h}^{2} x_{N}^{2} + M^{2} T_{t}^{2} x_{N}^{2} z_{N}^{2} + Q^{4} z_{N}^{2}\\right)}{4 M^{2} Q^{3} x_{N}^{2} z_{N}}\\\\0\\\\0\\\\\\frac{- \\left(M^{2} x_{N}^{2} - Q^{2}\\right) \\left(M^{2} M_{h}^{2} x_{N}^{2} + M^{2} T_{t}^{2} x_{N}^{2} z_{N}^{2} + Q^{4} z_{N}^{2}\\right) - \\left(M^{2} x_{N}^{2} + Q^{2}\\right) \\sqrt{4 M^{2} Q^{4} T_{t}^{2} x_{N}^{2} z_{N}^{4} + \\left(M^{2} M_{h}^{2} x_{N}^{2} + M^{2} T_{t}^{2} x_{N}^{2} z_{N}^{2} - Q^{4} z_{N}^{2}\\right)^{2}}}{4 M^{2} Q^{3} x_{N}^{2} z_{N}}\\end{matrix}\\right]$"
      ],
      "text/plain": [
       "Matrix([\n",
       "[ ((M**2*x_N**2 - Q**2)*sqrt(4*M**2*Q**4*T_t**2*x_N**2*z_N**4 + (M**2*M_h**2*x_N**2 + M**2*T_t**2*x_N**2*z_N**2 - Q**4*z_N**2)**2) + (M**2*x_N**2 + Q**2)*(M**2*M_h**2*x_N**2 + M**2*T_t**2*x_N**2*z_N**2 + Q**4*z_N**2))/(4*M**2*Q**3*x_N**2*z_N)],\n",
       "[                                                                                                                                                                                                                                                0],\n",
       "[                                                                                                                                                                                                                                                0],\n",
       "[(-(M**2*x_N**2 - Q**2)*(M**2*M_h**2*x_N**2 + M**2*T_t**2*x_N**2*z_N**2 + Q**4*z_N**2) - (M**2*x_N**2 + Q**2)*sqrt(4*M**2*Q**4*T_t**2*x_N**2*z_N**4 + (M**2*M_h**2*x_N**2 + M**2*T_t**2*x_N**2*z_N**2 - Q**4*z_N**2)**2))/(4*M**2*Q**3*x_N**2*z_N)]])"
      ]
     },
     "execution_count": 57,
     "metadata": {},
     "output_type": "execute_result"
    }
   ],
   "source": [
    "sp.Matrix(brbH.vec)"
   ]
  },
  {
   "cell_type": "code",
   "execution_count": 58,
   "id": "dimensional-backing",
   "metadata": {},
   "outputs": [
    {
     "data": {
      "text/latex": [
       "$\\displaystyle \\frac{Q^{4} T_{t}^{2} z_{N}^{4} \\left(M^{2} x_{N}^{2} + Q^{2}\\right)^{2}}{4 M^{2} Q^{4} T_{t}^{2} x_{N}^{2} z_{N}^{4} + \\left(M^{2} M_{h}^{2} x_{N}^{2} + M^{2} T_{t}^{2} x_{N}^{2} z_{N}^{2} - Q^{4} z_{N}^{2}\\right)^{2}}$"
      ],
      "text/plain": [
       "Q**4*T_t**2*z_N**4*(M**2*x_N**2 + Q**2)**2/(4*M**2*Q**4*T_t**2*x_N**2*z_N**4 + (M**2*M_h**2*x_N**2 + M**2*T_t**2*x_N**2*z_N**2 - Q**4*z_N**2)**2)"
      ]
     },
     "execution_count": 58,
     "metadata": {},
     "output_type": "execute_result"
    }
   ],
   "source": [
    "qT2=brbq.vec[1]**2+brbq.vec[2]**2\n",
    "qT2=qT2.simplify()\n",
    "qT2"
   ]
  },
  {
   "cell_type": "code",
   "execution_count": 59,
   "id": "cutting-college",
   "metadata": {},
   "outputs": [],
   "source": [
    "def get_massless(exp,replace=[],n=3):\n",
    "    if len(replace)>0:\n",
    "        for _ in replace:\n",
    "            A,B=_\n",
    "            exp=exp.subs(A,B)\n",
    "    exp=exp.subs(Q,1/eps)        \n",
    "    return sp.series(exp,eps,0,n=n).subs(eps,1/Q).removeO()"
   ]
  },
  {
   "cell_type": "code",
   "execution_count": 60,
   "id": "gorgeous-nerve",
   "metadata": {},
   "outputs": [
    {
     "data": {
      "text/latex": [
       "$\\displaystyle \\frac{2 M^{2} T_{t}^{2} x_{N}^{2}}{Q^{2}} + T_{t}^{2}$"
      ],
      "text/plain": [
       "2*M**2*T_t**2*x_N**2/Q**2 + T_t**2"
      ]
     },
     "execution_count": 60,
     "metadata": {},
     "output_type": "execute_result"
    }
   ],
   "source": [
    "get_massless(qT2)"
   ]
  },
  {
   "cell_type": "markdown",
   "id": "d2a1a4a0-1696-4924-a21e-ff86bba60907",
   "metadata": {},
   "source": [
    "# ROWAN ADJUSTMENTS BEGIN"
   ]
  },
  {
   "cell_type": "markdown",
   "id": "greenhouse-bouquet",
   "metadata": {},
   "source": [
    "## Replacements"
   ]
  },
  {
   "cell_type": "markdown",
   "id": "47080dfc-0a6c-4b6c-aea0-eb10408efd1c",
   "metadata": {},
   "source": [
    "### Original"
   ]
  },
  {
   "cell_type": "code",
   "execution_count": 61,
   "id": "amended-intersection",
   "metadata": {},
   "outputs": [],
   "source": [
    "# ORIGINAL / MC\n",
    "\n",
    "# theta_H=sp.symbols('theta_H',positive = True, real = True)\n",
    "# theta_delta_k=sp.symbols('theta_delta_k',positive = True, real = True)\n",
    "# theta_ki=sp.symbols('theta_ki',positive = True, real = True)\n",
    "\n",
    "# def set_replacements(exp,option):\n",
    "#     exp=exp.subs(hzN,zN/zeta)\n",
    "#     exp=exp.subs(hxN,xN/xi)\n",
    "#     if option==1: exp=exp.subs(zN,zN2zhA)\n",
    "#     if option==2: exp=exp.subs(zN,zN2zhB)\n",
    "#     exp=exp.subs(xN,xN2xb)\n",
    "#     exp=exp.subs(Mki**2,-Mki**2)\n",
    "#     exp=exp.subs(-Mki**2 + ki.t**2,abs(-Mki**2 + dk.t**2)) # TODO (AP) I think this is right, but I should confirm\n",
    "\n",
    "#     #exp=exp.subs(Mki**2,-Mki2)\n",
    "#     #exp=exp.subs(-Mki2 + ki.t**2,abs(-Mki2 + dk.t**2)) # TODO (AP) I think this is right, but I should confirm\n",
    "\n",
    "#     #exp=exp.subs(Mkf**2,Mkf2)\n",
    "\n",
    "\n",
    "#     #--need to rewrite angles string to work as python variables\n",
    "#     exp=exp.subs(sp.symbols(r'\\theta_H'),theta_H)\n",
    "#     exp=exp.subs(r'\\theta_{delta_k}',theta_delta_k)\n",
    "#     exp=exp.subs(r'\\theta_{k_i}',theta_ki)\n",
    "\n",
    "#     return exp"
   ]
  },
  {
   "cell_type": "markdown",
   "id": "e1e6cc23-704e-42d5-a979-56732079438c",
   "metadata": {},
   "source": [
    "### Rowan Adjusted"
   ]
  },
  {
   "cell_type": "code",
   "execution_count": 61,
   "id": "928c725e-587d-44a2-808a-5f51393e15d5",
   "metadata": {},
   "outputs": [],
   "source": [
    "# NO SUB\n",
    "\n",
    "theta_H=sp.symbols('theta_H',positive = True, real = True)\n",
    "theta_delta_k=sp.symbols('theta_delta_k',positive = True, real = True)\n",
    "theta_ki=sp.symbols('theta_ki',positive = True, real = True)\n",
    "\n",
    "def set_replacements(exp,option):\n",
    "    exp=exp.subs(hzN,zN/zeta)\n",
    "    exp=exp.subs(hxN,xN/xi)\n",
    "    if option==1: exp=exp.subs(zN,zN2zhA)\n",
    "    if option==2: exp=exp.subs(zN,zN2zhB)\n",
    "    exp=exp.subs(xN,xN2xb)\n",
    "    # exp=exp.subs(Mki**2,-Mki**2)\n",
    "    exp=exp.subs(-Mki**2 + ki.t**2,abs(-Mki**2 + dk.t**2)) # TODO (AP) I think this is right, but I should confirm\n",
    "\n",
    "    #exp=exp.subs(Mki**2,-Mki2)\n",
    "    #exp=exp.subs(-Mki2 + ki.t**2,abs(-Mki2 + dk.t**2)) # TODO (AP) I think this is right, but I should confirm\n",
    "\n",
    "    #exp=exp.subs(Mkf**2,Mkf2)\n",
    "\n",
    "\n",
    "    #--need to rewrite angles string to work as python variables\n",
    "    exp=exp.subs(sp.symbols(r'\\theta_H'),theta_H)\n",
    "    exp=exp.subs(r'\\theta_{delta_k}',theta_delta_k)\n",
    "    exp=exp.subs(r'\\theta_{k_i}',theta_ki)\n",
    "\n",
    "    return exp\n",
    "\n",
    "def no_replace_set_replacements(exp,option):\n",
    "    # exp=exp.subs(hzN,zN/zeta)\n",
    "    # exp=exp.subs(hxN,xN/xi)\n",
    "    # if option==1: exp=exp.subs(zN,zN2zhA)\n",
    "    # if option==2: exp=exp.subs(zN,zN2zhB)\n",
    "    # exp=exp.subs(xN,xN2xb)\n",
    "    # exp=exp.subs(Mki**2,-Mki**2)\n",
    "    # exp=exp.subs(-Mki**2 + ki.t**2,abs(-Mki**2 + dk.t**2)) # TODO (AP) I think this is right, but I should confirm\n",
    "\n",
    "    #exp=exp.subs(Mki**2,-Mki2)\n",
    "    #exp=exp.subs(-Mki2 + ki.t**2,abs(-Mki2 + dk.t**2)) # TODO (AP) I think this is right, but I should confirm\n",
    "\n",
    "    #exp=exp.subs(Mkf**2,Mkf2)\n",
    "\n",
    "\n",
    "    #--need to rewrite angles string to work as python variables\n",
    "    exp=exp.subs(sp.symbols(r'\\theta_H'),theta_H)\n",
    "    exp=exp.subs(r'\\theta_{delta_k}',theta_delta_k)\n",
    "    exp=exp.subs(r'\\theta_{k_i}',theta_ki)\n",
    "\n",
    "    return exp"
   ]
  },
  {
   "cell_type": "markdown",
   "id": "solved-jamaica",
   "metadata": {},
   "source": [
    "### list of functions"
   ]
  },
  {
   "cell_type": "code",
   "execution_count": 62,
   "id": "sorted-perspective",
   "metadata": {},
   "outputs": [],
   "source": [
    "funcs=[]\n",
    "funcs.append(['get_xN=%s',xN2xb])\n",
    "funcs.append(['get_zN1=%s',zN2zhA])\n",
    "funcs.append(['get_zN2=%s',zN2zhB])\n",
    "funcs.append(['get_R01=%s',R01])\n",
    "funcs.append(['get_R02=%s',R02])\n",
    "funcs.append(['get_R03=%s',R03])\n",
    "funcs.append(['get_R41=%s',R41])\n",
    "funcs.append(['get_R42=%s',R42])\n",
    "funcs.append(['get_R43=%s',R43])\n",
    "funcs.append(['get_R1=%s',R1])\n",
    "funcs.append(['get_R2=%s',R2])\n",
    "funcs.append(['get_R3=%s',R3])\n",
    "funcs.append(['get_R1p=%s',R1p])\n",
    "funcs.append(['get_yp=%s',yp])\n",
    "funcs.append(['get_yh=%s',yh])\n",
    "funcs.append(['get_yi=%s',yi])\n",
    "funcs.append(['get_yf=%s',yf])\n",
    "funcs.append(['get_Htmax2=%s',(sqHtmax)])\n",
    "funcs.append(['get_rap=%s',rap])\n",
    "funcs.append(['get_qT2=%s',qT2])\n"
   ]
  },
  {
   "cell_type": "markdown",
   "id": "settled-firewall",
   "metadata": {},
   "source": [
    "### Original gen_params"
   ]
  },
  {
   "cell_type": "code",
   "execution_count": 63,
   "id": "b263b652-7f98-4a62-97e6-0ce5cd959f5e",
   "metadata": {},
   "outputs": [],
   "source": [
    "# ORIGINAL PARAMS\n",
    "# def gen_params():\n",
    "#     params={}\n",
    "#     params['M']   = 0.938\n",
    "#     params['M_h'] = 0.139\n",
    "#     params['x_bj']= 0.1\n",
    "#     params['z_h'] = 0.01\n",
    "#     params['Q']   = 2.0\n",
    "#     params['T_t'] = 0.1\n",
    "    \n",
    "#     #params['eta'] = 0\n",
    "#     params['xi']  = 0.3\n",
    "#     params['zeta']= 0.01\n",
    "#     params['delta_k_t']=0.2\n",
    "#     params['k_i_t']=0.01\n",
    "#     params['M_ki']=0.1\n",
    "#     params['M_kf']=0.1\n",
    "#     params['theta_H']=0.1\n",
    "#     params['theta_delta_k']=0.2\n",
    "#     params['theta_ki']=0.3\n",
    "#     return params"
   ]
  },
  {
   "cell_type": "code",
   "execution_count": 64,
   "id": "87a5e0f8-6666-45f2-a241-f78287b7fc28",
   "metadata": {},
   "outputs": [],
   "source": [
    "# MC PARAMS\n",
    "def gen_params():\n",
    "    params={}\n",
    "    params['M']   = 0.9383000135421753\n",
    "    params['M_h'] = 0.1395999938249588\n",
    "    params['x_bj']= 0.16320896560347234\n",
    "    params['z_h'] = 0.5194951775358012\n",
    "    params['Q']   = 1.4789999723434448\n",
    "    params['T_t'] = 0.7175107733485967\n",
    "    \n",
    "    #params['eta'] = 0\n",
    "    params['xi']  = 0.16835360085766207\n",
    "    params['zeta']= 0.5105653069816833\n",
    "    params['delta_k_t']=1.0020180155403615\n",
    "    params['k_i_t']=0.30531513305968966\n",
    "    params['M_ki']=0.2903655407963306\n",
    "    params['M_kf']=0.009899999946001516\n",
    "    params['theta_H']=-1.6331975808003956\n",
    "    params['theta_delta_k']=-1.4707750479396895\n",
    "    params['theta_ki']=-1.0737523225841965\n",
    "    return params\n",
    "    "
   ]
  },
  {
   "cell_type": "markdown",
   "id": "f3b722a9-ab4d-4c1c-9df7-8ebca718d349",
   "metadata": {},
   "source": [
    "### Original numerical test"
   ]
  },
  {
   "cell_type": "code",
   "execution_count": 65,
   "id": "08735201-0346-4121-8dc1-3a7ea728542f",
   "metadata": {},
   "outputs": [],
   "source": [
    "# def numerical_test(exp,option):\n",
    "#     exp=set_replacements(exp,option)\n",
    "#     args=(M,Mh,xb,zh,Q,T.t,xi,zeta,dk.t,ki.t,Mki,Mkf,theta_H,theta_delta_k,theta_ki)\n",
    "\n",
    "#     func=sp.lambdify(args, exp)\n",
    "#     keys=['M','M_h','x_bj','z_h','Q','T_t','xi','zeta',\\\n",
    "#           'delta_k_t','k_i_t','M_ki','M_kf','theta_H','theta_delta_k','theta_ki']\n",
    "\n",
    "#     params=gen_params()\n",
    "#     args=[params[_] for _ in keys]\n",
    "#     func_output = func(*args)\n",
    "#     rat_output = get_R2(*args)\n",
    "#     print(f\"rat_output: {rat_output}\\nfunc_output: {func_output}\\nHand output: {R2_hand}\")\n",
    "#     return func(*args)"
   ]
  },
  {
   "cell_type": "code",
   "execution_count": 66,
   "id": "finnish-bread",
   "metadata": {},
   "outputs": [],
   "source": [
    "# numerical_test(funcs[10][1],1)"
   ]
  },
  {
   "cell_type": "markdown",
   "id": "c5e95cb8-0fbe-48dc-b4b8-b43685c861c4",
   "metadata": {},
   "source": [
    "# START HERE Rowan Changes to gen_params, numerical test"
   ]
  },
  {
   "cell_type": "markdown",
   "id": "6ea4f347-ac29-4400-964f-dc3fe1f9900b",
   "metadata": {},
   "source": [
    "#### Importing data from MC"
   ]
  },
  {
   "cell_type": "code",
   "execution_count": 67,
   "id": "16475eed-8861-4b18-afc9-06f81c89f932",
   "metadata": {},
   "outputs": [],
   "source": [
    "from ratlib import get_R2, get_R1\n",
    "import uproot as up\n",
    "MCLund_pref = \"/w/hallb-scshelf2102/clas12/users/rojokell/MCLundAnalysis/\"\n",
    "\n",
    "MC = up.concatenate(MCLund_pref + f\"OutputFiles/Files_Spring_24/October_13/run_4_100kevents.root:tree_MC\")\n",
    "event = MC[10]\n",
    "R2_hand = 0"
   ]
  },
  {
   "cell_type": "markdown",
   "id": "61bcd7fa-16c7-4b4e-aee6-11545051db41",
   "metadata": {},
   "source": [
    "#### original numerical for all subs"
   ]
  },
  {
   "cell_type": "code",
   "execution_count": 68,
   "id": "5b0caa8b-0ef7-45c2-9a4a-5c6f32542a54",
   "metadata": {},
   "outputs": [],
   "source": [
    "# NUMERICAL TEST FOR all SUB\n",
    "def numerical_test(exp,option):\n",
    "    rat_params = event\n",
    "    params = event\n",
    "    exp=set_replacements(exp,option)\n",
    "    rat_args=(M,Mh,xb,zh,Q,T.t,xi,zeta,dk.t,ki.t,Mki,Mkf,theta_H,theta_delta_k,theta_ki)\n",
    "    rat_func=sp.lambdify(rat_args, exp)\n",
    "    # rat_params=gen_params()\n",
    "    rat_keys=['M','M_h','x','z','Q','qT_from_pT_BF','xi','zeta',\\\n",
    "          'delta_k_t','ki_t','M_ki','M_kf','theta_H','theta_deltak','theta_ki']\n",
    "    rat_args=[rat_params[_] for _ in rat_keys]\n",
    "    rat_output = get_R1(*rat_args)\n",
    "    \n",
    "    args=(M,Mh,hxN,hzN,Q,T.t,dk.t,ki.t,Mki,Mkf,theta_H,theta_delta_k,theta_ki)\n",
    "    func=sp.lambdify(args, exp)\n",
    "    keys=['M','M_h','x_N_hat','z_N_hat','Q','qT_from_pT_BF',\\\n",
    "          'delta_k_t','ki_t','M_ki','M_kf','theta_H','theta_deltak','theta_ki']\n",
    "    # params=gen_params_no_sub()\n",
    "    args=[params[_] for _ in keys]\n",
    "    # func_output = func(*args)\n",
    "    func_output = rat_func(*rat_args)\n",
    "    \n",
    "    print(f\"rat_output: {rat_output}\\nfunc_output: {func_output}\\nHand output: {R2_hand}\")\n",
    "    # return func(*args)"
   ]
  },
  {
   "cell_type": "code",
   "execution_count": 69,
   "id": "456c420c-d753-403f-a369-2d4f14af6de3",
   "metadata": {},
   "outputs": [
    {
     "name": "stdout",
     "output_type": "stream",
     "text": [
      "rat_output: 0.30231911839616593\n",
      "func_output: 0.302319118396166\n",
      "Hand output: 0\n"
     ]
    }
   ],
   "source": [
    "numerical_test(funcs[9][1],1);"
   ]
  },
  {
   "cell_type": "markdown",
   "id": "7c0a2150-cd8f-4d60-bbd4-e84ec47a8532",
   "metadata": {},
   "source": [
    "#### new numerical test for no subs"
   ]
  },
  {
   "cell_type": "code",
   "execution_count": 70,
   "id": "e8297710-a769-4211-a1ea-55d3ddd9be2a",
   "metadata": {},
   "outputs": [],
   "source": [
    "# NUMERICAL TEST FOR NO SUB\n",
    "def no_sub_numerical_test(exp,option):\n",
    "    rat_params = event\n",
    "    params = event\n",
    "    rat_exp=set_replacements(exp,option)\n",
    "    rat_args=(M,Mh,xb,zh,Q,T.t,xi,zeta,dk.t,ki.t,Mki,Mkf,theta_H,theta_delta_k,theta_ki)\n",
    "    rat_func=sp.lambdify(rat_args, rat_exp)\n",
    "    # rat_params=gen_params()\n",
    "    rat_keys=['M','M_h','x','z','Q','qT_from_pT_BF','xi','zeta',\\\n",
    "          'delta_k_t','ki_t','M_ki','M_kf','theta_H','theta_deltak','theta_ki']\n",
    "    rat_args=[rat_params[_] for _ in rat_keys]\n",
    "    rat_output = get_R1(*rat_args)\n",
    "\n",
    "    \n",
    "    no_sub_exp=no_replace_set_replacements(exp,option)\n",
    "    args=(M,Mh,hxN,hzN,Q,T.t,dk.t,ki.t,Mki,Mkf,theta_H,theta_delta_k,theta_ki,xN,zN)\n",
    "    func=sp.lambdify(args, no_sub_exp)\n",
    "    keys=['M','M_h','x_N_hat','z_N_hat','Q','qT_from_pT_BF',\\\n",
    "          'delta_k_t','ki_t','M_ki','M_kf','theta_H','theta_deltak','theta_ki','x_N','z_N']\n",
    "    # params=gen_params_no_sub()\n",
    "    args=[params[_] for _ in keys]\n",
    "    # func_output = func(*args)\n",
    "    func_output = func(*args)\n",
    "    MC_output = event[\"R1\"]\n",
    "    print(f\"rat_output: {rat_output}\\nfunc_output: {func_output}\\nMC output: {MC_output}\")\n",
    "    # return func(*args)"
   ]
  },
  {
   "cell_type": "code",
   "execution_count": 71,
   "id": "09abf965-a440-4011-8103-7ec73acaaadb",
   "metadata": {},
   "outputs": [
    {
     "name": "stdout",
     "output_type": "stream",
     "text": [
      "rat_output: 0.30231911839616593\n",
      "func_output: 0.24736924211380884\n",
      "MC output: 0.32725387328120376\n"
     ]
    }
   ],
   "source": [
    "no_sub_numerical_test(funcs[9][1],1);"
   ]
  },
  {
   "cell_type": "markdown",
   "id": "14e1807a-4972-497d-a059-493fea83dfc4",
   "metadata": {},
   "source": [
    "#### New numerical test for varying subs"
   ]
  },
  {
   "cell_type": "code",
   "execution_count": 72,
   "id": "f6540313-e0c7-4909-b532-f5a4c41beda1",
   "metadata": {},
   "outputs": [],
   "source": [
    "def vary_set_replacements(exp,option):\n",
    "    exp=exp.subs(hzN,zN/zeta)\n",
    "    exp=exp.subs(hxN,xN/xi)\n",
    "    if option==1: exp=exp.subs(zN,zN2zhA)\n",
    "    if option==2: exp=exp.subs(zN,zN2zhB)\n",
    "    exp=exp.subs(xN,xN2xb)\n",
    "    exp=exp.subs(Mki**2,-Mki**2)\n",
    "    # exp=exp.subs(-Mki**2 + ki.t**2,abs(-Mki**2 + dk.t**2)) # TODO (AP) I think this is right, but I should confirm\n",
    "\n",
    "    #exp=exp.subs(Mki**2,-Mki2)\n",
    "    #exp=exp.subs(-Mki2 + ki.t**2,abs(-Mki2 + dk.t**2)) # TODO (AP) I think this is right, but I should confirm\n",
    "\n",
    "    #exp=exp.subs(Mkf**2,Mkf2)\n",
    "\n",
    "\n",
    "    #--need to rewrite angles string to work as python variables\n",
    "    exp=exp.subs(sp.symbols(r'\\theta_H'),theta_H)\n",
    "    exp=exp.subs(r'\\theta_{delta_k}',theta_delta_k)\n",
    "    exp=exp.subs(r'\\theta_{k_i}',theta_ki)\n",
    "\n",
    "    return exp"
   ]
  },
  {
   "cell_type": "code",
   "execution_count": 73,
   "id": "772f2e7d-4d9d-495d-b59f-0f6e9b3e7056",
   "metadata": {},
   "outputs": [],
   "source": [
    "# Test for varying subs\n",
    "def vary_sub_numerical_test(exp,option):\n",
    "    #no need to change rat stuff when varying subs\n",
    "    rat_params = event\n",
    "    params = event\n",
    "    rat_exp=set_replacements(exp,option)\n",
    "    rat_args=(M,Mh,xb,zh,Q,T.t,xi,zeta,dk.t,ki.t,Mki,Mkf,theta_H,theta_delta_k,theta_ki)\n",
    "    rat_func=sp.lambdify(rat_args, rat_exp)\n",
    "    # rat_params=gen_params()\n",
    "    rat_keys=['M','M_h','x','z','Q','qT_from_pT_BF','xi','zeta',\\\n",
    "          'delta_k_t','ki_t','M_ki','M_kf','theta_H','theta_deltak','theta_ki']\n",
    "    rat_args=[rat_params[_] for _ in rat_keys]\n",
    "    rat_output = get_R1(*rat_args)\n",
    "\n",
    "    \n",
    "    no_sub_exp=vary_set_replacements(exp,option)\n",
    "    args=(M,Mh,hxN,hzN,Q,T.t,dk.t,ki.t,Mki,Mkf,theta_H,theta_delta_k,theta_ki,xN,zN,xi,zeta,xb,zh)\n",
    "    func=sp.lambdify(args, no_sub_exp)\n",
    "    keys=['M','M_h','x_N_hat','z_N_hat','Q','qT_from_pT_BF',\\\n",
    "          'delta_k_t','ki_t','M_ki','M_kf','theta_H','theta_deltak','theta_ki','x_N','z_N','xi','zeta','x','z']\n",
    "    # params=gen_params_no_sub()\n",
    "    args=[params[_] for _ in keys]\n",
    "    # func_output = func(*args)\n",
    "    func_output = func(*args)\n",
    "    MC_output = event[\"R1\"]\n",
    "    print(f\"rat_output: {rat_output}\\nfunc_output: {func_output}\\nMC output: {MC_output}\")\n",
    "    # return func(*args)"
   ]
  },
  {
   "cell_type": "code",
   "execution_count": 74,
   "id": "3129ef44-3189-4579-8811-90889144d164",
   "metadata": {},
   "outputs": [
    {
     "name": "stdout",
     "output_type": "stream",
     "text": [
      "rat_output: 0.30231911839616593\n",
      "func_output: 0.3243497808095164\n",
      "MC output: 0.32725387328120376\n"
     ]
    }
   ],
   "source": [
    "vary_sub_numerical_test(funcs[9][1],1);"
   ]
  },
  {
   "cell_type": "markdown",
   "id": "20de62bb-b70a-4075-a2e5-047568ea734a",
   "metadata": {},
   "source": [
    "# END ROWAN"
   ]
  },
  {
   "cell_type": "code",
   "execution_count": null,
   "id": "vietnamese-spanish",
   "metadata": {},
   "outputs": [],
   "source": [
    "from numpy import sqrt,log,exp,abs\n",
    "for func in funcs:\n",
    "    msg ='%15s'%func[0].replace('%s','')\n",
    "    msg+=' %10f'%numerical_test(func[1],1)\n",
    "    msg+=' %10f'%numerical_test(func[1],2)\n",
    "\n",
    "    print(msg)"
   ]
  },
  {
   "cell_type": "markdown",
   "id": "solid-label",
   "metadata": {},
   "source": [
    "### generate code"
   ]
  },
  {
   "cell_type": "code",
   "execution_count": 65,
   "id": "assigned-carpet",
   "metadata": {},
   "outputs": [],
   "source": [
    "def buildstr(exp,option):\n",
    "    exp=set_replacements(exp,option)\n",
    "    args=(M,Mh,xb,zh,Q,T.t,xi,zeta,dk.t,ki.t,Mki,Mkf,theta_H,theta_delta_k,)\n",
    "    func=lambdastr(args, exp)\n",
    "    func=func.replace('math.','')\n",
    "    return func"
   ]
  },
  {
   "cell_type": "code",
   "execution_count": 66,
   "id": "fallen-crack",
   "metadata": {},
   "outputs": [],
   "source": [
    "code=['from __future__ import division'] \n",
    "code.append('from numpy import sqrt,log,exp,abs')    \n",
    "for func in funcs:\n",
    "    code.append(func[0]%buildstr(func[1],1)) # 2 is the option for target region, 1 currect region\n",
    "code=[l+'\\n' for l in code]\n",
    "F=open('ratlib-current.py','w')\n",
    "F.writelines(code)\n",
    "F.close()"
   ]
  },
  {
   "cell_type": "code",
   "execution_count": 67,
   "id": "heard-undergraduate",
   "metadata": {},
   "outputs": [],
   "source": [
    "code=['from __future__ import division'] \n",
    "code.append('from numpy import sqrt,log,exp,abs')    \n",
    "for func in funcs:\n",
    "    code.append(func[0]%buildstr(func[1],2)) # 2 is the option for target region, 1 currect region\n",
    "code=[l+'\\n' for l in code]\n",
    "F=open('ratlib-target.py','w')\n",
    "F.writelines(code)\n",
    "F.close()"
   ]
  },
  {
   "cell_type": "code",
   "execution_count": 189,
   "id": "430619d8-2c33-4a31-925d-84aac3acaedc",
   "metadata": {},
   "outputs": [],
   "source": [
    "# MC PARAMS FOR NO SUB\n",
    "def gen_params_no_sub():\n",
    "    params={}\n",
    "    params['M']   = 0.9383000135421753\n",
    "    params['M_h'] = 0.1395999938249588\n",
    "    params['x_N_hat']= 0.9592384556245013\n",
    "    params['z_N_hat'] = 1.0039051085230934\n",
    "    params['Q']   = 1.4789999723434448\n",
    "    params['T_t'] = 0.7175107733485967 #qT_from_pT_BF\n",
    "    \n",
    "    #params['eta'] = 0\n",
    "    # params['xi']  = 0.16835360085766207\n",
    "    # params['zeta']= 0.5105653069816833\n",
    "    params['delta_k_t']=1.0020180155403615\n",
    "    params['k_i_t']=0.30531513305968966\n",
    "    params['M_ki']=0.2903655407963306\n",
    "    params['M_kf']=0.009899999946001516\n",
    "    params['theta_H']=-1.6331975808003956\n",
    "    params['theta_delta_k']=-1.4707750479396895\n",
    "    params['theta_ki']=-1.0737523225841965\n",
    "    return params\n",
    "    "
   ]
  },
  {
   "cell_type": "markdown",
   "id": "aquatic-hayes",
   "metadata": {},
   "source": [
    "# Here we build the code with jit to make it run faster"
   ]
  },
  {
   "cell_type": "code",
   "execution_count": 78,
   "id": "applicable-belief",
   "metadata": {},
   "outputs": [],
   "source": [
    "def buildstrnew(exp): # 2 is the option for target region, 1 currect region\n",
    "    exp=set_replacements(exp,1) \n",
    "    args=(M,Mh,xb,zh,Q,T.t,xi,zeta,dk.t,ki.t,Mki,Mkf,theta_H,theta_delta_k,theta_ki)\n",
    "    func=lambdastr(args, exp)\n",
    "    func=func.replace('math.','')\n",
    "    return func"
   ]
  },
  {
   "cell_type": "code",
   "execution_count": 79,
   "id": "needed-console",
   "metadata": {},
   "outputs": [],
   "source": [
    "codenew=['from __future__ import division'] \n",
    "codenew.append('from numpy import sqrt,log,exp,abs,cos')    \n",
    "codenew.append('from numba import jit')    \n",
    "for func in funcs:\n",
    "    #codenew.append('@jit')\n",
    "    string = buildstrnew(func[1]).replace('lambda','@jit\\n'+'def '+func[0].replace('=%s','('))\n",
    "    string = string.replace(':', '): return')\n",
    "    codenew.append(string)"
   ]
  },
  {
   "cell_type": "code",
   "execution_count": 80,
   "id": "pregnant-breakfast",
   "metadata": {},
   "outputs": [],
   "source": [
    "codenew=[l+'\\n' for l in codenew]\n",
    "F=open('ratlib-current.py','w')\n",
    "F.writelines(codenew)\n",
    "F.close()"
   ]
  },
  {
   "cell_type": "code",
   "execution_count": 81,
   "id": "ongoing-roads",
   "metadata": {},
   "outputs": [],
   "source": [
    "def buildstrnew(exp):\n",
    "    exp=set_replacements(exp, 2) # 2 is the option for target region, 1 currect region\n",
    "    args=(M,Mh,xb,zh,Q,T.t,xi,zeta,dk.t,ki.t,Mki,Mkf,theta_H,theta_delta_k,theta_ki)\n",
    "    func=lambdastr(args, exp)\n",
    "    func=func.replace('math.','')\n",
    "    return func"
   ]
  },
  {
   "cell_type": "code",
   "execution_count": 82,
   "id": "extra-yacht",
   "metadata": {},
   "outputs": [],
   "source": [
    "codenew=['from __future__ import division'] \n",
    "codenew.append('from numpy import sqrt,log,exp,abs,cos')    \n",
    "codenew.append('from numba import jit')    \n",
    "for func in funcs:\n",
    "    #codenew.append('@jit')\n",
    "    string = buildstrnew(func[1]).replace('lambda','@jit\\n'+'def '+func[0].replace('=%s','('))\n",
    "    string = string.replace(':', '): return')\n",
    "    codenew.append(string)"
   ]
  },
  {
   "cell_type": "code",
   "execution_count": 83,
   "id": "intellectual-degree",
   "metadata": {},
   "outputs": [],
   "source": [
    "codenew=[l+'\\n' for l in codenew]\n",
    "F=open('ratlib-target.py','w')\n",
    "F.writelines(codenew)\n",
    "F.close()"
   ]
  },
  {
   "cell_type": "code",
   "execution_count": null,
   "id": "permanent-clear",
   "metadata": {},
   "outputs": [],
   "source": []
  }
 ],
 "metadata": {
  "kernelspec": {
   "display_name": "Python 3 (ipykernel)",
   "language": "python",
   "name": "python3"
  },
  "language_info": {
   "codemirror_mode": {
    "name": "ipython",
    "version": 3
   },
   "file_extension": ".py",
   "mimetype": "text/x-python",
   "name": "python",
   "nbconvert_exporter": "python",
   "pygments_lexer": "ipython3",
   "version": "3.11.9"
  }
 },
 "nbformat": 4,
 "nbformat_minor": 5
}
