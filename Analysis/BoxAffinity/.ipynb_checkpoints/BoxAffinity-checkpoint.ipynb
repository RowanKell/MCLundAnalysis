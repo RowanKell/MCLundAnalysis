{
 "cells": [
  {
   "cell_type": "code",
   "execution_count": 14,
   "id": "armed-naples",
   "metadata": {},
   "outputs": [],
   "source": [
    "from ROOT import TFile,TTree,TCanvas,TH1F,gStyle,TLatex,gPad,TLegend,TLorentzVector,TH2F,TLine,TF1,TBox,RDataFrame,TPad,TF2\n",
    "import ROOT\n",
    "import numpy as np\n",
    "import awkward as awk\n",
    "import uproot\n",
    "import pandas as pd\n",
    "import matplotlib.pyplot as plot\n",
    "from pandas import read_excel \n",
    "from copy import deepcopy\n",
    "from ipywidgets import *\n",
    "import logging, os \n",
    "import time\n",
    "logging.disable(logging.WARNING) \n",
    "os.environ[\"TF_CPP_MIN_LOG_LEVEL\"] = \"3\"\n",
    "\n",
    "import tensorflow as tf\n",
    "# print(\"tf.__version__\", tf.__version__)\n"
   ]
  },
  {
   "cell_type": "code",
   "execution_count": 15,
   "id": "hungarian-pastor",
   "metadata": {},
   "outputs": [
    {
     "name": "stdout",
     "output_type": "stream",
     "text": [
      "{ \"z\", \"x\", \"pT\", \"Q2\", \"R0max\", \"R1max\", \"R2max\", \"Mh\", \"q_TdivQ\" }\n"
     ]
    }
   ],
   "source": [
    "d_plus = RDataFrame(\"tree_MC_plus\", \"../../OutputFiles/Slurm/Oct_27/file_*.root\")\n",
    "d_minus = RDataFrame(\"tree_MC_minus\", \"../../OutputFiles/Slurm/Oct_27/file_*.root\")\n",
    "print(d_plus.GetColumnNames())"
   ]
  },
  {
   "cell_type": "code",
   "execution_count": 16,
   "id": "local-balance",
   "metadata": {},
   "outputs": [],
   "source": [
    "# upr = uproot.open(\"../../OutputFiles/Slurm/Oct_27/file_1.root:tree_MC_plus\")\n",
    "# arr = upr.arrays([\"z\", \"x\", \"pT\", \"Q2\", \"R0max\",\"R1max\", \"R2max\", \"Mh\", \"q_TdivQ\"],library=\"pd\")"
   ]
  },
  {
   "cell_type": "code",
   "execution_count": 17,
   "id": "strategic-gilbert",
   "metadata": {},
   "outputs": [],
   "source": [
    "#Bins (each has 8 including 0)\n",
    "Mhbins = np.linspace(0,1.3,8)\n",
    "pTbins = np.linspace(0.1,0.8,8)\n",
    "xbins = np.array([0,0.1,0.13,0.16,0.19,0.235,0.3,0.5])\n",
    "zbins = np.array([0,0.35,0.43,0.49,0.55,0.62,0.7,0.83])\n",
    "Q2bins = np.array([0,1.2,1.8,2.3,3.1,4.3,7,11.1])"
   ]
  },
  {
   "cell_type": "code",
   "execution_count": 18,
   "id": "first-insert",
   "metadata": {},
   "outputs": [],
   "source": [
    "varName = np.array([\"x\", \"z\", \"Q2\", \"pT\", \"R0max\", \"R1max\", \"R2max\"])"
   ]
  },
  {
   "cell_type": "code",
   "execution_count": 19,
   "id": "subject-purchase",
   "metadata": {},
   "outputs": [],
   "source": [
    "px = [0 for i in range(7)]\n",
    "pz = [0 for i in range(7)]\n",
    "pMh=[0 for i in range(7)]\n",
    "ppT=[0 for i in range(7)]\n",
    "pxQ2 = [0 for i in range(7)]\n",
    "\n",
    "pxcut = [0 for i in range(7)]\n",
    "pzcut = [0 for i in range(7)]\n",
    "pMhcut=[0 for i in range(7)]\n",
    "ppTcut=[0 for i in range(7)]\n"
   ]
  },
  {
   "cell_type": "code",
   "execution_count": 20,
   "id": "dutch-championship",
   "metadata": {},
   "outputs": [],
   "source": [
    "start_time = time.time()\n",
    "xformat = \"x <= {} && x > {}\"\n",
    "zformat = \"z <= {} && z > {}\"\n",
    "Mhformat = \"Mh <= {} && Mh > {}\"\n",
    "pTformat = \"pT <= {} && pT > {}\"\n",
    "R0format = \"R0max <= {} && R0max > {}\"\n",
    "R1format = \"R1max <= {} && R1max > {}\"\n",
    "R2format = \"R2max <= {} && R2max > {}\"\n",
    "qdivformat = \"q_TdivQ <= {} && q_TdivQ > {}\"\n",
    "\n",
    "\n",
    "#Piplus\n",
    "#x bins\n",
    "#i is the kinematic variable\n",
    "#j is the bin num\n",
    "for i in range(7):\n",
    "    pxcut[i] = d_plus.Filter(xformat.format(xbins[i + 1],xbins[i])).Filter(\"R0max < 0.3\").Filter(\"R2max < 0.3\").Filter(\"R1max < 0.3\").Count()\n",
    "    px[i] = d_plus.Filter(xformat.format(xbins[i + 1],xbins[i])).Count()\n",
    "    pMhcut[i] = d_plus.Filter(Mhformat.format(Mhbins[i + 1],Mhbins[i])).Filter(\"R0max < 0.3\").Filter(\"R2max < 0.3\").Filter(\"R1max < 0.3\").Count()\n",
    "    pMh[i] = d_plus.Filter(Mhformat.format(Mhbins[i + 1],Mhbins[i])).Count()\n",
    "    pzcut[i] = d_plus.Filter(zformat.format(zbins[i + 1],zbins[i])).Filter(\"R0max < 0.3\").Filter(\"R2max < 0.3\").Filter(\"R1max < 0.3\").Count() \n",
    "    pz[i] = d_plus.Filter(zformat.format(zbins[i + 1],zbins[i])).Count()\n",
    "    ppTcut[i] = d_plus.Filter(pTformat.format(pTbins[i + 1],pTbins[i])).Filter(\"R0max < 0.3\").Filter(\"R2max < 0.3\").Filter(\"R1max < 0.3\").Count()\n",
    "    ppT[i] = d_plus.Filter(pTformat.format(pTbins[i + 1],pTbins[i])).Count()\n",
    "    pcut[i] = d_plus.Filter(pTformat.format(pTbins[i + 1],pTbins[i])).Filter(\"R0max < 0.3\").Filter(\"R2max < 0.3\").Filter(\"R1max < 0.3\").Count()\n",
    "    ppT[i] = d_plus.Filter(pTformat.format(pTbins[i + 1],pTbins[i])).Count()\n",
    "        \n"
   ]
  },
  {
   "cell_type": "code",
   "execution_count": 21,
   "id": "burning-radical",
   "metadata": {},
   "outputs": [],
   "source": [
    "for i in range(7):\n",
    "    pxcut[i] = d_plus.Filter(xformat.format(xbins[i + 1],xbins[i])).Filter(\"R0max < 0.9 && R0max > 0.3\").Filter(\"R2max < 0.9 && R2max >0.3\").Filter(\"R1max < 0.9 && R1max >0.3\").Count()\n",
    "    px[i] = d_plus.Filter(xformat.format(xbins[i + 1],xbins[i])).Count()\n",
    "    pMhcut[i] = d_plus.Filter(Mhformat.format(Mhbins[i + 1],Mhbins[i])).Filter(\"R0max < 0.9 && R0max >0.3\").Filter(\"R2max < 0.9 && R2max >0.3\").Filter(\"R1max < 0.9 && R1max >0.3\").Count()\n",
    "    pMh[i] = d_plus.Filter(Mhformat.format(Mhbins[i + 1],Mhbins[i])).Count()\n",
    "    pzcut[i] = d_plus.Filter(zformat.format(zbins[i + 1],zbins[i])).Filter(\"R0max < 0.9 && R0max >0.3\").Filter(\"R2max < 0.9 && R2max >0.3\").Filter(\"R1max < 0.9 && R1max >0.3\").Count() \n",
    "    pz[i] = d_plus.Filter(zformat.format(zbins[i + 1],zbins[i])).Count()\n",
    "    ppTcut[i] = d_plus.Filter(pTformat.format(pTbins[i + 1],pTbins[i])).Filter(\"R0max < 0.9 && R0max >0.3\").Filter(\"R2max < 0.9 && R2max >0.3\").Filter(\"R1max < 0.9 && R1max >0.3\").Count()\n",
    "    ppT[i] = d_plus.Filter(pTformat.format(pTbins[i + 1],pTbins[i])).Count()"
   ]
  },
  {
   "cell_type": "code",
   "execution_count": 22,
   "id": "tamil-sentence",
   "metadata": {},
   "outputs": [],
   "source": [
    "start_time = time.time()\n",
    "xformat = \"x <= {} && x > {}\"\n",
    "zformat = \"z <= {} && z > {}\"\n",
    "Mhformat = \"Mh <= {} && Mh > {}\"\n",
    "pTformat = \"pT <= {} && pT > {}\"\n",
    "R0format = \"R0max <= {}\"\n",
    "R1format = \"R1max <= {}\"\n",
    "R2format = \"R2max <= {}\"\n",
    "# RALLcut = 1\n",
    "RALLcut = 0.3\n",
    "R0cut = RALLcut\n",
    "R1cut = RALLcut\n",
    "R2cut = RALLcut\n",
    "\n",
    "#Piplus\n",
    "#x bins\n",
    "#i is the kinematic variable\n",
    "#j is the bin num\n",
    "for i in range(7):\n",
    "    pxcut[i] = d_plus.Filter(xformat.format(xbins[i + 1],xbins[i])).Filter(R0format.format(R0cut)).Filter(R1format.format(R1cut)).Filter(R2format.format(R2cut)).Count()\n",
    "    px[i] = d_plus.Filter(xformat.format(xbins[i + 1],xbins[i])).Count()\n",
    "    pMhcut[i] = d_plus.Filter(Mhformat.format(Mhbins[i + 1],Mhbins[i])).Filter(R0format.format(R0cut)).Filter(R1format.format(R1cut)).Filter(R2format.format(R2cut)).Count()\n",
    "    pMh[i] = d_plus.Filter(Mhformat.format(Mhbins[i + 1],Mhbins[i])).Count()\n",
    "    pzcut[i] = d_plus.Filter(zformat.format(zbins[i + 1],zbins[i])).Filter(R0format.format(R0cut)).Filter(R1format.format(R1cut)).Filter(R2format.format(R2cut)).Count() \n",
    "    pz[i] = d_plus.Filter(zformat.format(zbins[i + 1],zbins[i])).Count()\n",
    "    ppTcut[i] = d_plus.Filter(pTformat.format(pTbins[i + 1],pTbins[i])).Filter(R0format.format(R0cut)).Filter(R1format.format(R1cut)).Filter(R2format.format(R2cut)).Count()\n",
    "    ppT[i] = d_plus.Filter(pTformat.format(pTbins[i + 1],pTbins[i])).Count()\n",
    "        \n"
   ]
  },
  {
   "cell_type": "code",
   "execution_count": 23,
   "id": "black-compound",
   "metadata": {},
   "outputs": [],
   "source": [
    "for i in range(7):\n",
    "    pxcut[i] = pxcut[i].GetValue()\n",
    "    px[i] = px[i].GetValue()\n",
    "    pMhcut[i] = pMhcut[i].GetValue()\n",
    "    pMh[i] = pMh[i].GetValue()\n",
    "    pzcut[i] = pzcut[i].GetValue()\n",
    "    pz[i] = pz[i].GetValue()\n",
    "    ppTcut[i] = ppTcut[i].GetValue()\n",
    "    ppT[i] = ppT[i].GetValue()"
   ]
  },
  {
   "cell_type": "code",
   "execution_count": 24,
   "id": "practical-triumph",
   "metadata": {},
   "outputs": [],
   "source": [
    "pxval = [0 for i in range(7)]\n",
    "pzval = [0 for i in range(7)]\n",
    "pMhval=[0 for i in range(7)]\n",
    "ppTval=[0 for i in range(7)]\n",
    "Mhbinsno0 = np.linspace(0.3,1.3,7)\n",
    "pTbinsno0 = np.linspace(0.2,0.8,7)\n",
    "xbinsno0 = np.array([0.1,0.13,0.16,0.19,0.235,0.3,0.5])\n",
    "zbinsno0 = np.array([0.35,0.43,0.49,0.55,0.62,0.7,0.83])"
   ]
  },
  {
   "cell_type": "code",
   "execution_count": 25,
   "id": "female-channel",
   "metadata": {},
   "outputs": [],
   "source": [
    "for i in range(7):\n",
    "    if(px[i] == 0):\n",
    "        pxval[i] = 0\n",
    "    else: pxval[i] = pxcut[i] / px[i]\n",
    "    if(pz[i] == 0):\n",
    "        pzval[i] = 0\n",
    "    else: pzval[i] = pzcut[i] / pz[i]\n",
    "    if(ppT[i] == 0):\n",
    "        ppTval[i] = 0\n",
    "    else: ppTval[i] = ppTcut[i] / ppT[i]\n",
    "    if(pMh[i] == 0):\n",
    "        pMhval[i] = 0\n",
    "    else: pMhval[i] = pMhcut[i] / pMh[i]\n",
    "    \n",
    "    \n",
    "    \n",
    "    "
   ]
  },
  {
   "cell_type": "code",
   "execution_count": 26,
   "id": "medieval-recorder",
   "metadata": {},
   "outputs": [
    {
     "data": {
      "text/plain": [
       "[Text(0.5, 0, 'Mh (GeV)')]"
      ]
     },
     "execution_count": 26,
     "metadata": {},
     "output_type": "execute_result"
    },
    {
     "data": {
      "image/png": "[encoded data removed]",
      "text/plain": [
       "<Figure size 648x648 with 4 Axes>"
      ]
     },
     "metadata": {
      "needs_background": "light"
     },
     "output_type": "display_data"
    }
   ],
   "source": [
    "fig2, ((ax12, ax22), (ax32, ax42)) = plot.subplots(2, 2, figsize = (9, 9))\n",
    "fig2.suptitle(\"Pi+ Affinity in the TMD region: BOX size 1\")\n",
    "# fig2.ylable(\"Affinity\")\n",
    "ax12.set(ylabel = \"Affinity\")\n",
    "ax12.scatter(pTbinsno0, ppTval, c = 'r', marker = \"+\")\n",
    "# fig2.legend(shadow = \"true\", title = \"Key\", fontsize = 12)\n",
    "ax12.axhline(y=0, color=\"gray\", lw = 1)\n",
    "ax12.set_title(\"pT binning\")\n",
    "ax12.set(xlabel = \"pT (GeV)\")\n",
    "ax22.scatter(xbinsno0, pxval, c = 'r', marker = '+')\n",
    "ax22.axhline(y=0, color=\"gray\", lw = 1)\n",
    "ax22.set_title(\"x binning\")\n",
    "ax22.set(xlabel = \"x\")\n",
    "ax32.scatter(zbinsno0, pzval, c = 'r', marker = '+')\n",
    "ax32.axhline(y=0, color=\"gray\", lw = 1)\n",
    "ax32.set_title(\"z_h binning\")\n",
    "ax32.set(xlabel = \"z_h\")\n",
    "ax32.set(ylabel = \"Affinity\")\n",
    "ax42.scatter(Mhbinsno0, pMhval, c = 'r', marker = \"+\")\n",
    "ax42.axhline(y=0, color=\"gray\", lw = 1)\n",
    "ax42.set_title(\"Mh binning\")\n",
    "ax42.set(xlabel = \"Mh (GeV)\")\n",
    "# plot.savefig(\"Plots/TMDbigBox.jpeg\")\n"
   ]
  },
  {
   "cell_type": "code",
   "execution_count": null,
   "id": "soviet-nerve",
   "metadata": {},
   "outputs": [],
   "source": []
  },
  {
   "cell_type": "code",
   "execution_count": null,
   "id": "hearing-burke",
   "metadata": {},
   "outputs": [],
   "source": []
  }
 ],
 "metadata": {
  "kernelspec": {
   "display_name": "Python 3",
   "language": "python",
   "name": "python3"
  },
  "language_info": {
   "codemirror_mode": {
    "name": "ipython",
    "version": 3
   },
   "file_extension": ".py",
   "mimetype": "text/x-python",
   "name": "python",
   "nbconvert_exporter": "python",
   "pygments_lexer": "ipython3",
   "version": "3.8.6"
  }
 },
 "nbformat": 4,
 "nbformat_minor": 5
}
