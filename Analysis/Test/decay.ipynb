{
 "cells": [
  {
   "cell_type": "code",
   "execution_count": 1,
   "id": "fossil-interpretation",
   "metadata": {},
   "outputs": [
    {
     "name": "stdout",
     "output_type": "stream",
     "text": [
      "Welcome to JupyROOT 6.22/06\n"
     ]
    }
   ],
   "source": [
    "import ROOT\n",
    "import numpy as np"
   ]
  },
  {
   "cell_type": "code",
   "execution_count": 2,
   "id": "republican-legislation",
   "metadata": {},
   "outputs": [
    {
     "name": "stdout",
     "output_type": "stream",
     "text": [
      "Photon Mass =  (1.414+0j)\n"
     ]
    }
   ],
   "source": [
    "x=0.1\n",
    "Mp=0.938272\n",
    "\n",
    "# Struck quark\n",
    "vecA = ROOT.TLorentzVector()\n",
    "vecA.SetPxPyPzE(0,0,0,x*Mp)\n",
    "\n",
    "# Photon four momentum (random)\n",
    "vecB = ROOT.TLorentzVector()\n",
    "vecB.SetPxPyPzE(1,2,3,4)\n",
    "\n",
    "# Print photon mass\n",
    "print(\"Photon Mass = \",np.round(np.sqrt(complex(vecB.E()**2-vecB.P()**2)),3))\n",
    "\n",
    "# Total Four Momentum\n",
    "vecC = vecA+vecB"
   ]
  },
  {
   "cell_type": "code",
   "execution_count": 61,
   "id": "representative-technical",
   "metadata": {},
   "outputs": [],
   "source": [
    "breit = vecA+vecC\n",
    "boost = -1*breit.BoostVector()"
   ]
  },
  {
   "cell_type": "code",
   "execution_count": 62,
   "id": "colonial-version",
   "metadata": {},
   "outputs": [],
   "source": [
    "vecA.Boost(boost)\n",
    "vecB.Boost(boost)\n",
    "vecC.Boost(boost)"
   ]
  },
  {
   "cell_type": "code",
   "execution_count": 64,
   "id": "adjustable-wireless",
   "metadata": {},
   "outputs": [
    {
     "name": "stdout",
     "output_type": "stream",
     "text": [
      "Four-momentum of vecA: (0.209, -0.050, -0.100, -0.150)\n",
      "Four-momentum of vecB: (1.463, 0.100, 0.200, 0.299)\n",
      "Four-momentum of vecC: (1.672, 0.050, 0.100, 0.150)\n"
     ]
    }
   ],
   "source": [
    "# print the four-momentum of each boosted vector\n",
    "print(\"Four-momentum of vecA: ({:.3f}, {:.3f}, {:.3f}, {:.3f})\".format(vecA.E(), vecA.Px(), vecA.Py(), vecA.Pz()))\n",
    "print(\"Four-momentum of vecB: ({:.3f}, {:.3f}, {:.3f}, {:.3f})\".format(vecB.E(), vecB.Px(), vecB.Py(), vecB.Pz()))\n",
    "print(\"Four-momentum of vecC: ({:.3f}, {:.3f}, {:.3f}, {:.3f})\".format(vecC.E(), vecC.Px(), vecC.Py(), vecC.Pz()))"
   ]
  }
 ],
 "metadata": {
  "kernelspec": {
   "display_name": "Python 3",
   "language": "python",
   "name": "python3"
  },
  "language_info": {
   "codemirror_mode": {
    "name": "ipython",
    "version": 3
   },
   "file_extension": ".py",
   "mimetype": "text/x-python",
   "name": "python",
   "nbconvert_exporter": "python",
   "pygments_lexer": "ipython3",
   "version": "3.8.6"
  }
 },
 "nbformat": 4,
 "nbformat_minor": 5
}
