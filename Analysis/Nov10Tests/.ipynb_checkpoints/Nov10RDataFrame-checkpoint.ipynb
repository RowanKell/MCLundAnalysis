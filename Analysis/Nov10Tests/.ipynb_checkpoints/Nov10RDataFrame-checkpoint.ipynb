{
 "cells": [
  {
   "cell_type": "markdown",
   "id": "cubic-portfolio",
   "metadata": {},
   "source": [
    "# Affinity Calculations using RDataFrame for CLAS12 Dihadron events"
   ]
  },
  {
   "cell_type": "markdown",
   "id": "photographic-circumstances",
   "metadata": {},
   "source": [
    "### Rowan Kelleher\n",
    "#### October 20th, 2022"
   ]
  },
  {
   "cell_type": "markdown",
   "id": "collective-timothy",
   "metadata": {},
   "source": [
    "This notebook takes in TTrees and plots affinity values. TTrees come from LundAnalysis.C (in repo: https://github.com/RowanKell/MCLundAnalysis/blob/dev2/LundAnalysis.C)"
   ]
  },
  {
   "cell_type": "markdown",
   "id": "enormous-freight",
   "metadata": {},
   "source": [
    "Process:\n",
    "1. Wildcard (\\*) is used to take in many ROOT files into one RDataFrame for each bin variable for each pion\n",
    "1. The means at each bin are then calculated using the Filter() and Mean() methods\n",
    "1. These means are then fed through the Affinity TensorFlow model and affinity values are saved to numpy arrays\n",
    "1. From these arrays we then plot affinity vs x, z, pT depending on the binning variable\n",
    "\n",
    "In progress:\n",
    "1. The dihadron affinity can be calculated from the product of the two pions, but this hasn't been done yet as the single pion affinity is still being worked on"
   ]
  },
  {
   "cell_type": "code",
   "execution_count": 71,
   "id": "educated-rider",
   "metadata": {},
   "outputs": [
    {
     "name": "stdout",
     "output_type": "stream",
     "text": [
      "tf.__version__ 2.7.0\n"
     ]
    }
   ],
   "source": [
    "from ROOT import TFile,TTree,TCanvas,TH1F,gStyle,TLatex,gPad,TLegend,TLorentzVector,TH2F,TLine,TF1,TBox,RDataFrame,TPad,TF2\n",
    "import ROOT\n",
    "import numpy as np\n",
    "import awkward as awk\n",
    "import uproot\n",
    "import pandas as pd\n",
    "import matplotlib.pyplot as plot\n",
    "from pandas import read_excel \n",
    "from copy import deepcopy\n",
    "from ipywidgets import *\n",
    "import logging, os \n",
    "import time\n",
    "logging.disable(logging.WARNING) \n",
    "os.environ[\"TF_CPP_MIN_LOG_LEVEL\"] = \"3\"\n",
    "\n",
    "import tensorflow as tf\n",
    "print(\"tf.__version__\", tf.__version__)\n"
   ]
  },
  {
   "cell_type": "code",
   "execution_count": 95,
   "id": "hispanic-swimming",
   "metadata": {},
   "outputs": [],
   "source": [
    "#d_plus = RDataFrame(\"tree_MC_plus\", \"../../OutputFiles/Slurm/Oct_26/file_*.root\").Filter(\"R0max < 0.3\").Filter(\"R1max < 0.3\").Filter(\"R2max < 0.3\")\n",
    "# d_plus = RDataFrame(\"tree_MC_plus\", \"../../OutputFiles/Test_10_27/file2.root\")\n",
    "# d_minus = RDataFrame(\"tree_MC_minus\", \"../../OutputFiles/Slurm/Oct_26/file_*.root\")\n",
    "# d_plus = RDataFrame(\"tree_MC_plus\", \"../../OutputFiles/Slurm/Oct_27/file_*.root\").Filter(\"R0max < 0.3\").Filter(\"R1max < 0.3\").Filter(\"R2max < 0.3\")\n",
    "# d_minus = RDataFrame(\"tree_MC_minus\", \"../../OutputFiles/Slurm/Oct_27/file_*.root\").Filter(\"R0max < 0.3\").Filter(\"R1max < 0.3\").Filter(\"R2max < 0.3\")\n",
    "\n",
    "# d_plus = RDataFrame(\"tree_MC_plus\", \"../../OutputFiles/Slurm/Oct_27/file_*.root\").Filter(\"q_TdivQ < 0.3\")\n",
    "# d_minus = RDataFrame(\"tree_MC_minus\", \"../../OutputFiles/Slurm/Oct_27/file_*.root\").Filter(\"q_TdivQ < 0.3\")\n",
    "\n",
    "# d_plus = RDataFrame(\"tree_MC_plus\", \"../../OutputFiles/Slurm/Oct_27/file_*.root\").Filter(\"R2max < 0.3\")\n",
    "# d_minus = RDataFrame(\"tree_MC_minus\", \"../../OutputFiles/Slurm/Oct_27/file_*.root\").Filter(\"R2max < 0.3\")\n",
    "\n",
    "d_plus = RDataFrame(\"tree_MC_plus\", \"../../OutputFiles/Slurm/Oct_27/file_*.root\")\n",
    "d_minus = RDataFrame(\"tree_MC_minus\", \"../../OutputFiles/Slurm/Oct_27/file_*.root\")"
   ]
  },
  {
   "cell_type": "code",
   "execution_count": 96,
   "id": "suited-tuning",
   "metadata": {},
   "outputs": [],
   "source": [
    "#Bins (each has 8 including 0)\n",
    "Mhbins = np.linspace(0,1.3,8)\n",
    "pTbins = np.linspace(0.1,0.8,8)\n",
    "xbins = np.array([0,0.1,0.13,0.16,0.19,0.235,0.3,0.5])\n",
    "zbins = np.array([0,0.35,0.43,0.49,0.55,0.62,0.7,0.83])\n",
    "Q2bins = np.array([0,1.2,1.8,2.3,3.1,4.3,7,11.1])"
   ]
  },
  {
   "cell_type": "markdown",
   "id": "acting-decline",
   "metadata": {},
   "source": [
    "Need variables: x, z_h, Q2, p_T, R0, R1, R2 - total of 7"
   ]
  },
  {
   "cell_type": "code",
   "execution_count": 97,
   "id": "regional-algebra",
   "metadata": {
    "scrolled": true
   },
   "outputs": [],
   "source": [
    "#Filtering data\n",
    "#We have a list of 7 arrays bc we need an array of x values, z values, p_t values, etc for every bin\n",
    "#First index will be the variable, second index is the i-th binning of that variable\n",
    "#e.g. - px[1][3] will access the z_h mean for the 3rd (4th) bin of the x binning of piplus\n",
    "px = [np.zeros(7).tolist() for i in range(7)]\n",
    "pz = [np.zeros(7).tolist() for i in range(7)]\n",
    "pMh=[np.zeros(7).tolist() for i in range(7)]\n",
    "ppT=[np.zeros(7).tolist() for i in range(7)]\n",
    "pxQ2 = [np.zeros(7).tolist() for i in range(7)]\n",
    "\n",
    "mx=[np.zeros(7).tolist() for i in range(7)]\n",
    "mz=[np.zeros(7).tolist() for i in range(7)]\n",
    "mpT=[np.zeros(7).tolist() for i in range(7)]\n",
    "mMh=[np.zeros(7).tolist() for i in range(7)]"
   ]
  },
  {
   "cell_type": "code",
   "execution_count": 98,
   "id": "effective-waste",
   "metadata": {},
   "outputs": [],
   "source": [
    "#px=[list(np.zeros(7)) for i in range(7)]"
   ]
  },
  {
   "cell_type": "code",
   "execution_count": 99,
   "id": "abandoned-refund",
   "metadata": {},
   "outputs": [],
   "source": [
    "varName = np.array([\"x\", \"z\", \"Q2\", \"pT\", \"R0max\", \"R1max\", \"R2max\"])"
   ]
  },
  {
   "cell_type": "code",
   "execution_count": 100,
   "id": "solar-lying",
   "metadata": {},
   "outputs": [
    {
     "name": "stdout",
     "output_type": "stream",
     "text": [
      "0.08203291893005371\n"
     ]
    }
   ],
   "source": [
    "start_time = time.time()\n",
    "xformat = \"x <= {} && x > {}\"\n",
    "zformat = \"z <= {} && z > {}\"\n",
    "Mhformat = \"Mh <= {} && Mh > {}\"\n",
    "pTformat = \"pT <= {} && pT > {}\"\n",
    "\n",
    "#Piplus\n",
    "#x bins\n",
    "start_time = time.time()\n",
    "#i is the kinematic variable\n",
    "#j is the bin num\n",
    "for i in range(7):\n",
    "    for j in range(7):\n",
    "        #j + 1 as we only use 0 as a left bound, not a top bound - hence start with top bound at first index, not 0th\n",
    "        px[j][i] = d_plus.Filter(xformat.format(xbins[j + 1],xbins[j])).Mean(varName[i])\n",
    "        mx[j][i] = d_minus.Filter(xformat.format(xbins[j + 1],xbins[j])).Mean(varName[i])\n",
    "#zbins\n",
    "for i in range(7):\n",
    "    for j in range(7):\n",
    "        pz[j][i] = d_plus.Filter(zformat.format(zbins[j + 1],zbins[j])).Mean(varName[i])\n",
    "#Mhbins\n",
    "for i in range(7):\n",
    "    for j in range(7):\n",
    "        ppT[j][i] = d_plus.Filter(pTformat.format(pTbins[j + 1],pTbins[j])).Mean(varName[i])\n",
    "\n",
    "        \n",
    "#Piminus\n",
    "# #\n",
    "# for i in range(7):\n",
    "#     for j in range(7):\n",
    "for i in range(7):\n",
    "    for j in range(7):\n",
    "        mz[j][i] = d_minus.Filter(zformat.format(zbins[j + 1],zbins[j])).Mean(varName[i])\n",
    "for i in range(7):\n",
    "    for j in range(7):\n",
    "        mpT[j][i] = d_minus.Filter(pTformat.format(pTbins[j + 1],pTbins[j])).Mean(varName[i])\n",
    "        \n",
    "finish = time.time()\n",
    "print(finish - start_time)"
   ]
  },
  {
   "cell_type": "code",
   "execution_count": 101,
   "id": "swedish-disney",
   "metadata": {},
   "outputs": [],
   "source": [
    "# c = TCanvas(\"c\",\"c\",500,500)\n",
    "# h7 = pxdata.Histo1D((\"h7\",\";R1 ;Counts\", 1000, -1, 5), \"R1max\")\n",
    "# h7.Draw(\"histo\")\n",
    "# c.Draw()\n",
    "# # varName[5]"
   ]
  },
  {
   "cell_type": "markdown",
   "id": "timely-collector",
   "metadata": {},
   "source": [
    "Now need to actually run the process by calling .GetValue() on one variable per RDataFrame (we have 2, one for each pion"
   ]
  },
  {
   "cell_type": "code",
   "execution_count": 102,
   "id": "junior-auckland",
   "metadata": {},
   "outputs": [
    {
     "name": "stdout",
     "output_type": "stream",
     "text": [
      "took: 34.56599688529968\n"
     ]
    }
   ],
   "source": [
    "#print(px)\n",
    "forstart = time.time()\n",
    "for i in range(7):\n",
    "    for j in range(7):\n",
    "        px[i][j]=px[i][j].GetValue()\n",
    "        pz[i][j] = pz[i][j].GetValue()\n",
    "        ppT[i][j] = ppT[i][j].GetValue()\n",
    "        mx[i][j] = mx[i][j].GetValue()\n",
    "        mz[i][j] = mz[i][j].GetValue()\n",
    "        mpT[i][j] = mpT[i][j].GetValue()\n",
    "forend = time.time()\n",
    "print(\"took: \" + str(forend - forstart))"
   ]
  },
  {
   "cell_type": "code",
   "execution_count": 103,
   "id": "native-mount",
   "metadata": {},
   "outputs": [],
   "source": [
    "collinear_region_name = 'collinear'\n",
    "current_region_name = 'current'\n",
    "target_region_name = 'target'\n",
    "TMD_region_name = 'TMD'\n",
    "soft_region_name = 'soft'\n",
    "collinear_lable_name = 'collinearaff'\n",
    "target_lable_name = 'targetaff'\n",
    "current_lable_name = 'currentaff'\n",
    "TMD_lable_name = 'tmdaff'\n",
    "soft_lable_name = 'softaff'\n",
    "\n",
    "tmd_model_name = '../../../SIDIS-Affinity/models/final_%s' % TMD_region_name\n",
    "tmd_model = tf.keras.models.load_model(tmd_model_name)\n",
    "target_model_name = '../../../SIDIS-Affinity/models/final_%s' % target_region_name\n",
    "target_model = tf.keras.models.load_model(target_model_name)\n",
    "collinear_model_name = '../../../SIDIS-Affinity/models/final_%s' % collinear_region_name\n",
    "collinear_model = tf.keras.models.load_model(collinear_model_name)\n",
    "current_model_name = '../../../SIDIS-Affinity/models/final_%s' % current_region_name\n",
    "current_model = tf.keras.models.load_model(current_model_name)\n",
    "soft_model_name = '../../../SIDIS-Affinity/models/final_%s' % soft_region_name\n",
    "soft_model = tf.keras.models.load_model(soft_model_name)"
   ]
  },
  {
   "cell_type": "markdown",
   "id": "constant-prefix",
   "metadata": {},
   "source": [
    "varName = np.array([\"x\", \"z\", \"Q2\", \"pT\", \"R0max\", \"R1max\", \"R2max\"])"
   ]
  },
  {
   "cell_type": "code",
   "execution_count": 104,
   "id": "federal-glance",
   "metadata": {},
   "outputs": [],
   "source": [
    "#var order: \n",
    "#0: x\n",
    "#1: z_h\n",
    "#2: Q2\n",
    "#3: p_T\n",
    "#4: R0\n",
    "#5: R1\n",
    "#6: R2\n",
    "\n",
    "def calculator(array, region, binType, binnedVariable = 0):\n",
    "    if binType == \"x\":\n",
    "        z = array[1]\n",
    "        Q2 = array[2]\n",
    "        pT = array[3]\n",
    "        R0max = array[4]\n",
    "        R1max = array[5]\n",
    "        R2max = array[6]\n",
    "#         R0max = 0.3\n",
    "#         R1max = 0.3\n",
    "#         R2max = 0.3\n",
    "        x = binnedVariable\n",
    "    elif binType == \"z\":\n",
    "        x = array[0]\n",
    "        Q2 = array[2]\n",
    "        pT = array[3]\n",
    "        R0max = array[4]\n",
    "        R1max = array[5]\n",
    "        R2max = array[6]\n",
    "        z = binnedVariable\n",
    "    elif binType == \"pT\":\n",
    "        x = array[0]\n",
    "        z = array[1]\n",
    "        Q2 = array[2]\n",
    "        pT = binnedVariable\n",
    "        R0max = array[4]\n",
    "        R1max = array[5]\n",
    "        R2max = array[6]\n",
    "        \n",
    "    test_features = pd.DataFrame({'pT':pT,'Q2':Q2,'x':x,'z':z,'R0max':R0max,'R1max':R1max,'R2max':R2max},index=[0])\n",
    "\n",
    "    if region == 'tmd':\n",
    "        prediction = tmd_model.predict(test_features).flatten()\n",
    "        \n",
    "    elif region == 'target':\n",
    "        prediction = target_model.predict(test_features).flatten()\n",
    "        \n",
    "    elif region == 'collinear':\n",
    "        prediction = collinear_model.predict(test_features).flatten()\n",
    "\n",
    "    elif region == 'soft':\n",
    "        prediction = soft_model.predict(test_features).flatten()\n",
    "\n",
    "    else:\n",
    "        prediction = current_model.predict(test_features).flatten()\n",
    "\n",
    "    return prediction[0] #returns affinity value"
   ]
  },
  {
   "cell_type": "code",
   "execution_count": 105,
   "id": "horizontal-degree",
   "metadata": {},
   "outputs": [],
   "source": [
    "nocutscolxaffinityplus = np.zeros(7)\n",
    "nocutscolzaffinityplus = np.zeros(7)\n",
    "nocutscolpTaffinityplus = np.zeros(7)\n",
    "nocutsTMDxaffinityplus = np.zeros(7)\n",
    "nocutsTMDzaffinityplus = np.zeros(7)\n",
    "nocutsTMDpTaffinityplus = np.zeros(7)\n",
    "nocutsCurrentxaffinityplus = np.zeros(7)\n",
    "nocutsCurrentzaffinityplus = np.zeros(7)\n",
    "nocutsCurrentpTaffinityplus = np.zeros(7)\n",
    "\n",
    "colxaffinityminus = np.zeros(7)\n",
    "colzaffinityminus = np.zeros(7)\n",
    "colpTaffinityminus = np.zeros(7)\n",
    "TMDxaffinityminus = np.zeros(7)\n",
    "TMDzaffinityminus = np.zeros(7)\n",
    "TMDpTaffinityminus = np.zeros(7)\n",
    "Currentxaffinityminus = np.zeros(7)\n",
    "Currentzaffinityminus = np.zeros(7)\n",
    "CurrentpTaffinityminus = np.zeros(7)\n",
    "\n",
    "region = \"collinear\"\n",
    "region2 = \"tmd\"\n",
    "region3 = \"current\"\n",
    "for i in range(7):\n",
    "    nocutscolzaffinityplus[i] = calculator(pz[i], region, \"z\", zbins[i+1])\n",
    "    nocutscolxaffinityplus[i] = calculator(px[i], region, \"x\", xbins[i+1])\n",
    "    nocutscolpTaffinityplus[i] = calculator(ppT[i], region, \"pT\", pTbins[i+1])\n",
    "    nocutsTMDzaffinityplus[i] = calculator(pz[i], region2, \"z\", zbins[i+1])\n",
    "    nocutsTMDxaffinityplus[i] = calculator(px[i], region2, \"x\", xbins[i+1])\n",
    "    nocutsTMDpTaffinityplus[i] = calculator(ppT[i], region2, \"pT\", pTbins[i+1])\n",
    "    nocutsCurrentzaffinityplus[i] = calculator(pz[i], region3, \"z\", zbins[i+1])\n",
    "    nocutsCurrentxaffinityplus[i] = calculator(px[i], region3, \"x\", xbins[i+1])\n",
    "    nocutsCurrentpTaffinityplus[i] = calculator(ppT[i], region3, \"pT\", pTbins[i+1])\n",
    "    \n",
    "    colzaffinityminus[i] = calculator(mz[i], region, \"z\", zbins[i+1])\n",
    "    colxaffinityminus[i] = calculator(mx[i], region, \"x\", xbins[i+1])\n",
    "    colpTaffinityminus[i] = calculator(mpT[i], region, \"pT\", pTbins[i+1])\n",
    "    TMDzaffinityminus[i] = calculator(mz[i], region2, \"z\", zbins[i+1])\n",
    "    TMDxaffinityminus[i] = calculator(mx[i], region2, \"x\", xbins[i+1])\n",
    "    TMDpTaffinityminus[i] = calculator(mpT[i], region2, \"pT\", pTbins[i+1])\n",
    "    Currentzaffinityminus[i] = calculator(mz[i], region3, \"z\", zbins[i+1])\n",
    "    Currentxaffinityminus[i] = calculator(mx[i], region3, \"x\", xbins[i+1])\n",
    "    CurrentpTaffinityminus[i] = calculator(mpT[i], region3, \"pT\", pTbins[i+1])"
   ]
  },
  {
   "cell_type": "code",
   "execution_count": 106,
   "id": "supposed-coordination",
   "metadata": {},
   "outputs": [],
   "source": [
    "Mhbinsno0 = np.linspace(0.3,1.3,7)\n",
    "pTbinsno0 = np.linspace(0.2,0.8,7)\n",
    "xbinsno0 = np.array([0.1,0.13,0.16,0.19,0.235,0.3,0.5])\n",
    "zbinsno0 = np.array([0.35,0.43,0.49,0.55,0.62,0.7,0.83])"
   ]
  },
  {
   "cell_type": "markdown",
   "id": "buried-drilling",
   "metadata": {},
   "source": [
    "#Currently have: \\\n",
    "nocutsTMDzaffinityplus \\\n",
    "nocutsTMDxaffinityplus \\\n",
    "nocutsTMDpTaffinityplus \n",
    "\n",
    "qTMDzaffinityplus \\\n",
    "qTMDxaffinityplus \\\n",
    "qTMDpTaffinityplus \n",
    "\n",
    "R2TMDzaffinityplus \\\n",
    "R2TMDxaffinityplus \\\n",
    "R2TMDpTaffinityplus \n",
    "\n",
    "BUT FOR CURRENT AND COLLINEAR TOO"
   ]
  },
  {
   "cell_type": "code",
   "execution_count": 112,
   "id": "vertical-clone",
   "metadata": {},
   "outputs": [
    {
     "data": {
      "image/png": "[encoded data removed]",
      "text/plain": [
       "<Figure size 1440x360 with 3 Axes>"
      ]
     },
     "metadata": {
      "needs_background": "light"
     },
     "output_type": "display_data"
    }
   ],
   "source": [
    "fig2, (ax12, ax22, ax32) = plot.subplots(1, 3, figsize = (20, 5))\n",
    "fig2.suptitle(\"Pi+ Affinity in the TMD region: Assorted Cuts\")\n",
    "ax12.set(ylabel = \"Affinity\")\n",
    "ax12.scatter(pTbinsno0, nocutsTMDpTaffinityplus, c = 'r', marker = \"+\", label = \"no cuts\")\n",
    "ax12.scatter(pTbinsno0, qTMDpTaffinityplus, c = 'b', marker = \"^\", label = \"qTdivQ < 0.3\")\n",
    "ax12.scatter(pTbinsno0, R2TMDpTaffinityplus, c = 'g', marker = \"*\", label = \"R2 < 0.3\")\n",
    "fig2.legend(shadow = \"true\", title = \"Key\", fontsize = 12)\n",
    "ax12.axhline(y=0, color=\"gray\", lw = 1)\n",
    "ax12.set_title(\"pT binning\")\n",
    "ax12.set(xlabel = \"pT (GeV)\")\n",
    "ax22.scatter(xbinsno0, nocutsTMDxaffinityplus, c = 'r', marker = '+', label = \"no cuts\")\n",
    "ax22.scatter(xbinsno0, qTMDxaffinityplus, c = 'b', marker = \"^\", label = \"qTdivQ < 0.3\")\n",
    "ax22.scatter(xbinsno0, R2TMDxaffinityplus, c = 'g', marker = \"*\", label = \"R2 < 0.3\")\n",
    "ax22.axhline(y=0, color=\"gray\", lw = 1)\n",
    "ax22.set_title(\"x binning\")\n",
    "ax22.set(xlabel = \"x\")\n",
    "ax32.scatter(zbinsno0, nocutsTMDzaffinityplus, c = 'r', marker = '+', label = \"no cuts\")\n",
    "ax32.scatter(zbinsno0, qTMDzaffinityplus, c = 'b', marker = \"^\", label = \"qTdivQ < 0.3\")\n",
    "ax32.scatter(zbinsno0, R2TMDzaffinityplus, c = 'g', marker = \"*\", label = \"R2 < 0.3\")\n",
    "ax32.axhline(y=0, color=\"gray\", lw = 1)\n",
    "ax32.set_title(\"z_h binning\")\n",
    "ax32.set(xlabel = \"z_h\")\n",
    "plot.savefig(\"TMD.png\")\n"
   ]
  },
  {
   "cell_type": "code",
   "execution_count": 115,
   "id": "polar-gabriel",
   "metadata": {},
   "outputs": [
    {
     "data": {
      "image/png": "[encoded data removed]",
      "text/plain": [
       "<Figure size 1440x360 with 3 Axes>"
      ]
     },
     "metadata": {
      "needs_background": "light"
     },
     "output_type": "display_data"
    }
   ],
   "source": [
    "fig1, (ax12, ax22, ax32) = plot.subplots(1, 3, figsize = (20, 5))\n",
    "fig1.suptitle(\"Pi+ Affinity in the Current region: Assorted Cuts\")\n",
    "ax12.set(ylabel = \"Affinity\")\n",
    "ax12.scatter(pTbinsno0, nocutsCurrentpTaffinityplus, c = 'r', marker = \"+\", label = \"no cuts\")\n",
    "ax12.scatter(pTbinsno0, qCurrentpTaffinityplus, c = 'b', marker = \"^\", label = \"qTdivQ < 0.3\")\n",
    "ax12.scatter(pTbinsno0, R2CurrentpTaffinityplus, c = 'g', marker = \"*\", label = \"R2 < 0.3\")\n",
    "fig1.legend(shadow = \"true\", title = \"Key\", fontsize = 12)\n",
    "ax12.axhline(y=0, color=\"gray\", lw = 0.8)\n",
    "ax12.set_title(\"pT binning\")\n",
    "ax12.set(xlabel = \"pT (GeV)\")\n",
    "ax22.scatter(xbinsno0, nocutsCurrentxaffinityplus, c = 'r', marker = '+', label = \"no cuts\")\n",
    "ax22.scatter(xbinsno0, qCurrentxaffinityplus, c = 'b', marker = \"^\", label = \"qTdivQ < 0.3\")\n",
    "ax22.scatter(xbinsno0, R2Currentxaffinityplus, c = 'g', marker = \"*\", label = \"R2 < 0.3\")\n",
    "ax22.axhline(y=0, color=\"gray\", lw = 0.8)\n",
    "ax22.set_title(\"x binning\")\n",
    "ax22.set(xlabel = \"x\")\n",
    "ax32.scatter(zbinsno0, nocutsCurrentzaffinityplus, c = 'r', marker = '+', label = \"no cuts\")\n",
    "ax32.scatter(zbinsno0, qCurrentzaffinityplus, c = 'b', marker = \"^\", label = \"qTdivQ < 0.3\")\n",
    "ax32.scatter(zbinsno0, R2Currentzaffinityplus, c = 'g', marker = \"*\", label = \"R2 < 0.3\")\n",
    "ax32.axhline(y=0, color=\"gray\", lw = 0.8)\n",
    "ax32.set_title(\"z_h binning\")\n",
    "ax32.set(xlabel = \"z_h\")\n",
    "plot.savefig(\"Current.png\")\n"
   ]
  },
  {
   "cell_type": "code",
   "execution_count": 110,
   "id": "regular-circumstances",
   "metadata": {},
   "outputs": [
    {
     "data": {
      "image/png": "[encoded data removed]",
      "text/plain": [
       "<Figure size 1440x360 with 3 Axes>"
      ]
     },
     "metadata": {
      "needs_background": "light"
     },
     "output_type": "display_data"
    }
   ],
   "source": [
    "fig1, (ax12, ax22, ax32) = plot.subplots(1, 3, figsize = (20, 5))\n",
    "fig1.suptitle(\"Pi+ Affinity in the Collinear region: Assorted Cuts\")\n",
    "ax12.set(ylabel = \"Affinity\")\n",
    "ax12.scatter(pTbinsno0, nocutscolpTaffinityplus, c = 'r', marker = \"+\", label = \"no cuts\")\n",
    "ax12.scatter(pTbinsno0, qcolpTaffinityplus, c = 'b', marker = \"^\", label = \"qTdivQ < 0.3\")\n",
    "ax12.scatter(pTbinsno0, R2colpTaffinityplus, c = 'g', marker = \"*\", label = \"R2 < 0.3\")\n",
    "fig1.legend(shadow = \"true\", title = \"Key\", fontsize = 12)\n",
    "ax12.axhline(y=0, color=\"gray\", lw = 1)\n",
    "ax12.set_title(\"pT binning\")\n",
    "ax12.set(xlabel = \"pT (GeV)\")\n",
    "ax22.scatter(xbinsno0, nocutscolxaffinityplus, c = 'r', marker = '+', label = \"no cuts\")\n",
    "ax22.scatter(xbinsno0, qcolxaffinityplus, c = 'b', marker = \"^\", label = \"qTdivQ < 0.3\")\n",
    "ax22.scatter(xbinsno0, R2colxaffinityplus, c = 'g', marker = \"*\", label = \"R2 < 0.3\")\n",
    "ax22.axhline(y=0, color=\"gray\", lw = 1)\n",
    "ax22.set_title(\"x binning\")\n",
    "ax22.set(xlabel = \"x\")\n",
    "ax32.scatter(zbinsno0, nocutscolzaffinityplus, c = 'r', marker = '+', label = \"no cuts\")\n",
    "ax32.scatter(zbinsno0, qcolzaffinityplus, c = 'b', marker = \"^\", label = \"qTdivQ < 0.3\")\n",
    "ax32.scatter(zbinsno0, R2colzaffinityplus, c = 'g', marker = \"*\", label = \"R2 < 0.3\")\n",
    "ax32.axhline(y=0, color=\"gray\", lw = 1)\n",
    "ax32.set_title(\"z_h binning\")\n",
    "ax32.set(xlabel = \"z_h\")\n",
    "plot.savefig(\"Collinear.png\")\n"
   ]
  },
  {
   "cell_type": "code",
   "execution_count": null,
   "id": "proved-finnish",
   "metadata": {},
   "outputs": [],
   "source": []
  }
 ],
 "metadata": {
  "kernelspec": {
   "display_name": "Python 3",
   "language": "python",
   "name": "python3"
  },
  "language_info": {
   "codemirror_mode": {
    "name": "ipython",
    "version": 3
   },
   "file_extension": ".py",
   "mimetype": "text/x-python",
   "name": "python",
   "nbconvert_exporter": "python",
   "pygments_lexer": "ipython3",
   "version": "3.8.6"
  }
 },
 "nbformat": 4,
 "nbformat_minor": 5
}
