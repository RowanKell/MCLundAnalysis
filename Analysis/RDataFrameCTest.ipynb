{
 "cells": [
  {
   "cell_type": "code",
   "execution_count": 3,
   "id": "respective-result",
   "metadata": {},
   "outputs": [
    {
     "name": "stderr",
     "output_type": "stream",
     "text": [
      "input_line_51:1:9: error: expected \"FILENAME\" or <FILENAME>\n",
      "#import TFile,TTree,TCanvas,TH1F,gStyle,TLatex,gPad,TLegend,TLorentzVector,TH2F,TLine,TF1,TBox,RDataFrame,TPad,TF2\n",
      "        ^\n",
      "input_line_51:2:9: error: expected \"FILENAME\" or <FILENAME>\n",
      "#import ROOT\n",
      "        ^\n",
      "input_line_51:3:9: error: expected \"FILENAME\" or <FILENAME>\n",
      "#import numpy as np\n",
      "        ^\n",
      "input_line_51:4:9: error: expected \"FILENAME\" or <FILENAME>\n",
      "#import awkward as awk\n",
      "        ^\n",
      "input_line_51:5:9: error: expected \"FILENAME\" or <FILENAME>\n",
      "#import uproot\n",
      "        ^\n",
      "input_line_51:6:9: error: expected \"FILENAME\" or <FILENAME>\n",
      "#import pandas as pd\n",
      "        ^\n",
      "input_line_51:7:9: error: expected \"FILENAME\" or <FILENAME>\n",
      "#import matplotlib.pyplot as plot\n",
      "        ^\n",
      "input_line_51:8:9: error: expected \"FILENAME\" or <FILENAME>\n",
      "#import pandas.read_excel \n",
      "        ^\n",
      "input_line_51:9:9: error: expected \"FILENAME\" or <FILENAME>\n",
      "#import copy.deepcopy\n",
      "        ^\n",
      "input_line_51:10:9: error: expected \"FILENAME\" or <FILENAME>\n",
      "#import logging, os\n",
      "        ^\n",
      "input_line_51:11:9: error: expected \"FILENAME\" or <FILENAME>\n",
      "#import tensorflow as tf\n",
      "        ^\n"
     ]
    }
   ],
   "source": [
    "#import TFile,TTree,TCanvas,TH1F,gStyle,TLatex,gPad,TLegend,TLorentzVector,TH2F,TLine,TF1,TBox,RDataFrame,TPad,TF2\n",
    "#import ROOT\n",
    "#import numpy as np\n",
    "#import awkward as awk\n",
    "#import uproot\n",
    "#import pandas as pd\n",
    "#import matplotlib.pyplot as plot\n",
    "#import pandas.read_excel \n",
    "#import copy.deepcopy\n",
    "#import logging, os\n",
    "#import tensorflow as tf\n"
   ]
  },
  {
   "cell_type": "code",
   "execution_count": 7,
   "id": "wicked-destruction",
   "metadata": {},
   "outputs": [
    {
     "name": "stderr",
     "output_type": "stream",
     "text": [
      "input_line_55:2:12: error: expected ';' after expression\n",
      " RDataFrame d(\"tree_plus_z_h_bins\", \"../OutputFiles/Separate_Test_10_20/file1.root\");\n",
      "           ^\n",
      "           ;\n",
      "input_line_55:2:13: error: use of undeclared identifier 'd'\n",
      " RDataFrame d(\"tree_plus_z_h_bins\", \"../OutputFiles/Separate_Test_10_20/file1.root\");\n",
      "            ^\n"
     ]
    }
   ],
   "source": [
    "RDataFrame d(\"tree_plus_z_h_bins\", \"../OutputFiles/Separate_Test_10_20/file1.root\");"
   ]
  },
  {
   "cell_type": "code",
   "execution_count": 8,
   "id": "informational-mandate",
   "metadata": {},
   "outputs": [
    {
     "name": "stderr",
     "output_type": "stream",
     "text": [
      "input_line_56:2:12: error: expected ';' after expression\n",
      " RDataFrame d(10);\n",
      "           ^\n",
      "           ;\n",
      "input_line_56:2:13: error: use of undeclared identifier 'd'\n",
      " RDataFrame d(10);\n",
      "            ^\n"
     ]
    }
   ],
   "source": [
    "RDataFrame d(10);"
   ]
  },
  {
   "cell_type": "code",
   "execution_count": null,
   "id": "isolated-obligation",
   "metadata": {},
   "outputs": [],
   "source": []
  }
 ],
 "metadata": {
  "kernelspec": {
   "display_name": "ROOT C++",
   "language": "c++",
   "name": "root"
  },
  "language_info": {
   "codemirror_mode": "text/x-c++src",
   "file_extension": ".C",
   "mimetype": " text/x-c++src",
   "name": "c++"
  }
 },
 "nbformat": 4,
 "nbformat_minor": 5
}
