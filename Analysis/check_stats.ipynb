{
 "cells": [
  {
   "cell_type": "code",
   "execution_count": 1,
   "id": "empty-specific",
   "metadata": {},
   "outputs": [
    {
     "name": "stdout",
     "output_type": "stream",
     "text": [
      "Welcome to JupyROOT 6.22/06\n"
     ]
    }
   ],
   "source": [
    "from ROOT import TFile,TTree,TCanvas,TH1F,gStyle,TLatex,gPad,TLegend,TLorentzVector,TH2F,TLine,TF1,TBox,RDataFrame,TPad,TF2\n",
    "import ROOT\n",
    "import numpy as np\n",
    "import awkward as awk\n",
    "import uproot\n",
    "import pandas as pd\n",
    "import matplotlib.pyplot as plot\n",
    "from pandas import read_excel \n",
    "from copy import deepcopy\n",
    "from ipywidgets import *\n",
    "import logging, os \n",
    "import time\n",
    "import sys"
   ]
  },
  {
   "cell_type": "code",
   "execution_count": 4,
   "id": "established-sleep",
   "metadata": {},
   "outputs": [],
   "source": [
    "dir_prefix = \"/w/hallb-scshelf2102/clas12/users/rojokell/MCLundAnalysis/\"\n",
    "d = RDataFrame(\"tree_MC\",dir_prefix + \"/OutputFiles/Files_Spring_24/July_15/*.root\")"
   ]
  },
  {
   "cell_type": "markdown",
   "id": "royal-iraqi",
   "metadata": {},
   "source": [
    "Variables:\n",
    "1. pT\n",
    "2. x\n",
    "3. z\n",
    "4. Q2"
   ]
  },
  {
   "cell_type": "code",
   "execution_count": 22,
   "id": "pressing-defensive",
   "metadata": {},
   "outputs": [],
   "source": [
    "xb = np.linspace(0.1,0.6,11)\n",
    "zb = np.linspace(0.3,0.9,11)\n",
    "pTb = np.linspace(0,1.3,11)\n",
    "Q2b = np.linspace(1,9,11)"
   ]
  },
  {
   "cell_type": "code",
   "execution_count": null,
   "id": "bound-mistake",
   "metadata": {},
   "outputs": [],
   "source": [
    "counts = np.empty((10,10,10,10))\n",
    "xf = \"x <= {} && x > {}\"\n",
    "zf = \"z <= {} && z > {}\"\n",
    "pTf = \"pT <= {} && pT > {}\"\n",
    "Q2f = \"Q2 <= {} && Q2 > {}\"\n",
    "curr_max = -1\n",
    "curr_i = 0\n",
    "curr_j = 0\n",
    "curr_k = 0\n",
    "curr_l = 0\n",
    "changed = 0\n",
    "n_bins = 10\n",
    "for i in range(10):\n",
    "    for j in range(10):\n",
    "        for k in range(10):\n",
    "            for l in range(10):\n",
    "                val = d.Filter(xf.format(xb[i + 1],xb[i])).Filter(zf.format(zb[j + 1],zb[j])).Filter(pTf.format(pTb[k + 1],pTb[k])).Filter(Q2f.format(Q2b[l + 1],Q2b[l])).Count().GetValue()\n",
    "                counts[i][j][k][l] = val\n",
    "                if(val > curr_max):\n",
    "                    curr_max = val\n",
    "                    curr_i = i\n",
    "                    curr_j = j\n",
    "                    curr_k = k\n",
    "                    curr_l = l\n",
    "                    changed+= 1\n",
    "        print(f\"finished loop #{j} for second loop\")\n",
    "    print(f\"finished loop #{i} for first loop\")"
   ]
  },
  {
   "cell_type": "code",
   "execution_count": 24,
   "id": "offshore-weight",
   "metadata": {},
   "outputs": [
    {
     "name": "stdout",
     "output_type": "stream",
     "text": [
      "max: 5648 | indices: 0, 0, 2, 0\n"
     ]
    }
   ],
   "source": [
    "print(f\"max: {curr_max} | indices: {curr_i}, {curr_j}, {curr_k}, {curr_l}\")"
   ]
  },
  {
   "cell_type": "code",
   "execution_count": 30,
   "id": "swedish-establishment",
   "metadata": {},
   "outputs": [],
   "source": [
    "mask = counts >= 4000"
   ]
  },
  {
   "cell_type": "code",
   "execution_count": 38,
   "id": "narrative-albania",
   "metadata": {},
   "outputs": [
    {
     "name": "stdout",
     "output_type": "stream",
     "text": [
      "indices: 0, 0, 0, 0\n",
      "indices: 0, 0, 1, 0\n",
      "indices: 0, 0, 1, 1\n",
      "indices: 0, 0, 2, 0\n",
      "indices: 0, 0, 2, 1\n",
      "indices: 0, 0, 3, 0\n",
      "indices: 0, 0, 3, 1\n",
      "indices: 0, 0, 4, 0\n",
      "indices: 0, 0, 4, 1\n",
      "indices: 0, 0, 5, 0\n",
      "indices: 0, 1, 0, 0\n",
      "indices: 0, 1, 1, 0\n",
      "indices: 0, 1, 1, 1\n",
      "indices: 0, 1, 2, 0\n",
      "indices: 0, 1, 2, 1\n",
      "indices: 0, 1, 3, 0\n",
      "indices: 0, 1, 3, 1\n",
      "indices: 0, 1, 4, 0\n",
      "indices: 0, 1, 4, 1\n",
      "indices: 0, 1, 5, 0\n",
      "indices: 0, 2, 1, 0\n",
      "indices: 0, 2, 2, 0\n",
      "indices: 0, 2, 2, 1\n",
      "indices: 0, 2, 3, 0\n",
      "indices: 0, 2, 3, 1\n",
      "indices: 0, 2, 4, 0\n",
      "indices: 0, 2, 5, 0\n",
      "indices: 0, 3, 1, 0\n",
      "indices: 0, 3, 2, 0\n",
      "indices: 0, 3, 3, 0\n",
      "indices: 0, 3, 4, 0\n",
      "indices: 0, 4, 1, 0\n",
      "indices: 0, 4, 2, 0\n",
      "indices: 0, 4, 3, 0\n",
      "indices: 1, 0, 0, 1\n",
      "indices: 1, 0, 1, 0\n",
      "indices: 1, 0, 1, 1\n",
      "indices: 1, 0, 2, 0\n",
      "indices: 1, 0, 2, 1\n",
      "indices: 1, 0, 2, 2\n",
      "indices: 1, 0, 3, 0\n",
      "indices: 1, 0, 3, 1\n",
      "indices: 1, 0, 3, 2\n",
      "indices: 1, 0, 4, 0\n",
      "indices: 1, 0, 4, 1\n",
      "indices: 1, 0, 5, 1\n",
      "indices: 1, 1, 0, 1\n",
      "indices: 1, 1, 1, 0\n",
      "indices: 1, 1, 1, 1\n",
      "indices: 1, 1, 2, 0\n",
      "indices: 1, 1, 2, 1\n",
      "indices: 1, 1, 3, 0\n",
      "indices: 1, 1, 3, 1\n",
      "indices: 1, 1, 4, 0\n",
      "indices: 1, 1, 4, 1\n",
      "indices: 1, 1, 5, 1\n",
      "indices: 1, 2, 1, 0\n",
      "indices: 1, 2, 1, 1\n",
      "indices: 1, 2, 2, 0\n",
      "indices: 1, 2, 2, 1\n",
      "indices: 1, 2, 3, 0\n",
      "indices: 1, 2, 3, 1\n",
      "indices: 1, 2, 4, 0\n",
      "indices: 1, 2, 4, 1\n",
      "indices: 1, 3, 1, 0\n",
      "indices: 1, 3, 1, 1\n",
      "indices: 1, 3, 2, 0\n",
      "indices: 1, 3, 2, 1\n",
      "indices: 1, 3, 3, 0\n",
      "indices: 1, 3, 3, 1\n",
      "indices: 1, 3, 4, 1\n",
      "indices: 1, 4, 2, 1\n",
      "indices: 1, 4, 3, 1\n",
      "indices: 2, 0, 0, 1\n",
      "indices: 2, 0, 1, 1\n",
      "indices: 2, 0, 1, 2\n",
      "indices: 2, 0, 2, 1\n",
      "indices: 2, 0, 2, 2\n",
      "indices: 2, 0, 3, 1\n",
      "indices: 2, 0, 3, 2\n",
      "indices: 2, 0, 4, 1\n",
      "indices: 2, 0, 4, 2\n",
      "indices: 2, 1, 1, 0\n",
      "indices: 2, 1, 1, 1\n",
      "indices: 2, 1, 1, 2\n",
      "indices: 2, 1, 2, 0\n",
      "indices: 2, 1, 2, 1\n",
      "indices: 2, 1, 2, 2\n",
      "indices: 2, 1, 3, 0\n",
      "indices: 2, 1, 3, 1\n",
      "indices: 2, 1, 3, 2\n",
      "indices: 2, 1, 4, 1\n",
      "indices: 2, 2, 1, 1\n",
      "indices: 2, 2, 2, 0\n",
      "indices: 2, 2, 2, 1\n",
      "indices: 2, 2, 2, 2\n",
      "indices: 2, 2, 3, 0\n",
      "indices: 2, 2, 3, 1\n",
      "indices: 2, 2, 3, 2\n",
      "indices: 2, 2, 4, 1\n",
      "indices: 2, 3, 1, 1\n",
      "indices: 2, 3, 2, 0\n",
      "indices: 2, 3, 2, 1\n",
      "indices: 2, 3, 3, 1\n",
      "indices: 2, 4, 2, 1\n",
      "indices: 3, 0, 1, 1\n",
      "indices: 3, 0, 1, 2\n",
      "indices: 3, 0, 2, 1\n",
      "indices: 3, 0, 2, 2\n",
      "indices: 3, 0, 2, 3\n",
      "indices: 3, 0, 3, 1\n",
      "indices: 3, 0, 3, 2\n",
      "indices: 3, 0, 4, 2\n",
      "indices: 3, 1, 1, 1\n",
      "indices: 3, 1, 1, 2\n",
      "indices: 3, 1, 2, 1\n",
      "indices: 3, 1, 2, 2\n",
      "indices: 3, 1, 3, 1\n",
      "indices: 3, 1, 3, 2\n",
      "indices: 3, 1, 4, 1\n",
      "indices: 3, 2, 1, 1\n",
      "indices: 3, 2, 2, 1\n",
      "indices: 3, 2, 3, 1\n",
      "indices: 3, 3, 2, 1\n",
      "indices: 4, 0, 1, 2\n",
      "indices: 4, 0, 2, 2\n",
      "indices: 4, 0, 3, 2\n",
      "indices: 4, 1, 2, 1\n",
      "indices: 4, 1, 2, 2\n",
      "indices: 4, 2, 2, 1\n"
     ]
    }
   ],
   "source": [
    "for i in range(10):\n",
    "    for j in range(10):\n",
    "        for k in range(10):\n",
    "            for l in range(10):\n",
    "                if(counts[i,j,k,l] > 1000):\n",
    "                    print(f\"indices: {i}, {j}, {k}, {l}\")"
   ]
  },
  {
   "cell_type": "code",
   "execution_count": 20,
   "id": "asian-concert",
   "metadata": {},
   "outputs": [
    {
     "name": "stdout",
     "output_type": "stream",
     "text": [
      "x: (0.1,0.2) | z: (0.3,0.42000000000000004) | pT: (0.26,0.52) | Q2: (1.0,2.6)\n"
     ]
    }
   ],
   "source": [
    "print(f\"x: ({xb[0]},{xb[1]}) | z: ({zb[0]},{zb[1]}) | pT: ({pTb[1]},{pTb[2]}) | Q2: ({Q2b[0]},{Q2b[1]})\")"
   ]
  },
  {
   "cell_type": "markdown",
   "id": "ranking-music",
   "metadata": {},
   "source": [
    "first bin: 0,0,1,0\n",
    "\n",
    "second bin: 3,1,2,1"
   ]
  },
  {
   "cell_type": "code",
   "execution_count": 36,
   "id": "frequent-colon",
   "metadata": {},
   "outputs": [
    {
     "name": "stdout",
     "output_type": "stream",
     "text": [
      "first bin: x = (0.1,0.15000000000000002), z = (0.3,0.36), pT = (0.13,0.26), Q2 = (1.0,1.8)\n",
      "second bin: x = (0.25,0.30000000000000004), z = (0.36,0.42000000000000004), pT = (0.26,0.39), Q2 = (1.8,2.6)\n"
     ]
    }
   ],
   "source": [
    "print(f\"first bin: x = ({xb[0]},{xb[1]}), z = ({zb[0]},{zb[1]}), pT = ({pTb[1]},{pTb[2]}), Q2 = ({Q2b[0]},{Q2b[1]})\")\n",
    "print(f\"second bin: x = ({xb[3]},{xb[4]}), z = ({zb[1]},{zb[2]}), pT = ({pTb[2]},{pTb[3]}), Q2 = ({Q2b[1]},{Q2b[2]})\")"
   ]
  },
  {
   "cell_type": "code",
   "execution_count": 39,
   "id": "surprised-married",
   "metadata": {},
   "outputs": [
    {
     "name": "stdout",
     "output_type": "stream",
     "text": [
      "first bin: x = (0.30000000000000004,0.35), z = (0.42000000000000004,0.48000000000000004), pT = (0.26,0.39), Q2 = (1.8,2.6)\n",
      "second bin: x = (0.25,0.30000000000000004), z = (0.48000000000000004,0.54), pT = (0.26,0.39), Q2 = (1.8,2.6)\n"
     ]
    }
   ],
   "source": [
    "print(f\"first bin: x = ({xb[4]},{xb[5]}), z = ({zb[2]},{zb[3]}), pT = ({pTb[2]},{pTb[3]}), Q2 = ({Q2b[1]},{Q2b[2]})\")\n",
    "print(f\"second bin: x = ({xb[3]},{xb[4]}), z = ({zb[3]},{zb[4]}), pT = ({pTb[2]},{pTb[3]}), Q2 = ({Q2b[1]},{Q2b[2]})\")"
   ]
  },
  {
   "cell_type": "code",
   "execution_count": null,
   "id": "affiliated-recipient",
   "metadata": {},
   "outputs": [],
   "source": []
  }
 ],
 "metadata": {
  "kernelspec": {
   "display_name": "Python 3 (ipykernel)",
   "language": "python",
   "name": "python3"
  },
  "language_info": {
   "codemirror_mode": {
    "name": "ipython",
    "version": 3
   },
   "file_extension": ".py",
   "mimetype": "text/x-python",
   "name": "python",
   "nbconvert_exporter": "python",
   "pygments_lexer": "ipython3",
   "version": "3.8.6"
  }
 },
 "nbformat": 4,
 "nbformat_minor": 5
}
