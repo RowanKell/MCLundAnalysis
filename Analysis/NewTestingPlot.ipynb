{
 "cells": [
  {
   "cell_type": "markdown",
   "id": "breeding-winning",
   "metadata": {},
   "source": [
    "# Testing Plots for Affinity by binning Q2 and x for whole plot"
   ]
  },
  {
   "cell_type": "markdown",
   "id": "worst-rating",
   "metadata": {},
   "source": [
    "Plan:\n",
    "1. Filter all data in RDataFrame into a single Q2 and x bin\n",
    "2. bin data into several qT/Q  z  binnings\n",
    "3. plot affinity as the color"
   ]
  },
  {
   "cell_type": "code",
   "execution_count": 2,
   "id": "eastern-georgia",
   "metadata": {},
   "outputs": [
    {
     "name": "stdout",
     "output_type": "stream",
     "text": [
      "tf.__version__ 2.7.0\n"
     ]
    }
   ],
   "source": [
    "from ROOT import TFile,TTree,TCanvas,TH1F,gStyle,TLatex,gPad,TLegend,TLorentzVector,TH2F,TLine,TF1,TBox,RDataFrame,TPad,TF2\n",
    "import ROOT\n",
    "import numpy as np\n",
    "import awkward as awk\n",
    "import uproot\n",
    "import pandas as pd\n",
    "import matplotlib.pyplot as plot\n",
    "import matplotlib as mpl\n",
    "from pandas import read_excel \n",
    "from copy import deepcopy\n",
    "from ipywidgets import *\n",
    "import logging, os \n",
    "import time\n",
    "logging.disable(logging.WARNING) \n",
    "os.environ[\"TF_CPP_MIN_LOG_LEVEL\"] = \"3\"\n",
    "\n",
    "import tensorflow as tf\n",
    "print(\"tf.__version__\", tf.__version__)\n"
   ]
  },
  {
   "cell_type": "code",
   "execution_count": 3,
   "id": "brave-program",
   "metadata": {},
   "outputs": [],
   "source": [
    "# d_plus = RDataFrame(\"tree_MC_plus\", \"../OutputFiles/Slurm/Oct_20_run2/file_20*.root\")\n",
    "# d_minus = RDataFrame(\"tree_MC_minus\", \"../OutputFiles/Slurm/Oct_20_run2/file_20*.root\")\n",
    "# d_plus = RDataFrame(\"tree_MC_plus\", \"../OutputFiles/Slurm/Oct_26/file_*.root\")\n",
    "d_plus = RDataFrame(\"tree_MC_plus\", \"../OutputFiles/Slurm/Oct_27/file_*.root\")\n",
    "\n",
    "\n",
    "#Testing on a single file:\n",
    "# d_plus = RDataFrame(\"tree_MC_plus\", \"../OutputFiles/Separate_Test_10_24/file3.root\")\n",
    "# d_plus = RDataFrame(\"tree_MC_plus\", \"../OutputFiles/Test_10_27/file1.root\")\n"
   ]
  },
  {
   "cell_type": "code",
   "execution_count": 4,
   "id": "needed-chocolate",
   "metadata": {},
   "outputs": [],
   "source": [
    "Q2bins = np.array([0,1.,1.4,2.0,2.8,4.0,5.6])# 6 Q2 bins\n",
    "xbins = np.array([0,0.1,0.13,0.16,0.19,0.235,0.3,0.5])#7 x bins\n",
    "zbins = np.array([0,0.35,0.43,0.49,0.55,0.62,0.7]) #9 z bins\n",
    "qdivQ2bins = np.array(np.linspace(0,0.8,num=8)) #7 qdiv bins\n",
    "\n",
    "Q2num = len(Q2bins)\n",
    "xnum = len(xbins)\n",
    "znum = len(zbins)\n",
    "qdivnum = len(qdivQ2bins)"
   ]
  },
  {
   "cell_type": "code",
   "execution_count": 5,
   "id": "improving-angel",
   "metadata": {},
   "outputs": [],
   "source": [
    "#Testing last bin only: Q2 = 11.1\n",
    "xformat = \"x <= {} && x > {}\"\n",
    "qdivformat = \"q_TdivQ <= {} && q_TdivQ > {}\"\n",
    "Q2format = \"Q2 <= {} && Q2 > {}\"\n",
    "zformat = \"z <= {} && z > {}\"\n",
    "Mhformat = \"Mh <= {} && Mh > {}\"\n",
    "Q2xbin = d_plus.Filter(xformat.format(xbins[xnum - 3],xbins[xnum - 4])).Filter(Q2format.format(Q2bins[Q2num - 3],Q2bins[Q2num - 4]))#.Filter(\"R0max < 0.3\").Filter(\"R1max < 0.3\").Filter(\"R2max < 0.3\")"
   ]
  },
  {
   "cell_type": "code",
   "execution_count": 6,
   "id": "institutional-sudan",
   "metadata": {},
   "outputs": [],
   "source": [
    "# i = 0\n",
    "# j = 0\n",
    "# # printbin = Q2xbin.Filter(qdivformat.format(qdivQ2bins[j+1],qdivQ2bins[j]))\n",
    "# # printbin = Q2xbin.Filter(zformat.format(zbins[i+1],zbins[i]))\n",
    "# print(printbin.Count().GetValue())"
   ]
  },
  {
   "cell_type": "code",
   "execution_count": 7,
   "id": "invisible-feeding",
   "metadata": {},
   "outputs": [],
   "source": [
    "# c = TCanvas(\"c\",\"c\",1200,1000)\n",
    "# h = Q2xbin.Histo2D((\"h\",\";R0max ;z\",100,0,1,100,0,1),\"R0max\", \"q_TdivQ\")\n",
    "# h.Draw()\n",
    "# c.Draw()"
   ]
  },
  {
   "cell_type": "code",
   "execution_count": 8,
   "id": "adaptive-residence",
   "metadata": {},
   "outputs": [],
   "source": [
    "#Filtering data\n",
    "#Need one large array of arrays where each column is binned by z and each row is binned by qT/Q\n",
    "#10 bins for z, 8 for qT/Q\n",
    "affvals = [[np.zeros(7).tolist() for i in range(qdivnum - 1)] for i in range(znum - 1)]"
   ]
  },
  {
   "cell_type": "code",
   "execution_count": 8,
   "id": "macro-bernard",
   "metadata": {},
   "outputs": [],
   "source": [
    "varName = np.array([\"x\", \"z\", \"Q2\", \"pT\", \"R0max\", \"R1max\", \"R2max\"])\n",
    "#x, z, Q2, are all already binned, only need to integrate over pt, R0, R1, R2\n",
    "#varName = np.array([\"pt\", \"R0\", \"R1\", \"R2\"])"
   ]
  },
  {
   "cell_type": "code",
   "execution_count": 9,
   "id": "rotary-quarter",
   "metadata": {},
   "outputs": [],
   "source": [
    "#loop through i z bins\n",
    "for i in range(znum - 1): #loop thru minus 1 as we have 0 as first bin but thats just the lower bound\n",
    "    #loop through j qTdiv bins\n",
    "    for j in range(qdivnum - 1):\n",
    "        #Now set preset kinematics\n",
    "        #\n",
    "        #x\n",
    "        affvals[i][j][0] = xbins[xnum - 3]#testing on fifth bin\n",
    "        #z\n",
    "        affvals[i][j][1] = zbins[i + 1]\n",
    "        #Q2\n",
    "        affvals[i][j][2] = Q2bins[Q2num - 3]"
   ]
  },
  {
   "cell_type": "code",
   "execution_count": 11,
   "id": "tropical-stations",
   "metadata": {},
   "outputs": [],
   "source": [
    "#loop through i z bins\n",
    "for i in range(znum - 1):\n",
    "    #loop through j qTdiv bins\n",
    "    for j in range(qdivnum - 1):\n",
    "        #loop through k kinematic variables - pt, R0, R1, R2\n",
    "        affvals[i][j][3] = Q2xbin.Filter(zformat.format(zbins[i+1],zbins[i])).Filter(qdivformat.format(qdivQ2bins[j+1],qdivQ2bins[j])).Mean(\"pT\")\n",
    "#         affvals[i][j][4] = 0.3\n",
    "#         affvals[i][j][5] = 0.3\n",
    "#         affvals[i][j][6] = 0.3\n",
    "#         affvals[i][j][4] = Q2xbin.Filter(zformat.format(zbins[i+1],zbins[i])).Filter(qdivformat.format(qdivQ2bins[j+1],qdivQ2bins[j])).Mean(\"R0max\")\n",
    "#         affvals[i][j][5] = Q2xbin.Filter(zformat.format(zbins[i+1],zbins[i])).Filter(qdivformat.format(qdivQ2bins[j+1],qdivQ2bins[j])).Mean(\"R1max\")\n",
    "#         affvals[i][j][6] = Q2xbin.Filter(zformat.format(zbins[i+1],zbins[i])).Filter(qdivformat.format(qdivQ2bins[j+1],qdivQ2bins[j])).Mean(\"R2max\")\n",
    "        affvals[i][j][4] = 0\n",
    "        affvals[i][j][5] = 0\n",
    "        affvals[i][j][6] = 0"
   ]
  },
  {
   "cell_type": "code",
   "execution_count": 12,
   "id": "mental-token",
   "metadata": {},
   "outputs": [
    {
     "name": "stdout",
     "output_type": "stream",
     "text": [
      "took: 4.462173938751221\n"
     ]
    }
   ],
   "source": [
    "#print(px)\n",
    "forstart = time.time()\n",
    "#loop through i z bins\n",
    "for i in range(znum - 1):\n",
    "    #loop through j qTdiv bins\n",
    "    for j in range(qdivnum - 1):\n",
    "        #loop through k kinematic variables - pt, R0, R1, R2\n",
    "        for k in range(3,4):\n",
    "            affvals[i][j][k]=affvals[i][j][k].GetValue()\n",
    "#             print(affvals[i][j][k])\n",
    "forend = time.time()\n",
    "print(\"took: \" + str(forend - forstart))"
   ]
  },
  {
   "cell_type": "code",
   "execution_count": 13,
   "id": "clinical-tunnel",
   "metadata": {},
   "outputs": [],
   "source": [
    "collinear_region_name = 'collinear'\n",
    "current_region_name = 'current'\n",
    "target_region_name = 'target'\n",
    "TMD_region_name = 'TMD'\n",
    "soft_region_name = 'soft'\n",
    "collinear_lable_name = 'collinearaff'\n",
    "target_lable_name = 'targetaff'\n",
    "current_lable_name = 'currentaff'\n",
    "TMD_lable_name = 'tmdaff'\n",
    "soft_lable_name = 'softaff'\n",
    "\n",
    "tmd_model_name = '../../SIDIS-Affinity/models/final_%s' % TMD_region_name\n",
    "tmd_model = tf.keras.models.load_model(tmd_model_name)\n",
    "target_model_name = '../../SIDIS-Affinity/models/final_%s' % target_region_name\n",
    "target_model = tf.keras.models.load_model(target_model_name)\n",
    "collinear_model_name = '../../SIDIS-Affinity/models/final_%s' % collinear_region_name\n",
    "collinear_model = tf.keras.models.load_model(collinear_model_name)\n",
    "current_model_name = '../../SIDIS-Affinity/models/final_%s' % current_region_name\n",
    "current_model = tf.keras.models.load_model(current_model_name)\n",
    "soft_model_name = '../../SIDIS-Affinity/models/final_%s' % soft_region_name\n",
    "soft_model = tf.keras.models.load_model(soft_model_name)"
   ]
  },
  {
   "cell_type": "code",
   "execution_count": 48,
   "id": "collect-fluid",
   "metadata": {},
   "outputs": [],
   "source": [
    "#var order: \n",
    "#\"x\", \"z\", \"Q2\", \"pT\", \"R0max\", \"R1max\", \"R2max\"\n",
    "# 0    1    2     3      4         5        6\n",
    "#array ijk values:\n",
    "\n",
    "#array is the full array at a specific ij value, meaning that it is the kinematics at that specific point on the plot\n",
    "\n",
    "def calculator(array, region):\n",
    "    x = array[0]\n",
    "    z = array[1]\n",
    "    Q2 = array[2]\n",
    "    pT = array[3]\n",
    "    R0max = array[4]\n",
    "    R1max = array[5]\n",
    "    R2max = array[6]\n",
    "        \n",
    "    test_features = pd.DataFrame({'pT':pT,'Q2':Q2,'x':x,'z':z,'R0max':R0max,'R1max':R1max,'R2max':R2max},index=[0])\n",
    "\n",
    "    if region == 'tmd':\n",
    "        prediction = tmd_model.predict(test_features).flatten()\n",
    "        \n",
    "    elif region == 'target':\n",
    "        prediction = target_model.predict(test_features).flatten()\n",
    "        \n",
    "    elif region == 'collinear':\n",
    "        prediction = collinear_model.predict(test_features).flatten()\n",
    "\n",
    "    elif region == 'soft':\n",
    "        prediction = soft_model.predict(test_features).flatten()\n",
    "\n",
    "    else:\n",
    "        prediction = current_model.predict(test_features).flatten()\n",
    "\n",
    "    return prediction[0] #returns affinity value"
   ]
  },
  {
   "cell_type": "code",
   "execution_count": 49,
   "id": "distant-somerset",
   "metadata": {},
   "outputs": [],
   "source": [
    "#calcaff[i][j] - ith z bin, jth qdiv bin\n",
    "calcaff = [np.zeros(qdivnum - 1).tolist() for i in range(znum -1)]"
   ]
  },
  {
   "cell_type": "code",
   "execution_count": 50,
   "id": "sacred-tribe",
   "metadata": {},
   "outputs": [],
   "source": [
    "tmd = \"tmd\"\n",
    "for i in range(znum - 1):\n",
    "    for j in range(qdivnum - 1):\n",
    "        calcaff[i][j] = calculator(affvals[i][j],tmd )"
   ]
  },
  {
   "cell_type": "code",
   "execution_count": 51,
   "id": "opponent-affect",
   "metadata": {},
   "outputs": [],
   "source": [
    "varName = np.array([\"x\", \"z\", \"Q2\", \"pT\", \"R0max\", \"R1max\", \"R2max\"])\n"
   ]
  },
  {
   "cell_type": "code",
   "execution_count": 52,
   "id": "employed-sister",
   "metadata": {},
   "outputs": [
    {
     "name": "stdout",
     "output_type": "stream",
     "text": [
      "[[5.3394305e-27, 1.318239e-26, 5.3611696e-26, 1.6172001e-25, 4.1222205e-25, 8.114444e-25, 1.5888281e-24], [4.040666e-27, 6.6810964e-27, 2.0770321e-26, 1.3528976e-25, 3.8420243e-25, 6.621225e-25, 1.1666539e-24], [1.0585885e-26, 9.2353564e-27, 2.8029174e-26, 1.8010297e-25, 5.238659e-25, 1.4099506e-24, 9.202063e-25], [1.1254868e-26, 1.3245297e-26, 2.722999e-26, 1.6337746e-25, 3.3286753e-25, 1.8919837e-24, 1.8747983e-24], [1.7412077e-26, 5.181537e-26, 6.684312e-26, 5.390536e-26, 1.1775412e-24, 7.3040483e-25, 4.2427377e-24], [5.2546442e-20, 5.2546442e-20, 3.3583931e-25, 1.7750031e-24, 5.2546442e-20, 4.6508742e-24, 6.41578e-23]]\n"
     ]
    }
   ],
   "source": [
    "print(calcaff)"
   ]
  },
  {
   "cell_type": "code",
   "execution_count": 47,
   "id": "peaceful-valuable",
   "metadata": {},
   "outputs": [
    {
     "data": {
      "image/png": "[encoded data removed]",
      "text/plain": [
       "<Figure size 600x400 with 1 Axes>"
      ]
     },
     "metadata": {
      "needs_background": "light"
     },
     "output_type": "display_data"
    }
   ],
   "source": [
    "plot.figure(dpi = 100)\n",
    "for i in range(znum - 1):\n",
    "    for j in range(qdivnum - 1):\n",
    "        plot.scatter(zbins[i],qdivQ2bins[j],c = calcaff[i][j],s = (500*calcaff[i][j]**0.2+20),cmap= 'seismic_r', alpha=0.8,vmin=0,vmax=1)\n",
    "        mystr = \"i: {}; j: {}; aff: {}\"\n",
    "#         print(mystr.format(i,j,calcaff[i][j]))\n",
    "\n",
    "plot.xlabel(\"z\")\n",
    "plot.ylabel(\"qT / Q\")\n",
    "plot.title(\"x = 0.55; Q2 = 11.1\")\n",
    "plot.plot();\n",
    "# plot.savefig(\"x_0_55___Q2_11_1.png\")"
   ]
  },
  {
   "cell_type": "code",
   "execution_count": 19,
   "id": "historical-taiwan",
   "metadata": {},
   "outputs": [
    {
     "data": {
      "image/png": "[encoded data removed]",
      "text/plain": [
       "<IPython.core.display.Image object>"
      ]
     },
     "metadata": {},
     "output_type": "display_data"
    }
   ],
   "source": [
    "h0 = Q2xbin.Histo1D((\"h0\",\";R0 ;Counts\", 100, 0, 1), \"R0max\")\n",
    "c = TCanvas(\"c\",\"c\",500,500)\n",
    "h0.Draw()\n",
    "c.Draw()"
   ]
  },
  {
   "cell_type": "code",
   "execution_count": null,
   "id": "textile-secondary",
   "metadata": {},
   "outputs": [],
   "source": []
  },
  {
   "cell_type": "code",
   "execution_count": null,
   "id": "original-representative",
   "metadata": {},
   "outputs": [],
   "source": []
  }
 ],
 "metadata": {
  "kernelspec": {
   "display_name": "Python 3",
   "language": "python",
   "name": "python3"
  },
  "language_info": {
   "codemirror_mode": {
    "name": "ipython",
    "version": 3
   },
   "file_extension": ".py",
   "mimetype": "text/x-python",
   "name": "python",
   "nbconvert_exporter": "python",
   "pygments_lexer": "ipython3",
   "version": "3.8.6"
  }
 },
 "nbformat": 4,
 "nbformat_minor": 5
}
