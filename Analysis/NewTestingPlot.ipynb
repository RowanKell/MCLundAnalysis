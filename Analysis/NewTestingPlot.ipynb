{
 "cells": [
  {
   "cell_type": "markdown",
   "id": "arabic-earth",
   "metadata": {},
   "source": [
    "# Testing Plots for Affinity by binning Q2 and x for whole plot"
   ]
  },
  {
   "cell_type": "markdown",
   "id": "returning-kazakhstan",
   "metadata": {},
   "source": [
    "Plan:\n",
    "1. Filter all data in RDataFrame into a single Q2 and x bin\n",
    "2. bin data into several qT/Q  z  binnings\n",
    "3. plot affinity as the color"
   ]
  },
  {
   "cell_type": "code",
   "execution_count": 138,
   "id": "initial-course",
   "metadata": {},
   "outputs": [
    {
     "name": "stdout",
     "output_type": "stream",
     "text": [
      "tf.__version__ 2.7.0\n"
     ]
    }
   ],
   "source": [
    "from ROOT import TFile,TTree,TCanvas,TH1F,gStyle,TLatex,gPad,TLegend,TLorentzVector,TH2F,TLine,TF1,TBox,RDataFrame,TPad,TF2\n",
    "import ROOT\n",
    "import numpy as np\n",
    "import awkward as awk\n",
    "import uproot\n",
    "import pandas as pd\n",
    "import matplotlib.pyplot as plot\n",
    "import matplotlib as mpl\n",
    "from pandas import read_excel \n",
    "from copy import deepcopy\n",
    "from ipywidgets import *\n",
    "import logging, os \n",
    "import time\n",
    "logging.disable(logging.WARNING) \n",
    "os.environ[\"TF_CPP_MIN_LOG_LEVEL\"] = \"3\"\n",
    "\n",
    "import tensorflow as tf\n",
    "print(\"tf.__version__\", tf.__version__)\n"
   ]
  },
  {
   "cell_type": "code",
   "execution_count": 107,
   "id": "postal-prevention",
   "metadata": {},
   "outputs": [],
   "source": [
    "# d_plus = RDataFrame(\"tree_MC_plus\", \"../OutputFiles/Slurm/Oct_20_run2/file_20*.root\")\n",
    "# d_minus = RDataFrame(\"tree_MC_minus\", \"../OutputFiles/Slurm/Oct_20_run2/file_20*.root\")\n",
    "\n",
    "#Testing on a single file:\n",
    "d_plus = RDataFrame(\"tree_MC_plus\", \"../OutputFiles/Separate_Test_10_24/file3.root\")\n"
   ]
  },
  {
   "cell_type": "code",
   "execution_count": 108,
   "id": "bearing-colorado",
   "metadata": {},
   "outputs": [
    {
     "name": "stdout",
     "output_type": "stream",
     "text": [
      "{ \"z\", \"x\", \"pT\", \"Q2\", \"R0max\", \"R1max\", \"R2max\", \"Mh\", \"q_TdivQ\" }\n"
     ]
    }
   ],
   "source": [
    "print(d_plus.GetColumnNames())"
   ]
  },
  {
   "cell_type": "code",
   "execution_count": 109,
   "id": "touched-charm",
   "metadata": {},
   "outputs": [],
   "source": [
    "Q2bins = np.array([0,1.,1.4,2.0,2.8,4.0,5.6,7.9,11.1])# 8 Q2 bins\n",
    "xbins = np.array([0,0.05,0.09,0.16,0.30,0.55])#5 x bins\n",
    "zbins = np.array(np.linspace(0,0.9,num=11)) #10 z bins\n",
    "qdivQ2bins = np.array(np.linspace(0,0.8,num=6)) #5 qdiv bins\n"
   ]
  },
  {
   "cell_type": "code",
   "execution_count": 110,
   "id": "wireless-pacific",
   "metadata": {},
   "outputs": [],
   "source": [
    "#Testing last bin only: Q2 = 11.1\n",
    "xformat = \"x <= {} && x > {}\"\n",
    "qdivformat = \"q_TdivQ <= {} && q_TdivQ > {}\"\n",
    "Q2format = \"Q2 <= {} && Q2 > {}\"\n",
    "zformat = \"z <= {} && z > {}\"\n",
    "Mhformat = \"Mh <= {} && Mh > {}\"\n",
    "Q2xbin = d_plus.Filter(xformat.format(xbins[5],xbins[4])).Filter(Q2format.format(Q2bins[5],Q2bins[4]))"
   ]
  },
  {
   "cell_type": "code",
   "execution_count": 111,
   "id": "organized-affiliate",
   "metadata": {},
   "outputs": [],
   "source": [
    "#Filtering data\n",
    "#Need one large array of arrays where each column is binned by z and each row is binned by qT/Q\n",
    "#10 bins for z, 8 for qT/Q\n",
    "affvals = [[np.zeros(7).tolist() for i in range(5)] for i in range(10)]"
   ]
  },
  {
   "cell_type": "code",
   "execution_count": 112,
   "id": "fleet-range",
   "metadata": {},
   "outputs": [],
   "source": [
    "varName = np.array([\"x\", \"z\", \"Q2\", \"pT\", \"R0max\", \"R1max\", \"R2max\"])\n",
    "#x, z, Q2, are all already binned, only need to integrate over pt, R0, R1, R2\n",
    "#varName = np.array([\"pt\", \"R0\", \"R1\", \"R2\"])"
   ]
  },
  {
   "cell_type": "code",
   "execution_count": 113,
   "id": "introductory-michael",
   "metadata": {},
   "outputs": [],
   "source": [
    "#loop through i z bins\n",
    "for i in range(10):\n",
    "    #loop through j qTdiv bins\n",
    "    for j in range(5):\n",
    "        #Now set preset kinematics\n",
    "        #\n",
    "        #x\n",
    "        affvals[i][j][0] = xbins[5]#testing on fifth bin\n",
    "        #z\n",
    "        affvals[i][j][1] = zbins[i+1]\n",
    "        #Q2\n",
    "        affvals[i][j][2] = Q2bins[8]"
   ]
  },
  {
   "cell_type": "code",
   "execution_count": 114,
   "id": "collected-floor",
   "metadata": {},
   "outputs": [],
   "source": [
    "#loop through i z bins\n",
    "for i in range(10):\n",
    "    #loop through j qTdiv bins\n",
    "    for j in range(5):\n",
    "        #loop through k kinematic variables - pt, R0, R1, R2\n",
    "        for k in range(3,7):\n",
    "            affvals[i][j][k] = d_plus.Filter(zformat.format(zbins[i+1],zbins[i])).Filter(qdivformat.format(qdivQ2bins[j+1],qdivQ2bins[j])).Mean(varName[k])"
   ]
  },
  {
   "cell_type": "code",
   "execution_count": 116,
   "id": "upper-woman",
   "metadata": {},
   "outputs": [
    {
     "name": "stdout",
     "output_type": "stream",
     "text": [
      "took: 0.004741191864013672\n"
     ]
    }
   ],
   "source": [
    "#print(px)\n",
    "forstart = time.time()\n",
    "#loop through i z bins\n",
    "for i in range(10):\n",
    "    #loop through j qTdiv bins\n",
    "    for j in range(5):\n",
    "        #loop through k kinematic variables - pt, R0, R1, R2\n",
    "        for k in range(3,7):\n",
    "            affvals[i][j][k]=affvals[i][j][k].GetValue()\n",
    "forend = time.time()\n",
    "print(\"took: \" + str(forend - forstart))"
   ]
  },
  {
   "cell_type": "code",
   "execution_count": 117,
   "id": "behavioral-murray",
   "metadata": {},
   "outputs": [],
   "source": [
    "collinear_region_name = 'collinear'\n",
    "current_region_name = 'current'\n",
    "target_region_name = 'target'\n",
    "TMD_region_name = 'TMD'\n",
    "soft_region_name = 'soft'\n",
    "collinear_lable_name = 'collinearaff'\n",
    "target_lable_name = 'targetaff'\n",
    "current_lable_name = 'currentaff'\n",
    "TMD_lable_name = 'tmdaff'\n",
    "soft_lable_name = 'softaff'\n",
    "\n",
    "tmd_model_name = '../../SIDIS-Affinity/models/final_%s' % TMD_region_name\n",
    "tmd_model = tf.keras.models.load_model(tmd_model_name)\n",
    "target_model_name = '../../SIDIS-Affinity/models/final_%s' % target_region_name\n",
    "target_model = tf.keras.models.load_model(target_model_name)\n",
    "collinear_model_name = '../../SIDIS-Affinity/models/final_%s' % collinear_region_name\n",
    "collinear_model = tf.keras.models.load_model(collinear_model_name)\n",
    "current_model_name = '../../SIDIS-Affinity/models/final_%s' % current_region_name\n",
    "current_model = tf.keras.models.load_model(current_model_name)\n",
    "soft_model_name = '../../SIDIS-Affinity/models/final_%s' % soft_region_name\n",
    "soft_model = tf.keras.models.load_model(soft_model_name)"
   ]
  },
  {
   "cell_type": "code",
   "execution_count": 118,
   "id": "rolled-repeat",
   "metadata": {},
   "outputs": [],
   "source": [
    "#var order: \n",
    "#\"x\", \"z\", \"Q2\", \"pT\", \"R0max\", \"R1max\", \"R2max\"\n",
    "# 0    1    2     3      4         5        6\n",
    "#array ijk values:\n",
    "\n",
    "#array is the full array at a specific ij value, meaning that it is the kinematics at that specific point on the plot\n",
    "\n",
    "def calculator(array, region):\n",
    "    x = array[0]\n",
    "    z = array[1]\n",
    "    Q2 = array[2]\n",
    "    pT = array[3]\n",
    "    R0max = array[4]\n",
    "    R1max = array[5]\n",
    "    R2max = array[6]\n",
    "        \n",
    "    test_features = pd.DataFrame({'pT':pT,'Q2':Q2,'x':x,'z':z,'R0max':R0max,'R1max':R1max,'R2max':R2max},index=[0])\n",
    "\n",
    "    if region == 'tmd':\n",
    "        prediction = tmd_model.predict(test_features).flatten()\n",
    "        \n",
    "    elif region == 'target':\n",
    "        prediction = target_model.predict(test_features).flatten()\n",
    "        \n",
    "    elif region == 'collinear':\n",
    "        prediction = collinear_model.predict(test_features).flatten()\n",
    "\n",
    "    elif region == 'soft':\n",
    "        prediction = soft_model.predict(test_features).flatten()\n",
    "\n",
    "    else:\n",
    "        prediction = current_model.predict(test_features).flatten()\n",
    "\n",
    "    return prediction[0] #returns affinity value"
   ]
  },
  {
   "cell_type": "code",
   "execution_count": 121,
   "id": "ignored-enemy",
   "metadata": {},
   "outputs": [],
   "source": [
    "#calcaff[i][j] - ith z bin, jth qdiv bin\n",
    "calcaff = [np.zeros(5).tolist() for i in range(10)]"
   ]
  },
  {
   "cell_type": "code",
   "execution_count": 122,
   "id": "greater-aberdeen",
   "metadata": {},
   "outputs": [],
   "source": [
    "tmd = \"tmd\"\n",
    "for i in range(10):\n",
    "    for j in range(5):\n",
    "        calcaff[i][j] = calculator(affvals[i][j],tmd )"
   ]
  },
  {
   "cell_type": "code",
   "execution_count": 148,
   "id": "suffering-preliminary",
   "metadata": {},
   "outputs": [
    {
     "data": {
      "image/png": "[encoded data removed]",
      "text/plain": [
       "<Figure size 432x288 with 1 Axes>"
      ]
     },
     "metadata": {
      "needs_background": "light"
     },
     "output_type": "display_data"
    }
   ],
   "source": [
    "\n",
    "for i in range(10):\n",
    "    for j in range(5):\n",
    "        plot.scatter(zbins[i],qdivQ2bins[j],c = calcaff[i][j],s = (500*calcaff[i][j]**0.2+20),cmap= 'seismic_r', alpha=0.8,vmin=0,vmax=1)\n",
    "        mystr = \"i: {}; j: {}; aff: {}\"\n",
    "#         print(mystr.format(i,j,calcaff[i][j]))\n",
    "plot.show()"
   ]
  },
  {
   "cell_type": "code",
   "execution_count": null,
   "id": "described-accommodation",
   "metadata": {},
   "outputs": [],
   "source": []
  }
 ],
 "metadata": {
  "kernelspec": {
   "display_name": "Python 3",
   "language": "python",
   "name": "python3"
  },
  "language_info": {
   "codemirror_mode": {
    "name": "ipython",
    "version": 3
   },
   "file_extension": ".py",
   "mimetype": "text/x-python",
   "name": "python",
   "nbconvert_exporter": "python",
   "pygments_lexer": "ipython3",
   "version": "3.8.6"
  }
 },
 "nbformat": 4,
 "nbformat_minor": 5
}
