{
 "cells": [
  {
   "cell_type": "markdown",
   "id": "twelve-hopkins",
   "metadata": {},
   "source": [
    "# Testing Plots for Affinity by binning Q2 and x for whole plot"
   ]
  },
  {
   "cell_type": "markdown",
   "id": "thorough-browse",
   "metadata": {},
   "source": [
    "Plan:\n",
    "1. Filter all data in RDataFrame into a single Q2 and x bin\n",
    "2. bin data into several qT/Q  z  binnings\n",
    "3. plot affinity as the color"
   ]
  },
  {
   "cell_type": "code",
   "execution_count": 481,
   "id": "functional-wellington",
   "metadata": {},
   "outputs": [
    {
     "name": "stdout",
     "output_type": "stream",
     "text": [
      "tf.__version__ 2.7.0\n"
     ]
    }
   ],
   "source": [
    "from ROOT import TFile,TTree,TCanvas,TH1F,gStyle,TLatex,gPad,TLegend,TLorentzVector,TH2F,TLine,TF1,TBox,RDataFrame,TPad,TF2\n",
    "import ROOT\n",
    "import numpy as np\n",
    "import awkward as awk\n",
    "import uproot\n",
    "import pandas as pd\n",
    "import matplotlib.pyplot as plot\n",
    "import matplotlib as mpl\n",
    "from pandas import read_excel \n",
    "from copy import deepcopy\n",
    "from ipywidgets import *\n",
    "import logging, os \n",
    "import time\n",
    "logging.disable(logging.WARNING) \n",
    "os.environ[\"TF_CPP_MIN_LOG_LEVEL\"] = \"3\"\n",
    "\n",
    "import tensorflow as tf\n",
    "print(\"tf.__version__\", tf.__version__)\n"
   ]
  },
  {
   "cell_type": "code",
   "execution_count": 482,
   "id": "angry-repeat",
   "metadata": {},
   "outputs": [],
   "source": [
    "# d_plus = RDataFrame(\"tree_MC_plus\", \"../OutputFiles/Slurm/Oct_20_run2/file_20*.root\")\n",
    "# d_minus = RDataFrame(\"tree_MC_minus\", \"../OutputFiles/Slurm/Oct_20_run2/file_20*.root\")\n",
    "# d_plus = RDataFrame(\"tree_MC_plus\", \"../OutputFiles/Slurm/Oct_26/file_*.root\")\n",
    "d_plus = RDataFrame(\"tree_MC_plus\", \"../OutputFiles/Slurm/Oct_27/file_*.root\")\n",
    "\n",
    "\n",
    "#Testing on a single file:\n",
    "# d_plus = RDataFrame(\"tree_MC_plus\", \"../OutputFiles/Separate_Test_10_24/file3.root\")\n",
    "# d_plus = RDataFrame(\"tree_MC_plus\", \"../OutputFiles/Test_10_27/file1.root\")\n"
   ]
  },
  {
   "cell_type": "code",
   "execution_count": 483,
   "id": "maritime-turning",
   "metadata": {},
   "outputs": [],
   "source": [
    "Q2bins = np.array([0,1.,1.4,2.0,2.8,4.0,5.6])# 6 Q2 bins\n",
    "xbins = np.array([0,0.1,0.13,0.16,0.19,0.235,0.3,0.5])#7 x bins\n",
    "zbins = np.array([0,0.35,0.43,0.49,0.55,0.62,0.7]) #9 z bins\n",
    "qdivQ2bins = np.array(np.linspace(0,0.8,num=8)) #7 qdiv bins\n",
    "\n",
    "Q2num = len(Q2bins)\n",
    "xnum = len(xbins)\n",
    "znum = len(zbins)\n",
    "qdivnum = len(qdivQ2bins)"
   ]
  },
  {
   "cell_type": "code",
   "execution_count": 484,
   "id": "oriental-australian",
   "metadata": {},
   "outputs": [],
   "source": [
    "#Testing last bin only: Q2 = 11.1\n",
    "xformat = \"x <= {} && x > {}\"\n",
    "qdivformat = \"q_TdivQ <= {} && q_TdivQ > {}\"\n",
    "Q2format = \"Q2 <= {} && Q2 > {}\"\n",
    "zformat = \"z <= {} && z > {}\"\n",
    "Mhformat = \"Mh <= {} && Mh > {}\"\n",
    "Q2xbin = d_plus.Filter(xformat.format(xbins[xnum - 3],xbins[xnum - 4])).Filter(Q2format.format(Q2bins[Q2num - 3],Q2bins[Q2num - 4]))#.Filter(\"R0max < 0.3\").Filter(\"R1max < 0.3\").Filter(\"R2max < 0.3\")"
   ]
  },
  {
   "cell_type": "code",
   "execution_count": 485,
   "id": "greatest-participant",
   "metadata": {},
   "outputs": [],
   "source": [
    "# i = 0\n",
    "# j = 0\n",
    "# # printbin = Q2xbin.Filter(qdivformat.format(qdivQ2bins[j+1],qdivQ2bins[j]))\n",
    "# # printbin = Q2xbin.Filter(zformat.format(zbins[i+1],zbins[i]))\n",
    "# print(printbin.Count().GetValue())"
   ]
  },
  {
   "cell_type": "code",
   "execution_count": 486,
   "id": "suited-vegetable",
   "metadata": {},
   "outputs": [],
   "source": [
    "# c = TCanvas(\"c\",\"c\",1200,1000)\n",
    "# h = Q2xbin.Histo2D((\"h\",\";R0max ;z\",100,0,1,100,0,1),\"R0max\", \"q_TdivQ\")\n",
    "# h.Draw()\n",
    "# c.Draw()"
   ]
  },
  {
   "cell_type": "code",
   "execution_count": 487,
   "id": "searching-survival",
   "metadata": {},
   "outputs": [],
   "source": [
    "#Filtering data\n",
    "#Need one large array of arrays where each column is binned by z and each row is binned by qT/Q\n",
    "#10 bins for z, 8 for qT/Q\n",
    "affvals = [[np.zeros(7).tolist() for i in range(qdivnum - 1)] for i in range(znum - 1)]"
   ]
  },
  {
   "cell_type": "code",
   "execution_count": 488,
   "id": "compound-issue",
   "metadata": {},
   "outputs": [],
   "source": [
    "varName = np.array([\"x\", \"z\", \"Q2\", \"pT\", \"R0max\", \"R1max\", \"R2max\"])\n",
    "#x, z, Q2, are all already binned, only need to integrate over pt, R0, R1, R2\n",
    "#varName = np.array([\"pt\", \"R0\", \"R1\", \"R2\"])"
   ]
  },
  {
   "cell_type": "code",
   "execution_count": 489,
   "id": "parallel-titanium",
   "metadata": {},
   "outputs": [],
   "source": [
    "#loop through i z bins\n",
    "for i in range(znum - 1): #loop thru minus 1 as we have 0 as first bin but thats just the lower bound\n",
    "    #loop through j qTdiv bins\n",
    "    for j in range(qdivnum - 1):\n",
    "        #Now set preset kinematics\n",
    "        #\n",
    "        #x\n",
    "        affvals[i][j][0] = xbins[xnum - 3]#testing on fifth bin\n",
    "        #z\n",
    "        affvals[i][j][1] = zbins[i + 1]\n",
    "        #Q2\n",
    "        affvals[i][j][2] = Q2bins[Q2num - 3]"
   ]
  },
  {
   "cell_type": "code",
   "execution_count": 490,
   "id": "danish-danger",
   "metadata": {},
   "outputs": [],
   "source": [
    "#loop through i z bins\n",
    "for i in range(znum - 1):\n",
    "    #loop through j qTdiv bins\n",
    "    for j in range(qdivnum - 1):\n",
    "        #loop through k kinematic variables - pt, R0, R1, R2\n",
    "        affvals[i][j][3] = Q2xbin.Filter(zformat.format(zbins[i+1],zbins[i])).Filter(qdivformat.format(qdivQ2bins[j+1],qdivQ2bins[j])).Mean(\"pT\")\n",
    "#         affvals[i][j][4] = 0.3\n",
    "#         affvals[i][j][5] = 0.3\n",
    "#         affvals[i][j][6] = 0.3\n",
    "        affvals[i][j][4] = Q2xbin.Filter(zformat.format(zbins[i+1],zbins[i])).Filter(qdivformat.format(qdivQ2bins[j+1],qdivQ2bins[j])).Mean(\"R0max\")\n",
    "        affvals[i][j][5] = Q2xbin.Filter(zformat.format(zbins[i+1],zbins[i])).Filter(qdivformat.format(qdivQ2bins[j+1],qdivQ2bins[j])).Mean(\"R1max\")\n",
    "        affvals[i][j][6] = Q2xbin.Filter(zformat.format(zbins[i+1],zbins[i])).Filter(qdivformat.format(qdivQ2bins[j+1],qdivQ2bins[j])).Mean(\"R2max\")"
   ]
  },
  {
   "cell_type": "code",
   "execution_count": 491,
   "id": "particular-stage",
   "metadata": {},
   "outputs": [
    {
     "name": "stdout",
     "output_type": "stream",
     "text": [
      "0.5270972389491716\n",
      "0.22459125040527675\n",
      "0.5673557877596208\n",
      "0.20930266962322452\n",
      "0.4975411105375139\n",
      "0.2405823902904733\n",
      "0.6839692740326231\n",
      "0.2102780069924087\n",
      "0.45164505547445016\n",
      "0.24660318944104834\n",
      "0.9870216796151228\n",
      "0.19560362675413642\n",
      "0.4158203488691911\n",
      "0.2590230960796443\n",
      "1.2942905278014951\n",
      "0.19013442408080197\n",
      "0.3858121852513196\n",
      "0.27590281062781075\n",
      "1.6380832960251863\n",
      "0.18614038124757695\n",
      "0.3643332363479183\n",
      "0.28821319398986917\n",
      "1.808720325094683\n",
      "0.1852127444757198\n",
      "0.342680702690198\n",
      "0.2894916510776227\n",
      "1.9243979203212038\n",
      "0.18262403172306502\n",
      "0.5360998114355181\n",
      "0.20556814069691154\n",
      "1.5393579659178072\n",
      "0.19126069654182548\n",
      "0.5198018578865606\n",
      "0.22940406527964174\n",
      "1.762176125332928\n",
      "0.20342172586175983\n",
      "0.4826493058117877\n",
      "0.2340195280228171\n",
      "2.332292414818275\n",
      "0.19247244241191666\n",
      "0.4216088097081878\n",
      "0.24241149016993754\n",
      "3.1552250739881416\n",
      "0.1893808505814817\n",
      "0.3880586555676321\n",
      "0.24662411463646952\n",
      "3.749262984955851\n",
      "0.18371617483911584\n",
      "0.37088792379839525\n",
      "0.257807922485734\n",
      "4.111375435682466\n",
      "0.18322800881761273\n",
      "0.3526332224911832\n",
      "0.2628588441375763\n",
      "4.169522834538092\n",
      "0.17989904466854514\n",
      "0.5047263482409795\n",
      "0.18321992112350416\n",
      "3.1623366147828422\n",
      "0.1714711839084364\n",
      "0.509197093224094\n",
      "0.20393027400756342\n",
      "3.271786610207697\n",
      "0.1876758653277607\n",
      "0.472830892809097\n",
      "0.22243305495316681\n",
      "3.573554549378178\n",
      "0.18835732710908112\n",
      "0.4123278347693952\n",
      "0.2284905144743676\n",
      "4.699981940538478\n",
      "0.18936165491381063\n",
      "0.3782886058591637\n",
      "0.2281946106339951\n",
      "5.298276252812053\n",
      "0.17767850230173918\n",
      "0.3465293160962388\n",
      "0.2169934939269493\n",
      "6.12687790354304\n",
      "0.1574237293956346\n",
      "0.36027971567112776\n",
      "0.24211617933639146\n",
      "6.523605593399378\n",
      "0.18006836422218625\n",
      "0.5027191679429229\n",
      "0.18366013372900813\n",
      "3.825405677785291\n",
      "0.17768560496930372\n",
      "0.49738519960968813\n",
      "0.19364537149035307\n",
      "4.382942332614077\n",
      "0.17378004201310346\n",
      "0.4737786521123469\n",
      "0.2024346591426915\n",
      "5.675524233807644\n",
      "0.17229501987002996\n",
      "0.4154894204120945\n",
      "0.2019873415142014\n",
      "6.765647324770908\n",
      "0.16648992352193018\n",
      "0.3926348520603097\n",
      "0.23922375923938705\n",
      "7.565931801509961\n",
      "0.20310676010034412\n",
      "0.3370533040063018\n",
      "0.19835044730340998\n",
      "8.421303491661105\n",
      "0.14100042700965665\n",
      "0.33734737658462494\n",
      "0.227418164119716\n",
      "8.725083019623192\n",
      "0.17417001049935005\n",
      "0.4884260567837254\n",
      "0.222192253547255\n",
      "5.906712897429497\n",
      "0.21317424331400783\n",
      "0.4527517017961063\n",
      "0.18192307214737857\n",
      "8.721415853153246\n",
      "0.15469875167070246\n",
      "0.4444849704199499\n",
      "0.1651820924034775\n",
      "6.402434632568004\n",
      "0.1462406727656352\n",
      "0.4514676510461346\n",
      "0.19922557953888512\n",
      "9.647163310492072\n",
      "0.15341236530894856\n",
      "0.352333479932449\n",
      "0.2051201558404298\n",
      "10.703336201112803\n",
      "0.16696509981861\n",
      "0.3677241644011303\n",
      "0.20676691666460337\n",
      "9.294063856076574\n",
      "0.1546401495061493\n",
      "0.3110293876031921\n",
      "0.2353740900878966\n",
      "10.654641311936375\n",
      "0.17373413505278415\n",
      "0.0\n",
      "0.0\n",
      "0.0\n",
      "0.0\n",
      "0.0\n",
      "0.0\n",
      "0.0\n",
      "0.0\n",
      "0.3923511124105116\n",
      "0.11555948631726326\n",
      "14.965779505250312\n",
      "0.1023502147054972\n",
      "0.33910970508838373\n",
      "0.1847873303806923\n",
      "4.0040960508835655\n",
      "0.10209022570179781\n",
      "0.0\n",
      "0.0\n",
      "0.0\n",
      "0.0\n",
      "0.3080694362252109\n",
      "0.13825254053310243\n",
      "19.660847705252156\n",
      "0.12968900575694448\n",
      "0.22352081361282525\n",
      "0.3491061961733679\n",
      "6.321767130015475\n",
      "0.18157449767893702\n",
      "took: 14.836760759353638\n"
     ]
    }
   ],
   "source": [
    "#print(px)\n",
    "forstart = time.time()\n",
    "#loop through i z bins\n",
    "for i in range(znum - 1):\n",
    "    #loop through j qTdiv bins\n",
    "    for j in range(qdivnum - 1):\n",
    "        #loop through k kinematic variables - pt, R0, R1, R2\n",
    "        for k in range(3,7):\n",
    "            affvals[i][j][k]=affvals[i][j][k].GetValue()\n",
    "            print(affvals[i][j][k])\n",
    "forend = time.time()\n",
    "print(\"took: \" + str(forend - forstart))"
   ]
  },
  {
   "cell_type": "code",
   "execution_count": 474,
   "id": "ordinary-combine",
   "metadata": {},
   "outputs": [],
   "source": [
    "collinear_region_name = 'collinear'\n",
    "current_region_name = 'current'\n",
    "target_region_name = 'target'\n",
    "TMD_region_name = 'TMD'\n",
    "soft_region_name = 'soft'\n",
    "collinear_lable_name = 'collinearaff'\n",
    "target_lable_name = 'targetaff'\n",
    "current_lable_name = 'currentaff'\n",
    "TMD_lable_name = 'tmdaff'\n",
    "soft_lable_name = 'softaff'\n",
    "\n",
    "tmd_model_name = '../../SIDIS-Affinity/models/final_%s' % TMD_region_name\n",
    "tmd_model = tf.keras.models.load_model(tmd_model_name)\n",
    "target_model_name = '../../SIDIS-Affinity/models/final_%s' % target_region_name\n",
    "target_model = tf.keras.models.load_model(target_model_name)\n",
    "collinear_model_name = '../../SIDIS-Affinity/models/final_%s' % collinear_region_name\n",
    "collinear_model = tf.keras.models.load_model(collinear_model_name)\n",
    "current_model_name = '../../SIDIS-Affinity/models/final_%s' % current_region_name\n",
    "current_model = tf.keras.models.load_model(current_model_name)\n",
    "soft_model_name = '../../SIDIS-Affinity/models/final_%s' % soft_region_name\n",
    "soft_model = tf.keras.models.load_model(soft_model_name)"
   ]
  },
  {
   "cell_type": "code",
   "execution_count": 475,
   "id": "further-hardware",
   "metadata": {},
   "outputs": [],
   "source": [
    "#var order: \n",
    "#\"x\", \"z\", \"Q2\", \"pT\", \"R0max\", \"R1max\", \"R2max\"\n",
    "# 0    1    2     3      4         5        6\n",
    "#array ijk values:\n",
    "\n",
    "#array is the full array at a specific ij value, meaning that it is the kinematics at that specific point on the plot\n",
    "\n",
    "def calculator(array, region):\n",
    "    x = array[0]\n",
    "    z = array[1]\n",
    "    Q2 = array[2]\n",
    "    pT = array[3]\n",
    "    R0max = array[4]\n",
    "    R1max = array[5]\n",
    "    R2max = array[6]\n",
    "        \n",
    "    test_features = pd.DataFrame({'pT':pT,'Q2':Q2,'x':x,'z':z,'R0max':R0max,'R1max':R1max,'R2max':R2max},index=[0])\n",
    "\n",
    "    if region == 'tmd':\n",
    "        prediction = tmd_model.predict(test_features).flatten()\n",
    "        \n",
    "    elif region == 'target':\n",
    "        prediction = target_model.predict(test_features).flatten()\n",
    "        \n",
    "    elif region == 'collinear':\n",
    "        prediction = collinear_model.predict(test_features).flatten()\n",
    "\n",
    "    elif region == 'soft':\n",
    "        prediction = soft_model.predict(test_features).flatten()\n",
    "\n",
    "    else:\n",
    "        prediction = current_model.predict(test_features).flatten()\n",
    "\n",
    "    return prediction[0] #returns affinity value"
   ]
  },
  {
   "cell_type": "code",
   "execution_count": 476,
   "id": "advisory-huntington",
   "metadata": {},
   "outputs": [],
   "source": [
    "#calcaff[i][j] - ith z bin, jth qdiv bin\n",
    "calcaff = [np.zeros(qdivnum - 1).tolist() for i in range(znum -1)]"
   ]
  },
  {
   "cell_type": "code",
   "execution_count": 477,
   "id": "operational-highlight",
   "metadata": {},
   "outputs": [],
   "source": [
    "tmd = \"tmd\"\n",
    "for i in range(znum - 1):\n",
    "    for j in range(qdivnum - 1):\n",
    "        calcaff[i][j] = calculator(affvals[i][j],tmd )"
   ]
  },
  {
   "cell_type": "code",
   "execution_count": 478,
   "id": "sacred-charity",
   "metadata": {},
   "outputs": [],
   "source": [
    "varName = np.array([\"x\", \"z\", \"Q2\", \"pT\", \"R0max\", \"R1max\", \"R2max\"])\n"
   ]
  },
  {
   "cell_type": "code",
   "execution_count": 479,
   "id": "israeli-equity",
   "metadata": {},
   "outputs": [
    {
     "data": {
      "image/png": "[encoded data removed]",
      "text/plain": [
       "<Figure size 600x400 with 1 Axes>"
      ]
     },
     "metadata": {
      "needs_background": "light"
     },
     "output_type": "display_data"
    }
   ],
   "source": [
    "plot.figure(dpi = 100)\n",
    "for i in range(znum - 1):\n",
    "    for j in range(qdivnum - 1):\n",
    "        plot.scatter(zbins[i],qdivQ2bins[j],c = calcaff[i][j],s = (500*calcaff[i][j]**0.2+20),cmap= 'seismic_r', alpha=0.8,vmin=0,vmax=1)\n",
    "        mystr = \"i: {}; j: {}; aff: {}\"\n",
    "#         print(mystr.format(i,j,calcaff[i][j]))\n",
    "\n",
    "plot.xlabel(\"z\")\n",
    "plot.ylabel(\"qT / Q\")\n",
    "plot.title(\"x = 0.55; Q2 = 11.1\")\n",
    "plot.plot();\n",
    "# plot.savefig(\"x_0_55___Q2_11_1.png\")"
   ]
  },
  {
   "cell_type": "code",
   "execution_count": 304,
   "id": "roman-pavilion",
   "metadata": {},
   "outputs": [
    {
     "data": {
      "image/png": "[encoded data removed]",
      "text/plain": [
       "<IPython.core.display.Image object>"
      ]
     },
     "metadata": {},
     "output_type": "display_data"
    }
   ],
   "source": [
    "h0 = Q2xbin.Histo1D((\"h0\",\";R0 ;Counts\", 100, 0, 1), \"R0max\")\n",
    "c = TCanvas(\"c\",\"c\",500,500)\n",
    "h0.Draw()\n",
    "c.Draw()"
   ]
  },
  {
   "cell_type": "code",
   "execution_count": null,
   "id": "qualified-patrick",
   "metadata": {},
   "outputs": [],
   "source": []
  },
  {
   "cell_type": "code",
   "execution_count": null,
   "id": "engaged-transcription",
   "metadata": {},
   "outputs": [],
   "source": []
  }
 ],
 "metadata": {
  "kernelspec": {
   "display_name": "Python 3",
   "language": "python",
   "name": "python3"
  },
  "language_info": {
   "codemirror_mode": {
    "name": "ipython",
    "version": 3
   },
   "file_extension": ".py",
   "mimetype": "text/x-python",
   "name": "python",
   "nbconvert_exporter": "python",
   "pygments_lexer": "ipython3",
   "version": "3.8.6"
  }
 },
 "nbformat": 4,
 "nbformat_minor": 5
}
