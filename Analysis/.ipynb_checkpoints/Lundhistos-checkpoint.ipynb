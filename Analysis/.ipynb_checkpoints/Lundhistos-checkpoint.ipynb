{
 "cells": [
  {
   "cell_type": "code",
   "execution_count": 82,
   "id": "forty-festival",
   "metadata": {},
   "outputs": [],
   "source": [
    "from ROOT import TFile,TTree,TCanvas,TH1F, gStyle, TLatex, gPad, TLegend, TLorentzVector, TH2F, TLine, TF1, TBox, RDataFrame, TPad, TF2, TStyle, THStack\n",
    "import ROOT\n",
    "import numpy as np\n",
    "import awkward as awk\n",
    "import uproot\n",
    "import pandas as pd\n"
   ]
  },
  {
   "cell_type": "code",
   "execution_count": 83,
   "id": "disciplinary-jimmy",
   "metadata": {},
   "outputs": [],
   "source": [
    "gStyle.SetOptStat(0)\n",
    "gStyle.SetHistLineWidth(2)\n",
    "gStyle.SetTitleXSize(0.045)\n",
    "gStyle.SetTitleYSize(0.035)\n",
    "gStyle.SetTitleYOffset(1.55)\n",
    "gStyle.SetPalette(55)\n",
    "gStyle.SetNumberContours(50)\n",
    "\n",
    "latex=TLatex()\n",
    "latex.SetTextSize(0.03)\n",
    "\n",
    "biglatex=TLatex()\n",
    "biglatex.SetTextSize(0.045)\n",
    "\n",
    "smalllatex=TLatex()\n",
    "smalllatex.SetTextSize(0.022)"
   ]
  },
  {
   "cell_type": "code",
   "execution_count": 88,
   "id": "united-guarantee",
   "metadata": {},
   "outputs": [],
   "source": [
    "#d = RDataFrame(\"tree_MC\",\"~/workdir/MCLundAnalysis/OutputFiles/Lund_8_19/file1.root\")\n",
    "#d = RDataFrame(\"tree_MC\", \"~/workdir/MCLundAnalysis/OutputFiles/AffinityFiles/Files_9_16/file1.root\")\n",
    "#d = RDataFrame(\"tree_MC_plus\", \"~/workdir/MCLundAnalysis/OutputFiles/Slurm/Oct_27/file_*.root\")\n",
    "d = RDataFrame(\"tree_MC_minus\", \"~/workdir/MCLundAnalysis/OutputFiles/Slurm/Oct_27/file_*.root\")\n",
    "d1 = RDataFrame(\"tree_postprocess\",\"/volatile/clas12/users/gmat/clas12analysis.sidis.data/rga/MC/rowan_pipluspiminus/run*.root\")\n",
    "# d = RDataFrame(\"tree_MC_plus\", \"../OutputFiles/Test_10_27/file3.root\")"
   ]
  },
  {
   "cell_type": "code",
   "execution_count": 98,
   "id": "parallel-discussion",
   "metadata": {},
   "outputs": [
    {
     "ename": "AttributeError",
     "evalue": "'TCanvas' object has no attribute 'Count'",
     "output_type": "error",
     "traceback": [
      "\u001b[0;31m---------------------------------------------------------------------------\u001b[0m",
      "\u001b[0;31mAttributeError\u001b[0m                            Traceback (most recent call last)",
      "\u001b[0;32m<ipython-input-98-937edaf48306>\u001b[0m in \u001b[0;36m<module>\u001b[0;34m\u001b[0m\n\u001b[0;32m----> 1\u001b[0;31m \u001b[0md\u001b[0m\u001b[0;34m.\u001b[0m\u001b[0mCount\u001b[0m\u001b[0;34m(\u001b[0m\u001b[0;34m)\u001b[0m\u001b[0;34m.\u001b[0m\u001b[0mGetValue\u001b[0m\u001b[0;34m(\u001b[0m\u001b[0;34m)\u001b[0m\u001b[0;34m\u001b[0m\u001b[0;34m\u001b[0m\u001b[0m\n\u001b[0m",
      "\u001b[0;31mAttributeError\u001b[0m: 'TCanvas' object has no attribute 'Count'"
     ]
    }
   ],
   "source": [
    "d.Count().GetValue()"
   ]
  },
  {
   "cell_type": "code",
   "execution_count": 97,
   "id": "tested-track",
   "metadata": {},
   "outputs": [
    {
     "data": {
      "text/plain": [
       "521783"
      ]
     },
     "execution_count": 97,
     "metadata": {},
     "output_type": "execute_result"
    }
   ],
   "source": [
    "d1.Count().GetValue()"
   ]
  },
  {
   "cell_type": "code",
   "execution_count": 90,
   "id": "exciting-newcastle",
   "metadata": {},
   "outputs": [],
   "source": [
    " h = d.Histo1D((\"h\",\";qDivQ ;Counts\",1000,0,5),\"q_TdivQ\")\n",
    "h1 = d.Histo1D((\"h1\",\";x ;Counts\", 1000, 0, 1), \"x\")\n",
    "h2 = d.Histo1D((\"h2\",\";z_h ;Counts\", 1000, 0, 1), \"z\")\n",
    "h3 = d.Histo1D((\"h3\",\";pT ;Counts\", 1000, 0, 1), \"pT\")\n",
    "h4 = d.Histo1D((\"h4\",\";Q2 ;Counts\", 1000, 0, 8), \"Q2\")\n",
    "h5 = d.Histo1D((\"h5\",\";Mh ;Counts\", 1000, 0, 2), \"Mh\")\n",
    "# h6 = d.Histo1D((\"h6\",\";Mx ;Counts\", 1000, 0, 3), \"Mx\")\n",
    "h6 = d.Histo1D((\"h6\",\";R0 ;Counts\", 1000, -0.5, 1), \"R0max\")\n",
    "h7 = d.Histo1D((\"h7\",\";R1 ;Counts\", 1000, -1, 5), \"R1max\")\n",
    "h8 = d.Histo1D((\"h8\",\";R2 ;Counts\", 1000, -0.5, 1), \"R2max\")\n"
   ]
  },
  {
   "cell_type": "code",
   "execution_count": 91,
   "id": "pleasant-shareware",
   "metadata": {},
   "outputs": [],
   "source": [
    "g = d1.Histo1D((\"g\",\";x ;Counts\", 1000, 0, 1), \"x\")\n",
    "g1 = d1.Histo1D((\"g1\",\";z_h ;Counts\", 1000, 0, 1), \"zh\")\n",
    "g2 = d1.Histo1D((\"g2\",\";pT ;Counts\", 1000, 0, 1), \"pt\")\n",
    "g3 = d1.Histo1D((\"g3\",\";Q2 ;Counts\", 1000, 0, 8), \"Q2\")\n",
    "# h5 = d1.Histo1D((\"h5\",\";Mh ;Counts\", 1000, 0, 2), \"Mh\")\n",
    "g4 = d1.Histo1D((\"g4\",\";Mx ;Counts\", 1000, 0, 3), \"Mx\")\n"
   ]
  },
  {
   "cell_type": "code",
   "execution_count": 92,
   "id": "enabling-christopher",
   "metadata": {},
   "outputs": [
    {
     "data": {
      "image/png": "[encoded data removed]",
      "text/plain": [
       "<IPython.core.display.Image object>"
      ]
     },
     "metadata": {},
     "output_type": "display_data"
    }
   ],
   "source": [
    "stack = THStack(\"hs\",\"\")\n",
    "c = TCanvas(\"c\",\"c\",1200,1000)\n",
    "c.Divide(3,3)\n",
    "# harray = np.array([h,h1,h2,h3,h4,h5,h6,h7,h8])\n",
    "harray = np.array([h1,h2,h3,h4,h5])\n",
    "\n",
    "c.cd(1)\n",
    "h.Draw(\"histo\")\n",
    "c.cd(2)\n",
    "h1.Draw(\"histo\")\n",
    "c.cd(3)\n",
    "h2.Draw(\"histo\")\n",
    "c.cd(4)\n",
    "h3.Draw(\"histo\")\n",
    "c.cd(5)\n",
    "h4.Draw(\"histo\")\n",
    "c.cd(6)\n",
    "h5.Draw(\"histo\")\n",
    "# c.cd(7)\n",
    "# h6.Draw(\"histo\")\n",
    "# c.cd(8)\n",
    "# h7.Draw(\"histo\")\n",
    "# c.cd(9)\n",
    "# h8.Draw(\"histo\")\n",
    "c.Draw()\n",
    "c.Print(\"histos.png\")"
   ]
  },
  {
   "cell_type": "code",
   "execution_count": null,
   "id": "structured-personal",
   "metadata": {},
   "outputs": [],
   "source": [
    "stack = THStack(\"hs\",\"\")\n",
    "d = TCanvas(\"c\",\"c\",1200,1000)\n",
    "d.Divide(3,3)\n",
    "# harray = np.array([h,h1,h2,h3,h4,h5,h6,h7,h8])\n",
    "harray = np.array([g,g1,g2,g3,g4])\n",
    "\n",
    "d.cd(1)\n",
    "g.Draw(\"histo\")\n",
    "d.cd(2)\n",
    "g1.Draw(\"histo\")\n",
    "d.cd(3)\n",
    "g2.Draw(\"histo\")\n",
    "d.cd(4)\n",
    "g3.Draw(\"histo\")\n",
    "d.cd(5)\n",
    "g4.Draw(\"histo\")\n",
    "d.cd(6)\n",
    "h5.Draw(\"histo\")\n",
    "# c.cd(7)\n",
    "# h6.Draw(\"histo\")\n",
    "# c.cd(8)\n",
    "# h7.Draw(\"histo\")\n",
    "# c.cd(9)\n",
    "# h8.Draw(\"histo\")\n",
    "c.Draw()\n",
    "c.Print(\"histos.png\")"
   ]
  },
  {
   "cell_type": "code",
   "execution_count": null,
   "id": "expressed-tracy",
   "metadata": {},
   "outputs": [],
   "source": [
    "# stack = THStack(\"hs\",\"\")\n",
    "# c = TCanvas(\"c\",\"c\",1200,1000)\n",
    "# c.Divide(3,3)\n",
    "# c.cd(1)\n",
    "# h.Draw(\"histo\")\n",
    "# c.cd(2)\n",
    "# h1.Draw(\"histo\")\n",
    "# c.cd(3)\n",
    "# h2.Draw(\"histo\")\n",
    "# c.cd(4)\n",
    "# h3.Draw(\"histo\")\n",
    "# c.Draw()"
   ]
  },
  {
   "cell_type": "code",
   "execution_count": 53,
   "id": "suspended-theme",
   "metadata": {},
   "outputs": [],
   "source": [
    "a = 3.26912 * 10 ** 2\n",
    "b = 2.61037 * 10 ** (-3)\n",
    "c = 3.66979 * 10 ** (-1)\n",
    "e = 2.718281828459045"
   ]
  },
  {
   "cell_type": "code",
   "execution_count": 31,
   "id": "artificial-rider",
   "metadata": {},
   "outputs": [],
   "source": [
    "def func(x):\n",
    "    y = a * (e ** (-((x - b)**2)/(2 * c ** 2)))\n",
    "    return y"
   ]
  },
  {
   "cell_type": "code",
   "execution_count": 32,
   "id": "bizarre-shore",
   "metadata": {},
   "outputs": [],
   "source": [
    "calcarry = np.linspace(-1.4, 1.5, 10729)"
   ]
  },
  {
   "cell_type": "code",
   "execution_count": 33,
   "id": "graduate-surgeon",
   "metadata": {},
   "outputs": [],
   "source": [
    "yarray = np.zeros(len(calcarry))\n",
    "for i in range(len(calcarry)):\n",
    "    yarray[i] = func(calcarry[i])"
   ]
  },
  {
   "cell_type": "code",
   "execution_count": 52,
   "id": "conscious-forum",
   "metadata": {},
   "outputs": [
    {
     "name": "stdout",
     "output_type": "stream",
     "text": [
      "10729\n"
     ]
    }
   ],
   "source": [
    "chiarray = np.zeros(len(yarray))\n",
    "print(len(chiarray))"
   ]
  },
  {
   "cell_type": "code",
   "execution_count": 49,
   "id": "broadband-brand",
   "metadata": {},
   "outputs": [],
   "source": [
    "def chi2(data, _yarray):\n",
    "    for i in range(len(data)):\n",
    "        chiarray[i] = ((data[i] - _yarray[i]) ** 2) / (4)\n",
    "    return chiarray"
   ]
  },
  {
   "cell_type": "code",
   "execution_count": 57,
   "id": "quarterly-possible",
   "metadata": {},
   "outputs": [],
   "source": [
    "for i in range(len(chiarray)):\n",
    "        chiarray[i] = ((npyarray[i] - yarray[i]) ** 2) / (4)"
   ]
  },
  {
   "cell_type": "code",
   "execution_count": 37,
   "id": "turned-shipping",
   "metadata": {},
   "outputs": [],
   "source": [
    "npy = d.AsNumpy()"
   ]
  },
  {
   "cell_type": "code",
   "execution_count": 38,
   "id": "thorough-davis",
   "metadata": {},
   "outputs": [],
   "source": [
    "npyarray = npy[\"PFkix\"]"
   ]
  },
  {
   "cell_type": "code",
   "execution_count": 42,
   "id": "received-microphone",
   "metadata": {},
   "outputs": [
    {
     "name": "stdout",
     "output_type": "stream",
     "text": [
      "10729\n"
     ]
    }
   ],
   "source": [
    "print(len(npyarray))"
   ]
  },
  {
   "cell_type": "code",
   "execution_count": 43,
   "id": "fixed-underwear",
   "metadata": {},
   "outputs": [
    {
     "name": "stdout",
     "output_type": "stream",
     "text": [
      "10729\n"
     ]
    }
   ],
   "source": [
    "print(len(yarray))"
   ]
  },
  {
   "cell_type": "code",
   "execution_count": 50,
   "id": "peaceful-enhancement",
   "metadata": {},
   "outputs": [
    {
     "ename": "TypeError",
     "evalue": "'NoneType' object does not support item assignment",
     "output_type": "error",
     "traceback": [
      "\u001b[0;31m---------------------------------------------------------------------------\u001b[0m",
      "\u001b[0;31mTypeError\u001b[0m                                 Traceback (most recent call last)",
      "\u001b[0;32m<ipython-input-50-cc6108681914>\u001b[0m in \u001b[0;36m<module>\u001b[0;34m\u001b[0m\n\u001b[0;32m----> 1\u001b[0;31m \u001b[0mchiarray\u001b[0m \u001b[0;34m=\u001b[0m \u001b[0mchi2\u001b[0m\u001b[0;34m(\u001b[0m\u001b[0mnpyarray\u001b[0m\u001b[0;34m,\u001b[0m \u001b[0myarray\u001b[0m\u001b[0;34m)\u001b[0m\u001b[0;34m\u001b[0m\u001b[0;34m\u001b[0m\u001b[0m\n\u001b[0m",
      "\u001b[0;32m<ipython-input-49-18e5693df127>\u001b[0m in \u001b[0;36mchi2\u001b[0;34m(data, _yarray)\u001b[0m\n\u001b[1;32m      1\u001b[0m \u001b[0;32mdef\u001b[0m \u001b[0mchi2\u001b[0m\u001b[0;34m(\u001b[0m\u001b[0mdata\u001b[0m\u001b[0;34m,\u001b[0m \u001b[0m_yarray\u001b[0m\u001b[0;34m)\u001b[0m\u001b[0;34m:\u001b[0m\u001b[0;34m\u001b[0m\u001b[0;34m\u001b[0m\u001b[0m\n\u001b[1;32m      2\u001b[0m     \u001b[0;32mfor\u001b[0m \u001b[0mi\u001b[0m \u001b[0;32min\u001b[0m \u001b[0mrange\u001b[0m\u001b[0;34m(\u001b[0m\u001b[0mlen\u001b[0m\u001b[0;34m(\u001b[0m\u001b[0mdata\u001b[0m\u001b[0;34m)\u001b[0m\u001b[0;34m)\u001b[0m\u001b[0;34m:\u001b[0m\u001b[0;34m\u001b[0m\u001b[0;34m\u001b[0m\u001b[0m\n\u001b[0;32m----> 3\u001b[0;31m         \u001b[0mchiarray\u001b[0m\u001b[0;34m[\u001b[0m\u001b[0mi\u001b[0m\u001b[0;34m]\u001b[0m \u001b[0;34m=\u001b[0m \u001b[0;34m(\u001b[0m\u001b[0;34m(\u001b[0m\u001b[0mdata\u001b[0m\u001b[0;34m[\u001b[0m\u001b[0mi\u001b[0m\u001b[0;34m]\u001b[0m \u001b[0;34m-\u001b[0m \u001b[0m_yarray\u001b[0m\u001b[0;34m[\u001b[0m\u001b[0mi\u001b[0m\u001b[0;34m]\u001b[0m\u001b[0;34m)\u001b[0m \u001b[0;34m**\u001b[0m \u001b[0;36m2\u001b[0m\u001b[0;34m)\u001b[0m \u001b[0;34m/\u001b[0m \u001b[0;34m(\u001b[0m\u001b[0m_yarray\u001b[0m\u001b[0;34m[\u001b[0m\u001b[0mi\u001b[0m\u001b[0;34m]\u001b[0m\u001b[0;34m)\u001b[0m\u001b[0;34m\u001b[0m\u001b[0;34m\u001b[0m\u001b[0m\n\u001b[0m\u001b[1;32m      4\u001b[0m     \u001b[0;32mreturn\u001b[0m \u001b[0mchiarray\u001b[0m\u001b[0;34m\u001b[0m\u001b[0;34m\u001b[0m\u001b[0m\n",
      "\u001b[0;31mTypeError\u001b[0m: 'NoneType' object does not support item assignment"
     ]
    }
   ],
   "source": [
    "chiarray = chi2(npyarray, yarray)"
   ]
  },
  {
   "cell_type": "code",
   "execution_count": 48,
   "id": "entitled-action",
   "metadata": {},
   "outputs": [
    {
     "name": "stdout",
     "output_type": "stream",
     "text": [
      "None\n"
     ]
    }
   ],
   "source": [
    "print(chiarray)"
   ]
  },
  {
   "cell_type": "code",
   "execution_count": 58,
   "id": "tribal-volunteer",
   "metadata": {},
   "outputs": [],
   "source": [
    "chi2val = np.sum(chiarray)"
   ]
  },
  {
   "cell_type": "code",
   "execution_count": 59,
   "id": "unexpected-northeast",
   "metadata": {},
   "outputs": [
    {
     "name": "stdout",
     "output_type": "stream",
     "text": [
      "64286321.2195673\n"
     ]
    }
   ],
   "source": [
    "print(chi2val)"
   ]
  },
  {
   "cell_type": "code",
   "execution_count": 8,
   "id": "national-angle",
   "metadata": {},
   "outputs": [],
   "source": [
    "#Converting root to excel\n",
    "up4_file = uproot.open(\"testfiles/testfile.root\")\n",
    "up4_MC = up4_file[\"tree_MC\"]\n",
    "xarray = up4_MC[\"x\"].array(library=\"np\")\n",
    "zarray = up4_MC[\"z_h\"].array(library=\"np\")\n",
    "ptarray = up4_MC[\"pt\"].array(library=\"np\")\n",
    "Q2array = up4_MC[\"Q2\"].array(library=\"np\")\n",
    "filepath = 'test.xlsx'\n",
    "\n",
    "array = np.stack((xarray,zarray,ptarray,Q2array),axis = 1)\n",
    "df = pd.DataFrame (array)\n",
    "\n",
    "df.to_excel(filepath, index=False)"
   ]
  },
  {
   "cell_type": "code",
   "execution_count": 15,
   "id": "running-tribune",
   "metadata": {},
   "outputs": [
    {
     "name": "stdout",
     "output_type": "stream",
     "text": [
      "name                 | typename                 | interpretation                \n",
      "---------------------+--------------------------+-------------------------------\n",
      "z_h                  | double                   | AsDtype('>f8')\n",
      "x                    | double                   | AsDtype('>f8')\n",
      "pt                   | double                   | AsDtype('>f8')\n",
      "Q2                   | double                   | AsDtype('>f8')\n",
      "Ph                   | double                   | AsDtype('>f8')\n",
      "P                    | double                   | AsDtype('>f8')\n",
      "Mdihadron            | double                   | AsDtype('>f8')\n",
      "MC92index            | double                   | AsDtype('>f8')\n",
      "R0                   | double                   | AsDtype('>f8')\n",
      "R1                   | double                   | AsDtype('>f8')\n",
      "R2                   | double                   | AsDtype('>f8')\n",
      "kim                  | double                   | AsDtype('>f8')\n",
      "kie                  | double                   | AsDtype('>f8')\n",
      "kip                  | TLorentzVector           | AsStridedObjects(Model_TLor...\n",
      "kfm                  | double                   | AsDtype('>f8')\n",
      "kfe                  | double                   | AsDtype('>f8')\n",
      "kfp                  | TLorentzVector           | AsStridedObjects(Model_TLor...\n",
      "qcount               | int32_t                  | AsDtype('>i4')\n",
      "qparentcount         | double                   | AsDtype('>f8')\n",
      "MC92parent           | double                   | AsDtype('>f8')\n",
      "vquarkindex          | std::vector<float>       | AsJagged(AsDtype('>f4'), he...\n"
     ]
    }
   ],
   "source": [
    "up4_MC.show()"
   ]
  },
  {
   "cell_type": "code",
   "execution_count": 28,
   "id": "hairy-cameroon",
   "metadata": {},
   "outputs": [],
   "source": [
    "import numpy as np\n",
    "x = np.array([0,0,1,2,2,3,4,5,5,6,6,6,6,6,6,7,7,7,8,8])"
   ]
  },
  {
   "cell_type": "code",
   "execution_count": null,
   "id": "pointed-merchant",
   "metadata": {},
   "outputs": [],
   "source": [
    "TH1F *h1 = new TH1F(\"h1\",\"h1 title\", 10,0,10);"
   ]
  }
 ],
 "metadata": {
  "kernelspec": {
   "display_name": "Python 3",
   "language": "python",
   "name": "python3"
  },
  "language_info": {
   "codemirror_mode": {
    "name": "ipython",
    "version": 3
   },
   "file_extension": ".py",
   "mimetype": "text/x-python",
   "name": "python",
   "nbconvert_exporter": "python",
   "pygments_lexer": "ipython3",
   "version": "3.8.6"
  }
 },
 "nbformat": 4,
 "nbformat_minor": 5
}
