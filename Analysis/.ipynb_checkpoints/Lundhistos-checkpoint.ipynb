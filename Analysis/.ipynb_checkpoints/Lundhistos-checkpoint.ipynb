{
 "cells": [
  {
   "cell_type": "code",
   "execution_count": 1,
   "id": "historic-aurora",
   "metadata": {},
   "outputs": [
    {
     "name": "stdout",
     "output_type": "stream",
     "text": [
      "Welcome to JupyROOT 6.22/06\n"
     ]
    }
   ],
   "source": [
    "from ROOT import TFile,TTree,TCanvas,TH1F, gStyle, TLatex, gPad, TLegend, TLorentzVector, TH2F, TLine, TF1, TBox, RDataFrame, TPad, TF2, TStyle\n",
    "import ROOT\n",
    "import numpy as np\n",
    "import awkward as awk\n",
    "import uproot\n",
    "import pandas as pd\n"
   ]
  },
  {
   "cell_type": "code",
   "execution_count": 2,
   "id": "liked-transfer",
   "metadata": {},
   "outputs": [
    {
     "name": "stdout",
     "output_type": "stream",
     "text": [
      "/w/hallb-scshelf2102/clas12/users/rojokell/MCLundAnalysis\n"
     ]
    }
   ],
   "source": [
    "!pwd"
   ]
  },
  {
   "cell_type": "code",
   "execution_count": 3,
   "id": "legal-shakespeare",
   "metadata": {},
   "outputs": [],
   "source": [
    "gStyle.SetOptStat(0)\n",
    "gStyle.SetHistLineWidth(2)\n",
    "gStyle.SetTitleXSize(0.045)\n",
    "gStyle.SetTitleYSize(0.035)\n",
    "gStyle.SetTitleYOffset(1.55)\n",
    "gStyle.SetPalette(55)\n",
    "gStyle.SetNumberContours(50)\n",
    "\n",
    "latex=TLatex()\n",
    "latex.SetTextSize(0.03)\n",
    "\n",
    "biglatex=TLatex()\n",
    "biglatex.SetTextSize(0.045)\n",
    "\n",
    "smalllatex=TLatex()\n",
    "smalllatex.SetTextSize(0.022)"
   ]
  },
  {
   "cell_type": "code",
   "execution_count": 4,
   "id": "diverse-belief",
   "metadata": {},
   "outputs": [],
   "source": [
    "d = RDataFrame(\"tree_MC\",\"~/workdir/MCLundAnalysis/testfiles/testfile.root\")"
   ]
  },
  {
   "cell_type": "code",
   "execution_count": 9,
   "id": "manual-atlas",
   "metadata": {},
   "outputs": [
    {
     "ename": "TypeError",
     "evalue": "Template method resolution failed:\n  none of the 4 overloaded methods succeeded. Full details:\n  ROOT::RDF::RResultPtr<TH1D> ROOT::RDF::RInterface<ROOT::Detail::RDF::RLoopManager,void>::Histo1D(experimental::basic_string_view<char,char_traits<char> > vName) =>\n    TypeError: takes at most 1 arguments (2 given)\n  ROOT::RDF::RResultPtr<TH1D> ROOT::RDF::RInterface<ROOT::Detail::RDF::RLoopManager,void>::Histo1D(const ROOT::RDF::TH1DModel& model, experimental::basic_string_view<char,char_traits<char> > vName, experimental::basic_string_view<char,char_traits<char> > wName) =>\n    TypeError: takes at least 3 arguments (2 given)\n  ROOT::RDF::RResultPtr<TH1D> ROOT::RDF::RInterface<ROOT::Detail::RDF::RLoopManager,void>::Histo1D(experimental::basic_string_view<char,char_traits<char> > vName, experimental::basic_string_view<char,char_traits<char> > wName) =>\n    TypeError: could not convert argument 1\n  ROOT::RDF::RResultPtr<TH1D> ROOT::RDF::RInterface<ROOT::Detail::RDF::RLoopManager,void>::Histo1D(const ROOT::RDF::TH1DModel& model = {\"\", \"\", 128U, 0., 0.}, experimental::basic_string_view<char,char_traits<char> > vName = \"\") =>\n    runtime_error: Unknown column: pydiff\n  none of the 4 overloaded methods succeeded. Full details:\n  ROOT::RDF::RResultPtr<TH1D> ROOT::RDF::RInterface<ROOT::Detail::RDF::RLoopManager,void>::Histo1D(experimental::basic_string_view<char,char_traits<char> > vName) =>\n    TypeError: takes at most 1 arguments (2 given)\n  ROOT::RDF::RResultPtr<TH1D> ROOT::RDF::RInterface<ROOT::Detail::RDF::RLoopManager,void>::Histo1D(const ROOT::RDF::TH1DModel& model, experimental::basic_string_view<char,char_traits<char> > vName, experimental::basic_string_view<char,char_traits<char> > wName) =>\n    TypeError: takes at least 3 arguments (2 given)\n  ROOT::RDF::RResultPtr<TH1D> ROOT::RDF::RInterface<ROOT::Detail::RDF::RLoopManager,void>::Histo1D(experimental::basic_string_view<char,char_traits<char> > vName, experimental::basic_string_view<char,char_traits<char> > wName) =>\n    TypeError: could not convert argument 1\n  ROOT::RDF::RResultPtr<TH1D> ROOT::RDF::RInterface<ROOT::Detail::RDF::RLoopManager,void>::Histo1D(const ROOT::RDF::TH1DModel& model = {\"\", \"\", 128U, 0., 0.}, experimental::basic_string_view<char,char_traits<char> > vName = \"\") =>\n    runtime_error: Unknown column: pydiff\n  Failed to instantiate \"Histo1D(ROOT::RDF::TH1DModel*,std::string)\"",
     "output_type": "error",
     "traceback": [
      "\u001b[0;31m---------------------------------------------------------------------------\u001b[0m",
      "\u001b[0;31mTypeError\u001b[0m                                 Traceback (most recent call last)",
      "\u001b[0;32m<ipython-input-9-001c6035a826>\u001b[0m in \u001b[0;36m<module>\u001b[0;34m\u001b[0m\n\u001b[0;32m----> 1\u001b[0;31m \u001b[0mh\u001b[0m \u001b[0;34m=\u001b[0m \u001b[0md\u001b[0m\u001b[0;34m.\u001b[0m\u001b[0mHisto1D\u001b[0m\u001b[0;34m(\u001b[0m\u001b[0;34m(\u001b[0m\u001b[0;34m\"h\"\u001b[0m\u001b[0;34m,\u001b[0m\u001b[0;34m\";qcount ;Counts\"\u001b[0m\u001b[0;34m,\u001b[0m\u001b[0;36m1000\u001b[0m\u001b[0;34m,\u001b[0m\u001b[0;34m-\u001b[0m\u001b[0;36m1\u001b[0m\u001b[0;34m,\u001b[0m\u001b[0;36m1\u001b[0m\u001b[0;34m)\u001b[0m\u001b[0;34m,\u001b[0m\u001b[0;34m\"pydiff\"\u001b[0m\u001b[0;34m)\u001b[0m\u001b[0;34m\u001b[0m\u001b[0;34m\u001b[0m\u001b[0m\n\u001b[0m",
      "\u001b[0;32m/opt/root/lib/ROOT/pythonization/_rdataframe.py\u001b[0m in \u001b[0;36m_histo_profile\u001b[0;34m(self, fixed_args, *args)\u001b[0m\n\u001b[1;32m    112\u001b[0m         \u001b[0;31m# with the model as first argument\u001b[0m\u001b[0;34m\u001b[0m\u001b[0;34m\u001b[0m\u001b[0;34m\u001b[0m\u001b[0m\n\u001b[1;32m    113\u001b[0m         \u001b[0;32mif\u001b[0m \u001b[0mlen\u001b[0m\u001b[0;34m(\u001b[0m\u001b[0margs\u001b[0m\u001b[0;34m)\u001b[0m \u001b[0;34m>\u001b[0m \u001b[0;36m1\u001b[0m\u001b[0;34m:\u001b[0m\u001b[0;34m\u001b[0m\u001b[0;34m\u001b[0m\u001b[0m\n\u001b[0;32m--> 114\u001b[0;31m             \u001b[0mres\u001b[0m \u001b[0;34m=\u001b[0m \u001b[0moriginal_method\u001b[0m\u001b[0;34m(\u001b[0m\u001b[0mmodel\u001b[0m\u001b[0;34m,\u001b[0m \u001b[0;34m*\u001b[0m\u001b[0margs\u001b[0m\u001b[0;34m[\u001b[0m\u001b[0;36m1\u001b[0m\u001b[0;34m:\u001b[0m\u001b[0;34m]\u001b[0m\u001b[0;34m)\u001b[0m\u001b[0;34m\u001b[0m\u001b[0;34m\u001b[0m\u001b[0m\n\u001b[0m\u001b[1;32m    115\u001b[0m         \u001b[0;32melse\u001b[0m\u001b[0;34m:\u001b[0m\u001b[0;34m\u001b[0m\u001b[0;34m\u001b[0m\u001b[0m\n\u001b[1;32m    116\u001b[0m             \u001b[0;31m# Covers the case of the overloads with only model passed\u001b[0m\u001b[0;34m\u001b[0m\u001b[0;34m\u001b[0m\u001b[0;34m\u001b[0m\u001b[0m\n",
      "\u001b[0;31mTypeError\u001b[0m: Template method resolution failed:\n  none of the 4 overloaded methods succeeded. Full details:\n  ROOT::RDF::RResultPtr<TH1D> ROOT::RDF::RInterface<ROOT::Detail::RDF::RLoopManager,void>::Histo1D(experimental::basic_string_view<char,char_traits<char> > vName) =>\n    TypeError: takes at most 1 arguments (2 given)\n  ROOT::RDF::RResultPtr<TH1D> ROOT::RDF::RInterface<ROOT::Detail::RDF::RLoopManager,void>::Histo1D(const ROOT::RDF::TH1DModel& model, experimental::basic_string_view<char,char_traits<char> > vName, experimental::basic_string_view<char,char_traits<char> > wName) =>\n    TypeError: takes at least 3 arguments (2 given)\n  ROOT::RDF::RResultPtr<TH1D> ROOT::RDF::RInterface<ROOT::Detail::RDF::RLoopManager,void>::Histo1D(experimental::basic_string_view<char,char_traits<char> > vName, experimental::basic_string_view<char,char_traits<char> > wName) =>\n    TypeError: could not convert argument 1\n  ROOT::RDF::RResultPtr<TH1D> ROOT::RDF::RInterface<ROOT::Detail::RDF::RLoopManager,void>::Histo1D(const ROOT::RDF::TH1DModel& model = {\"\", \"\", 128U, 0., 0.}, experimental::basic_string_view<char,char_traits<char> > vName = \"\") =>\n    runtime_error: Unknown column: pydiff\n  none of the 4 overloaded methods succeeded. Full details:\n  ROOT::RDF::RResultPtr<TH1D> ROOT::RDF::RInterface<ROOT::Detail::RDF::RLoopManager,void>::Histo1D(experimental::basic_string_view<char,char_traits<char> > vName) =>\n    TypeError: takes at most 1 arguments (2 given)\n  ROOT::RDF::RResultPtr<TH1D> ROOT::RDF::RInterface<ROOT::Detail::RDF::RLoopManager,void>::Histo1D(const ROOT::RDF::TH1DModel& model, experimental::basic_string_view<char,char_traits<char> > vName, experimental::basic_string_view<char,char_traits<char> > wName) =>\n    TypeError: takes at least 3 arguments (2 given)\n  ROOT::RDF::RResultPtr<TH1D> ROOT::RDF::RInterface<ROOT::Detail::RDF::RLoopManager,void>::Histo1D(experimental::basic_string_view<char,char_traits<char> > vName, experimental::basic_string_view<char,char_traits<char> > wName) =>\n    TypeError: could not convert argument 1\n  ROOT::RDF::RResultPtr<TH1D> ROOT::RDF::RInterface<ROOT::Detail::RDF::RLoopManager,void>::Histo1D(const ROOT::RDF::TH1DModel& model = {\"\", \"\", 128U, 0., 0.}, experimental::basic_string_view<char,char_traits<char> > vName = \"\") =>\n    runtime_error: Unknown column: pydiff\n  Failed to instantiate \"Histo1D(ROOT::RDF::TH1DModel*,std::string)\""
     ]
    }
   ],
   "source": [
    "h = d.Histo1D((\"h\",\";qcount ;Counts\",1000,-1,1),\"pydiff\")"
   ]
  },
  {
   "cell_type": "code",
   "execution_count": 10,
   "id": "realistic-stamp",
   "metadata": {},
   "outputs": [
    {
     "data": {
      "image/png": "[encoded data removed]",
      "text/plain": [
       "<IPython.core.display.Image object>"
      ]
     },
     "metadata": {},
     "output_type": "display_data"
    }
   ],
   "source": [
    "c = TCanvas(\"c\",\"c\",900,700)\n",
    "h.Draw(\"histo\")\n",
    "c.Draw()"
   ]
  },
  {
   "cell_type": "code",
   "execution_count": 7,
   "id": "ordered-right",
   "metadata": {},
   "outputs": [
    {
     "name": "stdout",
     "output_type": "stream",
     "text": [
      "'JLab CheatSheet - Copy.md'   OLDLundhistos.ipynb   testfile.root    test.xlsx\n",
      " LundAnalysis.C\t\t      random.ipynb\t    testfiles\n",
      " Lundhistos.ipynb\t      README.md\t\t    TestFunction.C\n"
     ]
    }
   ],
   "source": [
    "!ls "
   ]
  },
  {
   "cell_type": "code",
   "execution_count": 8,
   "id": "minus-nowhere",
   "metadata": {},
   "outputs": [],
   "source": [
    "#Converting root to excel\n",
    "up4_file = uproot.open(\"testfiles/testfile.root\")\n",
    "up4_MC = up4_file[\"tree_MC\"]\n",
    "xarray = up4_MC[\"x\"].array(library=\"np\")\n",
    "zarray = up4_MC[\"z_h\"].array(library=\"np\")\n",
    "ptarray = up4_MC[\"pt\"].array(library=\"np\")\n",
    "Q2array = up4_MC[\"Q2\"].array(library=\"np\")\n",
    "filepath = 'test.xlsx'\n",
    "\n",
    "array = np.stack((xarray,zarray,ptarray,Q2array),axis = 1)\n",
    "df = pd.DataFrame (array)\n",
    "\n",
    "df.to_excel(filepath, index=False)"
   ]
  },
  {
   "cell_type": "code",
   "execution_count": 15,
   "id": "capital-copper",
   "metadata": {},
   "outputs": [
    {
     "name": "stdout",
     "output_type": "stream",
     "text": [
      "name                 | typename                 | interpretation                \n",
      "---------------------+--------------------------+-------------------------------\n",
      "z_h                  | double                   | AsDtype('>f8')\n",
      "x                    | double                   | AsDtype('>f8')\n",
      "pt                   | double                   | AsDtype('>f8')\n",
      "Q2                   | double                   | AsDtype('>f8')\n",
      "Ph                   | double                   | AsDtype('>f8')\n",
      "P                    | double                   | AsDtype('>f8')\n",
      "Mdihadron            | double                   | AsDtype('>f8')\n",
      "MC92index            | double                   | AsDtype('>f8')\n",
      "R0                   | double                   | AsDtype('>f8')\n",
      "R1                   | double                   | AsDtype('>f8')\n",
      "R2                   | double                   | AsDtype('>f8')\n",
      "kim                  | double                   | AsDtype('>f8')\n",
      "kie                  | double                   | AsDtype('>f8')\n",
      "kip                  | TLorentzVector           | AsStridedObjects(Model_TLor...\n",
      "kfm                  | double                   | AsDtype('>f8')\n",
      "kfe                  | double                   | AsDtype('>f8')\n",
      "kfp                  | TLorentzVector           | AsStridedObjects(Model_TLor...\n",
      "qcount               | int32_t                  | AsDtype('>i4')\n",
      "qparentcount         | double                   | AsDtype('>f8')\n",
      "MC92parent           | double                   | AsDtype('>f8')\n",
      "vquarkindex          | std::vector<float>       | AsJagged(AsDtype('>f4'), he...\n"
     ]
    }
   ],
   "source": [
    "up4_MC.show()"
   ]
  },
  {
   "cell_type": "code",
   "execution_count": null,
   "id": "frozen-walter",
   "metadata": {},
   "outputs": [],
   "source": []
  }
 ],
 "metadata": {
  "kernelspec": {
   "display_name": "Python 3",
   "language": "python",
   "name": "python3"
  },
  "language_info": {
   "codemirror_mode": {
    "name": "ipython",
    "version": 3
   },
   "file_extension": ".py",
   "mimetype": "text/x-python",
   "name": "python",
   "nbconvert_exporter": "python",
   "pygments_lexer": "ipython3",
   "version": "3.8.6"
  }
 },
 "nbformat": 4,
 "nbformat_minor": 5
}
