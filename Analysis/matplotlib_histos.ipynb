{
 "cells": [
  {
   "cell_type": "markdown",
   "id": "controlling-roberts",
   "metadata": {},
   "source": [
    "# Histograms in matplotlib for comparison"
   ]
  },
  {
   "cell_type": "code",
   "execution_count": 1,
   "id": "modern-kennedy",
   "metadata": {},
   "outputs": [],
   "source": [
    "import uproot as up\n",
    "import numpy as np\n",
    "import matplotlib.pyplot as plot\n",
    "import pandas as pd"
   ]
  },
  {
   "cell_type": "code",
   "execution_count": 2,
   "id": "sixth-amino",
   "metadata": {},
   "outputs": [],
   "source": [
    "# MC_low = up.concatenate(\"/w/hallb-scshelf2102/clas12/users/rojokell/MCLundAnalysis/OutputFiles/Slurm_Spring_24/July_16/driver_subset/*.root:tree_low\")\n",
    "# MC_high = up.concatenate(\"/w/hallb-scshelf2102/clas12/users/rojokell/MCLundAnalysis/OutputFiles/Slurm_Spring_24/July_16/Run_2_single_pion/*.root:tree_high\")\n",
    "# driver_high = up.concatenate(\"/w/hallb-scshelf2102/clas12/users/rojokell/MCLundAnalysis/Analysis/BoxAffinity/root_files/July_16_new_R2_driver_all_files_high.root:tree_driver\")\n",
    "# driver_low = up.concatenate(\"/w/hallb-scshelf2102/clas12/users/rojokell/MCLundAnalysis/Analysis/BoxAffinity/root_files/July_16_new_R2_driver_all_files_low.root:tree_driver\")\n",
    "\n",
    "MC_low = up.concatenate(\"/w/hallb-scshelf2102/clas12/users/rojokell/MCLundAnalysis/OutputFiles/Slurm_Spring_24/July_17/driver_subset/*.root:tree_low\")\n",
    "MC_high = up.concatenate(\"/w/hallb-scshelf2102/clas12/users/rojokell/MCLundAnalysis/OutputFiles/Slurm_Spring_24/July_17/Run_2_single_pion/*.root:tree_high\")\n",
    "driver_high = up.concatenate(\"/w/hallb-scshelf2102/clas12/users/rojokell/MCLundAnalysis/Analysis/BoxAffinity/root_files/July_17_old_R2_driver_MCNP_high.root:tree_driver\")\n",
    "driver_low = up.concatenate(\"/w/hallb-scshelf2102/clas12/users/rojokell/MCLundAnalysis/Analysis/BoxAffinity/root_files/July_17_old_R2_driver_MCNP_low.root:tree_driver\")"
   ]
  },
  {
   "cell_type": "code",
   "execution_count": 3,
   "id": "persistent-shirt",
   "metadata": {},
   "outputs": [],
   "source": [
    "MC_list = [MC_low,MC_high]\n",
    "driver_list = [driver_low,driver_high]\n",
    "high_low = [\"low\",\"high\"]"
   ]
  },
  {
   "cell_type": "code",
   "execution_count": 4,
   "id": "bearing-affiliate",
   "metadata": {},
   "outputs": [],
   "source": [
    "R_vars_MC = [\"R0\",\"R1\",\"R2_adjust\"]\n",
    "R_vars_driver = [\"R0\",\"R1\",\"R2\"]"
   ]
  },
  {
   "cell_type": "code",
   "execution_count": 6,
   "id": "resident-scientist",
   "metadata": {},
   "outputs": [],
   "source": [
    "MC_low_cut = [[] for i in range(3)]\n",
    "MC_high_cut = [[] for i in range(3)]\n",
    "MC_list_cut = [MC_low_cut, MC_high_cut]\n",
    "for low_high_idx in range(2):\n",
    "    for i in range(len(MC_list[low_high_idx])):\n",
    "        for j in range(len(R_vars_MC)):\n",
    "            if(MC_list[low_high_idx][R_vars_MC[j]][i] < 5):\n",
    "                MC_list_cut[low_high_idx][j].append(MC_list[low_high_idx][R_vars_MC[j]][i])\n",
    "            \n",
    "driver_low_cut = [[] for i in range(3)]\n",
    "driver_high_cut = [[] for i in range(3)]\n",
    "driver_list_cut = [driver_low_cut, driver_high_cut]\n",
    "for low_high_idx in range(2):\n",
    "    for i in range(len(driver_list[low_high_idx])):\n",
    "        for j in range(len(R_vars_driver)):\n",
    "            if(driver_list[low_high_idx][R_vars_driver[j]][i] < 5):\n",
    "                driver_list_cut[low_high_idx][j].append(driver_list[low_high_idx][R_vars_driver[j]][i])"
   ]
  },
  {
   "cell_type": "code",
   "execution_count": 58,
   "id": "musical-iraqi",
   "metadata": {},
   "outputs": [],
   "source": [
    "min_MC = min(MC_list_cut[1][0])\n",
    "max_MC = max(MC_list_cut[1][0])\n",
    "\n",
    "min_driver = min(driver_list_cut[1][0])\n",
    "max_driver = max(driver_list_cut[1][0])\n",
    "\n",
    "range_driver = max_driver - min_driver\n",
    "\n",
    "range_MC = max_MC - min_MC\n",
    "n_bins_driver = 5\n",
    "bin_width = range_driver / n_bins_driver\n",
    "n_bins_MC = int(np.floor(range_MC / bin_width))"
   ]
  },
  {
   "cell_type": "code",
   "execution_count": 59,
   "id": "adult-destination",
   "metadata": {},
   "outputs": [
    {
     "data": {
      "text/plain": [
       "3055"
      ]
     },
     "execution_count": 59,
     "metadata": {},
     "output_type": "execute_result"
    }
   ],
   "source": [
    "n_bins_MC"
   ]
  },
  {
   "cell_type": "code",
   "execution_count": 69,
   "id": "friendly-courage",
   "metadata": {},
   "outputs": [
    {
     "data": {
      "image/png": "[encoded data removed]",
      "text/plain": [
       "<Figure size 640x480 with 1 Axes>"
      ]
     },
     "metadata": {},
     "output_type": "display_data"
    }
   ],
   "source": [
    "fig, ax = plot.subplots(1,1)\n",
    "N_MC, bins_MC, patches_MC = ax.hist(MC_list_cut[1][0],density = False,color = \"red\",bins = n_bins_MC)\n",
    "N_driver, bins_driver, patches_driver = ax.hist(driver_list_cut[1][0],density = False, color = \"blue\",bins = n_bins_driver)\n",
    "# ax.set_xlim(0,0.02)\n",
    "ax.set_yscale('log')"
   ]
  },
  {
   "cell_type": "code",
   "execution_count": 67,
   "id": "historical-acceptance",
   "metadata": {},
   "outputs": [
    {
     "data": {
      "text/plain": [
       "(array([2., 2., 1., ..., 0., 0., 1.]),\n",
       " array([0.00049016, 0.00064696, 0.00080375, ..., 0.47917818, 0.47933497,\n",
       "        0.47949176]))"
      ]
     },
     "execution_count": 67,
     "metadata": {},
     "output_type": "execute_result"
    }
   ],
   "source": [
    "N_MC, bins_MC"
   ]
  },
  {
   "cell_type": "code",
   "execution_count": 68,
   "id": "ahead-settle",
   "metadata": {},
   "outputs": [
    {
     "data": {
      "text/plain": [
       "(array([  23.,  125.,  697., 1402., 2209.]),\n",
       " array([0.00743388, 0.00759065, 0.00774741, 0.00790418, 0.00806095,\n",
       "        0.00821772]))"
      ]
     },
     "execution_count": 68,
     "metadata": {},
     "output_type": "execute_result"
    }
   ],
   "source": [
    "N_driver, bins_driver"
   ]
  },
  {
   "cell_type": "code",
   "execution_count": 6,
   "id": "informal-routine",
   "metadata": {},
   "outputs": [],
   "source": [
    "pref = \"csv/\"\n",
    "file_names_low = [\"R0_data_low.csv\",\"R1_data_low.csv\",\"R2_data_low.csv\"]\n",
    "file_names_high = [\"R0_data_high.csv\",\"R1_data_high.csv\",\"R2_data_high.csv\"]\n",
    "centers = [[] for i in range(2)]\n",
    "for i in range(3):\n",
    "    centers[0].append(pd.read_csv(pref + file_names_low[i])['0'].to_numpy())#low\n",
    "    centers[1].append(pd.read_csv(pref + file_names_high[i])['0'].to_numpy())#high"
   ]
  },
  {
   "cell_type": "code",
   "execution_count": null,
   "id": "detailed-worthy",
   "metadata": {},
   "outputs": [],
   "source": [
    "\n",
    "\n",
    "for i in range(2):\n",
    "    fig, axs = plot.subplots(1,3, figsize= (14,4))\n",
    "    MC = MC_list_cut[i]\n",
    "    driver = driver_list_cut[i]\n",
    "    MC_R0 = MC[0]\n",
    "    MC_R1 = MC[1]\n",
    "    MC_R2 = MC[2]\n",
    "\n",
    "    driver_R0 = driver[0]\n",
    "    driver_R1 = driver[1]\n",
    "    driver_R2 = driver[2]\n",
    "    \n",
    "    diff = len(MC_R1) - len(driver_R1)\n",
    "    print(f\"diff %: {diff / len(MC_R1) * 100}\")\n",
    "    n_bins_driver = 100\n",
    "    \n",
    "    range_driver = max(driver_R1) - min(driver_R1)\n",
    "    range_MC = max(MC_R1) - min(MC_R1)\n",
    "    bin_width = range_driver / n_bins_driver\n",
    "    n_bins_MC = int(round(range_MC / bin_width))\n",
    "    \n",
    "    axs[0].set_title(f\"R0, {high_low[i]} aff\")\n",
    "    axs[0].hist(MC_R0, bins = 100, alpha = 0.4, color = \"orange\",density = True, label = \"MC\")\n",
    "    axs[0].hist(driver_R0, bins = 100, alpha = 0.4, color = \"b\",density = True, label = \"driver MCNP\")\n",
    "#     axs[0].hist(centers[i][0], bins = 100, alpha = 0.4, color = \"r\",density = True, label = \"centers\")\n",
    "    axs[0].legend()\n",
    "    if(i == 1):\n",
    "        axs[0].set_yscale(\"log\")\n",
    "    \n",
    "    axs[1].set_title(f\"R1, {high_low[i]} aff\")\n",
    "    axs[1].hist(MC_R1, bins = 100, alpha = 0.4, color = \"orange\",density = True, label = \"MC\")\n",
    "    axs[1].hist(driver_R1, bins = 100, alpha = 0.4, color = \"b\",density = True, label = \"driver MCNP\")\n",
    "#     axs[1].hist(centers[i][1], bins = n_bins_driver, alpha = 0.4, color = \"r\",density = True, label = \"centers\")\n",
    "    if(not i):\n",
    "        axs[1].set_xlim(0,3)\n",
    "    \n",
    "    axs[2].set_title(f\"new R2, {high_low[i]} aff\")\n",
    "    axs[2].hist(MC_R2, bins = 100, alpha = 0.4, color = \"orange\",density = True)\n",
    "    axs[2].hist(driver_R2, bins = 100, alpha = 0.4, color = \"b\",density = True)\n",
    "#     axs[2].hist(centers[i][2], bins = 100, alpha = 0.4, color = \"r\",density = True)\n",
    "\n",
    "    fig.tight_layout()\n",
    "    fig.savefig(f\"Histos/Ratios/July_17/mpl_new_{high_low[i]}_MC_driver_MCNP.pdf\")\n"
   ]
  },
  {
   "cell_type": "code",
   "execution_count": 50,
   "id": "greater-archive",
   "metadata": {},
   "outputs": [
    {
     "data": {
      "text/plain": [
       "7463.91560925857"
      ]
     },
     "execution_count": 50,
     "metadata": {},
     "output_type": "execute_result"
    }
   ],
   "source": [
    "max(driver_R1)"
   ]
  },
  {
   "cell_type": "code",
   "execution_count": 16,
   "id": "comparable-soldier",
   "metadata": {},
   "outputs": [
    {
     "data": {
      "text/plain": [
       "(array([   6.,   17.,   30.,   95.,  278.,  419.,  630.,  772.,  991.,\n",
       "        1218.]),\n",
       " array([0.00743388, 0.00751226, 0.00759065, 0.00766903, 0.00774741,\n",
       "        0.0078258 , 0.00790418, 0.00798257, 0.00806095, 0.00813934,\n",
       "        0.00821772]),\n",
       " <BarContainer object of 10 artists>)"
      ]
     },
     "execution_count": 16,
     "metadata": {},
     "output_type": "execute_result"
    },
    {
     "data": {
      "image/png": "[encoded data removed]",
      "text/plain": [
       "<Figure size 640x480 with 1 Axes>"
      ]
     },
     "metadata": {},
     "output_type": "display_data"
    }
   ],
   "source": [
    "plot.hist(driver_R0,bins = 10)\n",
    "# plot.hist(MC_R0,bins = 10)"
   ]
  },
  {
   "cell_type": "code",
   "execution_count": null,
   "id": "challenging-nutrition",
   "metadata": {},
   "outputs": [],
   "source": []
  }
 ],
 "metadata": {
  "kernelspec": {
   "display_name": "Python 3 (ipykernel)",
   "language": "python",
   "name": "python3"
  },
  "language_info": {
   "codemirror_mode": {
    "name": "ipython",
    "version": 3
   },
   "file_extension": ".py",
   "mimetype": "text/x-python",
   "name": "python",
   "nbconvert_exporter": "python",
   "pygments_lexer": "ipython3",
   "version": "3.8.6"
  }
 },
 "nbformat": 4,
 "nbformat_minor": 5
}
