{
 "cells": [
  {
   "cell_type": "markdown",
   "id": "sublime-surfing",
   "metadata": {},
   "source": [
    "# Affinity Calculations using RDataFrame for CLAS12 Dihadron events"
   ]
  },
  {
   "cell_type": "markdown",
   "id": "great-hypothesis",
   "metadata": {},
   "source": [
    "### Rowan Kelleher\n",
    "#### October 20th, 2022"
   ]
  },
  {
   "cell_type": "markdown",
   "id": "stable-check",
   "metadata": {},
   "source": [
    "This notebook takes in TTrees and plots affinity values. TTrees come from LundAnalysis.C (in repo: https://github.com/RowanKell/MCLundAnalysis/blob/dev2/LundAnalysis.C)"
   ]
  },
  {
   "cell_type": "markdown",
   "id": "female-breeding",
   "metadata": {},
   "source": [
    "Process:\n",
    "1. Wildcard (\\*) is used to take in many ROOT files into one RDataFrame for each bin variable for each pion\n",
    "1. The means at each bin are then calculated using the Filter() and Mean() methods\n",
    "1. These means are then fed through the Affinity TensorFlow model and affinity values are saved to numpy arrays\n",
    "1. From these arrays we then plot affinity vs x, z, Mh depending on the binning variable\n",
    "\n",
    "In progress:\n",
    "1. The dihadron affinity can be calculated from the product of the two pions, but this hasn't been done yet as the single pion affinity is still being worked on"
   ]
  },
  {
   "cell_type": "code",
   "execution_count": 4,
   "id": "foreign-rebate",
   "metadata": {},
   "outputs": [
    {
     "name": "stdout",
     "output_type": "stream",
     "text": [
      "tf.__version__ 2.7.0\n"
     ]
    }
   ],
   "source": [
    "from ROOT import TFile,TTree,TCanvas,TH1F,gStyle,TLatex,gPad,TLegend,TLorentzVector,TH2F,TLine,TF1,TBox,RDataFrame,TPad,TF2\n",
    "import ROOT\n",
    "import numpy as np\n",
    "import awkward as awk\n",
    "import uproot\n",
    "import pandas as pd\n",
    "import matplotlib.pyplot as plot\n",
    "from pandas import read_excel \n",
    "from copy import deepcopy\n",
    "from ipywidgets import *\n",
    "import logging, os \n",
    "import time\n",
    "logging.disable(logging.WARNING) \n",
    "os.environ[\"TF_CPP_MIN_LOG_LEVEL\"] = \"3\"\n",
    "\n",
    "import tensorflow as tf\n",
    "print(\"tf.__version__\", tf.__version__)\n"
   ]
  },
  {
   "cell_type": "code",
   "execution_count": 5,
   "id": "affected-coalition",
   "metadata": {},
   "outputs": [],
   "source": [
    "d_plus = RDataFrame(\"tree_MC_plus\", \"../OutputFiles/Slurm/Oct_20_run2/file_20*.root\")\n",
    "d_minus = RDataFrame(\"tree_MC_minus\", \"../OutputFiles/Slurm/Oct_20_run2/file_20*.root\")"
   ]
  },
  {
   "cell_type": "code",
   "execution_count": 3,
   "id": "critical-mortgage",
   "metadata": {},
   "outputs": [
    {
     "name": "stdout",
     "output_type": "stream",
     "text": [
      "z_h         | x           | pt         | Q2        | R0          | R1          | R2           | \n",
      "0.47982344  | 0.13862272  | 0.18253021 | 2.4553898 | 0.016461680 | 5.6072115   | 0.0081038421 | \n",
      "0.20702138  | 0.18826764  | 0.23842534 | 2.0541233 | 0.14269649  | 0.91452509  | 0.14269649   | \n",
      "0.71130316  | 0.29975044  | 0.65748025 | 2.7736934 | 0.31098634  | 7.5807230   | 0.31098634   | \n",
      "0.16983479  | 0.19235753  | 0.45147363 | 2.8280538 | 1.0260660   | 0.48917429  | 0.30073285   | \n",
      "0.086130956 | 0.098662949 | 0.46462479 | 1.2319383 | 0.15919362  | -0.15734586 | 0.15919362   | \n"
     ]
    }
   ],
   "source": [
    "d_plus.Display().Print()"
   ]
  },
  {
   "cell_type": "code",
   "execution_count": 3,
   "id": "respected-pennsylvania",
   "metadata": {},
   "outputs": [],
   "source": [
    "# x= tree[\"x\"].array(library=\"np\")\n",
    "# x=x[(x>0)&(x<0.1)]\n",
    "# np.std(x)"
   ]
  },
  {
   "cell_type": "code",
   "execution_count": 10,
   "id": "seven-large",
   "metadata": {},
   "outputs": [],
   "source": [
    "#Bins (each has 8 including 0)\n",
    "Mhbins = np.linspace(0,1.3,8)\n",
    "xbins = np.array([0,0.1,0.13,0.16,0.19,0.235,0.3,0.5])\n",
    "zbins = np.array([0,0.35,0.43,0.49,0.55,0.62,0.7,0.83])\n",
    "Q2bins = np.array([0,1.2,1.8,2.3,3.1,4.3,7,11.1])"
   ]
  },
  {
   "cell_type": "markdown",
   "id": "supported-range",
   "metadata": {},
   "source": [
    "Need variables: x, z_h, Q2, p_T, R0, R1, R2 - total of 7"
   ]
  },
  {
   "cell_type": "code",
   "execution_count": 12,
   "id": "explicit-ensemble",
   "metadata": {
    "scrolled": true
   },
   "outputs": [],
   "source": [
    "#Filtering data\n",
    "#We have a list of 7 arrays bc we need an array of x values, z values, p_t values, etc for every bin\n",
    "#First index will be the variable, second index is the i-th binning of that variable\n",
    "#e.g. - px[1][3] will access the z_h mean for the 3rd (4th) bin of the x binning of piplus\n",
    "px = [np.zeros(7).tolist() for i in range(7)]\n",
    "pz = [np.zeros(7).tolist() for i in range(7)]\n",
    "pMh=[np.zeros(7).tolist() for i in range(7)]\n",
    "pxQ2 = [[np.zeros(7).tolist() for i in range(7)] for i in range(7)]\n",
    "\n",
    "mx=[np.zeros(7).tolist() for i in range(7)]\n",
    "mz=[np.zeros(7).tolist() for i in range(7)]\n",
    "mMh=[np.zeros(7).tolist() for i in range(7)]\n",
    "# pxQ2"
   ]
  },
  {
   "cell_type": "code",
   "execution_count": 13,
   "id": "presidential-primary",
   "metadata": {},
   "outputs": [],
   "source": [
    "#px=[list(np.zeros(7)) for i in range(7)]"
   ]
  },
  {
   "cell_type": "code",
   "execution_count": 14,
   "id": "settled-relay",
   "metadata": {},
   "outputs": [],
   "source": [
    "varName = np.array([\"x\", \"z_h\", \"Q2\", \"pt\", \"R0\", \"R1\", \"R2\"])"
   ]
  },
  {
   "cell_type": "code",
   "execution_count": 15,
   "id": "downtown-orbit",
   "metadata": {},
   "outputs": [],
   "source": [
    "# n = 1\n",
    "# print(d_plus.Filter(xformat.format(xbins[n+1],xbins[n])).Mean(varName[0]).GetValue())"
   ]
  },
  {
   "cell_type": "code",
   "execution_count": 16,
   "id": "collect-payroll",
   "metadata": {},
   "outputs": [
    {
     "name": "stdout",
     "output_type": "stream",
     "text": [
      "0.3937058448791504\n"
     ]
    }
   ],
   "source": [
    "start_time = time.time()\n",
    "xformat = \"x <= {} && x > {}\"\n",
    "zformat = \"z_h <= {} && z_h > {}\"\n",
    "Mhformat = \"Mh <= {} && Mh > {}\"\n",
    "Q2format = \"Q2 <= {} && Q2 > {}\"\n",
    "\n",
    "#Piplus\n",
    "#x bins\n",
    "start_time = time.time()\n",
    "for i in range(7):\n",
    "    for j in range(7):\n",
    "        px[i][j] = d_plus.Filter(xformat.format(xbins[i+1],xbins[i])).Mean(varName[j])\n",
    "        #zbins\n",
    "        pz[i][j] = d_plus.Filter(zformat.format(zbins[i+1],zbins[i])).Mean(varName[j])\n",
    "        #Mhbins\n",
    "        pMh[i][j] = d_plus.Filter(Mhformat.format(Mhbins[i+1],Mhbins[i])).Mean(varName[j])\n",
    "        #Piminus\n",
    "        #\n",
    "        mx[i][j] = d_minus.Filter(xformat.format(xbins[i+1],xbins[i])).Mean(varName[j])\n",
    "        mz[i][j] = d_minus.Filter(zformat.format(zbins[i+1],zbins[i])).Mean(varName[j])\n",
    "        mMh[i][j] = d_minus.Filter(Mhformat.format(Mhbins[i+1],Mhbins[i])).Mean(varName[j])\n",
    "        for k in range(7):\n",
    "            pxQ2[i][j][k] = d_plus.Filter(xformat.format(xbins[i+1],xbins[i])).Filter(Q2format.format(Q2bins[k+1],Q2bins[k])).Mean(varName[j])\n",
    "finish = time.time()\n",
    "print(finish - start_time)"
   ]
  },
  {
   "cell_type": "markdown",
   "id": "numerous-shift",
   "metadata": {},
   "source": [
    "Now need to actually run the process by calling .GetValue() on one variable per RDataFrame (we have 2, one for each pion"
   ]
  },
  {
   "cell_type": "code",
   "execution_count": 89,
   "id": "sustained-guitar",
   "metadata": {},
   "outputs": [
    {
     "name": "stdout",
     "output_type": "stream",
     "text": [
      "took: 110.19206690788269\n"
     ]
    }
   ],
   "source": [
    "#print(px)\n",
    "forstart = time.time()\n",
    "for i in range(7):\n",
    "    for j in range(7):\n",
    "        px[i][j]=px[i][j].GetValue()\n",
    "        pz[i][j] = pz[i][j].GetValue()\n",
    "        pMh[i][j] = pMh[i][j].GetValue()\n",
    "        mx[i][j] = mx[i][j].GetValue()\n",
    "        mz[i][j] = mz[i][j].GetValue()\n",
    "        mMh[i][j] = mMh[i][j].GetValue()\n",
    "        for k in range(7):\n",
    "            pxQ2[i][j][k] = pxQ2[i][j][k].GetValue()\n",
    "forend = time.time()\n",
    "print(\"took: \" + str(forend - forstart))"
   ]
  },
  {
   "cell_type": "code",
   "execution_count": 57,
   "id": "alternative-jersey",
   "metadata": {},
   "outputs": [],
   "source": [
    "#px[0][0]"
   ]
  },
  {
   "cell_type": "code",
   "execution_count": 90,
   "id": "mature-transsexual",
   "metadata": {},
   "outputs": [],
   "source": [
    "collinear_region_name = 'collinear'\n",
    "current_region_name = 'current'\n",
    "target_region_name = 'target'\n",
    "TMD_region_name = 'TMD'\n",
    "soft_region_name = 'soft'\n",
    "collinear_lable_name = 'collinearaff'\n",
    "target_lable_name = 'targetaff'\n",
    "current_lable_name = 'currentaff'\n",
    "TMD_lable_name = 'tmdaff'\n",
    "soft_lable_name = 'softaff'\n",
    "\n",
    "tmd_model_name = '../../SIDIS-Affinity/models/final_%s' % TMD_region_name\n",
    "tmd_model = tf.keras.models.load_model(tmd_model_name)\n",
    "target_model_name = '../../SIDIS-Affinity/models/final_%s' % target_region_name\n",
    "target_model = tf.keras.models.load_model(target_model_name)\n",
    "collinear_model_name = '../../SIDIS-Affinity/models/final_%s' % collinear_region_name\n",
    "collinear_model = tf.keras.models.load_model(collinear_model_name)\n",
    "current_model_name = '../../SIDIS-Affinity/models/final_%s' % current_region_name\n",
    "current_model = tf.keras.models.load_model(current_model_name)\n",
    "soft_model_name = '../../SIDIS-Affinity/models/final_%s' % soft_region_name\n",
    "soft_model = tf.keras.models.load_model(soft_model_name)"
   ]
  },
  {
   "cell_type": "code",
   "execution_count": 91,
   "id": "french-enterprise",
   "metadata": {},
   "outputs": [],
   "source": [
    "#var order: \n",
    "#0: x\n",
    "#1: z_h\n",
    "#2: Q2\n",
    "#3: p_T\n",
    "#4: R0\n",
    "#5: R1\n",
    "#6: R2\n",
    "\n",
    "def calculator(array, region, binType, binnedVariable = 0):\n",
    "    if binType == \"x\":\n",
    "        z = array[1]\n",
    "        Q2 = array[2]\n",
    "        pT = array[3]\n",
    "        R0max = array[4]\n",
    "        R1max = array[5]\n",
    "        R2max = array[6]\n",
    "        x = binnedVariable\n",
    "    elif binType == \"z\":\n",
    "        x = array[0]\n",
    "        Q2 = array[2]\n",
    "        pT = array[3]\n",
    "        R0max = array[4]\n",
    "        R1max = array[5]\n",
    "        R2max = array[6]\n",
    "        z = binnedVariable\n",
    "    elif binType == \"Mh\":\n",
    "        x = array[0]\n",
    "        z = array[1]\n",
    "        Q2 = array[2]\n",
    "        pT = array[3]\n",
    "        R0max = array[4]\n",
    "        R1max = array[5]\n",
    "        R2max = array[6]\n",
    "        \n",
    "    test_features = pd.DataFrame({'pT':pT,'Q2':Q2,'x':x,'z':z,'R0max':R0max,'R1max':R1max,'R2max':R2max},index=[0])\n",
    "\n",
    "    if region == 'tmd':\n",
    "        prediction = tmd_model.predict(test_features).flatten()\n",
    "        \n",
    "    elif region == 'target':\n",
    "        prediction = target_model.predict(test_features).flatten()\n",
    "        \n",
    "    elif region == 'collinear':\n",
    "        prediction = collinear_model.predict(test_features).flatten()\n",
    "\n",
    "    elif region == 'soft':\n",
    "        prediction = soft_model.predict(test_features).flatten()\n",
    "\n",
    "    else:\n",
    "        prediction = current_model.predict(test_features).flatten()\n",
    "\n",
    "    return prediction[0] #returns affinity value"
   ]
  },
  {
   "cell_type": "code",
   "execution_count": 105,
   "id": "convinced-idaho",
   "metadata": {},
   "outputs": [],
   "source": [
    "colxaffinityplus = np.zeros(7)\n",
    "colzaffinityplus = np.zeros(7)\n",
    "colMhaffinityplus = np.zeros(7)\n",
    "TMDxaffinityplus = np.zeros(7)\n",
    "TMDzaffinityplus = np.zeros(7)\n",
    "TMDMhaffinityplus = np.zeros(7)\n",
    "Currentxaffinityplus = np.zeros(7)\n",
    "Currentzaffinityplus = np.zeros(7)\n",
    "CurrentMhaffinityplus = np.zeros(7)\n",
    "\n",
    "colxaffinityminus = np.zeros(7)\n",
    "colzaffinityminus = np.zeros(7)\n",
    "colMhaffinityminus = np.zeros(7)\n",
    "TMDxaffinityminus = np.zeros(7)\n",
    "TMDzaffinityminus = np.zeros(7)\n",
    "TMDMhaffinityminus = np.zeros(7)\n",
    "Currentxaffinityminus = np.zeros(7)\n",
    "Currentzaffinityminus = np.zeros(7)\n",
    "CurrentMhaffinityminus = np.zeros(7)\n",
    "\n",
    "pxQ2affinity = [np.zeros(7) for i in range(7)]\n",
    "\n",
    "region = \"collinear\"\n",
    "region2 = \"tmd\"\n",
    "region3 = \"current\"\n",
    "for i in range(7):\n",
    "    colzaffinityplus[i] = calculator(pz[i], region, \"z\", zbins[i+1])\n",
    "    colxaffinityplus[i] = calculator(px[i], region, \"x\", xbins[i+1])\n",
    "    colMhaffinityplus[i] = calculator(pMh[i], region, \"Mh\")\n",
    "    TMDzaffinityplus[i] = calculator(pz[i], region2, \"z\", zbins[i+1])\n",
    "    TMDxaffinityplus[i] = calculator(px[i], region2, \"x\", xbins[i+1])\n",
    "    TMDMhaffinityplus[i] = calculator(pMh[i], region2, \"Mh\")\n",
    "    Currentzaffinityplus[i] = calculator(pz[i], region3, \"z\", zbins[i+1])\n",
    "    Currentxaffinityplus[i] = calculator(px[i], region3, \"x\", xbins[i+1])\n",
    "    CurrentMhaffinityplus[i] = calculator(pMh[i], region3, \"Mh\")\n",
    "    \n",
    "    colzaffinityminus[i] = calculator(mz[i], region, \"z\", zbins[i+1])\n",
    "    colxaffinityminus[i] = calculator(mx[i], region, \"x\", xbins[i+1])\n",
    "    colMhaffinityminus[i] = calculator(mMh[i], region, \"Mh\")\n",
    "    TMDzaffinityminus[i] = calculator(mz[i], region2, \"z\", zbins[i+1])\n",
    "    TMDxaffinityminus[i] = calculator(mx[i], region2, \"x\", xbins[i+1])\n",
    "    TMDMhaffinityminus[i] = calculator(mMh[i], region2, \"Mh\")\n",
    "    Currentzaffinityminus[i] = calculator(mz[i], region3, \"z\", zbins[i+1])\n",
    "    Currentxaffinityminus[i] = calculator(mx[i], region3, \"x\", xbins[i+1])\n",
    "    CurrentMhaffinityminus[i] = calculator(mMh[i], region3, \"Mh\")\n",
    "    for j in range(7):\n",
    "        #i is x, j is Q2\n",
    "        pxQ2affinity[i][j] = calculator(pxQ2[i][j], region2, \"x\", xbins[i+1])"
   ]
  },
  {
   "cell_type": "code",
   "execution_count": 106,
   "id": "pleasant-synthesis",
   "metadata": {},
   "outputs": [
    {
     "name": "stdout",
     "output_type": "stream",
     "text": [
      "[array([1.87706847e-11, 6.05204207e-08, 1.12390180e-05, 3.57767732e-07,\n",
      "       5.02591774e-07, 1.32386378e-06, 1.39959226e-07]), array([7.58041616e-11, 1.25889132e-09, 4.49904235e-07, 1.01221154e-09,\n",
      "       5.05223285e-09, 4.04671965e-07, 1.80899029e-09]), array([1.89451052e-10, 2.08244089e-09, 4.32336634e-07, 8.29791014e-10,\n",
      "       4.89218044e-09, 3.63608547e-06, 8.61740901e-10]), array([1.01486916e-10, 1.79761928e-09, 6.84401087e-08, 8.14990242e-10,\n",
      "       3.41761863e-09, 5.97574342e-07, 2.56119570e-10]), array([4.02611136e-08, 3.03664507e-07, 1.59412975e-05, 1.73755012e-07,\n",
      "       3.04315932e-07, 6.21066511e-06, 1.63727005e-08]), array([5.11959577e-08, 1.03318122e-07, 2.87009861e-05, 8.36314342e-08,\n",
      "       1.61146161e-07, 1.87882131e-06, 1.05451532e-08]), array([1.12327933e-03, 4.01824713e-04, 1.00000000e+00, 7.97748566e-04,\n",
      "       9.95616392e-06, 1.00000000e+00, 1.10020174e-07])]\n"
     ]
    }
   ],
   "source": [
    "print(pxQ2affinity)"
   ]
  },
  {
   "cell_type": "code",
   "execution_count": 93,
   "id": "brutal-bench",
   "metadata": {},
   "outputs": [],
   "source": [
    "#print(colxaffinityplus)"
   ]
  },
  {
   "cell_type": "code",
   "execution_count": 94,
   "id": "according-surfing",
   "metadata": {},
   "outputs": [],
   "source": [
    "Mhbinsno0 = np.linspace(0.3,1.3,7)\n",
    "xbinsno0 = np.array([0.1,0.13,0.16,0.19,0.235,0.3,0.5])\n",
    "zbinsno0 = np.array([0.35,0.43,0.49,0.55,0.62,0.7,0.83])\n",
    "Q2binsno0 = np.array([1.2,1.8,2.3,3.1,4.3,7,11.1])"
   ]
  },
  {
   "cell_type": "code",
   "execution_count": 63,
   "id": "applicable-numbers",
   "metadata": {},
   "outputs": [
    {
     "data": {
      "text/plain": [
       "[Text(0.5, 0, 'z_h')]"
      ]
     },
     "execution_count": 63,
     "metadata": {},
     "output_type": "execute_result"
    },
    {
     "data": {
      "image/png": "[encoded data removed]",
      "text/plain": [
       "<Figure size 1440x360 with 3 Axes>"
      ]
     },
     "metadata": {
      "needs_background": "light"
     },
     "output_type": "display_data"
    }
   ],
   "source": [
    "fig, (ax1, ax2, ax3) = plot.subplots(1, 3, figsize = (20, 5))\n",
    "fig.suptitle(\"Pi+ Affinity in the Collinear region\")\n",
    "ax1.set(ylabel = \"Affinity\")\n",
    "ax1.scatter(Mhbinsno0, colMhaffinityplus)\n",
    "ax1.axhline(y=0, color=\"gray\", lw = 1)\n",
    "ax1.set_title(\"Mh binning\")\n",
    "ax1.set(xlabel = \"Mh (GeV)\")\n",
    "ax2.scatter(xbinsno0, colxaffinityplus)\n",
    "ax2.axhline(y=0, color=\"gray\", lw = 1)\n",
    "ax2.set_title(\"x binning\")\n",
    "ax2.set(xlabel = \"x\")\n",
    "ax3.scatter(zbinsno0, colzaffinityplus)\n",
    "ax3.axhline(y=0, color=\"gray\", lw = 1)\n",
    "ax3.set_title(\"z_h binning\")\n",
    "ax3.set(xlabel = \"z_h\")\n"
   ]
  },
  {
   "cell_type": "code",
   "execution_count": 64,
   "id": "nearby-bench",
   "metadata": {},
   "outputs": [
    {
     "data": {
      "text/plain": [
       "[Text(0.5, 0, 'z_h')]"
      ]
     },
     "execution_count": 64,
     "metadata": {},
     "output_type": "execute_result"
    },
    {
     "data": {
      "image/png": "[encoded data removed]",
      "text/plain": [
       "<Figure size 1440x360 with 3 Axes>"
      ]
     },
     "metadata": {
      "needs_background": "light"
     },
     "output_type": "display_data"
    }
   ],
   "source": [
    "fig, (ax1, ax2, ax3) = plot.subplots(1, 3, figsize = (20, 5))\n",
    "fig.suptitle(\"Pi- Affinity in the Collinear region\")\n",
    "ax1.set(ylabel = \"Affinity\")\n",
    "ax1.scatter(Mhbinsno0, colMhaffinityminus)\n",
    "ax1.axhline(y=0, color=\"gray\", lw = 1)\n",
    "ax1.set_title(\"Mh binning\")\n",
    "ax1.set(xlabel = \"Mh (GeV)\")\n",
    "ax2.scatter(xbinsno0, colxaffinityminus)\n",
    "ax2.axhline(y=0, color=\"gray\", lw = 1)\n",
    "ax2.set_title(\"x binning\")\n",
    "ax2.set(xlabel = \"x\")\n",
    "ax3.scatter(zbinsno0, colzaffinityminus)\n",
    "ax3.axhline(y=0, color=\"gray\", lw = 1)\n",
    "ax3.set_title(\"z_h binning\")\n",
    "ax3.set(xlabel = \"z_h\")\n"
   ]
  },
  {
   "cell_type": "code",
   "execution_count": 69,
   "id": "infrared-cowboy",
   "metadata": {},
   "outputs": [
    {
     "name": "stdout",
     "output_type": "stream",
     "text": [
      "[0.00331929 0.00265795 0.00286913 0.00357762 0.00521532 0.00785056\n",
      " 0.01381093]\n"
     ]
    },
    {
     "data": {
      "image/png": "[encoded data removed]",
      "text/plain": [
       "<Figure size 1440x360 with 3 Axes>"
      ]
     },
     "metadata": {
      "needs_background": "light"
     },
     "output_type": "display_data"
    }
   ],
   "source": [
    "fig2, (ax12, ax22, ax32) = plot.subplots(1, 3, figsize = (20, 5))\n",
    "fig2.suptitle(\"Pi+ Affinity in the TMD region\")\n",
    "ax12.set(ylabel = \"Affinity\")\n",
    "ax12.scatter(Mhbinsno0, TMDMhaffinityplus)\n",
    "ax12.axhline(y=0, color=\"gray\", lw = 1)\n",
    "ax12.set_title(\"Mh binning\")\n",
    "ax12.set(xlabel = \"Mh (GeV)\")\n",
    "ax22.scatter(xbinsno0, TMDxaffinityplus)\n",
    "ax22.axhline(y=0, color=\"gray\", lw = 1)\n",
    "ax22.set_title(\"x binning\")\n",
    "ax22.set(xlabel = \"x\")\n",
    "ax32.scatter(zbinsno0, TMDzaffinityplus)\n",
    "ax32.axhline(y=0, color=\"gray\", lw = 1)\n",
    "ax32.set_title(\"z_h binning\")\n",
    "ax32.set(xlabel = \"z_h\")\n",
    "print(TMDxaffinityplus)"
   ]
  },
  {
   "cell_type": "code",
   "execution_count": 112,
   "id": "original-engineer",
   "metadata": {},
   "outputs": [],
   "source": [
    "pxQ2xplot = [[np.zeros(7).tolist() for i in range(7)] for i in range(7)]\n",
    "pxQ2yplot = [[np.zeros(7).tolist() for i in range(7)] for i in range(7)]\n",
    "for i in range(7):\n",
    "    pxQ2xplot[i] = xbinsno0\n",
    "    pxQ2yplot[i] = Q2binsno0\n",
    "    "
   ]
  },
  {
   "cell_type": "code",
   "execution_count": 115,
   "id": "present-mitchell",
   "metadata": {},
   "outputs": [
    {
     "data": {
      "text/plain": [
       "<matplotlib.collections.PathCollection at 0x7f49051bc550>"
      ]
     },
     "execution_count": 115,
     "metadata": {},
     "output_type": "execute_result"
    },
    {
     "data": {
      "image/png": "[encoded data removed]",
      "text/plain": [
       "<Figure size 432x288 with 1 Axes>"
      ]
     },
     "metadata": {
      "needs_background": "light"
     },
     "output_type": "display_data"
    }
   ],
   "source": [
    "plot.scatter(pxQ2xplot,pxQ2yplot,c=pxQ2affinity)"
   ]
  },
  {
   "cell_type": "code",
   "execution_count": 66,
   "id": "second-badge",
   "metadata": {},
   "outputs": [
    {
     "data": {
      "text/plain": [
       "[Text(0.5, 0, 'z_h')]"
      ]
     },
     "execution_count": 66,
     "metadata": {},
     "output_type": "execute_result"
    },
    {
     "data": {
      "image/png": "[encoded data removed]",
      "text/plain": [
       "<Figure size 1440x360 with 3 Axes>"
      ]
     },
     "metadata": {
      "needs_background": "light"
     },
     "output_type": "display_data"
    }
   ],
   "source": [
    "fig2, (ax12, ax22, ax32) = plot.subplots(1, 3, figsize = (20, 5))\n",
    "fig2.suptitle(\"Pi- Affinity in the TMD region\")\n",
    "ax12.set(ylabel = \"Affinity\")\n",
    "ax12.scatter(Mhbinsno0, TMDMhaffinityminus)\n",
    "ax12.axhline(y=0, color=\"gray\", lw = 1)\n",
    "ax12.set_title(\"Mh binning\")\n",
    "ax12.set(xlabel = \"Mh (GeV)\")\n",
    "ax22.scatter(xbinsno0, TMDxaffinityminus)\n",
    "ax22.axhline(y=0, color=\"gray\", lw = 1)\n",
    "ax22.set_title(\"x binning\")\n",
    "ax22.set(xlabel = \"x\")\n",
    "ax32.scatter(zbinsno0, TMDzaffinityminus)\n",
    "ax32.axhline(y=0, color=\"gray\", lw = 1)\n",
    "ax32.set_title(\"z_h binning\")\n",
    "ax32.set(xlabel = \"z_h\")\n"
   ]
  },
  {
   "cell_type": "code",
   "execution_count": 67,
   "id": "confident-insight",
   "metadata": {},
   "outputs": [
    {
     "data": {
      "text/plain": [
       "[Text(0.5, 0, 'z_h')]"
      ]
     },
     "execution_count": 67,
     "metadata": {},
     "output_type": "execute_result"
    },
    {
     "data": {
      "image/png": "[encoded data removed]",
      "text/plain": [
       "<Figure size 1440x360 with 3 Axes>"
      ]
     },
     "metadata": {
      "needs_background": "light"
     },
     "output_type": "display_data"
    }
   ],
   "source": [
    "fig3, (ax13, ax23, ax33) = plot.subplots(1, 3, figsize = (20, 5))\n",
    "fig3.suptitle(\"Pi+ Affinity in the Current region\")\n",
    "ax13.set(ylabel = \"Affinity\")\n",
    "ax13.scatter(Mhbinsno0, CurrentMhaffinityplus)\n",
    "ax13.axhline(y=0, color=\"gray\", lw = 1)\n",
    "ax13.set_title(\"Mh binning\")\n",
    "ax13.set(xlabel = \"Mh (GeV)\")\n",
    "ax23.scatter(xbinsno0, Currentxaffinityplus)\n",
    "ax23.axhline(y=0, color=\"gray\", lw = 1)\n",
    "ax23.set_title(\"x binning\")\n",
    "ax23.set(xlabel = \"x\")\n",
    "ax33.scatter(zbinsno0, Currentzaffinityplus)\n",
    "ax33.axhline(y=0, color=\"gray\", lw = 1)\n",
    "ax33.set_title(\"z_h binning\")\n",
    "ax33.set(xlabel = \"z_h\")\n"
   ]
  },
  {
   "cell_type": "code",
   "execution_count": 68,
   "id": "overall-analyst",
   "metadata": {},
   "outputs": [
    {
     "data": {
      "text/plain": [
       "[Text(0.5, 0, 'z_h')]"
      ]
     },
     "execution_count": 68,
     "metadata": {},
     "output_type": "execute_result"
    },
    {
     "data": {
      "image/png": "[encoded data removed]",
      "text/plain": [
       "<Figure size 1440x360 with 3 Axes>"
      ]
     },
     "metadata": {
      "needs_background": "light"
     },
     "output_type": "display_data"
    }
   ],
   "source": [
    "fig3, (ax13, ax23, ax33) = plot.subplots(1, 3, figsize = (20, 5))\n",
    "fig3.suptitle(\"Pi- Affinity in the Current region\")\n",
    "ax13.set(ylabel = \"Affinity\")\n",
    "ax13.scatter(Mhbinsno0, CurrentMhaffinityminus)\n",
    "ax13.axhline(y=0, color=\"gray\", lw = 1)\n",
    "ax13.set_title(\"Mh binning\")\n",
    "ax13.set(xlabel = \"Mh (GeV)\")\n",
    "ax23.scatter(xbinsno0, Currentxaffinityminus)\n",
    "ax23.axhline(y=0, color=\"gray\", lw = 1)\n",
    "ax23.set_title(\"x binning\")\n",
    "ax23.set(xlabel = \"x\")\n",
    "ax33.scatter(zbinsno0, Currentzaffinityminus)\n",
    "ax33.axhline(y=0, color=\"gray\", lw = 1)\n",
    "ax33.set_title(\"z_h binning\")\n",
    "ax33.set(xlabel = \"z_h\")\n"
   ]
  },
  {
   "cell_type": "code",
   "execution_count": null,
   "id": "naughty-damage",
   "metadata": {},
   "outputs": [],
   "source": []
  },
  {
   "cell_type": "code",
   "execution_count": 44,
   "id": "prescribed-genre",
   "metadata": {},
   "outputs": [],
   "source": [
    "x_Input = widgets.BoundedFloatText(value = 0.0000343, min=0.0, max=10.0, step=0.1, description='x:', disabled=False)\n",
    "z_Input = widgets.BoundedFloatText(value = 0.12, min=0.0, max=10.0, step=0.1, description='z:', disabled=False)\n",
    "Q2_Input = widgets.BoundedFloatText(value = 1.543, min=0.0, max=10.0, step=0.1, description='Q2:', disabled=False)\n",
    "pT_Input = widgets.BoundedFloatText(value = 1.2, min=0.0, max=10.0, step=0.1, description='pT:', disabled=False)\n",
    "R0max_Input = widgets.BoundedFloatText(value = 0.05, min=0.05, max=1.0, step=0.1, description='R0:', disabled=False)\n",
    "R1max_Input = widgets.BoundedFloatText(value = 0.05, min=0.05, max=1.0, step=0.1, description='R1:', disabled=False)\n",
    "R2max_Input = widgets.BoundedFloatText(value = 0.05, min=0.05, max=1.0, step=0.1, description='R2:', disabled=False)\n",
    "regionDrop=widgets.Dropdown(options=[('tmd', 'tmd'), ('target', 'target'), \n",
    "             ('collinear', 'collinear'), ('current', 'current'),\n",
    "             ('soft', 'soft')], value='tmd', description='Region:')\n",
    "\n",
    "def calculator2(x=x_Input,z=z_Input,Q2=Q2_Input,pT=pT_Input,R0max=R0max_Input,R1max=R1max_Input,R2max=R2max_Input,region=regionDrop):\n",
    "\n",
    "    test_features = pd.DataFrame({'pT':pT,'Q2':Q2,'x':x,'z':z,'R0max':R0max,'R1max':R1max,'R2max':R2max},index=[0])\n",
    "\n",
    "    if region == 'tmd':\n",
    "        prediction = tmd_model.predict(test_features).flatten()\n",
    "        \n",
    "    elif region == 'target':\n",
    "        prediction = target_model.predict(test_features).flatten()\n",
    "        \n",
    "    elif region == 'collinear':\n",
    "        prediction = collinear_model.predict(test_features).flatten()\n",
    "\n",
    "    elif region == 'soft':\n",
    "        prediction = soft_model.predict(test_features).flatten()\n",
    "\n",
    "    else:\n",
    "        prediction = current_model.predict(test_features).flatten()\n",
    "\n",
    "    return print('\\nAffinity: ',prediction[0])"
   ]
  },
  {
   "cell_type": "code",
   "execution_count": 45,
   "id": "injured-latex",
   "metadata": {},
   "outputs": [
    {
     "data": {
      "application/vnd.jupyter.widget-view+json": {
       "model_id": "9bcd58c4f2fe437185b3b8d5ccc6d4fd",
       "version_major": 2,
       "version_minor": 0
      },
      "text/plain": [
       "interactive(children=(BoundedFloatText(value=3.43e-05, description='x:', max=10.0, step=0.1), BoundedFloatText…"
      ]
     },
     "metadata": {},
     "output_type": "display_data"
    }
   ],
   "source": [
    "#Initiate user interaction \n",
    "myx = 0.55\n",
    "myz = 0.5\n",
    "myQ2 = 11\n",
    "mypT = \n",
    "myR0\n",
    "myR1\n",
    "myR2\n",
    "execute = interactive(calculator2, {'manual': False},x=x_Input,z=z_Input,Q2=Q2_Input,pT=pT_Input,R0max=R0max_Input,R1max=R1max_Input,R2max=R2max_Input,region=regionDrop)\n",
    "execute"
   ]
  },
  {
   "cell_type": "code",
   "execution_count": null,
   "id": "ultimate-commercial",
   "metadata": {},
   "outputs": [],
   "source": [
    "h = d_plus.Filter(\"Q2 > 2\").Histo1D((\"h\",\";pt ;Counts\",1000,-1,10),\"Q2\")\n",
    "c = TCanvas(\"c\",\"c\",1000,800)\n",
    "h.Draw()\n",
    "c.Draw()"
   ]
  },
  {
   "cell_type": "code",
   "execution_count": null,
   "id": "quick-small",
   "metadata": {},
   "outputs": [],
   "source": []
  }
 ],
 "metadata": {
  "kernelspec": {
   "display_name": "Python 3",
   "language": "python",
   "name": "python3"
  },
  "language_info": {
   "codemirror_mode": {
    "name": "ipython",
    "version": 3
   },
   "file_extension": ".py",
   "mimetype": "text/x-python",
   "name": "python",
   "nbconvert_exporter": "python",
   "pygments_lexer": "ipython3",
   "version": "3.8.6"
  }
 },
 "nbformat": 4,
 "nbformat_minor": 5
}
