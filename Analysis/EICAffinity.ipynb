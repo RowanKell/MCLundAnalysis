{
 "cells": [
  {
   "cell_type": "markdown",
   "id": "short-optimization",
   "metadata": {},
   "source": [
    "# EIC CLAS12 Affinity Calculations TEST\n",
    "### Rowan Kelleher"
   ]
  },
  {
   "cell_type": "markdown",
   "id": "restricted-cigarette",
   "metadata": {},
   "source": [
    "#### This Notebook was created for calculating affinity values from CLAS12 MC data, and then analyzing the results"
   ]
  },
  {
   "cell_type": "markdown",
   "id": "resistant-casting",
   "metadata": {},
   "source": [
    "To use the notebook, first import all necessary imports below:"
   ]
  },
  {
   "cell_type": "code",
   "execution_count": 32,
   "id": "reliable-schedule",
   "metadata": {},
   "outputs": [
    {
     "name": "stdout",
     "output_type": "stream",
     "text": [
      "tf.__version__ 2.7.0\n"
     ]
    }
   ],
   "source": [
    "from ROOT import TFile,TTree,TCanvas,TH1F,gStyle,TLatex,gPad,TLegend,TLorentzVector,TH2F,TLine,TF1,TBox,RDataFrame,TPad,TF2\n",
    "import ROOT\n",
    "import numpy as np\n",
    "import awkward as awk\n",
    "import uproot\n",
    "import pandas as pd\n",
    "import matplotlib.pyplot as plot\n",
    "from pandas import read_excel \n",
    "from copy import deepcopy\n",
    "from ipywidgets import *\n",
    "import logging, os \n",
    "logging.disable(logging.WARNING) \n",
    "os.environ[\"TF_CPP_MIN_LOG_LEVEL\"] = \"3\"\n",
    "\n",
    "import tensorflow as tf\n",
    "print(\"tf.__version__\", tf.__version__)\n"
   ]
  },
  {
   "cell_type": "markdown",
   "id": "north-inspection",
   "metadata": {},
   "source": [
    "This notebook takes in root files and converts them to numpy arrays using uproot.\n",
    "On the next line, we pull each tree from the root file (one tree per kinematic variable we binned)"
   ]
  },
  {
   "cell_type": "markdown",
   "id": "subtle-tradition",
   "metadata": {},
   "source": [
    "Here we open the file in uproot and sort the trees into their respective objects"
   ]
  },
  {
   "cell_type": "code",
   "execution_count": 40,
   "id": "aggressive-album",
   "metadata": {},
   "outputs": [],
   "source": [
    "#up4_file = uproot.open(\"../OutputFiles/AffinityFiles/Files_9_12/file1.root\")\n",
    "#up4_file = uproot.open(\"../OutputFiles/Slurm/Sept_16_TMD/run1_0.root\")\n",
    "up4_file = uproot.open(\"../OutputFiles/AffinityFiles/Files_9_16/file2.root\") #this is where the plots in my prez are from\n",
    "#up4_file = uproot.open(\"../OutputFiles/AffinityFiles/Files_9_16/file4.root\")\n",
    "#up4_file = uproot.open(\"../OutputFiles/Slurm/Oct_3/file_0.root\")\n",
    "up4_z = up4_file[\"tree_z_h_bins\"]\n",
    "up4_x = up4_file[\"tree_x_bins\"]\n",
    "up4_Mh = up4_file[\"tree_Mh_bins\"]"
   ]
  },
  {
   "cell_type": "code",
   "execution_count": 33,
   "id": "parental-emission",
   "metadata": {},
   "outputs": [],
   "source": [
    "up4_file = uproot.open(\"../Dev/EICdata/eictestfull.root\")"
   ]
  },
  {
   "cell_type": "markdown",
   "id": "protecting-constraint",
   "metadata": {},
   "source": [
    "Now we must fill the arrays. We need to create two that have 6 arrays of length 7 inside them, as these are the arrays for the x and z binnings. This data doesn't include x or z as the center of the bin will be used as the x and z value. For the Mh binning, Mh isn't necessary for calculating Affinity so all the data is already in the array"
   ]
  },
  {
   "cell_type": "code",
   "execution_count": 41,
   "id": "worse-cameroon",
   "metadata": {},
   "outputs": [],
   "source": [
    "#0 is z, 1 is x, 2 is mh\n",
    "zarray = np.array([np.zeros(7)] * 6)\n",
    "xarray = np.array([np.zeros(7)] * 6)\n",
    "Mharray = np.array([np.zeros(7)] * 7)\n",
    "xkinematics = np.array([\"z_h\", \"Q2\", \"pT\", \"R0\", \"R1\", \"R2\"])\n",
    "zkinematics = np.array([\"x\", \"Q2\", \"pT\", \"R0\", \"R1\", \"R2\"])\n",
    "Mhkinematics = np.array([\"x\", \"z_h\", \"Q2\", \"pT\", \"R0\", \"R1\", \"R2\"])\n",
    "\n",
    "#These arrays each hold an array for each variable, meaning that the first bin of variables is in the first index of every kinematics array\n",
    "\n",
    "#z\n",
    "for i in range(zkinematics.size):\n",
    "    zarray[i] = up4_z[zkinematics[i]].array(library = \"np\")\n",
    "#x\n",
    "for i in range(xkinematics.size):\n",
    "    xarray[i] = up4_x[xkinematics[i]].array(library = \"np\")\n",
    "#Mh\n",
    "for i in range(Mhkinematics.size):\n",
    "    Mharray[i] = up4_Mh[Mhkinematics[i]].array(library = \"np\")"
   ]
  },
  {
   "cell_type": "code",
   "execution_count": 34,
   "id": "useful-steel",
   "metadata": {},
   "outputs": [],
   "source": [
    "events = up4_file[\"EICdata\"]\n",
    "z = events[\"z\"].array(library=\"np\")\n",
    "pT = events[\"pT\"].array(library=\"np\")\n",
    "Q2 = events[\"Q2\"].array(library=\"np\")\n",
    "x = events[\"x\"].array(library=\"np\")\n",
    "zs = [[]] * 7\n",
    "xarray = np.array([np.zeros(7)] * 6)\n",
    "pTs = [[]] * 7\n",
    "Q2s = [[]] * 7\n",
    "Mhbins = np.linspace(0.3,1.3,7)\n",
    "xbins = np.array([0.1,0.13,0.16,0.19,0.235,0.3,0.5])\n",
    "zbins = np.array([0.35,0.43,0.49,0.55,0.62,0.7,0.83])\n",
    "for i in range(x.size):\n",
    "    for j in range(xbins.size):\n",
    "        if(x[i] < xbins[j]):\n",
    "            zs[j].append(z[i])\n",
    "            pTs[j].append(pT[i])\n",
    "            Q2s[j].append(Q2[i])\n",
    "            continue\n",
    "for j in range(len(zs)):\n",
    "    xarray[0][j] = sum(zs[j]) / len(zs[j])\n",
    "for j in range(len(pTs)):\n",
    "    xarray[1][j] = sum(pTs[j]) / len(pTs[j])\n",
    "for j in range(len(Q2s)):\n",
    "    xarray[2][j] = sum(Q2s[j]) / len(Q2s[j])"
   ]
  },
  {
   "cell_type": "code",
   "execution_count": 35,
   "id": "seasonal-rebate",
   "metadata": {},
   "outputs": [],
   "source": [
    "xarray = xarray.transpose()"
   ]
  },
  {
   "cell_type": "code",
   "execution_count": 36,
   "id": "fifteen-florida",
   "metadata": {},
   "outputs": [
    {
     "name": "stdout",
     "output_type": "stream",
     "text": [
      "[[  0.5          4.47597558 102.89869913   0.           0.\n",
      "    0.        ]\n",
      " [  0.5          4.47597558 102.89869913   0.           0.\n",
      "    0.        ]\n",
      " [  0.5          4.47597558 102.89869913   0.           0.\n",
      "    0.        ]\n",
      " [  0.5          4.47597558 102.89869913   0.           0.\n",
      "    0.        ]\n",
      " [  0.5          4.47597558 102.89869913   0.           0.\n",
      "    0.        ]\n",
      " [  0.5          4.47597558 102.89869913   0.           0.\n",
      "    0.        ]\n",
      " [  0.5          4.47597558 102.89869913   0.           0.\n",
      "    0.        ]]\n"
     ]
    }
   ],
   "source": [
    "print(xarray)"
   ]
  },
  {
   "cell_type": "markdown",
   "id": "offensive-dragon",
   "metadata": {},
   "source": [
    "This code block uses tensor flow to set up models and predictions based on those models. The user does not need to edit this."
   ]
  },
  {
   "cell_type": "code",
   "execution_count": 37,
   "id": "south-forward",
   "metadata": {},
   "outputs": [],
   "source": [
    "collinear_region_name = 'collinear'\n",
    "current_region_name = 'current'\n",
    "target_region_name = 'target'\n",
    "TMD_region_name = 'TMD'\n",
    "soft_region_name = 'soft'\n",
    "collinear_lable_name = 'collinearaff'\n",
    "target_lable_name = 'targetaff'\n",
    "current_lable_name = 'currentaff'\n",
    "TMD_lable_name = 'tmdaff'\n",
    "soft_lable_name = 'softaff'\n",
    "\n",
    "tmd_model_name = '../../SIDIS-Affinity/models/final_%s' % TMD_region_name\n",
    "tmd_model = tf.keras.models.load_model(tmd_model_name)\n",
    "target_model_name = '../../SIDIS-Affinity/models/final_%s' % target_region_name\n",
    "target_model = tf.keras.models.load_model(target_model_name)\n",
    "collinear_model_name = '../../SIDIS-Affinity/models/final_%s' % collinear_region_name\n",
    "collinear_model = tf.keras.models.load_model(collinear_model_name)\n",
    "current_model_name = '../../SIDIS-Affinity/models/final_%s' % current_region_name\n",
    "current_model = tf.keras.models.load_model(current_model_name)\n",
    "soft_model_name = '../../SIDIS-Affinity/models/final_%s' % soft_region_name\n",
    "soft_model = tf.keras.models.load_model(soft_model_name)"
   ]
  },
  {
   "cell_type": "markdown",
   "id": "sublime-tissue",
   "metadata": {},
   "source": [
    "Here we add our binning so that we can use these values in the affinity calculations"
   ]
  },
  {
   "cell_type": "markdown",
   "id": "checked-nomination",
   "metadata": {},
   "source": [
    "Now we create the calculator. Here is how the function works:\n",
    "1. calculator() takes in an array with kinematics, the region (tmd for this study), the name of the variable that we binned, and then the actual value for the center of that bin\n",
    "1. Depening on the name of the binned variable, the function assigns all the necessary kinematics, and fills in the gaps (if applicable) with the center of the bin\n",
    "1. After the kinematics are input, a panda dataframe is created mapping the kinematics to its respective place\n",
    "1. The applicable prediction is then made based on the region (tmd, target, etc)\n",
    "1. The prediction, or affinity value, is returned\n",
    "Hence, to calculate affinity yourself, you just need to call the calculator with your array, region, bin name, and bin variable"
   ]
  },
  {
   "cell_type": "code",
   "execution_count": 38,
   "id": "corresponding-advocacy",
   "metadata": {},
   "outputs": [],
   "source": [
    "def calculator(array, region, binType, binnedVariable = 0):\n",
    "    if binType == \"x\":\n",
    "        z = array[0]\n",
    "        Q2 = array[2]\n",
    "        pT = array[1]\n",
    "        R0max = 0.05\n",
    "        R1max = 0.05\n",
    "        R2max = 0.05\n",
    "        x = binnedVariable\n",
    "    elif binType == \"z\":\n",
    "        x = array[0]\n",
    "        Q2 = array[1]\n",
    "        pT = array[2]\n",
    "        R0max = array[3]\n",
    "        R1max = array[4]\n",
    "        R2max = array[5]\n",
    "        z = binnedVariable\n",
    "    elif binType == \"Mh\":\n",
    "        x = array[0]\n",
    "        z = array[1]\n",
    "        Q2 = array[2]\n",
    "        pT = array[3]\n",
    "        R0max = array[4]\n",
    "        R1max = array[5]\n",
    "        R2max = array[6]\n",
    "        \n",
    "    test_features = pd.DataFrame({'pT':pT,'Q2':Q2,'x':x,'z':z,'R0max':R0max,'R1max':R1max,'R2max':R2max},index=[0])\n",
    "\n",
    "    if region == 'tmd':\n",
    "        prediction = tmd_model.predict(test_features).flatten()\n",
    "        \n",
    "    elif region == 'target':\n",
    "        prediction = target_model.predict(test_features).flatten()\n",
    "        \n",
    "    elif region == 'collinear':\n",
    "        prediction = collinear_model.predict(test_features).flatten()\n",
    "\n",
    "    elif region == 'soft':\n",
    "        prediction = soft_model.predict(test_features).flatten()\n",
    "\n",
    "    else:\n",
    "        prediction = current_model.predict(test_features).flatten()\n",
    "\n",
    "    return prediction[0] #returns affinity value"
   ]
  },
  {
   "cell_type": "code",
   "execution_count": 47,
   "id": "decreased-saying",
   "metadata": {},
   "outputs": [],
   "source": [
    "colxaffinity = np.zeros(7)\n",
    "colzaffinity = np.zeros(7)\n",
    "colMhaffinity = np.zeros(7)\n",
    "TMDxaffinity = np.zeros(7)\n",
    "TMDzaffinity = np.zeros(7)\n",
    "TMDMhaffinity = np.zeros(7)\n",
    "Currentxaffinity = np.zeros(7)\n",
    "Currentzaffinity = np.zeros(7)\n",
    "CurrentMhaffinity = np.zeros(7)\n",
    "region = \"collinear\"\n",
    "region2 = \"tmd\"\n",
    "region3 = \"current\"\n",
    "for i in range(7):\n",
    "    colzaffinity[i] = calculator(zarray[i], region, \"z\", zbins[i])\n",
    "    colxaffinity[i] = calculator(xarray[i], region, \"x\", xbins[i])\n",
    "    colMhaffinity[i] = calculator(Mharray[i], region, \"Mh\")\n",
    "    TMDzaffinity[i] = calculator(zarray[i], region2, \"z\", zbins[i])\n",
    "    TMDxaffinity[i] = calculator(xarray[i], region2, \"x\", xbins[i])\n",
    "    TMDMhaffinity[i] = calculator(Mharray[i], region2, \"Mh\")\n",
    "    Currentzaffinity[i] = calculator(zarray[i], region3, \"z\", zbins[i])\n",
    "    Currentxaffinity[i] = calculator(xarray[i], region3, \"x\", xbins[i])\n",
    "    CurrentMhaffinity[i] = calculator(Mharray[i], region3, \"Mh\")"
   ]
  },
  {
   "cell_type": "code",
   "execution_count": 39,
   "id": "preceding-mistress",
   "metadata": {},
   "outputs": [],
   "source": [
    "TMDxaffinity = np.zeros(7)\n",
    "region = \"tmd\"\n",
    "for i in range(7):\n",
    "    TMDxaffinity[i] = calculator(xarray[i], region, \"x\", xbins[i])"
   ]
  },
  {
   "cell_type": "code",
   "execution_count": null,
   "id": "mineral-winner",
   "metadata": {},
   "outputs": [],
   "source": []
  },
  {
   "cell_type": "code",
   "execution_count": 48,
   "id": "compliant-finnish",
   "metadata": {},
   "outputs": [],
   "source": [
    "#print(zaffinity)\n",
    "#print(Mhaffinity)\n",
    "#print(xaffinity)"
   ]
  },
  {
   "cell_type": "code",
   "execution_count": 49,
   "id": "static-central",
   "metadata": {},
   "outputs": [
    {
     "data": {
      "text/plain": [
       "[Text(0.5, 0, 'z_h')]"
      ]
     },
     "execution_count": 49,
     "metadata": {},
     "output_type": "execute_result"
    },
    {
     "data": {
      "image/png": "[encoded data removed]",
      "text/plain": [
       "<Figure size 1440x360 with 3 Axes>"
      ]
     },
     "metadata": {
      "needs_background": "light"
     },
     "output_type": "display_data"
    }
   ],
   "source": [
    "fig, (ax1, ax2, ax3) = plot.subplots(1, 3, figsize = (20, 5))\n",
    "fig.suptitle(\"Pi+ Pi- Affinity in the Collinear region\")\n",
    "ax1.set(ylabel = \"Affinity\")\n",
    "ax1.scatter(Mhbins, colMhaffinity)\n",
    "ax1.axhline(y=0, color=\"gray\", lw = 1)\n",
    "ax1.set_title(\"Mh binning\")\n",
    "ax1.set(xlabel = \"Mh (GeV)\")\n",
    "ax2.scatter(xbins, colxaffinity)\n",
    "ax2.axhline(y=0, color=\"gray\", lw = 1)\n",
    "ax2.set_title(\"x binning\")\n",
    "ax2.set(xlabel = \"x\")\n",
    "ax3.scatter(zbins, colzaffinity)\n",
    "ax3.axhline(y=0, color=\"gray\", lw = 1)\n",
    "ax3.set_title(\"z_h binning\")\n",
    "ax3.set(xlabel = \"z_h\")\n"
   ]
  },
  {
   "cell_type": "code",
   "execution_count": 40,
   "id": "serial-determination",
   "metadata": {},
   "outputs": [
    {
     "ename": "NameError",
     "evalue": "name 'TMDMhaffinity' is not defined",
     "output_type": "error",
     "traceback": [
      "\u001b[0;31m---------------------------------------------------------------------------\u001b[0m",
      "\u001b[0;31mNameError\u001b[0m                                 Traceback (most recent call last)",
      "\u001b[0;32m<ipython-input-40-e0c8f5e75b5a>\u001b[0m in \u001b[0;36m<module>\u001b[0;34m\u001b[0m\n\u001b[1;32m      2\u001b[0m \u001b[0mfig2\u001b[0m\u001b[0;34m.\u001b[0m\u001b[0msuptitle\u001b[0m\u001b[0;34m(\u001b[0m\u001b[0;34m\"Pi+ Pi- Affinity in the TMD region\"\u001b[0m\u001b[0;34m)\u001b[0m\u001b[0;34m\u001b[0m\u001b[0;34m\u001b[0m\u001b[0m\n\u001b[1;32m      3\u001b[0m \u001b[0max12\u001b[0m\u001b[0;34m.\u001b[0m\u001b[0mset\u001b[0m\u001b[0;34m(\u001b[0m\u001b[0mylabel\u001b[0m \u001b[0;34m=\u001b[0m \u001b[0;34m\"Affinity\"\u001b[0m\u001b[0;34m)\u001b[0m\u001b[0;34m\u001b[0m\u001b[0;34m\u001b[0m\u001b[0m\n\u001b[0;32m----> 4\u001b[0;31m \u001b[0max12\u001b[0m\u001b[0;34m.\u001b[0m\u001b[0mscatter\u001b[0m\u001b[0;34m(\u001b[0m\u001b[0mMhbins\u001b[0m\u001b[0;34m,\u001b[0m \u001b[0mTMDMhaffinity\u001b[0m\u001b[0;34m)\u001b[0m\u001b[0;34m\u001b[0m\u001b[0;34m\u001b[0m\u001b[0m\n\u001b[0m\u001b[1;32m      5\u001b[0m \u001b[0max12\u001b[0m\u001b[0;34m.\u001b[0m\u001b[0maxhline\u001b[0m\u001b[0;34m(\u001b[0m\u001b[0my\u001b[0m\u001b[0;34m=\u001b[0m\u001b[0;36m0\u001b[0m\u001b[0;34m,\u001b[0m \u001b[0mcolor\u001b[0m\u001b[0;34m=\u001b[0m\u001b[0;34m\"gray\"\u001b[0m\u001b[0;34m,\u001b[0m \u001b[0mlw\u001b[0m \u001b[0;34m=\u001b[0m \u001b[0;36m1\u001b[0m\u001b[0;34m)\u001b[0m\u001b[0;34m\u001b[0m\u001b[0;34m\u001b[0m\u001b[0m\n\u001b[1;32m      6\u001b[0m \u001b[0max12\u001b[0m\u001b[0;34m.\u001b[0m\u001b[0mset_title\u001b[0m\u001b[0;34m(\u001b[0m\u001b[0;34m\"Mh binning\"\u001b[0m\u001b[0;34m)\u001b[0m\u001b[0;34m\u001b[0m\u001b[0;34m\u001b[0m\u001b[0m\n",
      "\u001b[0;31mNameError\u001b[0m: name 'TMDMhaffinity' is not defined"
     ]
    },
    {
     "data": {
      "image/png": "[encoded data removed]",
      "text/plain": [
       "<Figure size 1440x360 with 3 Axes>"
      ]
     },
     "metadata": {
      "needs_background": "light"
     },
     "output_type": "display_data"
    }
   ],
   "source": [
    "fig2, (ax12, ax22, ax32) = plot.subplots(1, 3, figsize = (20, 5))\n",
    "fig2.suptitle(\"Pi+ Pi- Affinity in the TMD region\")\n",
    "ax12.set(ylabel = \"Affinity\")\n",
    "ax12.scatter(Mhbins, TMDMhaffinity)\n",
    "ax12.axhline(y=0, color=\"gray\", lw = 1)\n",
    "ax12.set_title(\"Mh binning\")\n",
    "ax12.set(xlabel = \"Mh (GeV)\")\n",
    "ax22.scatter(xbins, TMDxaffinity)\n",
    "ax22.axhline(y=0, color=\"gray\", lw = 1)\n",
    "ax22.set_title(\"x binning\")\n",
    "ax22.set(xlabel = \"x\")\n",
    "ax32.scatter(zbins, TMDzaffinity)\n",
    "ax32.axhline(y=0, color=\"gray\", lw = 1)\n",
    "ax32.set_title(\"z_h binning\")\n",
    "ax32.set(xlabel = \"z_h\")\n"
   ]
  },
  {
   "cell_type": "code",
   "execution_count": 42,
   "id": "chief-float",
   "metadata": {},
   "outputs": [
    {
     "data": {
      "text/plain": [
       "Text(0.5, 0, 'x')"
      ]
     },
     "execution_count": 42,
     "metadata": {},
     "output_type": "execute_result"
    },
    {
     "data": {
      "image/png": "[encoded data removed]",
      "text/plain": [
       "<Figure size 432x288 with 1 Axes>"
      ]
     },
     "metadata": {
      "needs_background": "light"
     },
     "output_type": "display_data"
    }
   ],
   "source": [
    "plot.scatter(xbins, TMDxaffinity)\n",
    "plot.title(\"x binning\")\n",
    "plot.xlabel(xlabel = \"x\")"
   ]
  },
  {
   "cell_type": "code",
   "execution_count": 51,
   "id": "immediate-consumer",
   "metadata": {},
   "outputs": [
    {
     "data": {
      "text/plain": [
       "[Text(0.5, 0, 'z_h')]"
      ]
     },
     "execution_count": 51,
     "metadata": {},
     "output_type": "execute_result"
    },
    {
     "data": {
      "image/png": "[encoded data removed]",
      "text/plain": [
       "<Figure size 1440x360 with 3 Axes>"
      ]
     },
     "metadata": {
      "needs_background": "light"
     },
     "output_type": "display_data"
    }
   ],
   "source": [
    "fig3, (ax13, ax23, ax33) = plot.subplots(1, 3, figsize = (20, 5))\n",
    "fig3.suptitle(\"Pi+ Pi- Affinity in the Current region\")\n",
    "ax13.set(ylabel = \"Affinity\")\n",
    "ax13.scatter(Mhbins, CurrentMhaffinity)\n",
    "ax13.axhline(y=0, color=\"gray\", lw = 1)\n",
    "ax13.set_title(\"Mh binning\")\n",
    "ax13.set(xlabel = \"Mh (GeV)\")\n",
    "ax23.scatter(xbins, Currentxaffinity)\n",
    "ax23.axhline(y=0, color=\"gray\", lw = 1)\n",
    "ax23.set_title(\"x binning\")\n",
    "ax23.set(xlabel = \"x\")\n",
    "ax33.scatter(zbins, Currentzaffinity)\n",
    "ax33.axhline(y=0, color=\"gray\", lw = 1)\n",
    "ax33.set_title(\"z_h binning\")\n",
    "ax33.set(xlabel = \"z_h\")\n"
   ]
  },
  {
   "cell_type": "code",
   "execution_count": null,
   "id": "developed-citation",
   "metadata": {},
   "outputs": [],
   "source": []
  },
  {
   "cell_type": "code",
   "execution_count": null,
   "id": "invalid-mauritius",
   "metadata": {},
   "outputs": [],
   "source": []
  }
 ],
 "metadata": {
  "kernelspec": {
   "display_name": "Python 3",
   "language": "python",
   "name": "python3"
  },
  "language_info": {
   "codemirror_mode": {
    "name": "ipython",
    "version": 3
   },
   "file_extension": ".py",
   "mimetype": "text/x-python",
   "name": "python",
   "nbconvert_exporter": "python",
   "pygments_lexer": "ipython3",
   "version": "3.8.6"
  }
 },
 "nbformat": 4,
 "nbformat_minor": 5
}
