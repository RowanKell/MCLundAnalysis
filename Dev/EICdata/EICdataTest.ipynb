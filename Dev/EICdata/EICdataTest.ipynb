{
 "cells": [
  {
   "cell_type": "code",
   "execution_count": 25,
   "id": "plastic-directory",
   "metadata": {},
   "outputs": [],
   "source": [
    "TFile *f = TFile::Open(\"eictestfull.root\",\"RECREATE\");"
   ]
  },
  {
   "cell_type": "code",
   "execution_count": 26,
   "id": "sporting-allah",
   "metadata": {},
   "outputs": [],
   "source": [
    "TTree *t = new TTree(\"EICdata\",\"Tree with eic data from the affinity github for testing my code\");"
   ]
  },
  {
   "cell_type": "markdown",
   "id": "center-burke",
   "metadata": {},
   "source": [
    "\tW2\tpT\tQ2\tx\tz\thadron\ttarget"
   ]
  },
  {
   "cell_type": "code",
   "execution_count": 27,
   "id": "balanced-incidence",
   "metadata": {},
   "outputs": [
    {
     "name": "stdout",
     "output_type": "stream",
     "text": [
      "(long long) 7400\n"
     ]
    },
    {
     "name": "stderr",
     "output_type": "stream",
     "text": [
      "Warning in <TTree::ReadStream>: Couldn't read formatted data in \"W2\" for branch W2 on line 1; ignoring line\n",
      "Warning in <TTree::ReadStream>: Read too few columns (1 < 5) in line 1; ignoring line\n"
     ]
    }
   ],
   "source": [
    "t->ReadFile(\"eicfull.txt\",\"W2:pT:Q2:x:z\", '\\t')"
   ]
  },
  {
   "cell_type": "code",
   "execution_count": 28,
   "id": "confidential-hungary",
   "metadata": {},
   "outputs": [
    {
     "name": "stdout",
     "output_type": "stream",
     "text": [
      "(int) 691\n"
     ]
    }
   ],
   "source": [
    "f->Write()"
   ]
  },
  {
   "cell_type": "code",
   "execution_count": 29,
   "id": "eastern-multiple",
   "metadata": {},
   "outputs": [],
   "source": [
    "f->Close()"
   ]
  },
  {
   "cell_type": "code",
   "execution_count": 1,
   "id": "difficult-floating",
   "metadata": {},
   "outputs": [
    {
     "name": "stderr",
     "output_type": "stream",
     "text": [
      "input_line_44:2:6: error: expected ';' after expression\n",
      " from ROOT import TFile,TTree,TCanvas,TH1F,gStyle,TLatex,gPad,TLegend,TLorentzVector,TH2F,TLine,TF1,TBox,RDataFrame,TPad,TF2\n",
      "     ^\n",
      "     ;\n",
      "input_line_44:2:7: error: unexpected namespace name 'ROOT': expected expression\n",
      " from ROOT import TFile,TTree,TCanvas,TH1F,gStyle,TLatex,gPad,TLegend,TLorentzVector,TH2F,TLine,TF1,TBox,RDataFrame,TPad,TF2\n",
      "      ^\n"
     ]
    }
   ],
   "source": []
  },
  {
   "cell_type": "code",
   "execution_count": null,
   "id": "persistent-shade",
   "metadata": {},
   "outputs": [],
   "source": []
  }
 ],
 "metadata": {
  "kernelspec": {
   "display_name": "ROOT C++",
   "language": "c++",
   "name": "root"
  },
  "language_info": {
   "codemirror_mode": "text/x-c++src",
   "file_extension": ".C",
   "mimetype": " text/x-c++src",
   "name": "c++"
  }
 },
 "nbformat": 4,
 "nbformat_minor": 5
}
