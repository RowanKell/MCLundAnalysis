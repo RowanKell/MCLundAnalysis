{
 "cells": [
  {
   "cell_type": "code",
   "execution_count": 1,
   "id": "ultimate-maker",
   "metadata": {},
   "outputs": [
    {
     "name": "stdout",
     "output_type": "stream",
     "text": [
      "Welcome to JupyROOT 6.22/06\n"
     ]
    },
    {
     "name": "stderr",
     "output_type": "stream",
     "text": [
      "Matplotlib created a temporary config/cache directory at /tmp/matplotlib-gq152h7u because the default path (/home/jovyan/.cache/matplotlib) is not a writable directory; it is highly recommended to set the MPLCONFIGDIR environment variable to a writable directory, in particular to speed up the import of Matplotlib and to better support multiprocessing.\n"
     ]
    },
    {
     "name": "stdout",
     "output_type": "stream",
     "text": [
      "tf.__version__ 2.7.0\n"
     ]
    }
   ],
   "source": [
    "from ROOT import TFile,TTree,TCanvas,TH1F,gStyle,TLatex,gPad,TLegend,TLorentzVector,TH2F,TLine,TF1,TBox,RDataFrame,TPad,TF2\n",
    "import ROOT\n",
    "import numpy as np\n",
    "import awkward as awk\n",
    "import uproot\n",
    "import pandas as pd\n",
    "import matplotlib.pyplot as plot\n",
    "from pandas import read_excel \n",
    "from copy import deepcopy\n",
    "from ipywidgets import *\n",
    "import logging, os \n",
    "logging.disable(logging.WARNING) \n",
    "os.environ[\"TF_CPP_MIN_LOG_LEVEL\"] = \"3\"\n",
    "\n",
    "import tensorflow as tf\n",
    "print(\"tf.__version__\", tf.__version__)\n"
   ]
  },
  {
   "cell_type": "code",
   "execution_count": 23,
   "id": "mineral-rental",
   "metadata": {},
   "outputs": [
    {
     "name": "stdout",
     "output_type": "stream",
     "text": [
      "name                 | typename                 | interpretation                \n",
      "---------------------+--------------------------+-------------------------------\n",
      "W2                   | float                    | AsDtype('>f4')\n",
      "pT                   | float                    | AsDtype('>f4')\n",
      "Q2                   | float                    | AsDtype('>f4')\n",
      "x                    | float                    | AsDtype('>f4')\n",
      "z                    | float                    | AsDtype('>f4')\n"
     ]
    }
   ],
   "source": [
    "up4_file = uproot.open(\"eictestfull.root\")\n",
    "events.show()"
   ]
  },
  {
   "cell_type": "code",
   "execution_count": 24,
   "id": "grand-lounge",
   "metadata": {},
   "outputs": [],
   "source": [
    "events = up4_file[\"EICdata\"]\n",
    "z = events[\"z\"].array(library=\"np\")\n",
    "pT = events[\"pT\"].array(library=\"np\")\n",
    "Q2 = events[\"Q2\"].array(library=\"np\")\n",
    "x = events[\"x\"].array(library=\"np\")"
   ]
  },
  {
   "cell_type": "markdown",
   "id": "mature-anchor",
   "metadata": {},
   "source": [
    "x binning only first"
   ]
  },
  {
   "cell_type": "code",
   "execution_count": 37,
   "id": "convenient-proxy",
   "metadata": {},
   "outputs": [
    {
     "name": "stdout",
     "output_type": "stream",
     "text": [
      "[[], [], [], [], [], [], []]\n"
     ]
    }
   ],
   "source": [
    "zs = [[]] * 7\n",
    "xarray = np.array([np.zeros(7)] * 6)\n",
    "pTs = [[]] * 7\n",
    "Q2s = [[]] * 7\n",
    "Mhbins = np.linspace(0.3,1.3,7)\n",
    "xbins = np.array([0.1,0.13,0.16,0.19,0.235,0.3,0.5])\n",
    "zbins = np.array([0.35,0.43,0.49,0.55,0.62,0.7,0.83])"
   ]
  },
  {
   "cell_type": "markdown",
   "id": "sought-meditation",
   "metadata": {},
   "source": [
    "xarray:\n",
    "[[zs][pTs][Q2s]]"
   ]
  },
  {
   "cell_type": "code",
   "execution_count": 77,
   "id": "supported-burns",
   "metadata": {},
   "outputs": [
    {
     "name": "stdout",
     "output_type": "stream",
     "text": [
      "[102.89869913 102.89869913 102.89869913 102.89869913 102.89869913\n",
      " 102.89869913 102.89869913]\n"
     ]
    }
   ],
   "source": [
    "for i in range(x.size):\n",
    "    for j in range(xbins.size):\n",
    "        if(x[i] < xbins[j]):\n",
    "            zs[j].append(z[i])\n",
    "            pTs[j].append(pT[i])\n",
    "            Q2s[j].append(Q2[i])\n",
    "            continue\n",
    "for j in range(len(zs)):\n",
    "    xarray[0][j] = sum(zs[j]) / len(zs[j])\n",
    "for j in range(len(pTs)):\n",
    "    xarray[1][j] = sum(pTs[j]) / len(pTs[j])\n",
    "for j in range(len(Q2s)):\n",
    "    xarray[2][j] = sum(Q2s[j]) / len(Q2s[j])"
   ]
  },
  {
   "cell_type": "code",
   "execution_count": null,
   "id": "settled-township",
   "metadata": {},
   "outputs": [],
   "source": []
  },
  {
   "cell_type": "code",
   "execution_count": 73,
   "id": "transparent-windsor",
   "metadata": {},
   "outputs": [
    {
     "data": {
      "text/plain": [
       "41000"
      ]
     },
     "execution_count": 73,
     "metadata": {},
     "output_type": "execute_result"
    }
   ],
   "source": [
    "len(pTs[2])"
   ]
  },
  {
   "cell_type": "code",
   "execution_count": 22,
   "id": "agricultural-caribbean",
   "metadata": {},
   "outputs": [
    {
     "name": "stdout",
     "output_type": "stream",
     "text": [
      "[16236.768  16236.768  16236.768  ...  5444.6963  5444.6963  5444.6963]\n"
     ]
    }
   ],
   "source": [
    "events.keys()\n",
    "W2 = events[\"W2\"]\n",
    "W2array = W2.array(library=\"np\")"
   ]
  },
  {
   "cell_type": "code",
   "execution_count": 19,
   "id": "eleven-drove",
   "metadata": {},
   "outputs": [
    {
     "name": "stdout",
     "output_type": "stream",
     "text": [
      "name                 | typename                 | interpretation                \n",
      "---------------------+--------------------------+-------------------------------\n",
      "W2                   | float                    | AsDtype('>f4')\n",
      "pT                   | float                    | AsDtype('>f4')\n",
      "Q2                   | float                    | AsDtype('>f4')\n",
      "x                    | float                    | AsDtype('>f4')\n",
      "z                    | float                    | AsDtype('>f4')\n"
     ]
    }
   ],
   "source": [
    "events.show()"
   ]
  },
  {
   "cell_type": "code",
   "execution_count": null,
   "id": "entitled-liberty",
   "metadata": {},
   "outputs": [],
   "source": []
  }
 ],
 "metadata": {
  "kernelspec": {
   "display_name": "Python 3",
   "language": "python",
   "name": "python3"
  },
  "language_info": {
   "codemirror_mode": {
    "name": "ipython",
    "version": 3
   },
   "file_extension": ".py",
   "mimetype": "text/x-python",
   "name": "python",
   "nbconvert_exporter": "python",
   "pygments_lexer": "ipython3",
   "version": "3.8.6"
  }
 },
 "nbformat": 4,
 "nbformat_minor": 5
}
